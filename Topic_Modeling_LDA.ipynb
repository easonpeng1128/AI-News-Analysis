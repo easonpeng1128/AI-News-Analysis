{
 "cells": [
  {
   "cell_type": "markdown",
   "metadata": {
    "tags": []
   },
   "source": [
    "## Environment Setting and Data Loading"
   ]
  },
  {
   "cell_type": "code",
   "execution_count": 30,
   "metadata": {
    "tags": []
   },
   "outputs": [],
   "source": [
    "import pandas as pd\n",
    "import numpy as np"
   ]
  },
  {
   "cell_type": "code",
   "execution_count": 31,
   "metadata": {
    "tags": []
   },
   "outputs": [],
   "source": [
    "from gensim.models import LdaMulticore\n",
    "from gensim.models.coherencemodel import CoherenceModel\n",
    "from gensim import corpora\n",
    "from gensim.utils import simple_preprocess\n",
    "from gensim.models import TfidfModel\n",
    "from nltk.corpus import stopwords\n",
    "import matplotlib.pyplot as plt\n",
    "import spacy\n",
    "import gensim\n",
    "import time"
   ]
  },
  {
   "cell_type": "code",
   "execution_count": 32,
   "metadata": {
    "tags": []
   },
   "outputs": [
    {
     "data": {
      "text/plain": [
       "16"
      ]
     },
     "execution_count": 32,
     "metadata": {},
     "output_type": "execute_result"
    }
   ],
   "source": [
    "import multiprocessing\n",
    "\n",
    "num_processors = multiprocessing.cpu_count()\n",
    "num_processors"
   ]
  },
  {
   "cell_type": "code",
   "execution_count": 33,
   "metadata": {
    "tags": []
   },
   "outputs": [],
   "source": [
    "# !pip install pandarallel"
   ]
  },
  {
   "cell_type": "code",
   "execution_count": 34,
   "metadata": {
    "tags": []
   },
   "outputs": [
    {
     "name": "stdout",
     "output_type": "stream",
     "text": [
      "INFO: Pandarallel will run on 15 workers.\n",
      "INFO: Pandarallel will use standard multiprocessing data transfer (pipe) to transfer data between the main process and workers.\n"
     ]
    }
   ],
   "source": [
    "from pandarallel import pandarallel\n",
    "\n",
    "# Initialize pandarallel\n",
    "pandarallel.initialize(nb_workers = multiprocessing.cpu_count()-1, use_memory_fs=False, progress_bar=True)"
   ]
  },
  {
   "cell_type": "code",
   "execution_count": 35,
   "metadata": {
    "tags": []
   },
   "outputs": [],
   "source": [
    "start_time = time.time()\n",
    "\n",
    "def tic():\n",
    "    global start_time \n",
    "    start_time = time.time()\n",
    "\n",
    "def tac():\n",
    "    t_sec = round(time.time() - start_time)\n",
    "    (t_min, t_sec) = divmod(t_sec,60)\n",
    "    (t_hour,t_min) = divmod(t_min,60) \n",
    "    print(f'Execution time to calculate for topic {k}: {t_hour}hour:{t_min}min:{t_sec}sec'.format(t_hour,t_min,t_sec))"
   ]
  },
  {
   "cell_type": "code",
   "execution_count": 36,
   "metadata": {
    "tags": []
   },
   "outputs": [
    {
     "name": "stdout",
     "output_type": "stream",
     "text": [
      "CPU times: user 26.4 s, sys: 3.46 s, total: 29.8 s\n",
      "Wall time: 29.8 s\n"
     ]
    },
    {
     "data": {
      "text/html": [
       "<div>\n",
       "<style scoped>\n",
       "    .dataframe tbody tr th:only-of-type {\n",
       "        vertical-align: middle;\n",
       "    }\n",
       "\n",
       "    .dataframe tbody tr th {\n",
       "        vertical-align: top;\n",
       "    }\n",
       "\n",
       "    .dataframe thead th {\n",
       "        text-align: right;\n",
       "    }\n",
       "</style>\n",
       "<table border=\"1\" class=\"dataframe\">\n",
       "  <thead>\n",
       "    <tr style=\"text-align: right;\">\n",
       "      <th></th>\n",
       "      <th>date</th>\n",
       "      <th>domain</th>\n",
       "      <th>clean_text</th>\n",
       "      <th>clean_token</th>\n",
       "      <th>sentiment_robert</th>\n",
       "      <th>sentiment_ner_with_product</th>\n",
       "      <th>ktrain_topic</th>\n",
       "    </tr>\n",
       "  </thead>\n",
       "  <tbody>\n",
       "    <tr>\n",
       "      <th>0</th>\n",
       "      <td>2021-03-18</td>\n",
       "      <td>en.people.cn</td>\n",
       "      <td>Thanks to the application of an artificial int...</td>\n",
       "      <td>thanks application artificial intelligence ai ...</td>\n",
       "      <td>positive</td>\n",
       "      <td>E...</td>\n",
       "      <td>automotive</td>\n",
       "    </tr>\n",
       "  </tbody>\n",
       "</table>\n",
       "</div>"
      ],
      "text/plain": [
       "         date        domain  \\\n",
       "0  2021-03-18  en.people.cn   \n",
       "\n",
       "                                          clean_text  \\\n",
       "0  Thanks to the application of an artificial int...   \n",
       "\n",
       "                                         clean_token sentiment_robert  \\\n",
       "0  thanks application artificial intelligence ai ...         positive   \n",
       "\n",
       "                          sentiment_ner_with_product ktrain_topic  \n",
       "0                                               E...   automotive  "
      ]
     },
     "execution_count": 36,
     "metadata": {},
     "output_type": "execute_result"
    }
   ],
   "source": [
    "%%time\n",
    "import pickle\n",
    "df_filtered = pd.read_pickle('df_topic_modeling.pkl')\n",
    "df_filtered.head(1)"
   ]
  },
  {
   "cell_type": "code",
   "execution_count": 37,
   "metadata": {
    "tags": []
   },
   "outputs": [
    {
     "data": {
      "text/plain": [
       "(135297, 7)"
      ]
     },
     "execution_count": 37,
     "metadata": {},
     "output_type": "execute_result"
    }
   ],
   "source": [
    "df_filtered.shape"
   ]
  },
  {
   "cell_type": "markdown",
   "metadata": {
    "tags": []
   },
   "source": [
    "## LDA with Hyperparameter Tuning with Sample"
   ]
  },
  {
   "cell_type": "code",
   "execution_count": 38,
   "metadata": {
    "tags": []
   },
   "outputs": [],
   "source": [
    "nlp = spacy.load(\"en_core_web_sm\", disable=['parser', 'ner'])"
   ]
  },
  {
   "cell_type": "code",
   "execution_count": 39,
   "metadata": {
    "tags": []
   },
   "outputs": [
    {
     "data": {
      "text/plain": [
       "(6765, 7)"
      ]
     },
     "execution_count": 39,
     "metadata": {},
     "output_type": "execute_result"
    }
   ],
   "source": [
    "df_sample = df_filtered.sample(frac=0.05, random_state=1)\n",
    "df_sample.shape"
   ]
  },
  {
   "cell_type": "code",
   "execution_count": 40,
   "metadata": {
    "tags": []
   },
   "outputs": [],
   "source": [
    "def sent_to_words(sentences):\n",
    "    for sentence in sentences:\n",
    "        yield(gensim.utils.simple_preprocess(str(sentence), deacc=True))  # deacc=True removes punctuations\n",
    "\n",
    "\n",
    "        \n",
    "sample_list = df_sample['clean_text'].tolist()        \n",
    "sample_tokens = list(sent_to_words(sample_list))"
   ]
  },
  {
   "cell_type": "code",
   "execution_count": 41,
   "metadata": {
    "tags": []
   },
   "outputs": [],
   "source": [
    "bigram = gensim.models.Phrases(sample_tokens, min_count=1, threshold=1)\n",
    "trigram = gensim.models.Phrases(bigram[sample_tokens], threshold=1)\n",
    "bigram_mod = gensim.models.phrases.Phraser(bigram)\n",
    "trigram_mod = gensim.models.phrases.Phraser(trigram)"
   ]
  },
  {
   "cell_type": "code",
   "execution_count": 42,
   "metadata": {
    "tags": []
   },
   "outputs": [],
   "source": [
    "stop_words = stopwords.words('english')\n",
    "\n",
    "# Define functions for stopwords, bigrams, trigrams and lemmatization\n",
    "def remove_stopwords(texts):\n",
    "    return [[word for word in simple_preprocess(str(doc)) if word not in stop_words] for doc in texts]\n",
    "\n",
    "def make_trigrams(texts):\n",
    "    return [trigram_mod[bigram_mod[doc]] for doc in texts]\n",
    "\n",
    "def lemmatization(texts, allowed_postags=['NOUN', 'ADJ', 'VERB', 'ADV']):\n",
    "    \"\"\"https://spacy.io/api/annotation\"\"\"\n",
    "    texts_out = []\n",
    "    for sent in texts:\n",
    "        doc = nlp(\" \".join(sent)) \n",
    "        texts_out.append([token.lemma_ for token in doc if token.pos_ in allowed_postags])\n",
    "    return texts_out"
   ]
  },
  {
   "cell_type": "code",
   "execution_count": 43,
   "metadata": {
    "tags": []
   },
   "outputs": [],
   "source": [
    "# Remove Stop Words\n",
    "sample_tokens_nostops = remove_stopwords(sample_tokens)\n",
    "\n",
    "# Create n-grams\n",
    "sample_words_trigrams = make_trigrams(sample_tokens_nostops)\n",
    "\n",
    "# Combine tokens and n-grams (this time we only do trigrams)\n",
    "sample_tokens_combined = sample_words_trigrams \n",
    "\n",
    "# Lemmatize text keeping only noun, adj, vb, adv\n",
    "sample_lemmatized = lemmatization(sample_tokens_combined, allowed_postags=['NOUN', 'ADJ', 'VERB', 'ADV'])"
   ]
  },
  {
   "cell_type": "code",
   "execution_count": 44,
   "metadata": {
    "tags": []
   },
   "outputs": [],
   "source": [
    "# Creating the term dictionary of our courpus, where every unique term is assigned an index. \n",
    "sample_dictionary = corpora.Dictionary(sample_lemmatized)\n",
    "\n",
    "# Converting list of documents (corpus) into Document Term Matrix using dictionary prepared above.\n",
    "sample_doc_term_matrix = [sample_dictionary.doc2bow(doc) for doc in sample_lemmatized]"
   ]
  },
  {
   "cell_type": "code",
   "execution_count": 45,
   "metadata": {
    "tags": []
   },
   "outputs": [],
   "source": [
    "# supporting function\n",
    "def compute_coherence_values(corpus, dictionary, k, a, b, data_lemmatized):\n",
    "    \n",
    "    lda_model = LdaMulticore(corpus=corpus,\n",
    "                       id2word=dictionary,\n",
    "                       num_topics=k,\n",
    "                       random_state=100,                  \n",
    "                       passes=10,\n",
    "                       alpha=a,\n",
    "                       eta=b,\n",
    "                       workers=num_processors-1)\n",
    "    \n",
    "    coherence_model_lda = CoherenceModel(model=lda_model, texts=data_lemmatized, dictionary=dictionary, coherence='c_v')\n",
    "    \n",
    "    return coherence_model_lda.get_coherence()"
   ]
  },
  {
   "cell_type": "code",
   "execution_count": 47,
   "metadata": {
    "tags": []
   },
   "outputs": [
    {
     "name": "stdout",
     "output_type": "stream",
     "text": [
      "LDA will execute 100 iterations\n",
      "Completed model based on 20 LDA topics. Finished 20.0% of LDA runs\n",
      "Execution time to calculate for topic 20: 0hour:38min:1sec\n",
      "Completed model based on 30 LDA topics. Finished 40.0% of LDA runs\n",
      "Execution time to calculate for topic 30: 0hour:53min:21sec\n",
      "Completed model based on 40 LDA topics. Finished 60.0% of LDA runs\n",
      "Execution time to calculate for topic 40: 1hour:4min:16sec\n",
      "Completed model based on 140 LDA topics. Finished 80.0% of LDA runs\n",
      "Execution time to calculate for topic 140: 2hour:2min:40sec\n",
      "Completed model based on 150 LDA topics. Finished 100.0% of LDA runs\n",
      "Execution time to calculate for topic 150: 2hour:17min:42sec\n"
     ]
    }
   ],
   "source": [
    "grid = {}\n",
    "grid['Validation_Set'] = {}\n",
    "# Topics range\n",
    "topics_range = [20, 30, 40, 140, 150]\n",
    "\n",
    "# Alpha parameter\n",
    "alpha = list(np.arange(0.01, 1, 0.4))\n",
    "alpha.append('symmetric')\n",
    "alpha.append('asymmetric')\n",
    "# alpha = ['asymmetric'] # Run for number of topics only\n",
    "\n",
    "# Beta parameter\n",
    "beta = list(np.arange(0.01, 1, 0.4))\n",
    "beta.append('symmetric')\n",
    "# beta = ['auto'] # Run for number of topics only\n",
    "\n",
    "\n",
    "# Validation sets\n",
    "num_of_docs = len(sample_doc_term_matrix)\n",
    "corpus_sets = [# gensim.utils.ClippedCorpus(doc_term_matrix, num_of_docs*0.25), \n",
    "               # gensim.utils.ClippedCorpus(doc_term_matrix, num_of_docs*0.5), \n",
    "               # gensim.utils.ClippedCorpus(doc_term_matrix, num_of_docs*0.75), \n",
    "               sample_doc_term_matrix] # simply use the whole matrix\n",
    "\n",
    "# corpus_title = ['75% Corpus', '100% Corpus']\n",
    "corpus_title = ['100% Corpus']\n",
    "model_results = {\n",
    "                 'Topics': [],\n",
    "                 'Alpha': [],\n",
    "                 'Beta': [],\n",
    "                 'Coherence': []\n",
    "                }\n",
    "\n",
    "itr = 0\n",
    "itr_total = len(beta)*len(alpha)*len(topics_range)*len(corpus_title)\n",
    "print(f'LDA will execute {itr_total} iterations')\n",
    "\n",
    "    \n",
    "# iterate through hyperparameters\n",
    "for i in range(len(corpus_sets)):\n",
    "    # iterate through number of topics\n",
    "    for k in topics_range:\n",
    "        # iterate through alpha values\n",
    "        tic()\n",
    "        for a in alpha:\n",
    "            # iterare through beta values\n",
    "            for b in beta:\n",
    "                # get the coherence score for the given parameters\n",
    "                itr += 1\n",
    "                cv = compute_coherence_values(corpus=corpus_sets[i], dictionary=sample_dictionary, \n",
    "                                              k=k, a=a, b=b, data_lemmatized=sample_lemmatized)\n",
    "                # Save the model results\n",
    "                model_results['Topics'].append(k)\n",
    "                model_results['Alpha'].append(a)\n",
    "                model_results['Beta'].append(b)\n",
    "                model_results['Coherence'].append(cv)\n",
    "                pct_completed = round((itr / itr_total * 100),1)\n",
    "                # print(f'Completed Percent: {pct_completed}%, Corpus: {corpus_title[i]}, Topics: {k}, Alpha: {a}, Beta: {b}, Coherence: {cv}')\n",
    "        print(f'Completed model based on {k} LDA topics. Finished {pct_completed}% of LDA runs')\n",
    "        tac()\n",
    "                    \n",
    "sample_lda_tuning = pd.DataFrame(model_results)\n"
   ]
  },
  {
   "cell_type": "code",
   "execution_count": null,
   "metadata": {
    "tags": []
   },
   "outputs": [],
   "source": [
    "pd.set_option('display.max_rows', None)\n",
    "pd.set_option('display.max_columns', None)"
   ]
  },
  {
   "cell_type": "code",
   "execution_count": null,
   "metadata": {
    "tags": []
   },
   "outputs": [
    {
     "data": {
      "text/html": [
       "<div>\n",
       "<style scoped>\n",
       "    .dataframe tbody tr th:only-of-type {\n",
       "        vertical-align: middle;\n",
       "    }\n",
       "\n",
       "    .dataframe tbody tr th {\n",
       "        vertical-align: top;\n",
       "    }\n",
       "\n",
       "    .dataframe thead th {\n",
       "        text-align: right;\n",
       "    }\n",
       "</style>\n",
       "<table border=\"1\" class=\"dataframe\">\n",
       "  <thead>\n",
       "    <tr style=\"text-align: right;\">\n",
       "      <th></th>\n",
       "      <th>Topics</th>\n",
       "      <th>Alpha</th>\n",
       "      <th>Beta</th>\n",
       "      <th>Coherence</th>\n",
       "    </tr>\n",
       "  </thead>\n",
       "  <tbody>\n",
       "    <tr>\n",
       "      <th>0</th>\n",
       "      <td>20</td>\n",
       "      <td>0.01</td>\n",
       "      <td>0.01</td>\n",
       "      <td>0.358387</td>\n",
       "    </tr>\n",
       "    <tr>\n",
       "      <th>1</th>\n",
       "      <td>20</td>\n",
       "      <td>0.01</td>\n",
       "      <td>0.41</td>\n",
       "      <td>0.429254</td>\n",
       "    </tr>\n",
       "    <tr>\n",
       "      <th>2</th>\n",
       "      <td>20</td>\n",
       "      <td>0.01</td>\n",
       "      <td>0.81</td>\n",
       "      <td>0.426761</td>\n",
       "    </tr>\n",
       "    <tr>\n",
       "      <th>3</th>\n",
       "      <td>20</td>\n",
       "      <td>0.01</td>\n",
       "      <td>symmetric</td>\n",
       "      <td>0.360523</td>\n",
       "    </tr>\n",
       "    <tr>\n",
       "      <th>4</th>\n",
       "      <td>20</td>\n",
       "      <td>0.41</td>\n",
       "      <td>0.01</td>\n",
       "      <td>0.358240</td>\n",
       "    </tr>\n",
       "    <tr>\n",
       "      <th>5</th>\n",
       "      <td>20</td>\n",
       "      <td>0.41</td>\n",
       "      <td>0.41</td>\n",
       "      <td>0.418548</td>\n",
       "    </tr>\n",
       "    <tr>\n",
       "      <th>6</th>\n",
       "      <td>20</td>\n",
       "      <td>0.41</td>\n",
       "      <td>0.81</td>\n",
       "      <td>0.433550</td>\n",
       "    </tr>\n",
       "    <tr>\n",
       "      <th>7</th>\n",
       "      <td>20</td>\n",
       "      <td>0.41</td>\n",
       "      <td>symmetric</td>\n",
       "      <td>0.356064</td>\n",
       "    </tr>\n",
       "    <tr>\n",
       "      <th>8</th>\n",
       "      <td>20</td>\n",
       "      <td>0.81</td>\n",
       "      <td>0.01</td>\n",
       "      <td>0.351340</td>\n",
       "    </tr>\n",
       "    <tr>\n",
       "      <th>9</th>\n",
       "      <td>20</td>\n",
       "      <td>0.81</td>\n",
       "      <td>0.41</td>\n",
       "      <td>0.393931</td>\n",
       "    </tr>\n",
       "    <tr>\n",
       "      <th>10</th>\n",
       "      <td>20</td>\n",
       "      <td>0.81</td>\n",
       "      <td>0.81</td>\n",
       "      <td>0.405848</td>\n",
       "    </tr>\n",
       "    <tr>\n",
       "      <th>11</th>\n",
       "      <td>20</td>\n",
       "      <td>0.81</td>\n",
       "      <td>symmetric</td>\n",
       "      <td>0.340947</td>\n",
       "    </tr>\n",
       "    <tr>\n",
       "      <th>12</th>\n",
       "      <td>20</td>\n",
       "      <td>symmetric</td>\n",
       "      <td>0.01</td>\n",
       "      <td>0.357378</td>\n",
       "    </tr>\n",
       "    <tr>\n",
       "      <th>13</th>\n",
       "      <td>20</td>\n",
       "      <td>symmetric</td>\n",
       "      <td>0.41</td>\n",
       "      <td>0.418890</td>\n",
       "    </tr>\n",
       "    <tr>\n",
       "      <th>14</th>\n",
       "      <td>20</td>\n",
       "      <td>symmetric</td>\n",
       "      <td>0.81</td>\n",
       "      <td>0.432393</td>\n",
       "    </tr>\n",
       "    <tr>\n",
       "      <th>15</th>\n",
       "      <td>20</td>\n",
       "      <td>symmetric</td>\n",
       "      <td>symmetric</td>\n",
       "      <td>0.360699</td>\n",
       "    </tr>\n",
       "    <tr>\n",
       "      <th>16</th>\n",
       "      <td>20</td>\n",
       "      <td>asymmetric</td>\n",
       "      <td>0.01</td>\n",
       "      <td>0.354255</td>\n",
       "    </tr>\n",
       "    <tr>\n",
       "      <th>17</th>\n",
       "      <td>20</td>\n",
       "      <td>asymmetric</td>\n",
       "      <td>0.41</td>\n",
       "      <td>0.429226</td>\n",
       "    </tr>\n",
       "    <tr>\n",
       "      <th>18</th>\n",
       "      <td>20</td>\n",
       "      <td>asymmetric</td>\n",
       "      <td>0.81</td>\n",
       "      <td>0.438195</td>\n",
       "    </tr>\n",
       "    <tr>\n",
       "      <th>19</th>\n",
       "      <td>20</td>\n",
       "      <td>asymmetric</td>\n",
       "      <td>symmetric</td>\n",
       "      <td>0.351038</td>\n",
       "    </tr>\n",
       "    <tr>\n",
       "      <th>20</th>\n",
       "      <td>30</td>\n",
       "      <td>0.01</td>\n",
       "      <td>0.01</td>\n",
       "      <td>0.343608</td>\n",
       "    </tr>\n",
       "    <tr>\n",
       "      <th>21</th>\n",
       "      <td>30</td>\n",
       "      <td>0.01</td>\n",
       "      <td>0.41</td>\n",
       "      <td>0.414650</td>\n",
       "    </tr>\n",
       "    <tr>\n",
       "      <th>22</th>\n",
       "      <td>30</td>\n",
       "      <td>0.01</td>\n",
       "      <td>0.81</td>\n",
       "      <td>0.431448</td>\n",
       "    </tr>\n",
       "    <tr>\n",
       "      <th>23</th>\n",
       "      <td>30</td>\n",
       "      <td>0.01</td>\n",
       "      <td>symmetric</td>\n",
       "      <td>0.342702</td>\n",
       "    </tr>\n",
       "    <tr>\n",
       "      <th>24</th>\n",
       "      <td>30</td>\n",
       "      <td>0.41</td>\n",
       "      <td>0.01</td>\n",
       "      <td>0.361819</td>\n",
       "    </tr>\n",
       "    <tr>\n",
       "      <th>25</th>\n",
       "      <td>30</td>\n",
       "      <td>0.41</td>\n",
       "      <td>0.41</td>\n",
       "      <td>0.415792</td>\n",
       "    </tr>\n",
       "    <tr>\n",
       "      <th>26</th>\n",
       "      <td>30</td>\n",
       "      <td>0.41</td>\n",
       "      <td>0.81</td>\n",
       "      <td>0.423258</td>\n",
       "    </tr>\n",
       "    <tr>\n",
       "      <th>27</th>\n",
       "      <td>30</td>\n",
       "      <td>0.41</td>\n",
       "      <td>symmetric</td>\n",
       "      <td>0.367390</td>\n",
       "    </tr>\n",
       "    <tr>\n",
       "      <th>28</th>\n",
       "      <td>30</td>\n",
       "      <td>0.81</td>\n",
       "      <td>0.01</td>\n",
       "      <td>0.362595</td>\n",
       "    </tr>\n",
       "    <tr>\n",
       "      <th>29</th>\n",
       "      <td>30</td>\n",
       "      <td>0.81</td>\n",
       "      <td>0.41</td>\n",
       "      <td>0.381529</td>\n",
       "    </tr>\n",
       "    <tr>\n",
       "      <th>30</th>\n",
       "      <td>30</td>\n",
       "      <td>0.81</td>\n",
       "      <td>0.81</td>\n",
       "      <td>0.379037</td>\n",
       "    </tr>\n",
       "    <tr>\n",
       "      <th>31</th>\n",
       "      <td>30</td>\n",
       "      <td>0.81</td>\n",
       "      <td>symmetric</td>\n",
       "      <td>0.356676</td>\n",
       "    </tr>\n",
       "    <tr>\n",
       "      <th>32</th>\n",
       "      <td>30</td>\n",
       "      <td>symmetric</td>\n",
       "      <td>0.01</td>\n",
       "      <td>0.346916</td>\n",
       "    </tr>\n",
       "    <tr>\n",
       "      <th>33</th>\n",
       "      <td>30</td>\n",
       "      <td>symmetric</td>\n",
       "      <td>0.41</td>\n",
       "      <td>0.417575</td>\n",
       "    </tr>\n",
       "    <tr>\n",
       "      <th>34</th>\n",
       "      <td>30</td>\n",
       "      <td>symmetric</td>\n",
       "      <td>0.81</td>\n",
       "      <td>0.432712</td>\n",
       "    </tr>\n",
       "    <tr>\n",
       "      <th>35</th>\n",
       "      <td>30</td>\n",
       "      <td>symmetric</td>\n",
       "      <td>symmetric</td>\n",
       "      <td>0.344269</td>\n",
       "    </tr>\n",
       "    <tr>\n",
       "      <th>36</th>\n",
       "      <td>30</td>\n",
       "      <td>asymmetric</td>\n",
       "      <td>0.01</td>\n",
       "      <td>0.343078</td>\n",
       "    </tr>\n",
       "    <tr>\n",
       "      <th>37</th>\n",
       "      <td>30</td>\n",
       "      <td>asymmetric</td>\n",
       "      <td>0.41</td>\n",
       "      <td>0.423237</td>\n",
       "    </tr>\n",
       "    <tr>\n",
       "      <th>38</th>\n",
       "      <td>30</td>\n",
       "      <td>asymmetric</td>\n",
       "      <td>0.81</td>\n",
       "      <td>0.401735</td>\n",
       "    </tr>\n",
       "    <tr>\n",
       "      <th>39</th>\n",
       "      <td>30</td>\n",
       "      <td>asymmetric</td>\n",
       "      <td>symmetric</td>\n",
       "      <td>0.345581</td>\n",
       "    </tr>\n",
       "    <tr>\n",
       "      <th>40</th>\n",
       "      <td>40</td>\n",
       "      <td>0.01</td>\n",
       "      <td>0.01</td>\n",
       "      <td>0.351194</td>\n",
       "    </tr>\n",
       "    <tr>\n",
       "      <th>41</th>\n",
       "      <td>40</td>\n",
       "      <td>0.01</td>\n",
       "      <td>0.41</td>\n",
       "      <td>0.450656</td>\n",
       "    </tr>\n",
       "    <tr>\n",
       "      <th>42</th>\n",
       "      <td>40</td>\n",
       "      <td>0.01</td>\n",
       "      <td>0.81</td>\n",
       "      <td>0.422861</td>\n",
       "    </tr>\n",
       "    <tr>\n",
       "      <th>43</th>\n",
       "      <td>40</td>\n",
       "      <td>0.01</td>\n",
       "      <td>symmetric</td>\n",
       "      <td>0.357132</td>\n",
       "    </tr>\n",
       "    <tr>\n",
       "      <th>44</th>\n",
       "      <td>40</td>\n",
       "      <td>0.41</td>\n",
       "      <td>0.01</td>\n",
       "      <td>0.365877</td>\n",
       "    </tr>\n",
       "    <tr>\n",
       "      <th>45</th>\n",
       "      <td>40</td>\n",
       "      <td>0.41</td>\n",
       "      <td>0.41</td>\n",
       "      <td>0.414083</td>\n",
       "    </tr>\n",
       "    <tr>\n",
       "      <th>46</th>\n",
       "      <td>40</td>\n",
       "      <td>0.41</td>\n",
       "      <td>0.81</td>\n",
       "      <td>0.390446</td>\n",
       "    </tr>\n",
       "    <tr>\n",
       "      <th>47</th>\n",
       "      <td>40</td>\n",
       "      <td>0.41</td>\n",
       "      <td>symmetric</td>\n",
       "      <td>0.373510</td>\n",
       "    </tr>\n",
       "    <tr>\n",
       "      <th>48</th>\n",
       "      <td>40</td>\n",
       "      <td>0.81</td>\n",
       "      <td>0.01</td>\n",
       "      <td>0.365847</td>\n",
       "    </tr>\n",
       "    <tr>\n",
       "      <th>49</th>\n",
       "      <td>40</td>\n",
       "      <td>0.81</td>\n",
       "      <td>0.41</td>\n",
       "      <td>0.380648</td>\n",
       "    </tr>\n",
       "    <tr>\n",
       "      <th>50</th>\n",
       "      <td>40</td>\n",
       "      <td>0.81</td>\n",
       "      <td>0.81</td>\n",
       "      <td>0.306140</td>\n",
       "    </tr>\n",
       "    <tr>\n",
       "      <th>51</th>\n",
       "      <td>40</td>\n",
       "      <td>0.81</td>\n",
       "      <td>symmetric</td>\n",
       "      <td>0.357097</td>\n",
       "    </tr>\n",
       "    <tr>\n",
       "      <th>52</th>\n",
       "      <td>40</td>\n",
       "      <td>symmetric</td>\n",
       "      <td>0.01</td>\n",
       "      <td>0.350002</td>\n",
       "    </tr>\n",
       "    <tr>\n",
       "      <th>53</th>\n",
       "      <td>40</td>\n",
       "      <td>symmetric</td>\n",
       "      <td>0.41</td>\n",
       "      <td>0.445370</td>\n",
       "    </tr>\n",
       "    <tr>\n",
       "      <th>54</th>\n",
       "      <td>40</td>\n",
       "      <td>symmetric</td>\n",
       "      <td>0.81</td>\n",
       "      <td>0.421365</td>\n",
       "    </tr>\n",
       "    <tr>\n",
       "      <th>55</th>\n",
       "      <td>40</td>\n",
       "      <td>symmetric</td>\n",
       "      <td>symmetric</td>\n",
       "      <td>0.357471</td>\n",
       "    </tr>\n",
       "    <tr>\n",
       "      <th>56</th>\n",
       "      <td>40</td>\n",
       "      <td>asymmetric</td>\n",
       "      <td>0.01</td>\n",
       "      <td>0.353941</td>\n",
       "    </tr>\n",
       "    <tr>\n",
       "      <th>57</th>\n",
       "      <td>40</td>\n",
       "      <td>asymmetric</td>\n",
       "      <td>0.41</td>\n",
       "      <td>0.436657</td>\n",
       "    </tr>\n",
       "    <tr>\n",
       "      <th>58</th>\n",
       "      <td>40</td>\n",
       "      <td>asymmetric</td>\n",
       "      <td>0.81</td>\n",
       "      <td>0.406487</td>\n",
       "    </tr>\n",
       "    <tr>\n",
       "      <th>59</th>\n",
       "      <td>40</td>\n",
       "      <td>asymmetric</td>\n",
       "      <td>symmetric</td>\n",
       "      <td>0.354383</td>\n",
       "    </tr>\n",
       "    <tr>\n",
       "      <th>60</th>\n",
       "      <td>140</td>\n",
       "      <td>0.01</td>\n",
       "      <td>0.01</td>\n",
       "      <td>0.354289</td>\n",
       "    </tr>\n",
       "    <tr>\n",
       "      <th>61</th>\n",
       "      <td>140</td>\n",
       "      <td>0.01</td>\n",
       "      <td>0.41</td>\n",
       "      <td>0.448194</td>\n",
       "    </tr>\n",
       "    <tr>\n",
       "      <th>62</th>\n",
       "      <td>140</td>\n",
       "      <td>0.01</td>\n",
       "      <td>0.81</td>\n",
       "      <td>0.465634</td>\n",
       "    </tr>\n",
       "    <tr>\n",
       "      <th>63</th>\n",
       "      <td>140</td>\n",
       "      <td>0.01</td>\n",
       "      <td>symmetric</td>\n",
       "      <td>0.354202</td>\n",
       "    </tr>\n",
       "    <tr>\n",
       "      <th>64</th>\n",
       "      <td>140</td>\n",
       "      <td>0.41</td>\n",
       "      <td>0.01</td>\n",
       "      <td>0.411918</td>\n",
       "    </tr>\n",
       "    <tr>\n",
       "      <th>65</th>\n",
       "      <td>140</td>\n",
       "      <td>0.41</td>\n",
       "      <td>0.41</td>\n",
       "      <td>0.474689</td>\n",
       "    </tr>\n",
       "    <tr>\n",
       "      <th>66</th>\n",
       "      <td>140</td>\n",
       "      <td>0.41</td>\n",
       "      <td>0.81</td>\n",
       "      <td>0.380879</td>\n",
       "    </tr>\n",
       "    <tr>\n",
       "      <th>67</th>\n",
       "      <td>140</td>\n",
       "      <td>0.41</td>\n",
       "      <td>symmetric</td>\n",
       "      <td>0.400478</td>\n",
       "    </tr>\n",
       "    <tr>\n",
       "      <th>68</th>\n",
       "      <td>140</td>\n",
       "      <td>0.81</td>\n",
       "      <td>0.01</td>\n",
       "      <td>0.346097</td>\n",
       "    </tr>\n",
       "    <tr>\n",
       "      <th>69</th>\n",
       "      <td>140</td>\n",
       "      <td>0.81</td>\n",
       "      <td>0.41</td>\n",
       "      <td>0.291355</td>\n",
       "    </tr>\n",
       "    <tr>\n",
       "      <th>70</th>\n",
       "      <td>140</td>\n",
       "      <td>0.81</td>\n",
       "      <td>0.81</td>\n",
       "      <td>0.280143</td>\n",
       "    </tr>\n",
       "    <tr>\n",
       "      <th>71</th>\n",
       "      <td>140</td>\n",
       "      <td>0.81</td>\n",
       "      <td>symmetric</td>\n",
       "      <td>0.342110</td>\n",
       "    </tr>\n",
       "    <tr>\n",
       "      <th>72</th>\n",
       "      <td>140</td>\n",
       "      <td>symmetric</td>\n",
       "      <td>0.01</td>\n",
       "      <td>0.355607</td>\n",
       "    </tr>\n",
       "    <tr>\n",
       "      <th>73</th>\n",
       "      <td>140</td>\n",
       "      <td>symmetric</td>\n",
       "      <td>0.41</td>\n",
       "      <td>0.447109</td>\n",
       "    </tr>\n",
       "    <tr>\n",
       "      <th>74</th>\n",
       "      <td>140</td>\n",
       "      <td>symmetric</td>\n",
       "      <td>0.81</td>\n",
       "      <td>0.459022</td>\n",
       "    </tr>\n",
       "    <tr>\n",
       "      <th>75</th>\n",
       "      <td>140</td>\n",
       "      <td>symmetric</td>\n",
       "      <td>symmetric</td>\n",
       "      <td>0.354567</td>\n",
       "    </tr>\n",
       "    <tr>\n",
       "      <th>76</th>\n",
       "      <td>140</td>\n",
       "      <td>asymmetric</td>\n",
       "      <td>0.01</td>\n",
       "      <td>0.355546</td>\n",
       "    </tr>\n",
       "    <tr>\n",
       "      <th>77</th>\n",
       "      <td>140</td>\n",
       "      <td>asymmetric</td>\n",
       "      <td>0.41</td>\n",
       "      <td>0.432683</td>\n",
       "    </tr>\n",
       "    <tr>\n",
       "      <th>78</th>\n",
       "      <td>140</td>\n",
       "      <td>asymmetric</td>\n",
       "      <td>0.81</td>\n",
       "      <td>0.458632</td>\n",
       "    </tr>\n",
       "    <tr>\n",
       "      <th>79</th>\n",
       "      <td>140</td>\n",
       "      <td>asymmetric</td>\n",
       "      <td>symmetric</td>\n",
       "      <td>0.353611</td>\n",
       "    </tr>\n",
       "    <tr>\n",
       "      <th>80</th>\n",
       "      <td>150</td>\n",
       "      <td>0.01</td>\n",
       "      <td>0.01</td>\n",
       "      <td>0.345567</td>\n",
       "    </tr>\n",
       "    <tr>\n",
       "      <th>81</th>\n",
       "      <td>150</td>\n",
       "      <td>0.01</td>\n",
       "      <td>0.41</td>\n",
       "      <td>0.421883</td>\n",
       "    </tr>\n",
       "    <tr>\n",
       "      <th>82</th>\n",
       "      <td>150</td>\n",
       "      <td>0.01</td>\n",
       "      <td>0.81</td>\n",
       "      <td>0.486497</td>\n",
       "    </tr>\n",
       "    <tr>\n",
       "      <th>83</th>\n",
       "      <td>150</td>\n",
       "      <td>0.01</td>\n",
       "      <td>symmetric</td>\n",
       "      <td>0.342959</td>\n",
       "    </tr>\n",
       "    <tr>\n",
       "      <th>84</th>\n",
       "      <td>150</td>\n",
       "      <td>0.41</td>\n",
       "      <td>0.01</td>\n",
       "      <td>0.401588</td>\n",
       "    </tr>\n",
       "    <tr>\n",
       "      <th>85</th>\n",
       "      <td>150</td>\n",
       "      <td>0.41</td>\n",
       "      <td>0.41</td>\n",
       "      <td>0.460453</td>\n",
       "    </tr>\n",
       "    <tr>\n",
       "      <th>86</th>\n",
       "      <td>150</td>\n",
       "      <td>0.41</td>\n",
       "      <td>0.81</td>\n",
       "      <td>0.376592</td>\n",
       "    </tr>\n",
       "    <tr>\n",
       "      <th>87</th>\n",
       "      <td>150</td>\n",
       "      <td>0.41</td>\n",
       "      <td>symmetric</td>\n",
       "      <td>0.392059</td>\n",
       "    </tr>\n",
       "    <tr>\n",
       "      <th>88</th>\n",
       "      <td>150</td>\n",
       "      <td>0.81</td>\n",
       "      <td>0.01</td>\n",
       "      <td>0.341529</td>\n",
       "    </tr>\n",
       "    <tr>\n",
       "      <th>89</th>\n",
       "      <td>150</td>\n",
       "      <td>0.81</td>\n",
       "      <td>0.41</td>\n",
       "      <td>0.290531</td>\n",
       "    </tr>\n",
       "    <tr>\n",
       "      <th>90</th>\n",
       "      <td>150</td>\n",
       "      <td>0.81</td>\n",
       "      <td>0.81</td>\n",
       "      <td>0.276319</td>\n",
       "    </tr>\n",
       "    <tr>\n",
       "      <th>91</th>\n",
       "      <td>150</td>\n",
       "      <td>0.81</td>\n",
       "      <td>symmetric</td>\n",
       "      <td>0.341132</td>\n",
       "    </tr>\n",
       "    <tr>\n",
       "      <th>92</th>\n",
       "      <td>150</td>\n",
       "      <td>symmetric</td>\n",
       "      <td>0.01</td>\n",
       "      <td>0.340924</td>\n",
       "    </tr>\n",
       "    <tr>\n",
       "      <th>93</th>\n",
       "      <td>150</td>\n",
       "      <td>symmetric</td>\n",
       "      <td>0.41</td>\n",
       "      <td>0.421912</td>\n",
       "    </tr>\n",
       "    <tr>\n",
       "      <th>94</th>\n",
       "      <td>150</td>\n",
       "      <td>symmetric</td>\n",
       "      <td>0.81</td>\n",
       "      <td>0.492167</td>\n",
       "    </tr>\n",
       "    <tr>\n",
       "      <th>95</th>\n",
       "      <td>150</td>\n",
       "      <td>symmetric</td>\n",
       "      <td>symmetric</td>\n",
       "      <td>0.344047</td>\n",
       "    </tr>\n",
       "    <tr>\n",
       "      <th>96</th>\n",
       "      <td>150</td>\n",
       "      <td>asymmetric</td>\n",
       "      <td>0.01</td>\n",
       "      <td>0.342004</td>\n",
       "    </tr>\n",
       "    <tr>\n",
       "      <th>97</th>\n",
       "      <td>150</td>\n",
       "      <td>asymmetric</td>\n",
       "      <td>0.41</td>\n",
       "      <td>0.438273</td>\n",
       "    </tr>\n",
       "    <tr>\n",
       "      <th>98</th>\n",
       "      <td>150</td>\n",
       "      <td>asymmetric</td>\n",
       "      <td>0.81</td>\n",
       "      <td>0.477676</td>\n",
       "    </tr>\n",
       "    <tr>\n",
       "      <th>99</th>\n",
       "      <td>150</td>\n",
       "      <td>asymmetric</td>\n",
       "      <td>symmetric</td>\n",
       "      <td>0.341626</td>\n",
       "    </tr>\n",
       "  </tbody>\n",
       "</table>\n",
       "</div>"
      ],
      "text/plain": [
       "    Topics       Alpha       Beta  Coherence\n",
       "0       20        0.01       0.01   0.358387\n",
       "1       20        0.01       0.41   0.429254\n",
       "2       20        0.01       0.81   0.426761\n",
       "3       20        0.01  symmetric   0.360523\n",
       "4       20        0.41       0.01   0.358240\n",
       "5       20        0.41       0.41   0.418548\n",
       "6       20        0.41       0.81   0.433550\n",
       "7       20        0.41  symmetric   0.356064\n",
       "8       20        0.81       0.01   0.351340\n",
       "9       20        0.81       0.41   0.393931\n",
       "10      20        0.81       0.81   0.405848\n",
       "11      20        0.81  symmetric   0.340947\n",
       "12      20   symmetric       0.01   0.357378\n",
       "13      20   symmetric       0.41   0.418890\n",
       "14      20   symmetric       0.81   0.432393\n",
       "15      20   symmetric  symmetric   0.360699\n",
       "16      20  asymmetric       0.01   0.354255\n",
       "17      20  asymmetric       0.41   0.429226\n",
       "18      20  asymmetric       0.81   0.438195\n",
       "19      20  asymmetric  symmetric   0.351038\n",
       "20      30        0.01       0.01   0.343608\n",
       "21      30        0.01       0.41   0.414650\n",
       "22      30        0.01       0.81   0.431448\n",
       "23      30        0.01  symmetric   0.342702\n",
       "24      30        0.41       0.01   0.361819\n",
       "25      30        0.41       0.41   0.415792\n",
       "26      30        0.41       0.81   0.423258\n",
       "27      30        0.41  symmetric   0.367390\n",
       "28      30        0.81       0.01   0.362595\n",
       "29      30        0.81       0.41   0.381529\n",
       "30      30        0.81       0.81   0.379037\n",
       "31      30        0.81  symmetric   0.356676\n",
       "32      30   symmetric       0.01   0.346916\n",
       "33      30   symmetric       0.41   0.417575\n",
       "34      30   symmetric       0.81   0.432712\n",
       "35      30   symmetric  symmetric   0.344269\n",
       "36      30  asymmetric       0.01   0.343078\n",
       "37      30  asymmetric       0.41   0.423237\n",
       "38      30  asymmetric       0.81   0.401735\n",
       "39      30  asymmetric  symmetric   0.345581\n",
       "40      40        0.01       0.01   0.351194\n",
       "41      40        0.01       0.41   0.450656\n",
       "42      40        0.01       0.81   0.422861\n",
       "43      40        0.01  symmetric   0.357132\n",
       "44      40        0.41       0.01   0.365877\n",
       "45      40        0.41       0.41   0.414083\n",
       "46      40        0.41       0.81   0.390446\n",
       "47      40        0.41  symmetric   0.373510\n",
       "48      40        0.81       0.01   0.365847\n",
       "49      40        0.81       0.41   0.380648\n",
       "50      40        0.81       0.81   0.306140\n",
       "51      40        0.81  symmetric   0.357097\n",
       "52      40   symmetric       0.01   0.350002\n",
       "53      40   symmetric       0.41   0.445370\n",
       "54      40   symmetric       0.81   0.421365\n",
       "55      40   symmetric  symmetric   0.357471\n",
       "56      40  asymmetric       0.01   0.353941\n",
       "57      40  asymmetric       0.41   0.436657\n",
       "58      40  asymmetric       0.81   0.406487\n",
       "59      40  asymmetric  symmetric   0.354383\n",
       "60     140        0.01       0.01   0.354289\n",
       "61     140        0.01       0.41   0.448194\n",
       "62     140        0.01       0.81   0.465634\n",
       "63     140        0.01  symmetric   0.354202\n",
       "64     140        0.41       0.01   0.411918\n",
       "65     140        0.41       0.41   0.474689\n",
       "66     140        0.41       0.81   0.380879\n",
       "67     140        0.41  symmetric   0.400478\n",
       "68     140        0.81       0.01   0.346097\n",
       "69     140        0.81       0.41   0.291355\n",
       "70     140        0.81       0.81   0.280143\n",
       "71     140        0.81  symmetric   0.342110\n",
       "72     140   symmetric       0.01   0.355607\n",
       "73     140   symmetric       0.41   0.447109\n",
       "74     140   symmetric       0.81   0.459022\n",
       "75     140   symmetric  symmetric   0.354567\n",
       "76     140  asymmetric       0.01   0.355546\n",
       "77     140  asymmetric       0.41   0.432683\n",
       "78     140  asymmetric       0.81   0.458632\n",
       "79     140  asymmetric  symmetric   0.353611\n",
       "80     150        0.01       0.01   0.345567\n",
       "81     150        0.01       0.41   0.421883\n",
       "82     150        0.01       0.81   0.486497\n",
       "83     150        0.01  symmetric   0.342959\n",
       "84     150        0.41       0.01   0.401588\n",
       "85     150        0.41       0.41   0.460453\n",
       "86     150        0.41       0.81   0.376592\n",
       "87     150        0.41  symmetric   0.392059\n",
       "88     150        0.81       0.01   0.341529\n",
       "89     150        0.81       0.41   0.290531\n",
       "90     150        0.81       0.81   0.276319\n",
       "91     150        0.81  symmetric   0.341132\n",
       "92     150   symmetric       0.01   0.340924\n",
       "93     150   symmetric       0.41   0.421912\n",
       "94     150   symmetric       0.81   0.492167\n",
       "95     150   symmetric  symmetric   0.344047\n",
       "96     150  asymmetric       0.01   0.342004\n",
       "97     150  asymmetric       0.41   0.438273\n",
       "98     150  asymmetric       0.81   0.477676\n",
       "99     150  asymmetric  symmetric   0.341626"
      ]
     },
     "execution_count": 49,
     "metadata": {},
     "output_type": "execute_result"
    }
   ],
   "source": [
    "sample_lda_tuning"
   ]
  },
  {
   "cell_type": "code",
   "execution_count": null,
   "metadata": {
    "tags": []
   },
   "outputs": [
    {
     "data": {
      "image/png": "[encoded data removed]",
      "text/plain": [
       "<Figure size 640x480 with 1 Axes>"
      ]
     },
     "metadata": {},
     "output_type": "display_data"
    }
   ],
   "source": [
    "# Plot coherence scores\n",
    "plt.plot(sample_lda_tuning['Topics'].to_numpy(), sample_lda_tuning['Coherence'].to_numpy(), 'b-o')\n",
    "plt.xlabel('Number of Topics')\n",
    "plt.ylabel('Coherence Score')\n",
    "plt.title('Coherence Score vs. Number of Topics')\n",
    "plt.grid(True)\n",
    "plt.show()"
   ]
  },
  {
   "cell_type": "code",
   "execution_count": null,
   "metadata": {
    "tags": []
   },
   "outputs": [
    {
     "data": {
      "text/plain": [
       "Topics             150\n",
       "Alpha        symmetric\n",
       "Beta              0.81\n",
       "Coherence     0.492167\n",
       "Name: 94, dtype: object"
      ]
     },
     "execution_count": 51,
     "metadata": {},
     "output_type": "execute_result"
    }
   ],
   "source": [
    "max_row_index = sample_lda_tuning['Coherence'].idxmax()\n",
    "max_row = sample_lda_tuning.loc[max_row_index]\n",
    "max_row"
   ]
  },
  {
   "cell_type": "code",
   "execution_count": 20,
   "metadata": {
    "tags": []
   },
   "outputs": [],
   "source": [
    "best_sample_lda_model = LdaMulticore(corpus=sample_doc_term_matrix,\n",
    "                   id2word=sample_dictionary,\n",
    "                   num_topics=150,\n",
    "                   random_state=100,                  \n",
    "                   passes=10,\n",
    "                   alpha=0.31,\n",
    "                   eta=0.91,\n",
    "                   workers=num_processors-1)\n"
   ]
  },
  {
   "cell_type": "code",
   "execution_count": 21,
   "metadata": {
    "tags": []
   },
   "outputs": [],
   "source": [
    "topics = best_sample_lda_model.print_topics(num_topics=150, num_words=10)\n",
    "topic_data = []\n",
    "\n",
    "for topic in topics:\n",
    "    words = topic[1].split(\"+\")\n",
    "    topic_words = [word.split(\"*\")[1].strip().replace('\"', '') for word in words]\n",
    "    topic_data.append(topic_words)\n",
    "\n",
    "df_topics = pd.DataFrame(topic_data, columns=[f\"Topic{i}\" for i in range(10)])\n",
    "df_topics.insert(0, \"Topic\", range(150))\n"
   ]
  },
  {
   "cell_type": "code",
   "execution_count": 44,
   "metadata": {
    "tags": []
   },
   "outputs": [
    {
     "data": {
      "text/html": [
       "<div>\n",
       "<style scoped>\n",
       "    .dataframe tbody tr th:only-of-type {\n",
       "        vertical-align: middle;\n",
       "    }\n",
       "\n",
       "    .dataframe tbody tr th {\n",
       "        vertical-align: top;\n",
       "    }\n",
       "\n",
       "    .dataframe thead th {\n",
       "        text-align: right;\n",
       "    }\n",
       "</style>\n",
       "<table border=\"1\" class=\"dataframe\">\n",
       "  <thead>\n",
       "    <tr style=\"text-align: right;\">\n",
       "      <th></th>\n",
       "      <th>Topic</th>\n",
       "      <th>Topic0</th>\n",
       "      <th>Topic1</th>\n",
       "      <th>Topic2</th>\n",
       "      <th>Topic3</th>\n",
       "      <th>Topic4</th>\n",
       "      <th>Topic5</th>\n",
       "      <th>Topic6</th>\n",
       "      <th>Topic7</th>\n",
       "      <th>Topic8</th>\n",
       "      <th>Topic9</th>\n",
       "    </tr>\n",
       "  </thead>\n",
       "  <tbody>\n",
       "    <tr>\n",
       "      <th>0</th>\n",
       "      <td>0</td>\n",
       "      <td>ҳлиө</td>\n",
       "      <td>wind</td>\n",
       "      <td>ләел_мқј</td>\n",
       "      <td>ҳл_ҙм</td>\n",
       "      <td>җлҹ</td>\n",
       "      <td>ҳлқҳ</td>\n",
       "      <td>ҳкің</td>\n",
       "      <td>лҙј</td>\n",
       "      <td>ліҙлҙј</td>\n",
       "      <td>нҷ</td>\n",
       "    </tr>\n",
       "    <tr>\n",
       "      <th>1</th>\n",
       "      <td>1</td>\n",
       "      <td>arena_analytic</td>\n",
       "      <td>training_sample</td>\n",
       "      <td>distinguished_industry</td>\n",
       "      <td>use</td>\n",
       "      <td>smother</td>\n",
       "      <td>market</td>\n",
       "      <td>zac</td>\n",
       "      <td>deep_convolutional_neural_network</td>\n",
       "      <td>naturally_stop</td>\n",
       "      <td>connect_women</td>\n",
       "    </tr>\n",
       "    <tr>\n",
       "      <th>2</th>\n",
       "      <td>2</td>\n",
       "      <td>medical_ai_data_analysis</td>\n",
       "      <td>first_picture</td>\n",
       "      <td>google_parent_company_alphabet</td>\n",
       "      <td>steamtown</td>\n",
       "      <td>performances_take</td>\n",
       "      <td>wednesday_alphabet</td>\n",
       "      <td>widespread_job_cut</td>\n",
       "      <td>knowing_machine</td>\n",
       "      <td>tech_sector_alphabet_cut</td>\n",
       "      <td>engine_publicly</td>\n",
       "    </tr>\n",
       "    <tr>\n",
       "      <th>3</th>\n",
       "      <td>3</td>\n",
       "      <td>pmsport</td>\n",
       "      <td>match_feb</td>\n",
       "      <td>wickets_root</td>\n",
       "      <td>ing_car</td>\n",
       "      <td>market</td>\n",
       "      <td>use</td>\n",
       "      <td>ai</td>\n",
       "      <td>company</td>\n",
       "      <td>say</td>\n",
       "      <td>technology</td>\n",
       "    </tr>\n",
       "    <tr>\n",
       "      <th>4</th>\n",
       "      <td>4</td>\n",
       "      <td>transaction_review</td>\n",
       "      <td>uses_advance</td>\n",
       "      <td>use</td>\n",
       "      <td>billing_detail</td>\n",
       "      <td>bonifazidenver_co</td>\n",
       "      <td>cofive</td>\n",
       "      <td>ai</td>\n",
       "      <td>datum</td>\n",
       "      <td>say</td>\n",
       "      <td>technology_digit</td>\n",
       "    </tr>\n",
       "    <tr>\n",
       "      <th>...</th>\n",
       "      <td>...</td>\n",
       "      <td>...</td>\n",
       "      <td>...</td>\n",
       "      <td>...</td>\n",
       "      <td>...</td>\n",
       "      <td>...</td>\n",
       "      <td>...</td>\n",
       "      <td>...</td>\n",
       "      <td>...</td>\n",
       "      <td>...</td>\n",
       "      <td>...</td>\n",
       "    </tr>\n",
       "    <tr>\n",
       "      <th>145</th>\n",
       "      <td>145</td>\n",
       "      <td>wvlt_newsfirst</td>\n",
       "      <td>wayanythe</td>\n",
       "      <td>teamcareerswvlt_paid</td>\n",
       "      <td>alert_weatherfirst_alert_weather</td>\n",
       "      <td>alert_live</td>\n",
       "      <td>dividesupport_local</td>\n",
       "      <td>calendarcontact_usmeet</td>\n",
       "      <td>solutionsmedal</td>\n",
       "      <td>cookingeye</td>\n",
       "      <td>possiblelet_get</td>\n",
       "    </tr>\n",
       "    <tr>\n",
       "      <th>146</th>\n",
       "      <td>146</td>\n",
       "      <td>technology_review</td>\n",
       "      <td>alphafold</td>\n",
       "      <td>fox_business</td>\n",
       "      <td>protein</td>\n",
       "      <td>rogd</td>\n",
       "      <td>proteins_found</td>\n",
       "      <td>refinitiv_lipper</td>\n",
       "      <td>million_structure</td>\n",
       "      <td>statement_mutual</td>\n",
       "      <td>market_data_provide</td>\n",
       "    </tr>\n",
       "    <tr>\n",
       "      <th>147</th>\n",
       "      <td>147</td>\n",
       "      <td>market</td>\n",
       "      <td>report</td>\n",
       "      <td>santo_cjmorne</td>\n",
       "      <td>invest</td>\n",
       "      <td>call_trading_calls_trade</td>\n",
       "      <td>markets_data_exclusive_trade</td>\n",
       "      <td>thomson_reutersdetail</td>\n",
       "      <td>equity_analysis_actionable_investment</td>\n",
       "      <td>sip_balancerdelay</td>\n",
       "      <td>trackersip_performance</td>\n",
       "    </tr>\n",
       "    <tr>\n",
       "      <th>148</th>\n",
       "      <td>148</td>\n",
       "      <td>new_exhibition</td>\n",
       "      <td>world_renowned</td>\n",
       "      <td>rapture</td>\n",
       "      <td>press_preview</td>\n",
       "      <td>content_markete</td>\n",
       "      <td>market</td>\n",
       "      <td>lisbon</td>\n",
       "      <td>complainour_brandsprivacy</td>\n",
       "      <td>bicycle</td>\n",
       "      <td>franca</td>\n",
       "    </tr>\n",
       "    <tr>\n",
       "      <th>149</th>\n",
       "      <td>149</td>\n",
       "      <td>use</td>\n",
       "      <td>market</td>\n",
       "      <td>say</td>\n",
       "      <td>ai</td>\n",
       "      <td>company</td>\n",
       "      <td>machine_learne</td>\n",
       "      <td>technology</td>\n",
       "      <td>work</td>\n",
       "      <td>report</td>\n",
       "      <td>artificial_intelligence</td>\n",
       "    </tr>\n",
       "  </tbody>\n",
       "</table>\n",
       "<p>150 rows × 11 columns</p>\n",
       "</div>"
      ],
      "text/plain": [
       "     Topic                    Topic0           Topic1  \\\n",
       "0        0                      ҳлиө             wind   \n",
       "1        1            arena_analytic  training_sample   \n",
       "2        2  medical_ai_data_analysis    first_picture   \n",
       "3        3                   pmsport        match_feb   \n",
       "4        4        transaction_review     uses_advance   \n",
       "..     ...                       ...              ...   \n",
       "145    145            wvlt_newsfirst        wayanythe   \n",
       "146    146         technology_review        alphafold   \n",
       "147    147                    market           report   \n",
       "148    148            new_exhibition   world_renowned   \n",
       "149    149                       use           market   \n",
       "\n",
       "                             Topic2                            Topic3  \\\n",
       "0                          ләел_мқј                             ҳл_ҙм   \n",
       "1            distinguished_industry                               use   \n",
       "2    google_parent_company_alphabet                         steamtown   \n",
       "3                      wickets_root                           ing_car   \n",
       "4                               use                    billing_detail   \n",
       "..                              ...                               ...   \n",
       "145            teamcareerswvlt_paid  alert_weatherfirst_alert_weather   \n",
       "146                    fox_business                           protein   \n",
       "147                   santo_cjmorne                            invest   \n",
       "148                         rapture                     press_preview   \n",
       "149                             say                                ai   \n",
       "\n",
       "                       Topic4                        Topic5  \\\n",
       "0                         җлҹ                          ҳлқҳ   \n",
       "1                     smother                        market   \n",
       "2           performances_take            wednesday_alphabet   \n",
       "3                      market                           use   \n",
       "4           bonifazidenver_co                        cofive   \n",
       "..                        ...                           ...   \n",
       "145                alert_live           dividesupport_local   \n",
       "146                      rogd                proteins_found   \n",
       "147  call_trading_calls_trade  markets_data_exclusive_trade   \n",
       "148           content_markete                        market   \n",
       "149                   company                machine_learne   \n",
       "\n",
       "                     Topic6                                 Topic7  \\\n",
       "0                      ҳкің                                    лҙј   \n",
       "1                       zac      deep_convolutional_neural_network   \n",
       "2        widespread_job_cut                        knowing_machine   \n",
       "3                        ai                                company   \n",
       "4                        ai                                  datum   \n",
       "..                      ...                                    ...   \n",
       "145  calendarcontact_usmeet                         solutionsmedal   \n",
       "146        refinitiv_lipper                      million_structure   \n",
       "147   thomson_reutersdetail  equity_analysis_actionable_investment   \n",
       "148                  lisbon              complainour_brandsprivacy   \n",
       "149              technology                                   work   \n",
       "\n",
       "                       Topic8                   Topic9  \n",
       "0                      ліҙлҙј                       нҷ  \n",
       "1              naturally_stop            connect_women  \n",
       "2    tech_sector_alphabet_cut          engine_publicly  \n",
       "3                         say               technology  \n",
       "4                         say         technology_digit  \n",
       "..                        ...                      ...  \n",
       "145                cookingeye          possiblelet_get  \n",
       "146          statement_mutual      market_data_provide  \n",
       "147         sip_balancerdelay   trackersip_performance  \n",
       "148                   bicycle                   franca  \n",
       "149                    report  artificial_intelligence  \n",
       "\n",
       "[150 rows x 11 columns]"
      ]
     },
     "execution_count": 44,
     "metadata": {},
     "output_type": "execute_result"
    }
   ],
   "source": [
    "df_topics"
   ]
  },
  {
   "cell_type": "code",
   "execution_count": null,
   "metadata": {},
   "outputs": [],
   "source": []
  },
  {
   "cell_type": "markdown",
   "metadata": {
    "tags": []
   },
   "source": [
    "## Ktrain with Found Optimal n_topics"
   ]
  },
  {
   "cell_type": "markdown",
   "metadata": {
    "jp-MarkdownHeadingCollapsed": true,
    "tags": []
   },
   "source": [
    "#### Setting"
   ]
  },
  {
   "cell_type": "code",
   "execution_count": null,
   "metadata": {
    "tags": []
   },
   "outputs": [],
   "source": [
    "import tensorflow as tf"
   ]
  },
  {
   "cell_type": "code",
   "execution_count": null,
   "metadata": {
    "tags": []
   },
   "outputs": [
    {
     "data": {
      "text/plain": [
       "[PhysicalDevice(name='/physical_device:CPU:0', device_type='CPU')]"
      ]
     },
     "execution_count": 53,
     "metadata": {},
     "output_type": "execute_result"
    }
   ],
   "source": [
    "#Verify we got CPU + GPU or only CPU\n",
    "tf.config.list_physical_devices()"
   ]
  },
  {
   "cell_type": "code",
   "execution_count": null,
   "metadata": {
    "tags": []
   },
   "outputs": [
    {
     "name": "stdout",
     "output_type": "stream",
     "text": [
      "Collecting ktrain\n",
      "  Downloading ktrain-0.37.0.tar.gz (25.3 MB)\n",
      "\u001b[2K     \u001b[90m━━━━━━━━━━━━━━━━━━━━━━━━━━━━━━━━━━━━━━━━\u001b[0m \u001b[32m25.3/25.3 MB\u001b[0m \u001b[31m54.7 MB/s\u001b[0m eta \u001b[36m0:00:00\u001b[0m00:01\u001b[0m00:01\u001b[0m\n",
      "\u001b[?25h  Preparing metadata (setup.py) ... \u001b[?25ldone\n",
      "\u001b[?25hRequirement already satisfied: scikit-learn in /opt/conda/lib/python3.10/site-packages (from ktrain) (1.2.2)\n",
      "Requirement already satisfied: matplotlib>=3.0.0 in /opt/conda/lib/python3.10/site-packages (from ktrain) (3.6.3)\n",
      "Requirement already satisfied: pandas>=1.0.1 in /opt/conda/lib/python3.10/site-packages (from ktrain) (1.5.3)\n",
      "Requirement already satisfied: fastprogress>=0.1.21 in /opt/conda/lib/python3.10/site-packages (from ktrain) (1.0.3)\n",
      "Requirement already satisfied: requests in /opt/conda/lib/python3.10/site-packages (from ktrain) (2.28.2)\n",
      "Requirement already satisfied: joblib in /opt/conda/lib/python3.10/site-packages (from ktrain) (1.2.0)\n",
      "Requirement already satisfied: packaging in /opt/conda/lib/python3.10/site-packages (from ktrain) (21.3)\n",
      "Collecting langdetect (from ktrain)\n",
      "  Downloading langdetect-1.0.9.tar.gz (981 kB)\n",
      "\u001b[2K     \u001b[90m━━━━━━━━━━━━━━━━━━━━━━━━━━━━━━━━━━━━━━\u001b[0m \u001b[32m981.5/981.5 kB\u001b[0m \u001b[31m50.8 MB/s\u001b[0m eta \u001b[36m0:00:00\u001b[0m\n",
      "\u001b[?25h  Preparing metadata (setup.py) ... \u001b[?25ldone\n",
      "\u001b[?25hRequirement already satisfied: jieba in /opt/conda/lib/python3.10/site-packages (from ktrain) (0.42.1)\n",
      "Collecting cchardet (from ktrain)\n",
      "  Downloading cchardet-2.1.7.tar.gz (653 kB)\n",
      "\u001b[2K     \u001b[90m━━━━━━━━━━━━━━━━━━━━━━━━━━━━━━━━━━━━━━\u001b[0m \u001b[32m653.6/653.6 kB\u001b[0m \u001b[31m47.7 MB/s\u001b[0m eta \u001b[36m0:00:00\u001b[0m\n",
      "\u001b[?25h  Preparing metadata (setup.py) ... \u001b[?25ldone\n",
      "\u001b[?25hCollecting chardet (from ktrain)\n",
      "  Downloading chardet-5.1.0-py3-none-any.whl (199 kB)\n",
      "\u001b[2K     \u001b[90m━━━━━━━━━━━━━━━━━━━━━━━━━━━━━━━━━━━━━━\u001b[0m \u001b[32m199.1/199.1 kB\u001b[0m \u001b[31m26.9 MB/s\u001b[0m eta \u001b[36m0:00:00\u001b[0m\n",
      "\u001b[?25hCollecting syntok>1.3.3 (from ktrain)\n",
      "  Downloading syntok-1.4.4-py3-none-any.whl (24 kB)\n",
      "Collecting tika (from ktrain)\n",
      "  Downloading tika-2.6.0.tar.gz (27 kB)\n",
      "  Preparing metadata (setup.py) ... \u001b[?25ldone\n",
      "\u001b[?25hRequirement already satisfied: transformers>=4.17.0 in /opt/conda/lib/python3.10/site-packages (from ktrain) (4.29.2)\n",
      "Requirement already satisfied: sentencepiece in /opt/conda/lib/python3.10/site-packages (from ktrain) (0.1.99)\n",
      "Collecting keras_bert>=0.86.0 (from ktrain)\n",
      "  Downloading keras-bert-0.89.0.tar.gz (25 kB)\n",
      "  Preparing metadata (setup.py) ... \u001b[?25ldone\n",
      "\u001b[?25hCollecting whoosh (from ktrain)\n",
      "  Downloading Whoosh-2.7.4-py2.py3-none-any.whl (468 kB)\n",
      "\u001b[2K     \u001b[90m━━━━━━━━━━━━━━━━━━━━━━━━━━━━━━━━━━━━━━\u001b[0m \u001b[32m468.8/468.8 kB\u001b[0m \u001b[31m45.0 MB/s\u001b[0m eta \u001b[36m0:00:00\u001b[0m\n",
      "\u001b[?25hRequirement already satisfied: numpy in /opt/conda/lib/python3.10/site-packages (from keras_bert>=0.86.0->ktrain) (1.23.5)\n",
      "Collecting keras-transformer==0.40.0 (from keras_bert>=0.86.0->ktrain)\n",
      "  Downloading keras-transformer-0.40.0.tar.gz (9.7 kB)\n",
      "  Preparing metadata (setup.py) ... \u001b[?25ldone\n",
      "\u001b[?25hCollecting keras-pos-embd==0.13.0 (from keras-transformer==0.40.0->keras_bert>=0.86.0->ktrain)\n",
      "  Downloading keras-pos-embd-0.13.0.tar.gz (5.6 kB)\n",
      "  Preparing metadata (setup.py) ... \u001b[?25ldone\n",
      "\u001b[?25hCollecting keras-multi-head==0.29.0 (from keras-transformer==0.40.0->keras_bert>=0.86.0->ktrain)\n",
      "  Downloading keras-multi-head-0.29.0.tar.gz (13 kB)\n",
      "  Preparing metadata (setup.py) ... \u001b[?25ldone\n",
      "\u001b[?25hCollecting keras-layer-normalization==0.16.0 (from keras-transformer==0.40.0->keras_bert>=0.86.0->ktrain)\n",
      "  Downloading keras-layer-normalization-0.16.0.tar.gz (3.9 kB)\n",
      "  Preparing metadata (setup.py) ... \u001b[?25ldone\n",
      "\u001b[?25hCollecting keras-position-wise-feed-forward==0.8.0 (from keras-transformer==0.40.0->keras_bert>=0.86.0->ktrain)\n",
      "  Downloading keras-position-wise-feed-forward-0.8.0.tar.gz (4.1 kB)\n",
      "  Preparing metadata (setup.py) ... \u001b[?25ldone\n",
      "\u001b[?25hCollecting keras-embed-sim==0.10.0 (from keras-transformer==0.40.0->keras_bert>=0.86.0->ktrain)\n",
      "  Downloading keras-embed-sim-0.10.0.tar.gz (3.6 kB)\n",
      "  Preparing metadata (setup.py) ... \u001b[?25ldone\n",
      "\u001b[?25hCollecting keras-self-attention==0.51.0 (from keras-multi-head==0.29.0->keras-transformer==0.40.0->keras_bert>=0.86.0->ktrain)\n",
      "  Downloading keras-self-attention-0.51.0.tar.gz (11 kB)\n",
      "  Preparing metadata (setup.py) ... \u001b[?25ldone\n",
      "\u001b[?25hRequirement already satisfied: contourpy>=1.0.1 in /opt/conda/lib/python3.10/site-packages (from matplotlib>=3.0.0->ktrain) (1.0.7)\n",
      "Requirement already satisfied: cycler>=0.10 in /opt/conda/lib/python3.10/site-packages (from matplotlib>=3.0.0->ktrain) (0.11.0)\n",
      "Requirement already satisfied: fonttools>=4.22.0 in /opt/conda/lib/python3.10/site-packages (from matplotlib>=3.0.0->ktrain) (4.39.3)\n",
      "Requirement already satisfied: kiwisolver>=1.0.1 in /opt/conda/lib/python3.10/site-packages (from matplotlib>=3.0.0->ktrain) (1.4.4)\n",
      "Requirement already satisfied: pillow>=6.2.0 in /opt/conda/lib/python3.10/site-packages (from matplotlib>=3.0.0->ktrain) (9.5.0)\n",
      "Requirement already satisfied: pyparsing>=2.2.1 in /opt/conda/lib/python3.10/site-packages (from matplotlib>=3.0.0->ktrain) (3.0.9)\n",
      "Requirement already satisfied: python-dateutil>=2.7 in /opt/conda/lib/python3.10/site-packages (from matplotlib>=3.0.0->ktrain) (2.8.2)\n",
      "Requirement already satisfied: pytz>=2020.1 in /opt/conda/lib/python3.10/site-packages (from pandas>=1.0.1->ktrain) (2023.3)\n",
      "Requirement already satisfied: regex>2016 in /opt/conda/lib/python3.10/site-packages (from syntok>1.3.3->ktrain) (2023.5.5)\n",
      "Requirement already satisfied: filelock in /opt/conda/lib/python3.10/site-packages (from transformers>=4.17.0->ktrain) (3.12.0)\n",
      "Requirement already satisfied: huggingface-hub<1.0,>=0.14.1 in /opt/conda/lib/python3.10/site-packages (from transformers>=4.17.0->ktrain) (0.14.1)\n",
      "Requirement already satisfied: pyyaml>=5.1 in /opt/conda/lib/python3.10/site-packages (from transformers>=4.17.0->ktrain) (5.4.1)\n",
      "Requirement already satisfied: tokenizers!=0.11.3,<0.14,>=0.11.1 in /opt/conda/lib/python3.10/site-packages (from transformers>=4.17.0->ktrain) (0.13.3)\n",
      "Requirement already satisfied: tqdm>=4.27 in /opt/conda/lib/python3.10/site-packages (from transformers>=4.17.0->ktrain) (4.64.1)\n",
      "Requirement already satisfied: six in /opt/conda/lib/python3.10/site-packages (from langdetect->ktrain) (1.16.0)\n",
      "Requirement already satisfied: charset-normalizer<4,>=2 in /opt/conda/lib/python3.10/site-packages (from requests->ktrain) (2.1.1)\n",
      "Requirement already satisfied: idna<4,>=2.5 in /opt/conda/lib/python3.10/site-packages (from requests->ktrain) (3.4)\n",
      "Requirement already satisfied: urllib3<1.27,>=1.21.1 in /opt/conda/lib/python3.10/site-packages (from requests->ktrain) (1.26.15)\n",
      "Requirement already satisfied: certifi>=2017.4.17 in /opt/conda/lib/python3.10/site-packages (from requests->ktrain) (2023.5.7)\n",
      "Requirement already satisfied: scipy>=1.3.2 in /opt/conda/lib/python3.10/site-packages (from scikit-learn->ktrain) (1.10.1)\n",
      "Requirement already satisfied: threadpoolctl>=2.0.0 in /opt/conda/lib/python3.10/site-packages (from scikit-learn->ktrain) (3.1.0)\n",
      "Requirement already satisfied: setuptools in /opt/conda/lib/python3.10/site-packages (from tika->ktrain) (59.8.0)\n",
      "Requirement already satisfied: fsspec in /opt/conda/lib/python3.10/site-packages (from huggingface-hub<1.0,>=0.14.1->transformers>=4.17.0->ktrain) (2023.5.0)\n",
      "Requirement already satisfied: typing-extensions>=3.7.4.3 in /opt/conda/lib/python3.10/site-packages (from huggingface-hub<1.0,>=0.14.1->transformers>=4.17.0->ktrain) (4.5.0)\n",
      "Building wheels for collected packages: ktrain, keras_bert, keras-transformer, keras-embed-sim, keras-layer-normalization, keras-multi-head, keras-pos-embd, keras-position-wise-feed-forward, keras-self-attention, cchardet, langdetect, tika\n",
      "  Building wheel for ktrain (setup.py) ... \u001b[?25ldone\n",
      "\u001b[?25h  Created wheel for ktrain: filename=ktrain-0.37.0-py3-none-any.whl size=25320578 sha256=22665a074afb37ecc9e46e1837c8dabc3b28e8be6f64e7a53a966b613db9522f\n",
      "  Stored in directory: /root/.cache/pip/wheels/66/b5/c4/9a0db005c3c6df396364011cb05305505592d9d48ee177a606\n",
      "  Building wheel for keras_bert (setup.py) ... \u001b[?25ldone\n",
      "\u001b[?25h  Created wheel for keras_bert: filename=keras_bert-0.89.0-py3-none-any.whl size=33516 sha256=e47145425859bcffdf3bb6a08e46b504b5aa37af0391fc2443a65806a0052bf6\n",
      "  Stored in directory: /root/.cache/pip/wheels/89/0c/04/646b6fdf6375911b42c8d540a8a3fda8d5d77634e5dcbe7b26\n",
      "  Building wheel for keras-transformer (setup.py) ... \u001b[?25ldone\n",
      "\u001b[?25h  Created wheel for keras-transformer: filename=keras_transformer-0.40.0-py3-none-any.whl size=12304 sha256=e0dcb4e3700d9b2c7c326e932ac2e657106b400d91327346cc137b8e89976924\n",
      "  Stored in directory: /root/.cache/pip/wheels/f2/cb/22/75a0ad376129177f7c95c0d91331a18f5368fd657f4035ba7c\n",
      "  Building wheel for keras-embed-sim (setup.py) ... \u001b[?25ldone\n",
      "\u001b[?25h  Created wheel for keras-embed-sim: filename=keras_embed_sim-0.10.0-py3-none-any.whl size=3958 sha256=8ed58f20dd7557a09597211c7fdd37ccf2341ba5f428774065dcc638b38f9de2\n",
      "  Stored in directory: /root/.cache/pip/wheels/82/32/c7/fd35d0d1b840a6c7cbd4343f808d10d0f7b87d271a4dbe796f\n",
      "  Building wheel for keras-layer-normalization (setup.py) ... \u001b[?25ldone\n",
      "\u001b[?25h  Created wheel for keras-layer-normalization: filename=keras_layer_normalization-0.16.0-py3-none-any.whl size=4668 sha256=61afb84d2f94f55538febe0342bd9e634c34a09fe7726890fd77cc06429eb375\n",
      "  Stored in directory: /root/.cache/pip/wheels/ed/3a/4b/21db23c0cc56c4b219616e181f258eb7c57d36cc5d056fae9a\n",
      "  Building wheel for keras-multi-head (setup.py) ... \u001b[?25ldone\n",
      "\u001b[?25h  Created wheel for keras-multi-head: filename=keras_multi_head-0.29.0-py3-none-any.whl size=14994 sha256=78b5361c5d234a97f9fabd9917905335bb1fbd2a79c9e096e7c2255f42eccbdd\n",
      "  Stored in directory: /root/.cache/pip/wheels/cb/23/4b/06d7ae21714f70fcc25b48f972cc8e5e7f4b6b764a038b509d\n",
      "  Building wheel for keras-pos-embd (setup.py) ... \u001b[?25ldone\n",
      "\u001b[?25h  Created wheel for keras-pos-embd: filename=keras_pos_embd-0.13.0-py3-none-any.whl size=6962 sha256=ae8dd496170bd1348659b17690762ab262d5b9fa6bcaa28bc8c2f85283343d4a\n",
      "  Stored in directory: /root/.cache/pip/wheels/78/07/1b/b1ca47b6ac338554b75c8f52c54e6a2bfbe1b07d79579979a4\n",
      "  Building wheel for keras-position-wise-feed-forward (setup.py) ... \u001b[?25ldone\n",
      "\u001b[?25h  Created wheel for keras-position-wise-feed-forward: filename=keras_position_wise_feed_forward-0.8.0-py3-none-any.whl size=4983 sha256=2d5088911fe60765f4fd06418f3ce72b18408b938fa83a0528a39df9bca33c23\n",
      "  Stored in directory: /root/.cache/pip/wheels/c1/6a/04/d1706a53b23b2cb5f9a0a76269bf87925daa1bca09eac01b21\n",
      "  Building wheel for keras-self-attention (setup.py) ... \u001b[?25ldone\n",
      "\u001b[?25h  Created wheel for keras-self-attention: filename=keras_self_attention-0.51.0-py3-none-any.whl size=18912 sha256=f0244631d9520d6770c79ef4150368c1aee817bb38c9652d9b171b37b59bfabc\n",
      "  Stored in directory: /root/.cache/pip/wheels/b8/f7/24/607b483144fb9c47b4ba2c5fba6b68e54aeee2d5bf6c05302e\n",
      "  Building wheel for cchardet (setup.py) ... \u001b[?25ldone\n",
      "\u001b[?25h  Created wheel for cchardet: filename=cchardet-2.1.7-cp310-cp310-linux_x86_64.whl size=133482 sha256=2bcd88e96e73bd2c1992a49b5ba6e029d6cb69c693c61a0b5f4c9cca5aa78ff0\n",
      "  Stored in directory: /root/.cache/pip/wheels/ee/e0/ab/e01326f15c59438d080b1496dbab8091e952ec72f35e3c437e\n",
      "  Building wheel for langdetect (setup.py) ... \u001b[?25ldone\n",
      "\u001b[?25h  Created wheel for langdetect: filename=langdetect-1.0.9-py3-none-any.whl size=993241 sha256=1b51b2c6f03f41c37b1c95b6f828f7785a70f4e49ee0affa5ea40713942b214c\n",
      "  Stored in directory: /root/.cache/pip/wheels/95/03/7d/59ea870c70ce4e5a370638b5462a7711ab78fba2f655d05106\n",
      "  Building wheel for tika (setup.py) ... \u001b[?25ldone\n",
      "\u001b[?25h  Created wheel for tika: filename=tika-2.6.0-py3-none-any.whl size=32642 sha256=b67f797afd476885bbb85cf079bd7fa218a62fd071e0d3f6c267f4ece1c4d5c1\n",
      "  Stored in directory: /root/.cache/pip/wheels/5f/71/c7/b757709531121b1700cffda5b6b0d4aad095fb507ec84316d0\n",
      "Successfully built ktrain keras_bert keras-transformer keras-embed-sim keras-layer-normalization keras-multi-head keras-pos-embd keras-position-wise-feed-forward keras-self-attention cchardet langdetect tika\n",
      "Installing collected packages: whoosh, cchardet, syntok, langdetect, keras-self-attention, keras-position-wise-feed-forward, keras-pos-embd, keras-layer-normalization, keras-embed-sim, chardet, tika, keras-multi-head, keras-transformer, keras_bert, ktrain\n",
      "Successfully installed cchardet-2.1.7 chardet-5.1.0 keras-embed-sim-0.10.0 keras-layer-normalization-0.16.0 keras-multi-head-0.29.0 keras-pos-embd-0.13.0 keras-position-wise-feed-forward-0.8.0 keras-self-attention-0.51.0 keras-transformer-0.40.0 keras_bert-0.89.0 ktrain-0.37.0 langdetect-1.0.9 syntok-1.4.4 tika-2.6.0 whoosh-2.7.4\n",
      "\u001b[33mWARNING: Running pip as the 'root' user can result in broken permissions and conflicting behaviour with the system package manager. It is recommended to use a virtual environment instead: https://pip.pypa.io/warnings/venv\u001b[0m\u001b[33m\n",
      "\u001b[0m"
     ]
    }
   ],
   "source": [
    "!pip install ktrain"
   ]
  },
  {
   "cell_type": "code",
   "execution_count": null,
   "metadata": {
    "tags": []
   },
   "outputs": [
    {
     "name": "stdout",
     "output_type": "stream",
     "text": [
      "Ktrain Version: 0.37.0\n"
     ]
    }
   ],
   "source": [
    "import ktrain\n",
    "from ktrain import text as txt\n",
    "\n",
    "print('Ktrain Version: ' + ktrain.__version__)"
   ]
  },
  {
   "cell_type": "code",
   "execution_count": null,
   "metadata": {
    "tags": []
   },
   "outputs": [],
   "source": [
    "texts = df_filtered['clean_token'].tolist()"
   ]
  },
  {
   "cell_type": "markdown",
   "metadata": {
    "jp-MarkdownHeadingCollapsed": true,
    "tags": []
   },
   "source": [
    "#### 20 topics"
   ]
  },
  {
   "cell_type": "code",
   "execution_count": null,
   "metadata": {
    "tags": []
   },
   "outputs": [
    {
     "name": "stdout",
     "output_type": "stream",
     "text": [
      "lang: en\n",
      "preprocessing texts...\n",
      "fitting model...\n",
      "iteration: 1 of max_iter: 5\n",
      "iteration: 2 of max_iter: 5\n",
      "iteration: 3 of max_iter: 5\n",
      "iteration: 4 of max_iter: 5\n",
      "iteration: 5 of max_iter: 5\n",
      "done.\n"
     ]
    }
   ],
   "source": [
    "tm_20 = ktrain.text.get_topic_model(\n",
    "    texts=texts, \n",
    "    n_topics=20, \n",
    "    n_features=10000, \n",
    "    min_df=5, \n",
    "    max_df=0.5, \n",
    "    stop_words='english', \n",
    "    model_type='lda', \n",
    "    lda_max_iter=5, \n",
    "    verbose=1)"
   ]
  },
  {
   "cell_type": "code",
   "execution_count": null,
   "metadata": {
    "tags": []
   },
   "outputs": [
    {
     "name": "stdout",
     "output_type": "stream",
     "text": [
      "topic 0 | security news privacy military policy cyber cybersecurity threat comment attack\n",
      "topic 1 | model algorithm used use information using image process time result\n",
      "topic 2 | google customer content marketing product brand medium business search experience\n",
      "topic 3 | science research computer university learning scientist researcher course machine project\n",
      "topic 4 | image video game open best feature app apple window like\n",
      "topic 5 | energy oil europe gas solution european market patent launch service\n",
      "topic 6 | human like chatgpt student way work make time people language\n",
      "topic 7 | chatgpt microsoft openai said google user chatbot model search generative\n",
      "topic 8 | india news education live indian day world video said watch\n",
      "topic 9 | star look film say day reveals year black fan time\n",
      "topic 10 | patient health medical healthcare drug care cancer disease clinical medicine\n",
      "topic 11 | best car insurance credit vehicle card bank forbes paid real\n",
      "topic 12 | market report global analysis growth industry forecast research key player\n",
      "topic 13 | stock share dollar fund trade traded price btc investor investment\n",
      "topic 14 | machine learning chip service conversational supply development report global chain\n",
      "topic 15 | said china year state say city world child chinese police\n",
      "topic 16 | solution platform customer cloud edge application software service nvidia enterprise\n",
      "topic 17 | business industry help digital organization service solution development use innovation\n",
      "topic 18 | republic kingdom people philip state island crypto democratic territory united\n",
      "topic 19 | said people say like law right use human work bias\n"
     ]
    }
   ],
   "source": [
    "tm_20.print_topics()"
   ]
  },
  {
   "cell_type": "markdown",
   "metadata": {
    "jp-MarkdownHeadingCollapsed": true,
    "tags": []
   },
   "source": [
    "#### 30 topics"
   ]
  },
  {
   "cell_type": "code",
   "execution_count": null,
   "metadata": {
    "tags": []
   },
   "outputs": [
    {
     "name": "stdout",
     "output_type": "stream",
     "text": [
      "lang: en\n",
      "preprocessing texts...\n",
      "fitting model...\n",
      "iteration: 1 of max_iter: 5\n",
      "iteration: 2 of max_iter: 5\n",
      "iteration: 3 of max_iter: 5\n",
      "iteration: 4 of max_iter: 5\n",
      "iteration: 5 of max_iter: 5\n",
      "done.\n"
     ]
    }
   ],
   "source": [
    "tm_30 = ktrain.text.get_topic_model(\n",
    "    texts=texts, \n",
    "    n_topics=30, \n",
    "    n_features=10000, \n",
    "    min_df=5, \n",
    "    max_df=0.5, \n",
    "    stop_words='english', \n",
    "    model_type='lda', \n",
    "    lda_max_iter=5, \n",
    "    verbose=1)"
   ]
  },
  {
   "cell_type": "code",
   "execution_count": null,
   "metadata": {
    "tags": []
   },
   "outputs": [
    {
     "name": "stdout",
     "output_type": "stream",
     "text": [
      "topic 0 | security news cybersecurity cyber threat attack digital network policy privacy\n",
      "topic 1 | model algorithm used language training use using human process network\n",
      "topic 2 | image photo art artist create tool like video work app\n",
      "topic 3 | science research university course project scientist program student institute engineering\n",
      "topic 4 | game music world voice time year day player video like\n",
      "topic 5 | die solution philip und service crypto europe european launch business\n",
      "topic 6 | energy vehicle robot car autonomous driver driving gas oil tesla\n",
      "topic 7 | news content comment medium email post facebook social open user\n",
      "topic 8 | said state city say country year police president national military\n",
      "topic 9 | star reveals look daughter say black share husband year wife\n",
      "topic 10 | patient health healthcare medical care cancer drug clinical medicine hospital\n",
      "topic 11 | china year financial investment bank million billion investor chinese firm\n",
      "topic 12 | market report analysis global growth forecast industry research key trend\n",
      "topic 13 | share stock dollar traded trade fund btc nasdaq distribution price\n",
      "topic 14 | machine learning service conversational amazon deep big analytics mlaas infrastructure\n",
      "topic 15 | researcher study said research child protein university disease used cell\n",
      "topic 16 | platform solution service customer cloud enterprise business analytics capability today\n",
      "topic 17 | risk bias use organization development need potential issue decision ethical\n",
      "topic 18 | republic best insurance credit forbes kingdom card people paid car\n",
      "topic 19 | human like say people thing think make way said work\n",
      "topic 20 | india indian share video news live watch day read delhi\n",
      "topic 21 | edge chip nvidia device computing hardware computer vision application power\n",
      "topic 22 | education job student skill news talent hiring help candidate sector\n",
      "topic 23 | chatgpt openai chatbot tool text user said generative writing student\n",
      "topic 24 | market global growth industry expected america service automotive agriculture billion\n",
      "topic 25 | google microsoft search said bing bard tech engine openai model\n",
      "topic 26 | law said use privacy cooky government legal used website european\n",
      "topic 27 | best apple feature mobile game open app phone video review\n",
      "topic 28 | software market report global growth development analysis player business research\n",
      "topic 29 | business customer help experience product marketing time digital need service\n"
     ]
    }
   ],
   "source": [
    "tm_30.print_topics()"
   ]
  },
  {
   "cell_type": "markdown",
   "metadata": {
    "jp-MarkdownHeadingCollapsed": true,
    "tags": []
   },
   "source": [
    "#### 150 topics"
   ]
  },
  {
   "cell_type": "code",
   "execution_count": 31,
   "metadata": {},
   "outputs": [
    {
     "name": "stdout",
     "output_type": "stream",
     "text": [
      "lang: en\n",
      "preprocessing texts...\n",
      "fitting model...\n",
      "iteration: 1 of max_iter: 5\n",
      "iteration: 2 of max_iter: 5\n",
      "iteration: 3 of max_iter: 5\n",
      "iteration: 4 of max_iter: 5\n",
      "iteration: 5 of max_iter: 5\n",
      "done.\n"
     ]
    }
   ],
   "source": [
    "tm_150 = ktrain.text.get_topic_model(\n",
    "    texts=texts, \n",
    "    n_topics=150, \n",
    "    n_features=10000, \n",
    "    min_df=5, \n",
    "    max_df=0.5, \n",
    "    stop_words='english', \n",
    "    model_type='lda', \n",
    "    lda_max_iter=5, \n",
    "    verbose=1)"
   ]
  },
  {
   "cell_type": "code",
   "execution_count": 32,
   "metadata": {},
   "outputs": [
    {
     "name": "stdout",
     "output_type": "stream",
     "text": [
      "topic 0 | oil gas price market say stock min inflation rate bank\n",
      "topic 1 | patient health healthcare medical care hospital clinical imaging disease treatment\n",
      "topic 2 | google said tech year giant alphabet according week pichai ceo\n",
      "topic 3 | center contact agent var customer node research request communication field\n",
      "topic 4 | research project engineering community team said work join access building\n",
      "topic 5 | updated hour minute prnewsfoto skip news today announced logo weather\n",
      "topic 6 | cancer breast lunit study screening tissue patient lung clinical image\n",
      "topic 7 | light eye noise radio station motion zoom mode cool room\n",
      "topic 8 | camera sensor design module application power product embedded control kit\n",
      "topic 9 | scott daniel club allen hill suicide thomas colorado delta brown\n",
      "topic 10 | city traffic transportation road urban location transport map forest download\n",
      "topic 11 | canada canadian toronto ontario assange donor say montreal urine bell\n",
      "topic 12 | artificial market report analysis global industry research growth player forecast\n",
      "topic 13 | game player gaming play score yahoo expert sony nba team\n",
      "topic 14 | japan targeting formula dna tokyo mesh webinar frequency contextual edgecortix\n",
      "topic 15 | award heart wearable skin blood beauty ultrasound winner year organ\n",
      "topic 16 | dollar traded trade btc exchange matrix network bitcoin using higher\n",
      "topic 17 | year billion million investment revenue market growth business investor financial\n",
      "topic 18 | gold gpt hole silver drill meter vein zone result sample\n",
      "topic 19 | reveals look star dress daughter black share say husband kardashian\n",
      "topic 20 | question view answer author opinion book fact general source knowledge\n",
      "topic 21 | drug discovery medicine pharmaceutical development trial clinical disease therapeutic wordpress\n",
      "topic 22 | content try ein presswire news editor use false welcome client\n",
      "topic 23 | restaurant order super hearing bowl guest mitchell talk kitchen food\n",
      "topic 24 | use make tool need used way potential example help like\n",
      "topic 25 | student education school university teacher college learning skill professor class\n",
      "topic 26 | device edge smart iot internet thing hardware chipsets chipset home\n",
      "topic 27 | dog animal bag bird recipe pet travel food vega ingredient\n",
      "topic 28 | coronavirus pandemic covid virus outbreak lockdown case crisis infection disease\n",
      "topic 29 | alert today log sign feb photo mar tak commentary swiss\n",
      "topic 30 | service big amazon provider citizen consulting web business offer client\n",
      "topic 31 | said state police say man official jones county department florida\n",
      "topic 32 | share stock nasdaq price nyse llc quarter etf average trading\n",
      "topic 33 | james smith lee ben tom david adam michael robert ryan\n",
      "topic 34 | die und sie der ist von nicht auf stoxx den\n",
      "topic 35 | conversational energy electric power solar battery renewable grid vehicle green\n",
      "topic 36 | cloud robot robotics ibm automation robotic sap oracle hybrid vacuum\n",
      "topic 37 | privacy personal protection user information italian policy authority italy concern\n",
      "topic 38 | news article story latest daily read newsletter inbox policy content\n",
      "topic 39 | chief officer executive president vice virginia director senior texas head\n",
      "topic 40 | risk use ethical responsible ensure framework need issue ethic governance\n",
      "topic 41 | stadium west olympics winter animation summer opening game olympic bird\n",
      "topic 42 | distribution fund return fiscal capital income nav total current tax\n",
      "topic 43 | human artificial machine task world computer emotion robot future brain\n",
      "topic 44 | sport day team league win season football home cup fan\n",
      "topic 45 | agreement climate february carbon emission january change acquisition transaction merger\n",
      "topic 46 | learning machine deep processing infrastructure operationalization algorithm advanced amazon databricks\n",
      "topic 47 | temperature heat dental uber atlas bmw cooling oral liquid heating\n",
      "topic 48 | tool content user code developer use platform create help api\n",
      "topic 49 | manufacturing industrial equipment maintenance repair inspection operation production predictive mlaas\n",
      "topic 50 | apple pro iphone phone samsung galaxy google review android feature\n",
      "topic 51 | john paul michael peter martin tampa sydney robert upper han\n",
      "topic 52 | law legal court patent case copyright lawyer lawsuit firm right\n",
      "topic 53 | software market global development cleaning skill business usa segmentation industry\n",
      "topic 54 | exhibit optical diego van laser scanner museum night cable painting\n",
      "topic 55 | republic kingdom people state democratic territory arab island email united\n",
      "topic 56 | russia world ukraine russian minister say country war israel international\n",
      "topic 57 | blockchain metaverse paper black gebru research fired tech email list\n",
      "topic 58 | people day year body camera life photo time like memory\n",
      "topic 59 | open tab site best link earn affiliate receive commission future\n",
      "topic 60 | medical catheter device market surgical bard vascular stent urinary johnson\n",
      "topic 61 | chatgpt chatbot openai bot tool said question response chatbots text\n",
      "topic 62 | word post conversation human researcher lamda people text like language\n",
      "topic 63 | computer vision healthcare product visual deep application network dilation teledyne\n",
      "topic 64 | say bias people algorithm woman gender black used study race\n",
      "topic 65 | management globe inventory sloan managing publishes consultant lifecycle wafer condition\n",
      "topic 66 | mobile best amazon tech home smart phone tablet podcasts work\n",
      "topic 67 | europe market launch european solution study service platform website world\n",
      "topic 68 | child family baby parent los county mental tool angeles adult\n",
      "topic 69 | energy fashion news utility important environment environmental fuel previous contributor\n",
      "topic 70 | startup venture million capital funding investor round investment partner ceo\n",
      "topic 71 | said employee time percent work help store customer worker according\n",
      "topic 72 | san francisco david morgan antonio moore miller wilson stanley jay\n",
      "topic 73 | image photo create generate prompt text used synthetic generator stable\n",
      "topic 74 | event conference virtual world meeting industry summit session year annual\n",
      "topic 75 | musk tesla openai elon letter twitter altman said ceo pause\n",
      "topic 76 | result search test detection algorithm automatically change testing type field\n",
      "topic 77 | job hiring candidate skill worker talent employer tool employee recruitment\n",
      "topic 78 | river charles neuromorphic analytic adfox brainchip rad enroute aitx iwave\n",
      "topic 79 | financial cent fraud organisation australia centre transaction australian money institution\n",
      "topic 80 | india indian stone read tata iit delhi premium programme crore\n",
      "topic 81 | survey banking corporate talent organization report respondent red leader bridge\n",
      "topic 82 | group online registered sun limited london newspaper time trademark press\n",
      "topic 83 | market growth expected global usd period america forecast cagr research\n",
      "topic 84 | port announces powered support slot del interface pcie usb dual\n",
      "topic 85 | crypto investment defi cryptocurrency token nfts alternative buy real good\n",
      "topic 86 | security cybersecurity cyber threat attack network secure detection organization risk\n",
      "topic 87 | art artist creative work design medium style digital creativity painting\n",
      "topic 88 | contract fintech payment taiwan legaltech industry collection commercial extraction iii\n",
      "topic 89 | space satellite nasa earth program rocket moon say spacex launch\n",
      "topic 90 | feature user access available free offer option app subscription update\n",
      "topic 91 | july baidu alibaba ernie tencent datarobot snowflake search artificial yuan\n",
      "topic 92 | document marketplace international record seller world evaluation ops area main\n",
      "topic 93 | researcher study research university protein cell team using used method\n",
      "topic 94 | video comment email visual address field notify published marked required\n",
      "topic 95 | research analysis report market client strategy study provides impact information\n",
      "topic 96 | market report global analysis key player growth research industry product\n",
      "topic 97 | course starfilled para busco filled helpful salud signify specialization starby\n",
      "topic 98 | azure mining metal javascript lake dynamic announces target golden cannabis\n",
      "topic 99 | facebook meta instagram post subscriber mark zuckerberg content social peak\n",
      "topic 100 | science platform scientist university institute program field engineering degree professor\n",
      "topic 101 | news telecom policy market trading fund privacy finance digital investment\n",
      "topic 102 | food material construction water plant waste chemical plastic disaster packaging\n",
      "topic 103 | like say thing people make think time know way want\n",
      "topic 104 | voice assistant speech audio speaker alexa virtual digital siri recording\n",
      "topic 105 | window open share click twitter linkedin facebook print crop reddit\n",
      "topic 106 | best forbes program paid real travel car estate brandvoice investing\n",
      "topic 107 | interview magazine family perimeter schumacher german cover french epidemic gaudi\n",
      "topic 108 | sale revenue global application production type product share price chapter\n",
      "topic 109 | index average avatar chart moving prisma marketing volume star lensa\n",
      "topic 110 | south africa korea east america country germany europe middle united\n",
      "topic 111 | credit insurance card loan claim life reward risk cardsbest auto\n",
      "topic 112 | report growth global market section research development various crucial player\n",
      "topic 113 | platform solution enterprise customer capability application said product leading today\n",
      "topic 114 | film movie series star character play netflix actor studio story\n",
      "topic 115 | government said european right state artificial union agency federal rule\n",
      "topic 116 | supply chain quantum logistics impact demand industry computing health supplier\n",
      "topic 117 | network computing hardware processing neural performance processor storage application power\n",
      "topic 118 | china chinese beijing hong kong huawei artist weiwei world shanghai\n",
      "topic 119 | music song artist podcast npr said spotify like label sound\n",
      "topic 120 | writing writer written pitch seattle techrepublic grammar help novelty creative\n",
      "topic 121 | website cooky use site cookie used user experience consent set\n",
      "topic 122 | india news delhi indian flight case story say air modi\n",
      "topic 123 | global digital sector innovation development artificial industry agriculture world government\n",
      "topic 124 | trump american biden president election house vote joe donald political\n",
      "topic 125 | model training algorithm set trained used train learning large prediction\n",
      "topic 126 | car vehicle driver automotive driving autonomous motor safety ford truck\n",
      "topic 127 | chip nvidia intel gpu server semiconductor gpus amd computing qualcomm\n",
      "topic 128 | aws reality process dell veteran internal alto procurement experience category\n",
      "topic 129 | military defense air drone force aviation weapon artificial aircraft pilot\n",
      "topic 130 | wind shall hotel rain mph church freedom high low free\n",
      "topic 131 | day love star fan woman life man make son friend\n",
      "topic 132 | microsoft search bing bard engine openai user google chatbot said\n",
      "topic 133 | post comment news inappropriate term valley reading lehigh county removed\n",
      "topic 134 | watch live video day pakistan online khan update know pic\n",
      "topic 135 | business analytics process organization help insight team need experience strategy\n",
      "topic 136 | customer experience marketing product brand digital business consumer sale help\n",
      "topic 137 | recognition facial face clearview surveillance use enforcement law used privacy\n",
      "topic 138 | bank share communication finance nuance express ifsc overseas petroleum zeroeyes\n",
      "topic 139 | app generative user apps indicates person head insider way icon\n",
      "topic 140 | march board member director leader group review leadership committee advisory\n",
      "topic 141 | language natural text processing model microsoft word large translation llm\n",
      "topic 142 | email account sign profile link site notification comment page website\n",
      "topic 143 | cognitive business examination investigation worldwide significant element organization development information\n",
      "topic 144 | market forecast growth analysis trend industry global report size key\n",
      "topic 145 | information statement result including date provide security release term unit\n",
      "topic 146 | medium social fake tiktok online video platform misinformation deepfake filter\n",
      "topic 147 | weather ship ocean sea vessel balloon carrier ice shipping coast\n",
      "topic 148 | philip care island product solution support service glass contact specialty\n",
      "topic 149 | stock symbol add fool buy portfolio opinion market view motley\n"
     ]
    }
   ],
   "source": [
    "tm_150.print_topics()"
   ]
  },
  {
   "cell_type": "markdown",
   "metadata": {
    "jp-MarkdownHeadingCollapsed": true,
    "tags": []
   },
   "source": [
    "#### Label Useful Results and Save to Local"
   ]
  },
  {
   "cell_type": "code",
   "execution_count": null,
   "metadata": {},
   "outputs": [],
   "source": [
    "import numpy as np\n",
    "\n",
    "topic_probabilities = tm_20.predict(texts)\n",
    "topic_ids = np.argmax(topic_probabilities, axis=1)\n",
    "df_filtered['ktrain_20_topic_id'] = topic_ids"
   ]
  },
  {
   "cell_type": "code",
   "execution_count": null,
   "metadata": {},
   "outputs": [],
   "source": [
    "topic_mapping = {0: \"finance\", \n",
    "                 3: \"healthcare\", \n",
    "                 4: \"education\", \n",
    "                 5: \"media\", \n",
    "                 10: \"automative\", \n",
    "                 14: \"entertainment\", \n",
    "                 19: \"company_technology\"}\n",
    "\n",
    "df_filtered['ktrain_topic'] = df_filtered['ktrain_20_topic_id'].map(topic_mapping).fillna(\"Others\")"
   ]
  },
  {
   "cell_type": "markdown",
   "metadata": {
    "jp-MarkdownHeadingCollapsed": true,
    "tags": []
   },
   "source": [
    "## BERTopic"
   ]
  },
  {
   "cell_type": "code",
   "execution_count": 14,
   "metadata": {
    "tags": []
   },
   "outputs": [],
   "source": [
    "# !pip install bertopic"
   ]
  },
  {
   "cell_type": "code",
   "execution_count": 22,
   "metadata": {
    "tags": []
   },
   "outputs": [],
   "source": [
    "# !pip install --upgrade transformers"
   ]
  },
  {
   "cell_type": "code",
   "execution_count": 17,
   "metadata": {
    "tags": []
   },
   "outputs": [],
   "source": [
    "# !pip install --upgrade transformers bertopic accelerate"
   ]
  },
  {
   "cell_type": "code",
   "execution_count": 25,
   "metadata": {
    "tags": []
   },
   "outputs": [],
   "source": [
    "# !pip install --upgrade bertopic transformers accelerate"
   ]
  },
  {
   "cell_type": "code",
   "execution_count": 26,
   "metadata": {
    "tags": []
   },
   "outputs": [
    {
     "ename": "RuntimeError",
     "evalue": "Failed to import transformers.pipelines because of the following error (look up to see its traceback):\ncannot import name 'PartialState' from 'accelerate' (/opt/conda/lib/python3.10/site-packages/accelerate/__init__.py)",
     "output_type": "error",
     "traceback": [
      "\u001b[0;31m---------------------------------------------------------------------------\u001b[0m",
      "\u001b[0;31mImportError\u001b[0m                               Traceback (most recent call last)",
      "File \u001b[0;32m/opt/conda/lib/python3.10/site-packages/transformers/utils/import_utils.py:1172\u001b[0m, in \u001b[0;36m_LazyModule._get_module\u001b[0;34m(self, module_name)\u001b[0m\n\u001b[1;32m   1171\u001b[0m \u001b[38;5;28;01mtry\u001b[39;00m:\n\u001b[0;32m-> 1172\u001b[0m     \u001b[38;5;28;01mreturn\u001b[39;00m \u001b[43mimportlib\u001b[49m\u001b[38;5;241;43m.\u001b[39;49m\u001b[43mimport_module\u001b[49m\u001b[43m(\u001b[49m\u001b[38;5;124;43m\"\u001b[39;49m\u001b[38;5;124;43m.\u001b[39;49m\u001b[38;5;124;43m\"\u001b[39;49m\u001b[43m \u001b[49m\u001b[38;5;241;43m+\u001b[39;49m\u001b[43m \u001b[49m\u001b[43mmodule_name\u001b[49m\u001b[43m,\u001b[49m\u001b[43m \u001b[49m\u001b[38;5;28;43mself\u001b[39;49m\u001b[38;5;241;43m.\u001b[39;49m\u001b[38;5;18;43m__name__\u001b[39;49m\u001b[43m)\u001b[49m\n\u001b[1;32m   1173\u001b[0m \u001b[38;5;28;01mexcept\u001b[39;00m \u001b[38;5;167;01mException\u001b[39;00m \u001b[38;5;28;01mas\u001b[39;00m e:\n",
      "File \u001b[0;32m/opt/conda/lib/python3.10/importlib/__init__.py:126\u001b[0m, in \u001b[0;36mimport_module\u001b[0;34m(name, package)\u001b[0m\n\u001b[1;32m    125\u001b[0m         level \u001b[38;5;241m+\u001b[39m\u001b[38;5;241m=\u001b[39m \u001b[38;5;241m1\u001b[39m\n\u001b[0;32m--> 126\u001b[0m \u001b[38;5;28;01mreturn\u001b[39;00m \u001b[43m_bootstrap\u001b[49m\u001b[38;5;241;43m.\u001b[39;49m\u001b[43m_gcd_import\u001b[49m\u001b[43m(\u001b[49m\u001b[43mname\u001b[49m\u001b[43m[\u001b[49m\u001b[43mlevel\u001b[49m\u001b[43m:\u001b[49m\u001b[43m]\u001b[49m\u001b[43m,\u001b[49m\u001b[43m \u001b[49m\u001b[43mpackage\u001b[49m\u001b[43m,\u001b[49m\u001b[43m \u001b[49m\u001b[43mlevel\u001b[49m\u001b[43m)\u001b[49m\n",
      "File \u001b[0;32m<frozen importlib._bootstrap>:1050\u001b[0m, in \u001b[0;36m_gcd_import\u001b[0;34m(name, package, level)\u001b[0m\n",
      "File \u001b[0;32m<frozen importlib._bootstrap>:1027\u001b[0m, in \u001b[0;36m_find_and_load\u001b[0;34m(name, import_)\u001b[0m\n",
      "File \u001b[0;32m<frozen importlib._bootstrap>:1006\u001b[0m, in \u001b[0;36m_find_and_load_unlocked\u001b[0;34m(name, import_)\u001b[0m\n",
      "File \u001b[0;32m<frozen importlib._bootstrap>:688\u001b[0m, in \u001b[0;36m_load_unlocked\u001b[0;34m(spec)\u001b[0m\n",
      "File \u001b[0;32m<frozen importlib._bootstrap_external>:883\u001b[0m, in \u001b[0;36mexec_module\u001b[0;34m(self, module)\u001b[0m\n",
      "File \u001b[0;32m<frozen importlib._bootstrap>:241\u001b[0m, in \u001b[0;36m_call_with_frames_removed\u001b[0;34m(f, *args, **kwds)\u001b[0m\n",
      "File \u001b[0;32m/opt/conda/lib/python3.10/site-packages/transformers/pipelines/__init__.py:44\u001b[0m\n\u001b[1;32m     35\u001b[0m \u001b[38;5;28;01mfrom\u001b[39;00m \u001b[38;5;21;01m.\u001b[39;00m\u001b[38;5;21;01m.\u001b[39;00m\u001b[38;5;21;01mutils\u001b[39;00m \u001b[38;5;28;01mimport\u001b[39;00m (\n\u001b[1;32m     36\u001b[0m     HUGGINGFACE_CO_RESOLVE_ENDPOINT,\n\u001b[1;32m     37\u001b[0m     is_kenlm_available,\n\u001b[0;32m   (...)\u001b[0m\n\u001b[1;32m     42\u001b[0m     logging,\n\u001b[1;32m     43\u001b[0m )\n\u001b[0;32m---> 44\u001b[0m \u001b[38;5;28;01mfrom\u001b[39;00m \u001b[38;5;21;01m.\u001b[39;00m\u001b[38;5;21;01maudio_classification\u001b[39;00m \u001b[38;5;28;01mimport\u001b[39;00m AudioClassificationPipeline\n\u001b[1;32m     45\u001b[0m \u001b[38;5;28;01mfrom\u001b[39;00m \u001b[38;5;21;01m.\u001b[39;00m\u001b[38;5;21;01mautomatic_speech_recognition\u001b[39;00m \u001b[38;5;28;01mimport\u001b[39;00m AutomaticSpeechRecognitionPipeline\n",
      "File \u001b[0;32m/opt/conda/lib/python3.10/site-packages/transformers/pipelines/audio_classification.py:21\u001b[0m\n\u001b[1;32m     20\u001b[0m \u001b[38;5;28;01mfrom\u001b[39;00m \u001b[38;5;21;01m.\u001b[39;00m\u001b[38;5;21;01m.\u001b[39;00m\u001b[38;5;21;01mutils\u001b[39;00m \u001b[38;5;28;01mimport\u001b[39;00m add_end_docstrings, is_torch_available, logging\n\u001b[0;32m---> 21\u001b[0m \u001b[38;5;28;01mfrom\u001b[39;00m \u001b[38;5;21;01m.\u001b[39;00m\u001b[38;5;21;01mbase\u001b[39;00m \u001b[38;5;28;01mimport\u001b[39;00m PIPELINE_INIT_ARGS, Pipeline\n\u001b[1;32m     24\u001b[0m \u001b[38;5;28;01mif\u001b[39;00m is_torch_available():\n",
      "File \u001b[0;32m/opt/conda/lib/python3.10/site-packages/transformers/pipelines/base.py:36\u001b[0m\n\u001b[1;32m     35\u001b[0m \u001b[38;5;28;01mfrom\u001b[39;00m \u001b[38;5;21;01m.\u001b[39;00m\u001b[38;5;21;01m.\u001b[39;00m\u001b[38;5;21;01mimage_processing_utils\u001b[39;00m \u001b[38;5;28;01mimport\u001b[39;00m BaseImageProcessor\n\u001b[0;32m---> 36\u001b[0m \u001b[38;5;28;01mfrom\u001b[39;00m \u001b[38;5;21;01m.\u001b[39;00m\u001b[38;5;21;01m.\u001b[39;00m\u001b[38;5;21;01mmodelcard\u001b[39;00m \u001b[38;5;28;01mimport\u001b[39;00m ModelCard\n\u001b[1;32m     37\u001b[0m \u001b[38;5;28;01mfrom\u001b[39;00m \u001b[38;5;21;01m.\u001b[39;00m\u001b[38;5;21;01m.\u001b[39;00m\u001b[38;5;21;01mmodels\u001b[39;00m\u001b[38;5;21;01m.\u001b[39;00m\u001b[38;5;21;01mauto\u001b[39;00m\u001b[38;5;21;01m.\u001b[39;00m\u001b[38;5;21;01mconfiguration_auto\u001b[39;00m \u001b[38;5;28;01mimport\u001b[39;00m AutoConfig\n",
      "File \u001b[0;32m/opt/conda/lib/python3.10/site-packages/transformers/modelcard.py:48\u001b[0m\n\u001b[1;32m     32\u001b[0m \u001b[38;5;28;01mfrom\u001b[39;00m \u001b[38;5;21;01m.\u001b[39;00m\u001b[38;5;21;01mmodels\u001b[39;00m\u001b[38;5;21;01m.\u001b[39;00m\u001b[38;5;21;01mauto\u001b[39;00m\u001b[38;5;21;01m.\u001b[39;00m\u001b[38;5;21;01mmodeling_auto\u001b[39;00m \u001b[38;5;28;01mimport\u001b[39;00m (\n\u001b[1;32m     33\u001b[0m     MODEL_FOR_AUDIO_CLASSIFICATION_MAPPING_NAMES,\n\u001b[1;32m     34\u001b[0m     MODEL_FOR_CAUSAL_LM_MAPPING_NAMES,\n\u001b[0;32m   (...)\u001b[0m\n\u001b[1;32m     46\u001b[0m     MODEL_FOR_ZERO_SHOT_IMAGE_CLASSIFICATION_MAPPING_NAMES,\n\u001b[1;32m     47\u001b[0m )\n\u001b[0;32m---> 48\u001b[0m \u001b[38;5;28;01mfrom\u001b[39;00m \u001b[38;5;21;01m.\u001b[39;00m\u001b[38;5;21;01mtraining_args\u001b[39;00m \u001b[38;5;28;01mimport\u001b[39;00m ParallelMode\n\u001b[1;32m     49\u001b[0m \u001b[38;5;28;01mfrom\u001b[39;00m \u001b[38;5;21;01m.\u001b[39;00m\u001b[38;5;21;01mutils\u001b[39;00m \u001b[38;5;28;01mimport\u001b[39;00m (\n\u001b[1;32m     50\u001b[0m     MODEL_CARD_NAME,\n\u001b[1;32m     51\u001b[0m     cached_file,\n\u001b[0;32m   (...)\u001b[0m\n\u001b[1;32m     57\u001b[0m     logging,\n\u001b[1;32m     58\u001b[0m )\n",
      "File \u001b[0;32m/opt/conda/lib/python3.10/site-packages/transformers/training_args.py:67\u001b[0m\n\u001b[1;32m     66\u001b[0m \u001b[38;5;28;01mif\u001b[39;00m is_accelerate_available():\n\u001b[0;32m---> 67\u001b[0m     \u001b[38;5;28;01mfrom\u001b[39;00m \u001b[38;5;21;01maccelerate\u001b[39;00m \u001b[38;5;28;01mimport\u001b[39;00m PartialState\n\u001b[1;32m     68\u001b[0m     \u001b[38;5;28;01mfrom\u001b[39;00m \u001b[38;5;21;01maccelerate\u001b[39;00m\u001b[38;5;21;01m.\u001b[39;00m\u001b[38;5;21;01mutils\u001b[39;00m \u001b[38;5;28;01mimport\u001b[39;00m DistributedType\n",
      "\u001b[0;31mImportError\u001b[0m: cannot import name 'PartialState' from 'accelerate' (/opt/conda/lib/python3.10/site-packages/accelerate/__init__.py)",
      "\nThe above exception was the direct cause of the following exception:\n",
      "\u001b[0;31mRuntimeError\u001b[0m                              Traceback (most recent call last)",
      "Cell \u001b[0;32mIn[26], line 1\u001b[0m\n\u001b[0;32m----> 1\u001b[0m \u001b[38;5;28;01mfrom\u001b[39;00m \u001b[38;5;21;01mbertopic\u001b[39;00m \u001b[38;5;28;01mimport\u001b[39;00m BERTopic\n\u001b[1;32m      2\u001b[0m \u001b[38;5;66;03m# from sentence_transformers import SentenceTransformer\u001b[39;00m\n",
      "File \u001b[0;32m/opt/conda/lib/python3.10/site-packages/bertopic/__init__.py:1\u001b[0m\n\u001b[0;32m----> 1\u001b[0m \u001b[38;5;28;01mfrom\u001b[39;00m \u001b[38;5;21;01mbertopic\u001b[39;00m\u001b[38;5;21;01m.\u001b[39;00m\u001b[38;5;21;01m_bertopic\u001b[39;00m \u001b[38;5;28;01mimport\u001b[39;00m BERTopic\n\u001b[1;32m      3\u001b[0m __version__ \u001b[38;5;241m=\u001b[39m \u001b[38;5;124m\"\u001b[39m\u001b[38;5;124m0.14.1\u001b[39m\u001b[38;5;124m\"\u001b[39m\n\u001b[1;32m      5\u001b[0m __all__ \u001b[38;5;241m=\u001b[39m [\n\u001b[1;32m      6\u001b[0m     \u001b[38;5;124m\"\u001b[39m\u001b[38;5;124mBERTopic\u001b[39m\u001b[38;5;124m\"\u001b[39m,\n\u001b[1;32m      7\u001b[0m ]\n",
      "File \u001b[0;32m/opt/conda/lib/python3.10/site-packages/bertopic/_bertopic.py:38\u001b[0m\n\u001b[1;32m     36\u001b[0m \u001b[38;5;28;01mfrom\u001b[39;00m \u001b[38;5;21;01mbertopic\u001b[39;00m\u001b[38;5;21;01m.\u001b[39;00m\u001b[38;5;21;01mbackend\u001b[39;00m \u001b[38;5;28;01mimport\u001b[39;00m BaseEmbedder\n\u001b[1;32m     37\u001b[0m \u001b[38;5;28;01mfrom\u001b[39;00m \u001b[38;5;21;01mbertopic\u001b[39;00m\u001b[38;5;21;01m.\u001b[39;00m\u001b[38;5;21;01mbackend\u001b[39;00m\u001b[38;5;21;01m.\u001b[39;00m\u001b[38;5;21;01m_utils\u001b[39;00m \u001b[38;5;28;01mimport\u001b[39;00m select_backend\n\u001b[0;32m---> 38\u001b[0m \u001b[38;5;28;01mfrom\u001b[39;00m \u001b[38;5;21;01mbertopic\u001b[39;00m\u001b[38;5;21;01m.\u001b[39;00m\u001b[38;5;21;01mrepresentation\u001b[39;00m \u001b[38;5;28;01mimport\u001b[39;00m BaseRepresentation\n\u001b[1;32m     39\u001b[0m \u001b[38;5;28;01mfrom\u001b[39;00m \u001b[38;5;21;01mbertopic\u001b[39;00m\u001b[38;5;21;01m.\u001b[39;00m\u001b[38;5;21;01mcluster\u001b[39;00m\u001b[38;5;21;01m.\u001b[39;00m\u001b[38;5;21;01m_utils\u001b[39;00m \u001b[38;5;28;01mimport\u001b[39;00m hdbscan_delegator, is_supported_hdbscan\n\u001b[1;32m     40\u001b[0m \u001b[38;5;28;01mfrom\u001b[39;00m \u001b[38;5;21;01mbertopic\u001b[39;00m\u001b[38;5;21;01m.\u001b[39;00m\u001b[38;5;21;01m_utils\u001b[39;00m \u001b[38;5;28;01mimport\u001b[39;00m MyLogger, check_documents_type, check_embeddings_shape, check_is_fitted\n",
      "File \u001b[0;32m/opt/conda/lib/python3.10/site-packages/bertopic/representation/__init__.py:9\u001b[0m\n\u001b[1;32m      7\u001b[0m \u001b[38;5;66;03m# Text Generation using transformers\u001b[39;00m\n\u001b[1;32m      8\u001b[0m \u001b[38;5;28;01mtry\u001b[39;00m:\n\u001b[0;32m----> 9\u001b[0m     \u001b[38;5;28;01mfrom\u001b[39;00m \u001b[38;5;21;01mbertopic\u001b[39;00m\u001b[38;5;21;01m.\u001b[39;00m\u001b[38;5;21;01mrepresentation\u001b[39;00m\u001b[38;5;21;01m.\u001b[39;00m\u001b[38;5;21;01m_textgeneration\u001b[39;00m \u001b[38;5;28;01mimport\u001b[39;00m TextGeneration\n\u001b[1;32m     10\u001b[0m \u001b[38;5;28;01mexcept\u001b[39;00m \u001b[38;5;167;01mModuleNotFoundError\u001b[39;00m:\n\u001b[1;32m     11\u001b[0m     msg \u001b[38;5;241m=\u001b[39m \u001b[38;5;124m\"\u001b[39m\u001b[38;5;124m`pip install bertopic` without `--no-deps` \u001b[39m\u001b[38;5;130;01m\\n\u001b[39;00m\u001b[38;5;130;01m\\n\u001b[39;00m\u001b[38;5;124m\"\u001b[39m\n",
      "File \u001b[0;32m/opt/conda/lib/python3.10/site-packages/bertopic/representation/_textgeneration.py:4\u001b[0m\n\u001b[1;32m      2\u001b[0m \u001b[38;5;28;01mfrom\u001b[39;00m \u001b[38;5;21;01mtqdm\u001b[39;00m \u001b[38;5;28;01mimport\u001b[39;00m tqdm\n\u001b[1;32m      3\u001b[0m \u001b[38;5;28;01mfrom\u001b[39;00m \u001b[38;5;21;01mscipy\u001b[39;00m\u001b[38;5;21;01m.\u001b[39;00m\u001b[38;5;21;01msparse\u001b[39;00m \u001b[38;5;28;01mimport\u001b[39;00m csr_matrix\n\u001b[0;32m----> 4\u001b[0m \u001b[38;5;28;01mfrom\u001b[39;00m \u001b[38;5;21;01mtransformers\u001b[39;00m \u001b[38;5;28;01mimport\u001b[39;00m pipeline, set_seed\n\u001b[1;32m      5\u001b[0m \u001b[38;5;28;01mfrom\u001b[39;00m \u001b[38;5;21;01mtransformers\u001b[39;00m\u001b[38;5;21;01m.\u001b[39;00m\u001b[38;5;21;01mpipelines\u001b[39;00m\u001b[38;5;21;01m.\u001b[39;00m\u001b[38;5;21;01mbase\u001b[39;00m \u001b[38;5;28;01mimport\u001b[39;00m Pipeline\n\u001b[1;32m      6\u001b[0m \u001b[38;5;28;01mfrom\u001b[39;00m \u001b[38;5;21;01mtyping\u001b[39;00m \u001b[38;5;28;01mimport\u001b[39;00m Mapping, List, Tuple, Any, Union\n",
      "File \u001b[0;32m<frozen importlib._bootstrap>:1075\u001b[0m, in \u001b[0;36m_handle_fromlist\u001b[0;34m(module, fromlist, import_, recursive)\u001b[0m\n",
      "File \u001b[0;32m/opt/conda/lib/python3.10/site-packages/transformers/utils/import_utils.py:1162\u001b[0m, in \u001b[0;36m_LazyModule.__getattr__\u001b[0;34m(self, name)\u001b[0m\n\u001b[1;32m   1160\u001b[0m     value \u001b[38;5;241m=\u001b[39m \u001b[38;5;28mself\u001b[39m\u001b[38;5;241m.\u001b[39m_get_module(name)\n\u001b[1;32m   1161\u001b[0m \u001b[38;5;28;01melif\u001b[39;00m name \u001b[38;5;129;01min\u001b[39;00m \u001b[38;5;28mself\u001b[39m\u001b[38;5;241m.\u001b[39m_class_to_module\u001b[38;5;241m.\u001b[39mkeys():\n\u001b[0;32m-> 1162\u001b[0m     module \u001b[38;5;241m=\u001b[39m \u001b[38;5;28;43mself\u001b[39;49m\u001b[38;5;241;43m.\u001b[39;49m\u001b[43m_get_module\u001b[49m\u001b[43m(\u001b[49m\u001b[38;5;28;43mself\u001b[39;49m\u001b[38;5;241;43m.\u001b[39;49m\u001b[43m_class_to_module\u001b[49m\u001b[43m[\u001b[49m\u001b[43mname\u001b[49m\u001b[43m]\u001b[49m\u001b[43m)\u001b[49m\n\u001b[1;32m   1163\u001b[0m     value \u001b[38;5;241m=\u001b[39m \u001b[38;5;28mgetattr\u001b[39m(module, name)\n\u001b[1;32m   1164\u001b[0m \u001b[38;5;28;01melse\u001b[39;00m:\n",
      "File \u001b[0;32m/opt/conda/lib/python3.10/site-packages/transformers/utils/import_utils.py:1174\u001b[0m, in \u001b[0;36m_LazyModule._get_module\u001b[0;34m(self, module_name)\u001b[0m\n\u001b[1;32m   1172\u001b[0m     \u001b[38;5;28;01mreturn\u001b[39;00m importlib\u001b[38;5;241m.\u001b[39mimport_module(\u001b[38;5;124m\"\u001b[39m\u001b[38;5;124m.\u001b[39m\u001b[38;5;124m\"\u001b[39m \u001b[38;5;241m+\u001b[39m module_name, \u001b[38;5;28mself\u001b[39m\u001b[38;5;241m.\u001b[39m\u001b[38;5;18m__name__\u001b[39m)\n\u001b[1;32m   1173\u001b[0m \u001b[38;5;28;01mexcept\u001b[39;00m \u001b[38;5;167;01mException\u001b[39;00m \u001b[38;5;28;01mas\u001b[39;00m e:\n\u001b[0;32m-> 1174\u001b[0m     \u001b[38;5;28;01mraise\u001b[39;00m \u001b[38;5;167;01mRuntimeError\u001b[39;00m(\n\u001b[1;32m   1175\u001b[0m         \u001b[38;5;124mf\u001b[39m\u001b[38;5;124m\"\u001b[39m\u001b[38;5;124mFailed to import \u001b[39m\u001b[38;5;132;01m{\u001b[39;00m\u001b[38;5;28mself\u001b[39m\u001b[38;5;241m.\u001b[39m\u001b[38;5;18m__name__\u001b[39m\u001b[38;5;132;01m}\u001b[39;00m\u001b[38;5;124m.\u001b[39m\u001b[38;5;132;01m{\u001b[39;00mmodule_name\u001b[38;5;132;01m}\u001b[39;00m\u001b[38;5;124m because of the following error (look up to see its\u001b[39m\u001b[38;5;124m\"\u001b[39m\n\u001b[1;32m   1176\u001b[0m         \u001b[38;5;124mf\u001b[39m\u001b[38;5;124m\"\u001b[39m\u001b[38;5;124m traceback):\u001b[39m\u001b[38;5;130;01m\\n\u001b[39;00m\u001b[38;5;132;01m{\u001b[39;00me\u001b[38;5;132;01m}\u001b[39;00m\u001b[38;5;124m\"\u001b[39m\n\u001b[1;32m   1177\u001b[0m     ) \u001b[38;5;28;01mfrom\u001b[39;00m \u001b[38;5;21;01me\u001b[39;00m\n",
      "\u001b[0;31mRuntimeError\u001b[0m: Failed to import transformers.pipelines because of the following error (look up to see its traceback):\ncannot import name 'PartialState' from 'accelerate' (/opt/conda/lib/python3.10/site-packages/accelerate/__init__.py)"
     ]
    }
   ],
   "source": [
    "from bertopic import BERTopic\n",
    "# from sentence_transformers import SentenceTransformer"
   ]
  },
  {
   "cell_type": "code",
   "execution_count": null,
   "metadata": {
    "tags": []
   },
   "outputs": [],
   "source": [
    "def remove_stopwords(sentence):\n",
    "    from nltk.tokenize import word_tokenize\n",
    "    from nltk.corpus import stopwords\n",
    "    stop_words = stopwords.words('english')\n",
    "    tokens = word_tokenize(sentence)\n",
    "    filtered_sentence = [word for word in tokens if not word in stop_words]\n",
    "    return \" \".join(filtered_sentence)"
   ]
  },
  {
   "cell_type": "code",
   "execution_count": null,
   "metadata": {
    "tags": []
   },
   "outputs": [],
   "source": [
    "%%time\n",
    "df_filtered['clean_text_without_stopwords'] = df_filtered['clean_text'].parallel_apply(remove_stopwords)"
   ]
  },
  {
   "cell_type": "markdown",
   "metadata": {
    "jp-MarkdownHeadingCollapsed": true,
    "tags": []
   },
   "source": [
    "#### On Sample"
   ]
  },
  {
   "cell_type": "code",
   "execution_count": null,
   "metadata": {
    "tags": []
   },
   "outputs": [],
   "source": [
    "# first try on sample\n",
    "df_sample = df_filtered.sample(n=10000)\n",
    "sample_documents = df_sample['clean_text_without_stopwords'].tolist()  "
   ]
  },
  {
   "cell_type": "code",
   "execution_count": null,
   "metadata": {
    "tags": []
   },
   "outputs": [],
   "source": [
    "# Create a BERTopic model\n",
    "sample_topic_model_auto = BERTopic(embedding_model=\"bert-base-nli-mean-tokens\",  min_topic_size=50)"
   ]
  },
  {
   "cell_type": "code",
   "execution_count": null,
   "metadata": {
    "tags": []
   },
   "outputs": [],
   "source": [
    "sample_topics, sample_probabilities = sample_topic_model_auto.fit_transform(sample_documents)"
   ]
  },
  {
   "cell_type": "code",
   "execution_count": null,
   "metadata": {
    "tags": []
   },
   "outputs": [],
   "source": [
    "sample_topic_keywords = sample_topic_model_auto.get_topic_info()"
   ]
  },
  {
   "cell_type": "code",
   "execution_count": null,
   "metadata": {
    "tags": []
   },
   "outputs": [],
   "source": [
    "for topic in sample_topic_keywords['Topic'].unique():\n",
    "    sample_keywords = sample_topic_model_auto.get_topic(topic)\n",
    "    sample_keywords, _ = zip(*sample_keywords[:5])  # unzip keywords and probabilities, ignore probabilities\n",
    "    print(f\"Topic {topic} Keywords: {sample_keywords}\")"
   ]
  },
  {
   "cell_type": "markdown",
   "metadata": {},
   "source": [
    "#### On Full Dataset"
   ]
  },
  {
   "cell_type": "markdown",
   "metadata": {},
   "source": [
    "##### Auto n_topics"
   ]
  },
  {
   "cell_type": "code",
   "execution_count": null,
   "metadata": {
    "tags": []
   },
   "outputs": [],
   "source": [
    "# Create a BERTopic model\n",
    "topic_model_auto = BERTopic(embedding_model=\"bert-base-nli-mean-tokens\",  min_topic_size=1000)"
   ]
  },
  {
   "cell_type": "code",
   "execution_count": null,
   "metadata": {
    "tags": []
   },
   "outputs": [],
   "source": [
    "%%time\n",
    "topics_auto, probabilities_tuo = topic_model_auto.fit_transform(df_filtered.clean_text_without_stopwords.tolist())"
   ]
  },
  {
   "cell_type": "code",
   "execution_count": null,
   "metadata": {
    "tags": []
   },
   "outputs": [],
   "source": [
    "topic_keywords_auto = topic_model_auto.get_topic_info()"
   ]
  },
  {
   "cell_type": "code",
   "execution_count": null,
   "metadata": {
    "tags": []
   },
   "outputs": [],
   "source": [
    "for topic in topic_keywords_auto['Topic'].unique():\n",
    "    keywords_auto = topic_model_auto.get_topic(topic)\n",
    "    keywords_auto, _ = zip(*keywords_auto[:5])  # unzip keywords and probabilities, ignore probabilities\n",
    "    print(f\"Topic {topic} Keywords: {keywords_auto}\")"
   ]
  },
  {
   "cell_type": "markdown",
   "metadata": {
    "jp-MarkdownHeadingCollapsed": true,
    "tags": []
   },
   "source": [
    "##### 20 topics"
   ]
  },
  {
   "cell_type": "code",
   "execution_count": 40,
   "metadata": {
    "tags": []
   },
   "outputs": [],
   "source": [
    "topic_model_20 = BERTopic(embedding_model=\"bert-base-nli-mean-tokens\", nr_topics=20)"
   ]
  },
  {
   "cell_type": "code",
   "execution_count": 41,
   "metadata": {
    "tags": []
   },
   "outputs": [
    {
     "name": "stdout",
     "output_type": "stream",
     "text": [
      "CPU times: total: 14h 22min 12s\n",
      "Wall time: 4h 37min 37s\n"
     ]
    }
   ],
   "source": [
    "%%time\n",
    "topics_20, probabilities_20 = topic_model_20.fit_transform(df_filtered.clean_text_without_stopwords.tolist())"
   ]
  },
  {
   "cell_type": "code",
   "execution_count": 42,
   "metadata": {
    "tags": []
   },
   "outputs": [],
   "source": [
    "topic_keywords_20 = topic_model_20.get_topic_info()"
   ]
  },
  {
   "cell_type": "code",
   "execution_count": 46,
   "metadata": {
    "tags": []
   },
   "outputs": [
    {
     "name": "stdout",
     "output_type": "stream",
     "text": [
      "Topic -1 | ai market the data intelligence new artificial report global also\n",
      "Topic 0 | market ai the intelligence data artificial new global report analysis\n",
      "Topic 1 | agriculture market intelligence artificial ai global report growth agricultural analysis\n",
      "Topic 2 | aviation air flight india market aircraft the intelligence artificial said\n",
      "Topic 3 | automotive market artificial intelligence report global analysis growth industry key\n",
      "Topic 4 | bioworld news fox afinancingsnewco nationfox businessfox policy contact gofox shopfox\n",
      "Topic 5 | coral reef species salmon the fish marine fishing ocean reefs\n",
      "Topic 6 | recipes food restaurant chef cooking the recipe restaurants ai ingredients\n",
      "Topic 7 | bard rockies season league beethoven colorado daniel game innings republic\n",
      "Topic 8 | chess game kasparov human ai the games deepmind humans protein\n",
      "Topic 9 | sermon chatgpt franklin preaching human sermons congregation church pastor wrote\n",
      "Topic 10 | banking corporate market ai global report analysis growth players key\n",
      "Topic 11 | snowflake tigergraph graph data analytics cloud knime alteryx tableau platform\n",
      "Topic 12 | gambling casino casinos online games betting ai players game gaming\n",
      "Topic 13 | pdfgear pdf chatbot users documents desktop feature chatbots pdfs intuitively\n",
      "Topic 14 | earthquakes seismic earthquake data earth slip landslides deformation landslide slow\n",
      "Topic 15 | tiruchirapalli coimbatore madurai vijayawada visakhapatnam mangaluru puducherry thiruvananthapuram hyderabad kochi\n",
      "Topic 16 | diabetes management market artificial intelligence global report analysis growth forecast\n",
      "Topic 17 | mathematicians conjectures mathematical mathematics conjecture theory intuition deepmind knots algebraic\n",
      "Topic 18 | lego legos bricks zarroli weiwei npr alcatraz political artist chinese\n"
     ]
    }
   ],
   "source": [
    "for topic in topic_keywords_20['Topic'].unique():\n",
    "    keywords_20 = topic_model_20.get_topic(topic)\n",
    "    keywords_20, _ = zip(*keywords_20[:10])  # unzip keywords and probabilities, ignore probabilities\n",
    "    print(f\"Topic {topic} | {' '.join(keywords_20)}\")  # join keywords with space\n"
   ]
  },
  {
   "cell_type": "markdown",
   "metadata": {
    "jp-MarkdownHeadingCollapsed": true,
    "tags": []
   },
   "source": [
    "##### 25 topics"
   ]
  },
  {
   "cell_type": "code",
   "execution_count": null,
   "metadata": {
    "tags": []
   },
   "outputs": [],
   "source": [
    "topic_model_25 = BERTopic(embedding_model=\"bert-base-nli-mean-tokens\", nr_topics=25)"
   ]
  },
  {
   "cell_type": "code",
   "execution_count": null,
   "metadata": {
    "tags": []
   },
   "outputs": [],
   "source": [
    "topics_25, probabilities_25 = topic_model_25.fit_transform(df_filtered.clean_text_without_stopwords.tolist())"
   ]
  },
  {
   "cell_type": "code",
   "execution_count": null,
   "metadata": {
    "tags": []
   },
   "outputs": [],
   "source": [
    "topic_keywords_25 = topic_model_25.get_topic_info()"
   ]
  },
  {
   "cell_type": "code",
   "execution_count": null,
   "metadata": {
    "tags": []
   },
   "outputs": [],
   "source": [
    "for topic in topic_keywords_25['Topic'].unique():\n",
    "    keywords_25 = topic_model_25.get_topic(topic)\n",
    "    keywords_25, _ = zip(*keywords_25[:10])  # unzip keywords and probabilities, ignore probabilities\n",
    "    print(f\"Topic {topic} Keywords: {keywords_25}\")"
   ]
  },
  {
   "cell_type": "code",
   "execution_count": null,
   "metadata": {},
   "outputs": [],
   "source": []
  },
  {
   "cell_type": "code",
   "execution_count": null,
   "metadata": {},
   "outputs": [],
   "source": []
  },
  {
   "cell_type": "code",
   "execution_count": null,
   "metadata": {},
   "outputs": [],
   "source": []
  }
 ],
 "metadata": {
  "kernelspec": {
   "display_name": "Python 3 (ipykernel)",
   "language": "python",
   "name": "python3"
  },
  "language_info": {
   "codemirror_mode": {
    "name": "ipython",
    "version": 3
   },
   "file_extension": ".py",
   "mimetype": "text/x-python",
   "name": "python",
   "nbconvert_exporter": "python",
   "pygments_lexer": "ipython3",
   "version": "3.10.10"
  }
 },
 "nbformat": 4,
 "nbformat_minor": 4
}
