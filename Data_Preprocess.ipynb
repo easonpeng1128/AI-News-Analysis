{
 "cells": [
  {
   "attachments": {},
   "cell_type": "markdown",
   "id": "a716d9cd",
   "metadata": {},
   "source": [
    "## Environment Setting"
   ]
  },
  {
   "cell_type": "code",
   "execution_count": 106,
   "id": "14d60c23",
   "metadata": {},
   "outputs": [],
   "source": [
    "import pandas as pd\n",
    "import numpy as np"
   ]
  },
  {
   "cell_type": "code",
   "execution_count": 107,
   "id": "7b7a0bbd",
   "metadata": {},
   "outputs": [
    {
     "data": {
      "text/plain": [
       "20"
      ]
     },
     "execution_count": 107,
     "metadata": {},
     "output_type": "execute_result"
    }
   ],
   "source": [
    "import multiprocessing\n",
    "\n",
    "num_processors = multiprocessing.cpu_count()\n",
    "num_processors"
   ]
  },
  {
   "cell_type": "code",
   "execution_count": 108,
   "id": "79ecbb1a",
   "metadata": {},
   "outputs": [
    {
     "name": "stdout",
     "output_type": "stream",
     "text": [
      "INFO: Pandarallel will run on 19 workers.\n",
      "INFO: Pandarallel will use standard multiprocessing data transfer (pipe) to transfer data between the main process and workers.\n",
      "\n",
      "WARNING: You are on Windows. If you detect any issue with pandarallel, be sure you checked out the Troubleshooting page:\n",
      "https://nalepae.github.io/pandarallel/troubleshooting/\n"
     ]
    }
   ],
   "source": [
    "from pandarallel import pandarallel\n",
    "\n",
    "# Initialize pandarallel\n",
    "pandarallel.initialize(nb_workers = multiprocessing.cpu_count()-1, use_memory_fs=False, progress_bar=False)"
   ]
  },
  {
   "cell_type": "code",
   "execution_count": 109,
   "id": "7623aa4e",
   "metadata": {},
   "outputs": [],
   "source": [
    "pd.set_option('display.max_rows', 100)\n",
    "pd.set_option('display.max_columns', None)\n",
    "pd.set_option('display.max_colwidth', None)"
   ]
  },
  {
   "attachments": {},
   "cell_type": "markdown",
   "id": "99283507",
   "metadata": {},
   "source": [
    "## Data Loading"
   ]
  },
  {
   "cell_type": "code",
   "execution_count": 110,
   "id": "c19ccf17",
   "metadata": {},
   "outputs": [
    {
     "name": "stdout",
     "output_type": "stream",
     "text": [
      "CPU times: total: 4.53 s\n",
      "Wall time: 7.8 s\n"
     ]
    }
   ],
   "source": [
    "%%time\n",
    "df_raw = pd.read_parquet('news_final_project.parquet', engine='pyarrow')"
   ]
  },
  {
   "cell_type": "code",
   "execution_count": 111,
   "id": "7c73cffd",
   "metadata": {},
   "outputs": [
    {
     "data": {
      "text/html": [
       "<div>\n",
       "<style scoped>\n",
       "    .dataframe tbody tr th:only-of-type {\n",
       "        vertical-align: middle;\n",
       "    }\n",
       "\n",
       "    .dataframe tbody tr th {\n",
       "        vertical-align: top;\n",
       "    }\n",
       "\n",
       "    .dataframe thead th {\n",
       "        text-align: right;\n",
       "    }\n",
       "</style>\n",
       "<table border=\"1\" class=\"dataframe\">\n",
       "  <thead>\n",
       "    <tr style=\"text-align: right;\">\n",
       "      <th></th>\n",
       "      <th>url</th>\n",
       "      <th>date</th>\n",
       "      <th>language</th>\n",
       "      <th>title</th>\n",
       "      <th>text</th>\n",
       "    </tr>\n",
       "  </thead>\n",
       "  <tbody>\n",
       "    <tr>\n",
       "      <th>0</th>\n",
       "      <td>http://en.people.cn/n3/2021/0318/c90000-9830122.html</td>\n",
       "      <td>2021-03-18</td>\n",
       "      <td>en</td>\n",
       "      <td>Artificial intelligence improves parking efficiency in Chinese cities - People's Daily Online</td>\n",
       "      <td>\\n\\nArtificial intelligence improves parking efficiency in Chinese cities - People's Daily Online\\n\\nHome\\nChina Politics\\nForeign Affairs\\nOpinions\\nVideo: We Are China\\nBusiness\\nMilitary\\nWorld\\nSociety\\nCulture\\nTravel\\nScience\\nSports\\nPhoto\\n\\nLanguages\\n\\nChinese\\nJapanese\\nFrench\\nSpanish\\nRussian\\nArabic\\nKorean\\nGerman\\nPortuguese\\nThursday, March 18, 2021\\nHome&gt;&gt;\\n\\t\\t\\nArtificial intelligence improves parking efficiency in Chinese cities\\nBy Liu Shiyao (People's Daily) 09:16, March 18, 2021\\nPhoto taken on July 1, 2019, shows a sign for electronic toll collection (ETC) newly set up at a roadside parking space on Yangzhuang road, Shijingshan district, Beijing. Some urban areas of the city started to use ETC system for roadside parking spaces since July 1, 2019. (People’s Daily Online/Li Wenming)\\n\\n\\tThanks to the application of an artificial intelligence (AI)-empowered roadside electronic toll collection (ETC) system, China’s capital city Beijing has seen significant improvement in the efficiency of parking fee collection, turnover of roadside parking spots, order in roadside parking, as well as traffic congestion.\\n\\n\\tAs the city further deepens its roadside parking reform, the ETC system has almost covered all the roadside parking spaces in the city, with the proportion of vehicles parked on roads using the system exceeding 90 percent.\\n\\n\\tWith the AI-empowered system, drivers can park their vehicles at the parking spots on the roadside, and then pay the parking charge via their mobile phones after they drive away.\\n\\n\\t“This road used to be full of cars, and even the normal lanes were occupied. You could hardly move a bit during the morning and evening commute time,” recalled a citizen surnamed Wang, who lives in Chaoyang district of Beijing.\\n\\n\\t“Since the summer of 2019, roadside ETC devices have been installed here. With all the cars being parked in designated parking spots on the roadside, the road now seems brighter and wider,” Wang said.\\n\\n\\tThe smart roadside ETC system “AIpark Sky Eye” adopted by Beijing is developed, operated, and maintained by AIpark, a Beijing-based leading smart parking solution provider.\\n\\n\\tThe company’s intelligent system has brought into full play the advantages of AI technologies and effectively addressed the shortage of parking spaces and the problem of irregular parking in cities. The system has therefore been listed among the country’s innovation projects that integrate AI deeply into the real economy in 2018 by China’s Ministry of Industry and Information Technology (MIIT).\\n\\n\\tTraditional parking management equipment and monitoring devices have failed to meet the actual needs of cities due to limited application scenarios and technical capacity. There are many deficiencies in traditional parking systems. For example, magnetic devices cannot identify detailed information about vehicles; each video monitoring pile can only cover one parking spot; and manual collection of parking fees costs too much.\\n\\n\\tSuch problems don’t exist in smart machines. The “AIpark Sky Eye” system boasts strong stability and high recognition rate. Besides, it can resist the interference of extreme weather conditions like rain, snow, and fog, and form complete graphic evidence based on wheel path of vehicles.\\n\\n\\tEach set of cameras of the “AIpark Sky Eye” system can monitor multiple parking spots at the same time for 24 hours a day. The data collected by front-end cameras are processed using multi-dimensional deep learning algorithm before they are uploaded on to an AI computing cloud platform for data enrichment. The platform then distributes identification results to transport authorities.\\n\\n\\tThe most distinctive innovation in the technological package of the system is precision brought about by high-mounted parking system cameras, according to Xiang Yanping, senior vice president of AIpark, noting that the cameras can recognize more complex static and dynamic reality scenes.\\n\\n\\t“For example, the equipment can accurately identify irregular parking behaviors and state such as double parking and frequent maneuvers, precisely recognize detailed information including plate number and vehicle color, and make good judgment on the behaviors of drivers and pedestrians,” Xiang said.\\n\\n\\tOnce the high-mounted parking system cameras are installed, they can help with many aspects of integrated urban governance, which represents another advantage of the “AIpark Sky Eye” system.\\n\\n\\tBesides managing parking fee collection, high-mounted camera system can also provide data for traffic improvements. The snapshots obtained from the camera system can help solve problems including illegal and inappropriate parking and vehicle theft.\\n\\n\\tSo far, the smart ETC system of AIpark has been introduced into more than 20 cities in China, signaling increasingly important roles of AI in improving parking efficiency and order as well as new development opportunities for smart parking industry.\\n【1】【2】【3】\\nPhotos\\nNaval fleet steams in East China Sea\\nNewborn golden snub-nosed monkey makes debut\\nIn pics: birds across China\\nGrain painting studio helps villagers to increase income\\nRelated Stories\\nExhibition highlighting art-science integration opens in BeijingChina’s AI industry poised to enter boom timesAlibaba outlines 10 technology trends for 2019China’s leading AI enterprise iFlytek to develop health information technologyCheetah Mobile wades into artificial intelligenceChina overtakes the US in investment in AI5 million artificial intelligence talents urgently needed in ChinaGraduate students give 'voice' to sign languageArtificial Intelligence in real livesMicrosoft embraces artificial intelligence\\nAbout People's Daily Online |  Join Us | Contact Us\\nCopyright © 2021 People's Daily Online. All Rights Reserved.\\n\\t\\n</td>\n",
       "    </tr>\n",
       "  </tbody>\n",
       "</table>\n",
       "</div>"
      ],
      "text/plain": [
       "                                                    url        date language  \\\n",
       "0  http://en.people.cn/n3/2021/0318/c90000-9830122.html  2021-03-18       en   \n",
       "\n",
       "                                                                                           title  \\\n",
       "0  Artificial intelligence improves parking efficiency in Chinese cities - People's Daily Online   \n",
       "\n",
       "                                                                                                                                                                                                                                                                                                                                                                                                                                                                                                                                                                                                                                                                                                                                                                                                                                                                                                                                                                                                                                                                                                                                                                                                                                                                                                                                                                                                                                                                                                                                                                                                                                                                                                                                                                                                                                                                                                                                                                                                                                                                                                                                                                                                                                                                                                                                                                                                                                                                                                                                                                                                                                                                                                                                                                                                                                                                                                                                                                                                                                                                                                                                                                                                                                                                                                                                                                                                                                                                                                                                                                                                                                                                                                                                                                                                                                                                                                                                                                                                                                                                                                                                                                                                                                                                                                                                                                                                                                                                                                                                                                                                                                                                                                                                                                                                                                                                                                                                                                                                                                                                                                                                                                                                                                                                                                                                                                                                                                                                                                                                                                                                                                                                                                                                                                                                                                                                                                                                                                                                                                                                                      text  \n",
       "0  \\n\\nArtificial intelligence improves parking efficiency in Chinese cities - People's Daily Online\\n\\nHome\\nChina Politics\\nForeign Affairs\\nOpinions\\nVideo: We Are China\\nBusiness\\nMilitary\\nWorld\\nSociety\\nCulture\\nTravel\\nScience\\nSports\\nPhoto\\n\\nLanguages\\n\\nChinese\\nJapanese\\nFrench\\nSpanish\\nRussian\\nArabic\\nKorean\\nGerman\\nPortuguese\\nThursday, March 18, 2021\\nHome>>\\n\\t\\t\\nArtificial intelligence improves parking efficiency in Chinese cities\\nBy Liu Shiyao (People's Daily) 09:16, March 18, 2021\\nPhoto taken on July 1, 2019, shows a sign for electronic toll collection (ETC) newly set up at a roadside parking space on Yangzhuang road, Shijingshan district, Beijing. Some urban areas of the city started to use ETC system for roadside parking spaces since July 1, 2019. (People’s Daily Online/Li Wenming)\\n\\n\\tThanks to the application of an artificial intelligence (AI)-empowered roadside electronic toll collection (ETC) system, China’s capital city Beijing has seen significant improvement in the efficiency of parking fee collection, turnover of roadside parking spots, order in roadside parking, as well as traffic congestion.\\n\\n\\tAs the city further deepens its roadside parking reform, the ETC system has almost covered all the roadside parking spaces in the city, with the proportion of vehicles parked on roads using the system exceeding 90 percent.\\n\\n\\tWith the AI-empowered system, drivers can park their vehicles at the parking spots on the roadside, and then pay the parking charge via their mobile phones after they drive away.\\n\\n\\t“This road used to be full of cars, and even the normal lanes were occupied. You could hardly move a bit during the morning and evening commute time,” recalled a citizen surnamed Wang, who lives in Chaoyang district of Beijing.\\n\\n\\t“Since the summer of 2019, roadside ETC devices have been installed here. With all the cars being parked in designated parking spots on the roadside, the road now seems brighter and wider,” Wang said.\\n\\n\\tThe smart roadside ETC system “AIpark Sky Eye” adopted by Beijing is developed, operated, and maintained by AIpark, a Beijing-based leading smart parking solution provider.\\n\\n\\tThe company’s intelligent system has brought into full play the advantages of AI technologies and effectively addressed the shortage of parking spaces and the problem of irregular parking in cities. The system has therefore been listed among the country’s innovation projects that integrate AI deeply into the real economy in 2018 by China’s Ministry of Industry and Information Technology (MIIT).\\n\\n\\tTraditional parking management equipment and monitoring devices have failed to meet the actual needs of cities due to limited application scenarios and technical capacity. There are many deficiencies in traditional parking systems. For example, magnetic devices cannot identify detailed information about vehicles; each video monitoring pile can only cover one parking spot; and manual collection of parking fees costs too much.\\n\\n\\tSuch problems don’t exist in smart machines. The “AIpark Sky Eye” system boasts strong stability and high recognition rate. Besides, it can resist the interference of extreme weather conditions like rain, snow, and fog, and form complete graphic evidence based on wheel path of vehicles.\\n\\n\\tEach set of cameras of the “AIpark Sky Eye” system can monitor multiple parking spots at the same time for 24 hours a day. The data collected by front-end cameras are processed using multi-dimensional deep learning algorithm before they are uploaded on to an AI computing cloud platform for data enrichment. The platform then distributes identification results to transport authorities.\\n\\n\\tThe most distinctive innovation in the technological package of the system is precision brought about by high-mounted parking system cameras, according to Xiang Yanping, senior vice president of AIpark, noting that the cameras can recognize more complex static and dynamic reality scenes.\\n\\n\\t“For example, the equipment can accurately identify irregular parking behaviors and state such as double parking and frequent maneuvers, precisely recognize detailed information including plate number and vehicle color, and make good judgment on the behaviors of drivers and pedestrians,” Xiang said.\\n\\n\\tOnce the high-mounted parking system cameras are installed, they can help with many aspects of integrated urban governance, which represents another advantage of the “AIpark Sky Eye” system.\\n\\n\\tBesides managing parking fee collection, high-mounted camera system can also provide data for traffic improvements. The snapshots obtained from the camera system can help solve problems including illegal and inappropriate parking and vehicle theft.\\n\\n\\tSo far, the smart ETC system of AIpark has been introduced into more than 20 cities in China, signaling increasingly important roles of AI in improving parking efficiency and order as well as new development opportunities for smart parking industry.\\n【1】【2】【3】\\nPhotos\\nNaval fleet steams in East China Sea\\nNewborn golden snub-nosed monkey makes debut\\nIn pics: birds across China\\nGrain painting studio helps villagers to increase income\\nRelated Stories\\nExhibition highlighting art-science integration opens in BeijingChina’s AI industry poised to enter boom timesAlibaba outlines 10 technology trends for 2019China’s leading AI enterprise iFlytek to develop health information technologyCheetah Mobile wades into artificial intelligenceChina overtakes the US in investment in AI5 million artificial intelligence talents urgently needed in ChinaGraduate students give 'voice' to sign languageArtificial Intelligence in real livesMicrosoft embraces artificial intelligence\\nAbout People's Daily Online |  Join Us | Contact Us\\nCopyright © 2021 People's Daily Online. All Rights Reserved.\\n\\t\\n  "
      ]
     },
     "execution_count": 111,
     "metadata": {},
     "output_type": "execute_result"
    }
   ],
   "source": [
    "df_raw.head(1)"
   ]
  },
  {
   "cell_type": "code",
   "execution_count": 112,
   "id": "bff861e5",
   "metadata": {},
   "outputs": [
    {
     "data": {
      "text/plain": [
       "(200332, 5)"
      ]
     },
     "execution_count": 112,
     "metadata": {},
     "output_type": "execute_result"
    }
   ],
   "source": [
    "df_raw.shape"
   ]
  },
  {
   "attachments": {},
   "cell_type": "markdown",
   "id": "b9e22c8f",
   "metadata": {},
   "source": [
    "## Data Cleaning"
   ]
  },
  {
   "cell_type": "code",
   "execution_count": 113,
   "id": "459868d8",
   "metadata": {},
   "outputs": [],
   "source": [
    "import re"
   ]
  },
  {
   "cell_type": "code",
   "execution_count": 114,
   "id": "18472a5c",
   "metadata": {},
   "outputs": [
    {
     "data": {
      "text/plain": [
       "(200332, 5)"
      ]
     },
     "execution_count": 114,
     "metadata": {},
     "output_type": "execute_result"
    }
   ],
   "source": [
    "# filter english article\n",
    "df_raw = df_raw[df_raw.language == 'en']\n",
    "df_raw.shape"
   ]
  },
  {
   "attachments": {},
   "cell_type": "markdown",
   "id": "f0229fda",
   "metadata": {},
   "source": [
    "#### URL cleaning"
   ]
  },
  {
   "cell_type": "code",
   "execution_count": 116,
   "id": "6de0d959",
   "metadata": {},
   "outputs": [
    {
     "data": {
      "text/plain": [
       "0                                                                                                                                                                                                                                                                                    http://en.people.cn/n3/2021/0318/c90000-9830122.html\n",
       "1                                                                                                                                                                                                http://newsparliament.com/2020/02/27/children-with-autism-saw-their-learning-and-social-skills-boosted-after-playing-with-this-ai-robot/\n",
       "2                                                                                                                                                                                                                                                                                                        http://www.dataweek.co.za/12835r\n",
       "3                                                                                                                                                                                                         http://www.homeoffice.consumerelectronicsnet.com/strategy-analytics-71-of-smartphones-sold-globally-in-2021-will-be-ai-powered/\n",
       "4    http://www.itbusinessnet.com/2020/10/olympus-to-support-endoscopic-ai-diagnosis-education-for-doctors-in-india-and-to-launch-ai-diagnostic-support-application/?utm_source=rss&utm_medium=rss&utm_campaign=olympus-to-support-endoscopic-ai-diagnosis-education-for-doctors-in-india-and-to-launch-ai-diagnostic-support-application\n",
       "Name: url, dtype: object"
      ]
     },
     "execution_count": 116,
     "metadata": {},
     "output_type": "execute_result"
    }
   ],
   "source": [
    "df_raw.url[:5]"
   ]
  },
  {
   "cell_type": "code",
   "execution_count": 118,
   "id": "fe1d24ef",
   "metadata": {},
   "outputs": [],
   "source": [
    "def extract_domain(url):\n",
    "    from urllib.parse import urlparse\n",
    "    parsed_url = urlparse(url)\n",
    "    domain = parsed_url.netloc\n",
    "    return domain"
   ]
  },
  {
   "cell_type": "code",
   "execution_count": 119,
   "id": "43c99832",
   "metadata": {},
   "outputs": [],
   "source": [
    "df_raw['domain'] = df_raw['url'].parallel_apply(extract_domain)"
   ]
  },
  {
   "cell_type": "code",
   "execution_count": 120,
   "id": "bdeb29eb",
   "metadata": {},
   "outputs": [
    {
     "data": {
      "text/plain": [
       "0                                 en.people.cn\n",
       "1                           newsparliament.com\n",
       "2                           www.dataweek.co.za\n",
       "3    www.homeoffice.consumerelectronicsnet.com\n",
       "4                        www.itbusinessnet.com\n",
       "Name: domain, dtype: object"
      ]
     },
     "execution_count": 120,
     "metadata": {},
     "output_type": "execute_result"
    }
   ],
   "source": [
    "df_raw['domain'].head()"
   ]
  },
  {
   "attachments": {},
   "cell_type": "markdown",
   "id": "5fb5491f",
   "metadata": {},
   "source": [
    "#### Title Cleaning"
   ]
  },
  {
   "cell_type": "code",
   "execution_count": 121,
   "id": "f12abad9",
   "metadata": {},
   "outputs": [
    {
     "data": {
      "text/plain": [
       "0                                                                                                                                         Artificial intelligence improves parking efficiency in Chinese cities - People's Daily Online\n",
       "1                                                                                                                  Children With Autism Saw Their Learning and Social Skills Boosted After Playing With This AI Robot – News Parliament\n",
       "2                                                                                                            Forget ML, AI and Industry 4.0 – obsolescence should be your focus - 26 February 2021 - Test & Rework Solutions - Dataweek\n",
       "3                                                                                                                            Strategy Analytics: 71% of Smartphones Sold Globally in 2021 will be AI Powered – Consumer Electronics Net\n",
       "4                                                                                         Olympus to Support Endoscopic AI Diagnosis Education for Doctors in India and to Launch AI Diagnostic Support Application | | IT Business Net\n",
       "5                                                                                                                                               Cr Bard Inc Has Returned 48.9% Since SmarTrend Recommendation (BCR)  | Comtex SmarTrend\n",
       "6                                                                                                      From the Bard to broadcaster: Stratford Festival builds new identity with streamer | National Entertainment | pentictonherald.ca\n",
       "7                                                                                                                            MulticoreWare Inc. Becomes CEVA’s Trusted Partner for Imaging & Computer Vision – Consumer Electronics Net\n",
       "8                                                                                                                                                          Applitools Visual AI Reaches One Billion Images Analyzed | | IT Business Net\n",
       "9    Artificial Intelligence In Behavioral And Mental Health Care Market to Witness Astonishing Growth by 2026 Focusing on Leading Players – AdvancedMD , Cerner , Core Solutions , Credible Behavioral Health – 3w Market News Reports\n",
       "Name: title, dtype: object"
      ]
     },
     "execution_count": 121,
     "metadata": {},
     "output_type": "execute_result"
    }
   ],
   "source": [
    "df_raw.title.head(10)"
   ]
  },
  {
   "cell_type": "code",
   "execution_count": 122,
   "id": "27491508",
   "metadata": {},
   "outputs": [],
   "source": [
    "def clean_title(title):\n",
    "    import re\n",
    "\n",
    "    cleaned_title = re.split(r'[–|]', title)[0].strip()\n",
    "\n",
    "    return cleaned_title"
   ]
  },
  {
   "cell_type": "code",
   "execution_count": 123,
   "id": "17a9c80c",
   "metadata": {},
   "outputs": [],
   "source": [
    "df_raw['title'] = df_raw['title'].str.replace('-', '–')"
   ]
  },
  {
   "cell_type": "code",
   "execution_count": 124,
   "id": "4798b7c3",
   "metadata": {},
   "outputs": [],
   "source": [
    "df_raw['clean_title'] = df_raw['title'].apply(clean_title)"
   ]
  },
  {
   "cell_type": "code",
   "execution_count": 125,
   "id": "6d2f4541",
   "metadata": {},
   "outputs": [
    {
     "data": {
      "text/plain": [
       "0                                                                    Artificial intelligence improves parking efficiency in Chinese cities\n",
       "1                                       Children With Autism Saw Their Learning and Social Skills Boosted After Playing With This AI Robot\n",
       "2                                                                                                           Forget ML, AI and Industry 4.0\n",
       "3                                                          Strategy Analytics: 71% of Smartphones Sold Globally in 2021 will be AI Powered\n",
       "4                Olympus to Support Endoscopic AI Diagnosis Education for Doctors in India and to Launch AI Diagnostic Support Application\n",
       "5                                                                      Cr Bard Inc Has Returned 48.9% Since SmarTrend Recommendation (BCR)\n",
       "6                                                       From the Bard to broadcaster: Stratford Festival builds new identity with streamer\n",
       "7                                                          MulticoreWare Inc. Becomes CEVA’s Trusted Partner for Imaging & Computer Vision\n",
       "8                                                                                 Applitools Visual AI Reaches One Billion Images Analyzed\n",
       "9    Artificial Intelligence In Behavioral And Mental Health Care Market to Witness Astonishing Growth by 2026 Focusing on Leading Players\n",
       "Name: clean_title, dtype: object"
      ]
     },
     "execution_count": 125,
     "metadata": {},
     "output_type": "execute_result"
    }
   ],
   "source": [
    "df_raw.clean_title.head(10)"
   ]
  },
  {
   "attachments": {},
   "cell_type": "markdown",
   "id": "920bd941",
   "metadata": {},
   "source": []
  },
  {
   "attachments": {},
   "cell_type": "markdown",
   "id": "267164cd",
   "metadata": {},
   "source": [
    "#### Text Cleaning"
   ]
  },
  {
   "cell_type": "code",
   "execution_count": 126,
   "id": "53787548",
   "metadata": {},
   "outputs": [],
   "source": [
    "from IPython.display import Markdown as md"
   ]
  },
  {
   "cell_type": "code",
   "execution_count": 127,
   "id": "f2cb7c49",
   "metadata": {},
   "outputs": [
    {
     "data": {
      "text/plain": [
       "'\\n\\nStrategy Analytics: 71% of Smartphones Sold Globally in 2021 will be AI Powered – Consumer Electronics Net\\n \\nSkip to content\\n\\nConsumer Electronics Net\\n\\nPrimary Menu\\n\\nConsumer Electronics Net\\n\\nSearch for:\\n \\nHomeNewsStrategy Analytics: 71% of Smartphones Sold Globally in 2021 will be AI Powered \\n \\n                                 News\\n                             \\n \\nStrategy Analytics: 71% of Smartphones Sold Globally in 2021 will be AI Powered\\n                    7 hours ago            \\n \\n\\nArtificial Intelligence Now Powers the Majority of Smartphones\\n\\nBOSTON–(BUSINESS WIRE)–Strategy Analytics in a newly published report, Smartphones: Global Artificial Intelligence Technologies Forecast to 2025, finds that on-device Artificial Intelligence (AI) is being rapidly implemented by smartphone vendors. AI is used in various functions inside smartphones such as intelligent power optimization, imaging, virtual assistants, and to enhance device performance. The report highlights the fact that AI has become the most important technology in modern smartphones. The push to add on-device AI computational power to enable Edge AI computing is a priority for smartphone and chipset vendors. \\n“Strategy Analytics estimates that 71% of all smartphones sold worldwide in 2021 will have on-device AI,” says Associate Director Ville-Petteri Ukonaho. “Advantages of on-device AI computing include lower latency, better data privacy and overall lower power consumption.”\\n\\n\\nAn Artificial Intelligence (AI) smartphone is one that uses an AI core / processor designed to run machine learning and deep learning tasks. AI smartphones run AI tasks locally on the device with the help of dedicated AI cores and AI co-processors with little or no data transmitted to the cloud. Examples of AI smartphones include Apple’s iPhone 12 Pro Max and Samsung’s Galaxy S21 Ultra 5G.\\n\\n\\n“Artificial Intelligence has become a key technology in higher-end smartphones,” says Ken Hyers, Director at Strategy Analytics. “A smartphone equipped with on-device AI can significantly improve important tasks like helping users take better pictures, deliver longer battery life through efficient power management, improve the speed of response by digital assistants, and power Augmented Reality, among other tasks. This makes smartphones more useful tools for users.”\\n\\n\\n“Modern smartphones give consumers access to their own personal AI powered super-computer,” says Ville-Petteri Ukonaho. “With the help of on-device Artificial Intelligence, virtual assistants like Siri and Google’s Assistant have become more intelligent and aware of their environment.” Strategy Analytics new report estimates that in 2021 over 80% of smartphones globally will have virtual assistants and the share will grow to 97% by 2025.\\n\\n\\n“With the enhanced AI capabilities on-device, virtual assistants have become more intelligent and aware of their environment,” comments Ken Hyers. Strategy Analytics’ report finds that Google’s Assistant is the top virtual assistant in 2021 with over 60% share followed by Apple’s Siri.\\n\\n\\nOn-device AI is powered by physical silicon cores such as Apple’s Neural Engine or distributed software frameworks such as Qualcomm Neural Processing Engine (NPE) that use algorithms to offload AI computation to several processors (CPU, GPU and DSP). “Physical AI cores have greater capability to handle complex AI computations, thus those are being introduced by all major chip vendors such as Mediatek, Samsung and HiSilicon,” says Ville-Petteri Ukonaho.\\n\\n\\n“Camera AI has become one of the key selling points of imaging focused smartphones,” says Ken Hyers and continues, “Artificial Intelligence features such as object recognition or motion detection are becoming growingly important in premium smartphones.” In the report Strategy Analytics concludes that over 30% of smartphones already have AI enhanced camera functionalities.\\n\\nStrategy Analytics finds in its latest report that technologies such as 5G will greatly benefit from the new capabilities improved by AI and vice versa. With the help of 5G and AI, smartphones have become integral part of a large device ecosystem enabling them to share data and communicate with each other.\\n\\n\\nThe report Smartphones: Global Artificial Intelligence Technologies Forecast to 2025 is available to Strategy Analytics clients.\\n\\n\\nAbout Strategy Analytics\\n\\n\\nStrategy Analytics, Inc. is a global leader in supporting companies across their planning lifecycle through a range of customized market research solutions. Our multi-discipline capabilities include: industry research advisory services, customer insights, user experience design and innovation expertise, mobile consumer on-device tracking and business-to-business consulting competencies. With domain expertise in: smart devices, connected cars, intelligent home, service providers, IoT, strategic components and media, Strategy Analytics can develop a solution to meet your specific planning need. For more information, visit us at www.strategyanalytics.com.\\n\\n\\nSource: Strategy Analytics, Inc.\\n\\n\\n#SA_Devices\\n\\n\\nContacts \\n\\nAnalyst Contacts:European Contact: Ville-Petteri Ukonaho, +44 (0)1908 423 634, vukonaho@strategyanalytics.comUSA Contact: Ken Hyers, +1 617 614 0757, khyers@strategyanalytics.comAsia Contact: Woody Oh, +44 (0) 1908 423 665, woh@strategyanalytics.com\\n\\nContinue Reading\\nPrevious Six to Start, The World’s Leading Gamified Fitness Company, Acquired by Australian-Listed OliveX In US$9.5m DealNext ContentKeeper Wins Awards of Excellence for Best Remote & Blended Learning Tools\\n \\n\\n                    \\n                    More Stories                \\n \\n                                 News\\n                             \\n \\n\\n                                        ContentKeeper Wins Awards of Excellence for Best Remote & Blended Learning Tools                                    \\n                    46 mins ago            \\n \\n                                 Gaming\\n                             \\n\\n \\n                                 News\\n                             \\n \\n\\n                                        Six to Start, The World’s Leading Gamified Fitness Company, Acquired by Australian-Listed OliveX In US$9.5m Deal                                    \\n                    12 hours ago            \\n \\n                                 News\\n                             \\n \\n\\n                                        AWS Announces New Lower Cost Storage Classes for Amazon Elastic File System                                    \\n                    12 hours ago            \\nSearch for:\\n\\nCategoriesCategories\\nSelect Category\\n360\\n3D printing\\n5G\\nAccessories\\nAnalytics\\nApps\\nArt\\nArticle\\narticles\\nAudio\\nAutism\\nAuto\\nAutomotive\\nAutonomous Driving\\nAutonomous Vehicles\\nBlu-Ray\\nBLUE LIGHT\\nBook\\nBroadband\\nBusiness\\nCamera\\nCar Tech\\nCareer\\nCES\\nCES Asia\\nCharging\\nChildren\\nComic\\nConsoles\\nConsumer Electronics\\nContracts\\nCounterfeit Goods\\nCovid\\nCybersecurity\\nDashCam\\nData Recovery\\nDrones\\nDVD\\nEarbuds\\neCommerce\\nEducation\\nElectric Vehicles\\nEnergy\\nEngineering\\nFamily\\nFeature\\nFinance\\nGadgets\\nGaming\\nGraphic Novel\\nHDTV\\nHealth\\nHome Tech\\nInternet\\nInvestment\\nIoT\\niPhone\\nIQS\\nLead Story\\nLearning\\nMac\\nManufacturing\\nMarketing\\nMilitary\\nMovie\\nNBN\\nNews\\nPhishing\\nPrivacy\\nProductivity\\nRaid\\nResume\\nRetail\\nReview\\nRobotics\\nSales\\nSecurity\\nSmart Devices\\nSmart Homes\\nSocial Media\\nSSD\\nStorage\\nStreaming\\nTablet\\nTariffs\\nTechnology\\nTelework\\nUniform\\nUSB\\nVideo Games\\nVideo Surveillance\\nVR/AR\\nWearables\\nWeb Design\\nWireless Charger\\nVideo News\\n\\n \\nPartner SitesIT Business Nethttp://www.ITBusinessNet.com\\nDigital Producer Magazinehttp://www.DigitalProducer.com\\nDigital Media Net Media Hubhttp://www.DigitalMediaNet.com\\nConsumer Electronics Nethttp://www.ConsumerElectronicsNet.com\\nHealth Technology Nethttp://www.HealthTechnologyNet.com\\n\\n                            \\n                            You may have missed                            \\n \\n                                 News\\n                             \\n \\n\\n                                ContentKeeper Wins Awards of Excellence for Best Remote & Blended Learning Tools                            \\n                    46 mins ago            \\n \\n                                 News\\n                             \\n \\n\\n                                Strategy Analytics: 71% of Smartphones Sold Globally in 2021 will be AI Powered                            \\n                    7 hours ago            \\n \\n                                 Consumer Electronics\\n                             \\n \\n\\n                                CORRECTING and REPLACING Drop Into Apex Legends on Nintendo Switch Today                            \\n                    12 hours ago            \\n \\n                                 Consumer Electronics\\n                             \\n \\n\\n                                Roblox to Commence Trading on NYSE on March 10, 2021                            \\n                    12 hours ago            \\n \\n                                 Consumer Electronics\\n                             \\n \\n\\n                                Penn National Gaming to Launch Barstool Sportsbook Mobile App in Illinois                            \\n                    12 hours ago            \\n \\n \\n\\n                                                                Copyright © Consumer Electronics Net - All rights reserved.                                                                                     | \\nCoverNews by AF themes.                                    \\n\\nerror: Content is protected !!\\n\\n'"
      ]
     },
     "execution_count": 127,
     "metadata": {},
     "output_type": "execute_result"
    }
   ],
   "source": [
    "df_raw.text[3]"
   ]
  },
  {
   "attachments": {},
   "cell_type": "markdown",
   "id": "6b442fb8",
   "metadata": {},
   "source": [
    "Found that the first part of text are always title + some description of the article website such as language settings, author name, etc. After the second occurence of the title, there are the true text of the article.\n",
    "\n",
    "Therefore, we could use this characteristic to exclude the first useless part of the text."
   ]
  },
  {
   "cell_type": "code",
   "execution_count": null,
   "id": "cb040558",
   "metadata": {},
   "outputs": [],
   "source": []
  },
  {
   "cell_type": "code",
   "execution_count": null,
   "id": "61e65148",
   "metadata": {},
   "outputs": [],
   "source": []
  },
  {
   "cell_type": "code",
   "execution_count": 128,
   "id": "72e70216",
   "metadata": {},
   "outputs": [],
   "source": [
    "equal_irrelevant = [\n",
    "\n",
    "\n",
    "    'comments section',\n",
    "    'privacy policy',\n",
    "    'Contact us',\n",
    "    'Join us',\n",
    "    'Photos',\n",
    "    'Home',\n",
    "    'No results found',\n",
    "    'Report a problem',\n",
    "    'Related articles',\n",
    " \n",
    "]\n",
    "\n",
    "# previously I removed all the elements (may be paragraphs of the main text seprarated by a new line) contains those words\n",
    "# and therefore may remove so some articles that cotain keywords in those removed paragraphs\n",
    "# So finally there are only 118k articles and after fixing this problem, there are 168k\n"
   ]
  },
  {
   "cell_type": "code",
   "execution_count": 129,
   "id": "b8412d2e",
   "metadata": {},
   "outputs": [],
   "source": [
    "# include irrelevant words --> remove\n",
    "include_irrelevant = [\n",
    "    'http',\n",
    "    'www',\n",
    "    '.com',\n",
    "    'subscribe to our', \n",
    "    'Photo taken',\n",
    "    'press release',\n",
    "    'Connect with us',\n",
    "    'Follow us on instagram',\n",
    "    'Follow us on twitter', \n",
    "    'Like us on facebook',\n",
    "    'Email us at',\n",
    "    'Copyright @',\n",
    "    'Copyright at',\n",
    "    '.org',\n",
    "    'You may have missed',\n",
    "    'Leave a reply',\n",
    "    'Related posts',\n",
    "    'photo credit',\n",
    "    'terms of service',\n",
    "    'all rights reserved',\n",
    "    'click here to',\n",
    "    'follow us on',\n",
    "    'sign up for',\n",
    "    'editor’s note',\n",
    "    'Share this article',\n",
    "    'Image source',\n",
    "    'Join our mailing list',\n",
    "    'Sponsored content',\n",
    "\n",
    "\n",
    "    # the below is second cleaning after NER\n",
    "    'The Associated Press',\n",
    "    'When typing in this field a list of search results',\n",
    "    'Gray Media Group',\n",
    "    'Digi Communications'\n",
    "   \n",
    "]"
   ]
  },
  {
   "cell_type": "code",
   "execution_count": 130,
   "id": "cfe2fe55",
   "metadata": {},
   "outputs": [],
   "source": [
    "\n",
    "recommended_phrases = [\n",
    "    \"you may have missed\",\n",
    "    \"read more\",\n",
    "    \"related articles\",\n",
    "    \"recommended for you\",\n",
    "    \"also read\",\n",
    "    \"explore more\",\n",
    "    \"don't miss\",\n",
    "    'do not miss',\n",
    "    \"similar stories\",\n",
    "    \"trending now\",\n",
    "    \"more stories\",\n",
    "    \"related Stories\",\n",
    "    'more information and articles',\n",
    "    'sponsored content',\n",
    "    'Editor’s pick',\n",
    "    'Matched content'\n",
    "\n",
    "]\n",
    "\n"
   ]
  },
  {
   "attachments": {},
   "cell_type": "markdown",
   "id": "4b2d0213",
   "metadata": {},
   "source": [
    "##### Test"
   ]
  },
  {
   "cell_type": "code",
   "execution_count": 58,
   "id": "083febf8",
   "metadata": {},
   "outputs": [],
   "source": [
    "test = df_raw.text[0]"
   ]
  },
  {
   "cell_type": "code",
   "execution_count": 20,
   "id": "398412fb",
   "metadata": {},
   "outputs": [
    {
     "data": {
      "text/plain": [
       "['',\n",
       " '',\n",
       " \"Artificial intelligence improves parking efficiency in Chinese cities - People's Daily Online\",\n",
       " '',\n",
       " 'Home',\n",
       " 'China Politics',\n",
       " 'Foreign Affairs',\n",
       " 'Opinions',\n",
       " 'Video: We Are China',\n",
       " 'Business',\n",
       " 'Military',\n",
       " 'World',\n",
       " 'Society',\n",
       " 'Culture',\n",
       " 'Travel',\n",
       " 'Science',\n",
       " 'Sports',\n",
       " 'Photo',\n",
       " '',\n",
       " 'Languages',\n",
       " '',\n",
       " 'Chinese',\n",
       " 'Japanese',\n",
       " 'French',\n",
       " 'Spanish',\n",
       " 'Russian',\n",
       " 'Arabic',\n",
       " 'Korean',\n",
       " 'German',\n",
       " 'Portuguese',\n",
       " 'Thursday, March 18, 2021',\n",
       " 'Home>>',\n",
       " '',\n",
       " '',\n",
       " '',\n",
       " 'Artificial intelligence improves parking efficiency in Chinese cities',\n",
       " \"By Liu\\xa0Shiyao (People's Daily) 09:16, March 18, 2021\",\n",
       " 'Photo taken on July 1, 2019, shows a sign for electronic toll collection (ETC) newly set up at a roadside parking space on Yangzhuang road, Shijingshan district, Beijing. Some urban areas of the city started to use ETC system for roadside parking spaces since July 1, 2019. (People’s Daily Online',\n",
       " 'Li Wenming)',\n",
       " '',\n",
       " '',\n",
       " 'Thanks to the application of an artificial intelligence (AI)-empowered roadside electronic toll collection (ETC) system, China’s capital city Beijing has seen significant improvement in the efficiency of parking fee collection, turnover of roadside parking spots, order in roadside parking, as well as traffic congestion.',\n",
       " '',\n",
       " '',\n",
       " 'As the city further deepens its roadside parking reform, the ETC system has almost covered all the roadside parking spaces in the city, with the proportion of vehicles parked on roads using the system exceeding 90 percent.',\n",
       " '',\n",
       " '',\n",
       " 'With the AI-empowered system, drivers can park their vehicles at the parking spots on the roadside, and then pay the parking charge via their mobile phones after they drive away.',\n",
       " '',\n",
       " '',\n",
       " '“This road used to be full of cars, and even the normal lanes were occupied. You could hardly move a bit during the morning and evening commute time,” recalled a citizen surnamed Wang, who lives in Chaoyang district of Beijing.',\n",
       " '',\n",
       " '',\n",
       " '“Since the summer of 2019, roadside ETC devices have been installed here. With all the cars being parked in designated parking spots on the roadside, the road now seems brighter and wider,” Wang said.',\n",
       " '',\n",
       " '',\n",
       " 'The smart roadside ETC system “AIpark Sky Eye” adopted by Beijing is developed, operated, and maintained by AIpark, a Beijing-based leading smart parking solution provider.',\n",
       " '',\n",
       " '',\n",
       " 'The company’s intelligent system has brought into full play the advantages of AI technologies and effectively addressed the shortage of parking spaces and the problem of irregular parking in cities. The system has therefore been listed among the country’s innovation projects that integrate AI deeply into the real economy in 2018 by China’s Ministry of Industry and Information Technology (MIIT).',\n",
       " '',\n",
       " '',\n",
       " 'Traditional parking management equipment and monitoring devices have failed to meet the actual needs of cities due to limited application scenarios and technical capacity. There are many deficiencies in traditional parking systems. For example, magnetic devices cannot identify detailed information about vehicles; each video monitoring pile can only cover one parking spot; and manual collection of parking fees costs too much.',\n",
       " '',\n",
       " '',\n",
       " 'Such problems don’t exist in smart machines. The “AIpark Sky Eye” system boasts strong stability and high recognition rate. Besides, it can resist the interference of extreme weather conditions like rain, snow, and fog, and form complete graphic evidence based on wheel path of vehicles.',\n",
       " '',\n",
       " '',\n",
       " 'Each set of cameras of the “AIpark Sky Eye” system can monitor multiple parking spots at the same time for 24 hours a day. The data collected by front-end cameras are processed using multi-dimensional deep learning algorithm before they are uploaded on to an AI computing cloud platform for data enrichment. The platform then distributes identification results to transport authorities.',\n",
       " '',\n",
       " '',\n",
       " 'The most distinctive innovation in the technological package of the system is precision brought about by high-mounted parking system cameras, according to Xiang Yanping, senior vice president of AIpark, noting that the cameras can recognize more complex static and dynamic reality scenes.',\n",
       " '',\n",
       " '',\n",
       " '“For example, the equipment can accurately identify irregular parking behaviors and state such as double parking and frequent maneuvers, precisely recognize detailed information including plate number and vehicle color, and make good judgment on the behaviors of drivers and pedestrians,” Xiang said.',\n",
       " '',\n",
       " '',\n",
       " 'Once the high-mounted parking system cameras are installed, they can help with many aspects of integrated urban governance, which represents another advantage of the “AIpark Sky Eye” system.',\n",
       " '',\n",
       " '',\n",
       " 'Besides managing parking fee collection, high-mounted camera system can also provide data for traffic improvements. The snapshots obtained from the camera system can help solve problems including illegal and inappropriate parking and vehicle theft.',\n",
       " '',\n",
       " '',\n",
       " 'So far, the smart ETC system of AIpark has been introduced into more than 20 cities in China, signaling increasingly important roles of AI in improving parking efficiency and order as well as new development opportunities for smart parking industry.',\n",
       " '【1】【2】【3】',\n",
       " 'Photos',\n",
       " 'Naval fleet steams in East China Sea',\n",
       " 'Newborn golden snub-nosed monkey makes debut',\n",
       " 'In pics: birds across China',\n",
       " 'Grain painting studio helps villagers to increase income',\n",
       " 'Related Stories',\n",
       " \"Exhibition highlighting art-science integration opens in BeijingChina’s AI industry poised to enter boom timesAlibaba outlines 10 technology trends for 2019China’s leading AI enterprise iFlytek to develop health information technologyCheetah Mobile wades into artificial intelligenceChina overtakes the US in investment in AI5 million artificial intelligence talents urgently needed in ChinaGraduate students give 'voice' to sign languageArtificial Intelligence in real livesMicrosoft embraces artificial intelligence\",\n",
       " \"About People's Daily Online \",\n",
       " '  Join Us ',\n",
       " ' Contact Us',\n",
       " \"Copyright © 2021 People's Daily Online. All Rights Reserved.\",\n",
       " '',\n",
       " '',\n",
       " '']"
      ]
     },
     "execution_count": 20,
     "metadata": {},
     "output_type": "execute_result"
    }
   ],
   "source": [
    "elements = re.split('\\r|\\n|\\t|\\/|\\|', test)\n",
    "elements"
   ]
  },
  {
   "cell_type": "code",
   "execution_count": 21,
   "id": "a30f1cce",
   "metadata": {},
   "outputs": [
    {
     "data": {
      "text/plain": [
       "99"
      ]
     },
     "execution_count": 21,
     "metadata": {},
     "output_type": "execute_result"
    }
   ],
   "source": [
    "len(elements)"
   ]
  },
  {
   "cell_type": "code",
   "execution_count": 22,
   "id": "ffd8860c",
   "metadata": {},
   "outputs": [],
   "source": [
    "elements = [el for el in elements if len(el) > 0]\n",
    "\n",
    "\n",
    "# now the list contains main text, some long sentence of irrelanvent instructions, \"read others\"\n",
    "# remove elements that contains anything in irrelanvent\n",
    "elements = [el for el in elements if not any(irrelevant_word in el for irrelevant_word in irrelevant)]"
   ]
  },
  {
   "cell_type": "code",
   "execution_count": 23,
   "id": "2cd489cc",
   "metadata": {},
   "outputs": [
    {
     "data": {
      "text/plain": [
       "[\"Artificial intelligence improves parking efficiency in Chinese cities - People's Daily Online\",\n",
       " 'China Politics',\n",
       " 'Foreign Affairs',\n",
       " 'Opinions',\n",
       " 'Video: We Are China',\n",
       " 'Business',\n",
       " 'Military',\n",
       " 'World',\n",
       " 'Society',\n",
       " 'Culture',\n",
       " 'Travel',\n",
       " 'Science',\n",
       " 'Sports',\n",
       " 'Photo',\n",
       " 'Languages',\n",
       " 'Chinese',\n",
       " 'Japanese',\n",
       " 'French',\n",
       " 'Spanish',\n",
       " 'Russian',\n",
       " 'Arabic',\n",
       " 'Korean',\n",
       " 'German',\n",
       " 'Portuguese',\n",
       " 'Thursday, March 18, 2021',\n",
       " 'Artificial intelligence improves parking efficiency in Chinese cities',\n",
       " \"By Liu\\xa0Shiyao (People's Daily) 09:16, March 18, 2021\",\n",
       " 'Li Wenming)',\n",
       " 'Thanks to the application of an artificial intelligence (AI)-empowered roadside electronic toll collection (ETC) system, China’s capital city Beijing has seen significant improvement in the efficiency of parking fee collection, turnover of roadside parking spots, order in roadside parking, as well as traffic congestion.',\n",
       " 'As the city further deepens its roadside parking reform, the ETC system has almost covered all the roadside parking spaces in the city, with the proportion of vehicles parked on roads using the system exceeding 90 percent.',\n",
       " 'With the AI-empowered system, drivers can park their vehicles at the parking spots on the roadside, and then pay the parking charge via their mobile phones after they drive away.',\n",
       " '“Since the summer of 2019, roadside ETC devices have been installed here. With all the cars being parked in designated parking spots on the roadside, the road now seems brighter and wider,” Wang said.',\n",
       " 'The smart roadside ETC system “AIpark Sky Eye” adopted by Beijing is developed, operated, and maintained by AIpark, a Beijing-based leading smart parking solution provider.',\n",
       " 'Traditional parking management equipment and monitoring devices have failed to meet the actual needs of cities due to limited application scenarios and technical capacity. There are many deficiencies in traditional parking systems. For example, magnetic devices cannot identify detailed information about vehicles; each video monitoring pile can only cover one parking spot; and manual collection of parking fees costs too much.',\n",
       " '“For example, the equipment can accurately identify irregular parking behaviors and state such as double parking and frequent maneuvers, precisely recognize detailed information including plate number and vehicle color, and make good judgment on the behaviors of drivers and pedestrians,” Xiang said.',\n",
       " 'Once the high-mounted parking system cameras are installed, they can help with many aspects of integrated urban governance, which represents another advantage of the “AIpark Sky Eye” system.',\n",
       " 'Besides managing parking fee collection, high-mounted camera system can also provide data for traffic improvements. The snapshots obtained from the camera system can help solve problems including illegal and inappropriate parking and vehicle theft.',\n",
       " 'So far, the smart ETC system of AIpark has been introduced into more than 20 cities in China, signaling increasingly important roles of AI in improving parking efficiency and order as well as new development opportunities for smart parking industry.',\n",
       " '【1】【2】【3】',\n",
       " 'Naval fleet steams in East China Sea',\n",
       " 'Newborn golden snub-nosed monkey makes debut',\n",
       " 'In pics: birds across China',\n",
       " 'Related Stories',\n",
       " \"Exhibition highlighting art-science integration opens in BeijingChina’s AI industry poised to enter boom timesAlibaba outlines 10 technology trends for 2019China’s leading AI enterprise iFlytek to develop health information technologyCheetah Mobile wades into artificial intelligenceChina overtakes the US in investment in AI5 million artificial intelligence talents urgently needed in ChinaGraduate students give 'voice' to sign languageArtificial Intelligence in real livesMicrosoft embraces artificial intelligence\",\n",
       " \"About People's Daily Online \",\n",
       " \"Copyright © 2021 People's Daily Online. All Rights Reserved.\"]"
      ]
     },
     "execution_count": 23,
     "metadata": {},
     "output_type": "execute_result"
    }
   ],
   "source": [
    "elements"
   ]
  },
  {
   "cell_type": "code",
   "execution_count": 24,
   "id": "514bd840",
   "metadata": {},
   "outputs": [
    {
     "data": {
      "text/plain": [
       "46"
      ]
     },
     "execution_count": 24,
     "metadata": {},
     "output_type": "execute_result"
    }
   ],
   "source": [
    "len(elements)"
   ]
  },
  {
   "cell_type": "code",
   "execution_count": 25,
   "id": "3f8de96e",
   "metadata": {},
   "outputs": [],
   "source": [
    "elements = [el for el in elements if len(el.split()) > 10 and len(el) > 50]"
   ]
  },
  {
   "cell_type": "code",
   "execution_count": 26,
   "id": "ef9b53a5",
   "metadata": {},
   "outputs": [
    {
     "data": {
      "text/plain": [
       "[\"Artificial intelligence improves parking efficiency in Chinese cities - People's Daily Online\",\n",
       " 'Thanks to the application of an artificial intelligence (AI)-empowered roadside electronic toll collection (ETC) system, China’s capital city Beijing has seen significant improvement in the efficiency of parking fee collection, turnover of roadside parking spots, order in roadside parking, as well as traffic congestion.',\n",
       " 'As the city further deepens its roadside parking reform, the ETC system has almost covered all the roadside parking spaces in the city, with the proportion of vehicles parked on roads using the system exceeding 90 percent.',\n",
       " 'With the AI-empowered system, drivers can park their vehicles at the parking spots on the roadside, and then pay the parking charge via their mobile phones after they drive away.',\n",
       " '“Since the summer of 2019, roadside ETC devices have been installed here. With all the cars being parked in designated parking spots on the roadside, the road now seems brighter and wider,” Wang said.',\n",
       " 'The smart roadside ETC system “AIpark Sky Eye” adopted by Beijing is developed, operated, and maintained by AIpark, a Beijing-based leading smart parking solution provider.',\n",
       " 'Traditional parking management equipment and monitoring devices have failed to meet the actual needs of cities due to limited application scenarios and technical capacity. There are many deficiencies in traditional parking systems. For example, magnetic devices cannot identify detailed information about vehicles; each video monitoring pile can only cover one parking spot; and manual collection of parking fees costs too much.',\n",
       " '“For example, the equipment can accurately identify irregular parking behaviors and state such as double parking and frequent maneuvers, precisely recognize detailed information including plate number and vehicle color, and make good judgment on the behaviors of drivers and pedestrians,” Xiang said.',\n",
       " 'Once the high-mounted parking system cameras are installed, they can help with many aspects of integrated urban governance, which represents another advantage of the “AIpark Sky Eye” system.',\n",
       " 'Besides managing parking fee collection, high-mounted camera system can also provide data for traffic improvements. The snapshots obtained from the camera system can help solve problems including illegal and inappropriate parking and vehicle theft.',\n",
       " 'So far, the smart ETC system of AIpark has been introduced into more than 20 cities in China, signaling increasingly important roles of AI in improving parking efficiency and order as well as new development opportunities for smart parking industry.',\n",
       " \"Exhibition highlighting art-science integration opens in BeijingChina’s AI industry poised to enter boom timesAlibaba outlines 10 technology trends for 2019China’s leading AI enterprise iFlytek to develop health information technologyCheetah Mobile wades into artificial intelligenceChina overtakes the US in investment in AI5 million artificial intelligence talents urgently needed in ChinaGraduate students give 'voice' to sign languageArtificial Intelligence in real livesMicrosoft embraces artificial intelligence\"]"
      ]
     },
     "execution_count": 26,
     "metadata": {},
     "output_type": "execute_result"
    }
   ],
   "source": [
    "elements"
   ]
  },
  {
   "cell_type": "code",
   "execution_count": 27,
   "id": "227f54a2",
   "metadata": {},
   "outputs": [
    {
     "data": {
      "text/plain": [
       "12"
      ]
     },
     "execution_count": 27,
     "metadata": {},
     "output_type": "execute_result"
    }
   ],
   "source": [
    "len(elements)"
   ]
  },
  {
   "cell_type": "code",
   "execution_count": 28,
   "id": "35a1e9be",
   "metadata": {},
   "outputs": [],
   "source": [
    "elements = [el for el in elements if df_raw.clean_title[0] not in el]"
   ]
  },
  {
   "cell_type": "code",
   "execution_count": 29,
   "id": "7e0ff10e",
   "metadata": {},
   "outputs": [
    {
     "data": {
      "text/plain": [
       "['Thanks to the application of an artificial intelligence (AI)-empowered roadside electronic toll collection (ETC) system, China’s capital city Beijing has seen significant improvement in the efficiency of parking fee collection, turnover of roadside parking spots, order in roadside parking, as well as traffic congestion.',\n",
       " 'As the city further deepens its roadside parking reform, the ETC system has almost covered all the roadside parking spaces in the city, with the proportion of vehicles parked on roads using the system exceeding 90 percent.',\n",
       " 'With the AI-empowered system, drivers can park their vehicles at the parking spots on the roadside, and then pay the parking charge via their mobile phones after they drive away.',\n",
       " '“Since the summer of 2019, roadside ETC devices have been installed here. With all the cars being parked in designated parking spots on the roadside, the road now seems brighter and wider,” Wang said.',\n",
       " 'The smart roadside ETC system “AIpark Sky Eye” adopted by Beijing is developed, operated, and maintained by AIpark, a Beijing-based leading smart parking solution provider.',\n",
       " 'Traditional parking management equipment and monitoring devices have failed to meet the actual needs of cities due to limited application scenarios and technical capacity. There are many deficiencies in traditional parking systems. For example, magnetic devices cannot identify detailed information about vehicles; each video monitoring pile can only cover one parking spot; and manual collection of parking fees costs too much.',\n",
       " '“For example, the equipment can accurately identify irregular parking behaviors and state such as double parking and frequent maneuvers, precisely recognize detailed information including plate number and vehicle color, and make good judgment on the behaviors of drivers and pedestrians,” Xiang said.',\n",
       " 'Once the high-mounted parking system cameras are installed, they can help with many aspects of integrated urban governance, which represents another advantage of the “AIpark Sky Eye” system.',\n",
       " 'Besides managing parking fee collection, high-mounted camera system can also provide data for traffic improvements. The snapshots obtained from the camera system can help solve problems including illegal and inappropriate parking and vehicle theft.',\n",
       " 'So far, the smart ETC system of AIpark has been introduced into more than 20 cities in China, signaling increasingly important roles of AI in improving parking efficiency and order as well as new development opportunities for smart parking industry.',\n",
       " \"Exhibition highlighting art-science integration opens in BeijingChina’s AI industry poised to enter boom timesAlibaba outlines 10 technology trends for 2019China’s leading AI enterprise iFlytek to develop health information technologyCheetah Mobile wades into artificial intelligenceChina overtakes the US in investment in AI5 million artificial intelligence talents urgently needed in ChinaGraduate students give 'voice' to sign languageArtificial Intelligence in real livesMicrosoft embraces artificial intelligence\"]"
      ]
     },
     "execution_count": 29,
     "metadata": {},
     "output_type": "execute_result"
    }
   ],
   "source": [
    "elements"
   ]
  },
  {
   "cell_type": "code",
   "execution_count": 30,
   "id": "d6a6c29a",
   "metadata": {},
   "outputs": [
    {
     "data": {
      "text/plain": [
       "\"Thanks to the application of an artificial intelligence (AI)-empowered roadside electronic toll collection (ETC) system, China’s capital city Beijing has seen significant improvement in the efficiency of parking fee collection, turnover of roadside parking spots, order in roadside parking, as well as traffic congestion. As the city further deepens its roadside parking reform, the ETC system has almost covered all the roadside parking spaces in the city, with the proportion of vehicles parked on roads using the system exceeding 90 percent. With the AI-empowered system, drivers can park their vehicles at the parking spots on the roadside, and then pay the parking charge via their mobile phones after they drive away. “Since the summer of 2019, roadside ETC devices have been installed here. With all the cars being parked in designated parking spots on the roadside, the road now seems brighter and wider,” Wang said. The smart roadside ETC system “AIpark Sky Eye” adopted by Beijing is developed, operated, and maintained by AIpark, a Beijing-based leading smart parking solution provider. Traditional parking management equipment and monitoring devices have failed to meet the actual needs of cities due to limited application scenarios and technical capacity. There are many deficiencies in traditional parking systems. For example, magnetic devices cannot identify detailed information about vehicles; each video monitoring pile can only cover one parking spot; and manual collection of parking fees costs too much. “For example, the equipment can accurately identify irregular parking behaviors and state such as double parking and frequent maneuvers, precisely recognize detailed information including plate number and vehicle color, and make good judgment on the behaviors of drivers and pedestrians,” Xiang said. Once the high-mounted parking system cameras are installed, they can help with many aspects of integrated urban governance, which represents another advantage of the “AIpark Sky Eye” system. Besides managing parking fee collection, high-mounted camera system can also provide data for traffic improvements. The snapshots obtained from the camera system can help solve problems including illegal and inappropriate parking and vehicle theft. So far, the smart ETC system of AIpark has been introduced into more than 20 cities in China, signaling increasingly important roles of AI in improving parking efficiency and order as well as new development opportunities for smart parking industry. Exhibition highlighting art-science integration opens in BeijingChina’s AI industry poised to enter boom timesAlibaba outlines 10 technology trends for 2019China’s leading AI enterprise iFlytek to develop health information technologyCheetah Mobile wades into artificial intelligenceChina overtakes the US in investment in AI5 million artificial intelligence talents urgently needed in ChinaGraduate students give 'voice' to sign languageArtificial Intelligence in real livesMicrosoft embraces artificial intelligence\""
      ]
     },
     "execution_count": 30,
     "metadata": {},
     "output_type": "execute_result"
    }
   ],
   "source": [
    "# Join the elements back together\n",
    "filtered_text = ' '.join(elements)\n",
    "filtered_text"
   ]
  },
  {
   "cell_type": "code",
   "execution_count": 31,
   "id": "8331a95d",
   "metadata": {},
   "outputs": [
    {
     "data": {
      "text/plain": [
       "\"Thanks to the application of an artificial intelligence (AI)-empowered roadside electronic toll collection (ETC) system, China’s capital city Beijing has seen significant improvement in the efficiency of parking fee collection, turnover of roadside parking spots, order in roadside parking, as well as traffic congestion. As the city further deepens its roadside parking reform, the ETC system has almost covered all the roadside parking spaces in the city, with the proportion of vehicles parked on roads using the system exceeding 90 percent. With the AI-empowered system, drivers can park their vehicles at the parking spots on the roadside, and then pay the parking charge via their mobile phones after they drive away. “Since the summer of 2019, roadside ETC devices have been installed here. With all the cars being parked in designated parking spots on the roadside, the road now seems brighter and wider,” Wang said. The smart roadside ETC system “AIpark Sky Eye” adopted by Beijing is developed, operated, and maintained by AIpark, a Beijing-based leading smart parking solution provider. Traditional parking management equipment and monitoring devices have failed to meet the actual needs of cities due to limited application scenarios and technical capacity. There are many deficiencies in traditional parking systems. For example, magnetic devices cannot identify detailed information about vehicles; each video monitoring pile can only cover one parking spot; and manual collection of parking fees costs too much. “For example, the equipment can accurately identify irregular parking behaviors and state such as double parking and frequent maneuvers, precisely recognize detailed information including plate number and vehicle color, and make good judgment on the behaviors of drivers and pedestrians,” Xiang said. Once the high-mounted parking system cameras are installed, they can help with many aspects of integrated urban governance, which represents another advantage of the “AIpark Sky Eye” system. Besides managing parking fee collection, high-mounted camera system can also provide data for traffic improvements. The snapshots obtained from the camera system can help solve problems including illegal and inappropriate parking and vehicle theft. So far, the smart ETC system of AIpark has been introduced into more than 20 cities in China, signaling increasingly important roles of AI in improving parking efficiency and order as well as new development opportunities for smart parking industry. Exhibition highlighting art-science integration opens in BeijingChina’s AI industry poised to enter boom timesAlibaba outlines 10 technology trends for 2019China’s leading AI enterprise iFlytek to develop health information technologyCheetah Mobile wades into artificial intelligenceChina overtakes the US in investment in AI5 million artificial intelligence talents urgently needed in ChinaGraduate students give 'voice' to sign languageArtificial Intelligence in real livesMicrosoft embraces artificial intelligence\""
      ]
     },
     "execution_count": 31,
     "metadata": {},
     "output_type": "execute_result"
    }
   ],
   "source": [
    "filtered_text = re.sub(r'[\\[|\\(][^\\]|\\)]*?(?=http)', '', filtered_text)\n",
    "filtered_text"
   ]
  },
  {
   "cell_type": "code",
   "execution_count": 32,
   "id": "1e0a5938",
   "metadata": {},
   "outputs": [
    {
     "data": {
      "text/plain": [
       "\"Thanks to the application of an artificial intelligence (AI)-empowered roadside electronic toll collection (ETC) system, China’s capital city Beijing has seen significant improvement in the efficiency of parking fee collection, turnover of roadside parking spots, order in roadside parking, as well as traffic congestion. As the city further deepens its roadside parking reform, the ETC system has almost covered all the roadside parking spaces in the city, with the proportion of vehicles parked on roads using the system exceeding 90 percent. With the AI-empowered system, drivers can park their vehicles at the parking spots on the roadside, and then pay the parking charge via their mobile phones after they drive away. “Since the summer of 2019, roadside ETC devices have been installed here. With all the cars being parked in designated parking spots on the roadside, the road now seems brighter and wider,” Wang said. The smart roadside ETC system “AIpark Sky Eye” adopted by Beijing is developed, operated, and maintained by AIpark, a Beijing-based leading smart parking solution provider. Traditional parking management equipment and monitoring devices have failed to meet the actual needs of cities due to limited application scenarios and technical capacity. There are many deficiencies in traditional parking systems. For example, magnetic devices cannot identify detailed information about vehicles; each video monitoring pile can only cover one parking spot; and manual collection of parking fees costs too much. “For example, the equipment can accurately identify irregular parking behaviors and state such as double parking and frequent maneuvers, precisely recognize detailed information including plate number and vehicle color, and make good judgment on the behaviors of drivers and pedestrians,” Xiang said. Once the high-mounted parking system cameras are installed, they can help with many aspects of integrated urban governance, which represents another advantage of the “AIpark Sky Eye” system. Besides managing parking fee collection, high-mounted camera system can also provide data for traffic improvements. The snapshots obtained from the camera system can help solve problems including illegal and inappropriate parking and vehicle theft. So far, the smart ETC system of AIpark has been introduced into more than 20 cities in China, signaling increasingly important roles of AI in improving parking efficiency and order as well as new development opportunities for smart parking industry. Exhibition highlighting art-science integration opens in BeijingChina’s AI industry poised to enter boom timesAlibaba outlines 10 technology trends for 2019China’s leading AI enterprise iFlytek to develop health information technologyCheetah Mobile wades into artificial intelligenceChina overtakes the US in investment in AI5 million artificial intelligence talents urgently needed in ChinaGraduate students give 'voice' to sign languageArtificial Intelligence in real livesMicrosoft embraces artificial intelligence\""
      ]
     },
     "execution_count": 32,
     "metadata": {},
     "output_type": "execute_result"
    }
   ],
   "source": [
    "filtered_text = re.sub(r'<a.*?>', '', filtered_text)\n",
    "filtered_text"
   ]
  },
  {
   "cell_type": "code",
   "execution_count": 33,
   "id": "4e0075a3",
   "metadata": {},
   "outputs": [
    {
     "data": {
      "text/plain": [
       "3035"
      ]
     },
     "execution_count": 33,
     "metadata": {},
     "output_type": "execute_result"
    }
   ],
   "source": [
    "len(filtered_text)"
   ]
  },
  {
   "cell_type": "code",
   "execution_count": 34,
   "id": "6d558934",
   "metadata": {},
   "outputs": [
    {
     "data": {
      "text/plain": [
       "3035"
      ]
     },
     "execution_count": 34,
     "metadata": {},
     "output_type": "execute_result"
    }
   ],
   "source": [
    "filtered_text = re.sub(r'\\bpic.twitter.com/\\S+', '', filtered_text)\n",
    "filtered_text\n",
    "len(filtered_text)"
   ]
  },
  {
   "cell_type": "code",
   "execution_count": 35,
   "id": "6b8e52fe",
   "metadata": {},
   "outputs": [
    {
     "data": {
      "text/plain": [
       "3035"
      ]
     },
     "execution_count": 35,
     "metadata": {},
     "output_type": "execute_result"
    }
   ],
   "source": [
    "filtered_text = re.sub(r'\\bpic.twitter.com/\\S+', '', filtered_text)\n",
    "len(filtered_text)"
   ]
  },
  {
   "cell_type": "code",
   "execution_count": 36,
   "id": "6eb7c2be",
   "metadata": {},
   "outputs": [
    {
     "data": {
      "text/plain": [
       "3035"
      ]
     },
     "execution_count": 36,
     "metadata": {},
     "output_type": "execute_result"
    }
   ],
   "source": [
    "filtered_text = re.sub(r'#[\\S]+\\b', '', filtered_text)\n",
    "len(filtered_text)"
   ]
  },
  {
   "cell_type": "code",
   "execution_count": 37,
   "id": "045d452d",
   "metadata": {},
   "outputs": [
    {
     "data": {
      "text/plain": [
       "3035"
      ]
     },
     "execution_count": 37,
     "metadata": {},
     "output_type": "execute_result"
    }
   ],
   "source": [
    "filtered_text = re.sub(r'\\b@\\S+\\b', '', filtered_text)\n",
    "len(filtered_text)"
   ]
  },
  {
   "cell_type": "code",
   "execution_count": 38,
   "id": "49c31da9",
   "metadata": {},
   "outputs": [
    {
     "data": {
      "text/plain": [
       "3035"
      ]
     },
     "execution_count": 38,
     "metadata": {},
     "output_type": "execute_result"
    }
   ],
   "source": [
    "filtered_text = re.sub(r'[\\w\\.-]+@[\\w\\.-]+\\.\\w+', '', filtered_text)\n",
    "len(filtered_text)"
   ]
  },
  {
   "cell_type": "code",
   "execution_count": 39,
   "id": "64a9010f",
   "metadata": {},
   "outputs": [
    {
     "data": {
      "text/plain": [
       "3035"
      ]
     },
     "execution_count": 39,
     "metadata": {},
     "output_type": "execute_result"
    }
   ],
   "source": [
    "filtered_text = re.sub(r'http\\S+', '', filtered_text)\n",
    "len(filtered_text)"
   ]
  },
  {
   "cell_type": "code",
   "execution_count": 40,
   "id": "e303cad3",
   "metadata": {},
   "outputs": [
    {
     "data": {
      "text/plain": [
       "'Thanks to the application of an artificial intelligence AIempowered roadside electronic toll collection ETC system Chinas capital city Beijing has seen significant improvement in the efficiency of parking fee collection turnover of roadside parking spots order in roadside parking as well as traffic congestion As the city further deepens its roadside parking reform the ETC system has almost covered all the roadside parking spaces in the city with the proportion of vehicles parked on roads using the system exceeding 90 percent With the AIempowered system drivers can park their vehicles at the parking spots on the roadside and then pay the parking charge via their mobile phones after they drive away Since the summer of 2019 roadside ETC devices have been installed here With all the cars being parked in designated parking spots on the roadside the road now seems brighter and wider Wang said The smart roadside ETC system AIpark Sky Eye adopted by Beijing is developed operated and maintained by AIpark a Beijingbased leading smart parking solution provider Traditional parking management equipment and monitoring devices have failed to meet the actual needs of cities due to limited application scenarios and technical capacity There are many deficiencies in traditional parking systems For example magnetic devices cannot identify detailed information about vehicles each video monitoring pile can only cover one parking spot and manual collection of parking fees costs too much For example the equipment can accurately identify irregular parking behaviors and state such as double parking and frequent maneuvers precisely recognize detailed information including plate number and vehicle color and make good judgment on the behaviors of drivers and pedestrians Xiang said Once the highmounted parking system cameras are installed they can help with many aspects of integrated urban governance which represents another advantage of the AIpark Sky Eye system Besides managing parking fee collection highmounted camera system can also provide data for traffic improvements The snapshots obtained from the camera system can help solve problems including illegal and inappropriate parking and vehicle theft So far the smart ETC system of AIpark has been introduced into more than 20 cities in China signaling increasingly important roles of AI in improving parking efficiency and order as well as new development opportunities for smart parking industry Exhibition highlighting artscience integration opens in BeijingChinas AI industry poised to enter boom timesAlibaba outlines 10 technology trends for 2019Chinas leading AI enterprise iFlytek to develop health information technologyCheetah Mobile wades into artificial intelligenceChina overtakes the US in investment in AI5 million artificial intelligence talents urgently needed in ChinaGraduate students give voice to sign languageArtificial Intelligence in real livesMicrosoft embraces artificial intelligence'"
      ]
     },
     "execution_count": 40,
     "metadata": {},
     "output_type": "execute_result"
    }
   ],
   "source": [
    "filtered_text = re.sub(r'[^\\w\\s]', '', filtered_text)\n",
    "filtered_text"
   ]
  },
  {
   "cell_type": "code",
   "execution_count": 41,
   "id": "f76840c8",
   "metadata": {},
   "outputs": [
    {
     "data": {
      "text/plain": [
       "2972"
      ]
     },
     "execution_count": 41,
     "metadata": {},
     "output_type": "execute_result"
    }
   ],
   "source": [
    "filtered_text = re.sub(r'\\s+', ' ', filtered_text)\n",
    "len(filtered_text)"
   ]
  },
  {
   "attachments": {},
   "cell_type": "markdown",
   "id": "75bcd9c5",
   "metadata": {},
   "source": [
    "##### Formal Cleaning"
   ]
  },
  {
   "cell_type": "code",
   "execution_count": 131,
   "id": "9859a3e4",
   "metadata": {},
   "outputs": [],
   "source": [
    "def clean_news(text, clean_title):\n",
    "    # import re\n",
    "\n",
    "\n",
    "    # First, split the text by new lines, tab, |, -\n",
    "    elements = re.split('\\r|\\n|\\t|\\/|\\|', text)\n",
    "\n",
    "    # remove empty elements --> solve \\n\\n situations\n",
    "    elements = [el for el in elements if len(el) > 0]\n",
    "\n",
    "\n",
    "   # remove the article recommendations\n",
    "    for i, el in enumerate(elements):\n",
    "        if el.lower() in recommended_phrases:\n",
    "            elements = elements[:i]\n",
    "            break\n",
    "\n",
    "    # now the list contains main text, some long sentence of irrelanvent instructions, \"read others\"\n",
    "    # remove elements that contains anything in irrelevant\n",
    "    elements = [el for el in elements if not any(irrelevant_word.lower() in el.lower() for irrelevant_word in include_irrelevant)]\n",
    "\n",
    "\n",
    "    # remove elements that equal to annything in irrelevant --> actually unnecessary since the length  control will work for it\n",
    "    # elements = [el for el in elements if not any(el.lower() == irrelevant_word.lower() for irrelevant_word in equal_irrelevant)]\n",
    "\n",
    "\n",
    "    # now filter out elements that are likely not part of the main text --> but some main text consists of paragraphs separated by \\n\n",
    "    # so we cannot set a threshold for main text. Instead we should set a threshold for each paragraph\n",
    "    # Also, the length of paragraph for news is usually much shorter\n",
    "    elements = [el for el in elements if len(el.split()) > 10 and len(el) > 50]\n",
    "\n",
    "    # escape the elemet contaning the title\n",
    "    elements = [el for el in elements if clean_title not in el]\n",
    "\n",
    "    # Join the elements back together\n",
    "    filtered_text = ' '.join(elements)\n",
    "\n",
    "\n",
    "    # Then, proceed with the some basic clean-up steps: some should be removed but I just kept them in case\n",
    "\n",
    "    # remove remnants of web crawls\n",
    "    filtered_text = re.sub(r'[\\[|\\(][^\\]|\\)]*?(?=http)', '', filtered_text)\n",
    "    filtered_text = re.sub(r'<a.*?>', '', filtered_text)\n",
    "    filtered_text = re.sub(r'\\bpic.twitter.com/\\S+', '', filtered_text)\n",
    "    filtered_text = re.sub(r'#[\\S]+\\b', '', filtered_text)\n",
    "    filtered_text = re.sub(r'\\b@\\S+\\b', '', filtered_text)\n",
    "    filtered_text = re.sub(r'[\\w\\.-]+@[\\w\\.-]+\\.\\w+', '', filtered_text)\n",
    "    # remove URLs\n",
    "    filtered_text = re.sub(r'http\\S+', '', filtered_text)\n",
    "    # no need to remove punctuation and special characters\n",
    "    # filtered_text = re.sub(r'[^\\w\\s]', '', filtered_text)\n",
    "    # remove extra white spaces\n",
    "    filtered_text = re.sub(r'\\s+', ' ', filtered_text)\n",
    "    \n",
    "    return filtered_text\n"
   ]
  },
  {
   "cell_type": "code",
   "execution_count": 132,
   "id": "bdfe2106",
   "metadata": {},
   "outputs": [
    {
     "name": "stdout",
     "output_type": "stream",
     "text": [
      "CPU times: total: 2min 54s\n",
      "Wall time: 5min 23s\n"
     ]
    }
   ],
   "source": [
    "%%time\n",
    "df_raw['clean_text'] = df_raw.apply(lambda x: clean_news(x['text'], x['clean_title']), axis=1)"
   ]
  },
  {
   "cell_type": "code",
   "execution_count": 70,
   "id": "19dad07c",
   "metadata": {},
   "outputs": [],
   "source": [
    "# df_raw['clean_text'] = df_raw.parallel_apply(lambda x: clean_news(x['text'], x['clean_title']), axis=1)"
   ]
  },
  {
   "cell_type": "code",
   "execution_count": 133,
   "id": "7d71bdb5",
   "metadata": {},
   "outputs": [
    {
     "data": {
      "text/plain": [
       "\"Thanks to the application of an artificial intelligence (AI)-empowered roadside electronic toll collection (ETC) system, China’s capital city Beijing has seen significant improvement in the efficiency of parking fee collection, turnover of roadside parking spots, order in roadside parking, as well as traffic congestion. As the city further deepens its roadside parking reform, the ETC system has almost covered all the roadside parking spaces in the city, with the proportion of vehicles parked on roads using the system exceeding 90 percent. With the AI-empowered system, drivers can park their vehicles at the parking spots on the roadside, and then pay the parking charge via their mobile phones after they drive away. “This road used to be full of cars, and even the normal lanes were occupied. You could hardly move a bit during the morning and evening commute time,” recalled a citizen surnamed Wang, who lives in Chaoyang district of Beijing. “Since the summer of 2019, roadside ETC devices have been installed here. With all the cars being parked in designated parking spots on the roadside, the road now seems brighter and wider,” Wang said. The smart roadside ETC system “AIpark Sky Eye” adopted by Beijing is developed, operated, and maintained by AIpark, a Beijing-based leading smart parking solution provider. The company’s intelligent system has brought into full play the advantages of AI technologies and effectively addressed the shortage of parking spaces and the problem of irregular parking in cities. The system has therefore been listed among the country’s innovation projects that integrate AI deeply into the real economy in 2018 by China’s Ministry of Industry and Information Technology (MIIT). Traditional parking management equipment and monitoring devices have failed to meet the actual needs of cities due to limited application scenarios and technical capacity. There are many deficiencies in traditional parking systems. For example, magnetic devices cannot identify detailed information about vehicles; each video monitoring pile can only cover one parking spot; and manual collection of parking fees costs too much. Such problems don’t exist in smart machines. The “AIpark Sky Eye” system boasts strong stability and high recognition rate. Besides, it can resist the interference of extreme weather conditions like rain, snow, and fog, and form complete graphic evidence based on wheel path of vehicles. Each set of cameras of the “AIpark Sky Eye” system can monitor multiple parking spots at the same time for 24 hours a day. The data collected by front-end cameras are processed using multi-dimensional deep learning algorithm before they are uploaded on to an AI computing cloud platform for data enrichment. The platform then distributes identification results to transport authorities. The most distinctive innovation in the technological package of the system is precision brought about by high-mounted parking system cameras, according to Xiang Yanping, senior vice president of AIpark, noting that the cameras can recognize more complex static and dynamic reality scenes. “For example, the equipment can accurately identify irregular parking behaviors and state such as double parking and frequent maneuvers, precisely recognize detailed information including plate number and vehicle color, and make good judgment on the behaviors of drivers and pedestrians,” Xiang said. Once the high-mounted parking system cameras are installed, they can help with many aspects of integrated urban governance, which represents another advantage of the “AIpark Sky Eye” system. Besides managing parking fee collection, high-mounted camera system can also provide data for traffic improvements. The snapshots obtained from the camera system can help solve problems including illegal and inappropriate parking and vehicle theft. So far, the smart ETC system of AIpark has been introduced into more than 20 cities in China, signaling increasingly important roles of AI in improving parking efficiency and order as well as new development opportunities for smart parking industry. Exhibition highlighting art-science integration opens in BeijingChina’s AI industry poised to enter boom timesAlibaba outlines 10 technology trends for 2019China’s leading AI enterprise iFlytek to develop health information technologyCheetah Mobile wades into artificial intelligenceChina overtakes the US in investment in AI5 million artificial intelligence talents urgently needed in ChinaGraduate students give 'voice' to sign languageArtificial Intelligence in real livesMicrosoft embraces artificial intelligence\""
      ]
     },
     "execution_count": 133,
     "metadata": {},
     "output_type": "execute_result"
    }
   ],
   "source": [
    "df_raw.clean_text[0]"
   ]
  },
  {
   "attachments": {},
   "cell_type": "markdown",
   "id": "0948518c",
   "metadata": {},
   "source": [
    "#### Check after First NER"
   ]
  },
  {
   "cell_type": "code",
   "execution_count": null,
   "id": "a3ea0d2f",
   "metadata": {},
   "outputs": [
    {
     "data": {
      "text/plain": [
       "(183, 7)"
      ]
     },
     "execution_count": 51,
     "metadata": {},
     "output_type": "execute_result"
    }
   ],
   "source": [
    "# check whether digital communications is a news source\n",
    "digi_rows = df_raw[df_raw['clean_text'].str.contains('Digi Communications', case=False)]\n",
    "digi_rows.shape"
   ]
  },
  {
   "cell_type": "code",
   "execution_count": null,
   "id": "ad978229",
   "metadata": {},
   "outputs": [
    {
     "data": {
      "text/plain": [
       "80      https://express-press-release.net/news/2022/11/07/1287823\n",
       "2098    https://express-press-release.net/news/2023/04/14/1401010\n",
       "5152    https://express-press-release.net/news/2022/04/06/1138245\n",
       "6194    https://express-press-release.net/news/2022/04/14/1144652\n",
       "9240    https://express-press-release.net/news/2021/09/25/1023059\n",
       "Name: url, dtype: object"
      ]
     },
     "execution_count": 54,
     "metadata": {},
     "output_type": "execute_result"
    }
   ],
   "source": [
    "digi_rows.url.head()"
   ]
  },
  {
   "cell_type": "code",
   "execution_count": 59,
   "id": "ba99f433",
   "metadata": {},
   "outputs": [
    {
     "data": {
      "text/plain": [
       "(26956, 7)"
      ]
     },
     "execution_count": 59,
     "metadata": {},
     "output_type": "execute_result"
    }
   ],
   "source": [
    "gray_media_rows = df_raw[df_raw['clean_text'].str.contains('Gray Media Group Inc', case=False)]\n",
    "gray_media_rows.shape"
   ]
  },
  {
   "cell_type": "code",
   "execution_count": 60,
   "id": "4c3d170a",
   "metadata": {},
   "outputs": [
    {
     "data": {
      "text/plain": [
       "280                                                     https://www.1011now.com/prnewswire/2022/11/03/kbr-awarded-analytic-modeling-data-science-contracts-worth-over-120m/\n",
       "286                                  https://www.actionnews5.com/prnewswire/2022/07/29/quantum-music-showcase-groundbreaking-ai-baby-crying-translator-q-bear-tta-pavilion/\n",
       "287                          https://www.actionnews5.com/prnewswire/2023/03/21/manufacturers-focused-digital-transformation-through-ai-recognized-by-symphonyai-industrial/\n",
       "288    https://www.alaskasnewssource.com/prnewswire/2022/08/02/workwave-launches-servicebot-by-workwave-delivering-powerful-ai-sales-technology-variety-service-industries/\n",
       "289                                               https://www.alaskasnewssource.com/prnewswire/2023/04/04/homedigy-launches-geodrops-worlds-smartest-ai-irrigation-manager/\n",
       "Name: url, dtype: object"
      ]
     },
     "execution_count": 60,
     "metadata": {},
     "output_type": "execute_result"
    }
   ],
   "source": [
    "gray_media_rows.url.head()"
   ]
  },
  {
   "attachments": {},
   "cell_type": "markdown",
   "id": "cb6de8c1",
   "metadata": {},
   "source": [
    "## Filter Relevant News"
   ]
  },
  {
   "cell_type": "code",
   "execution_count": 134,
   "id": "5159c698",
   "metadata": {},
   "outputs": [],
   "source": [
    "# filter relevant text\n",
    "keywords = ['artificial intelligence', 'data science', 'machine Learning', 'AI']\n",
    "\n",
    "df_filtered = df_raw[df_raw['clean_text'].str.contains('|'.join(keywords), case=False)]"
   ]
  },
  {
   "cell_type": "code",
   "execution_count": 135,
   "id": "a958bdff",
   "metadata": {},
   "outputs": [],
   "source": [
    "df_filtered = df_filtered.reset_index(drop=True)"
   ]
  },
  {
   "cell_type": "code",
   "execution_count": 136,
   "id": "bc0cbce6",
   "metadata": {},
   "outputs": [],
   "source": [
    "df_filtered = df_filtered.drop(['url', 'language'], axis=1)\n"
   ]
  },
  {
   "cell_type": "code",
   "execution_count": 137,
   "id": "d4f5ab57",
   "metadata": {},
   "outputs": [
    {
     "data": {
      "text/html": [
       "<div>\n",
       "<style scoped>\n",
       "    .dataframe tbody tr th:only-of-type {\n",
       "        vertical-align: middle;\n",
       "    }\n",
       "\n",
       "    .dataframe tbody tr th {\n",
       "        vertical-align: top;\n",
       "    }\n",
       "\n",
       "    .dataframe thead th {\n",
       "        text-align: right;\n",
       "    }\n",
       "</style>\n",
       "<table border=\"1\" class=\"dataframe\">\n",
       "  <thead>\n",
       "    <tr style=\"text-align: right;\">\n",
       "      <th></th>\n",
       "      <th>date</th>\n",
       "      <th>title</th>\n",
       "      <th>text</th>\n",
       "      <th>domain</th>\n",
       "      <th>clean_title</th>\n",
       "      <th>clean_text</th>\n",
       "    </tr>\n",
       "  </thead>\n",
       "  <tbody>\n",
       "    <tr>\n",
       "      <th>0</th>\n",
       "      <td>2021-03-18</td>\n",
       "      <td>Artificial intelligence improves parking efficiency in Chinese cities – People's Daily Online</td>\n",
       "      <td>\\n\\nArtificial intelligence improves parking efficiency in Chinese cities - People's Daily Online\\n\\nHome\\nChina Politics\\nForeign Affairs\\nOpinions\\nVideo: We Are China\\nBusiness\\nMilitary\\nWorld\\nSociety\\nCulture\\nTravel\\nScience\\nSports\\nPhoto\\n\\nLanguages\\n\\nChinese\\nJapanese\\nFrench\\nSpanish\\nRussian\\nArabic\\nKorean\\nGerman\\nPortuguese\\nThursday, March 18, 2021\\nHome&gt;&gt;\\n\\t\\t\\nArtificial intelligence improves parking efficiency in Chinese cities\\nBy Liu Shiyao (People's Daily) 09:16, March 18, 2021\\nPhoto taken on July 1, 2019, shows a sign for electronic toll collection (ETC) newly set up at a roadside parking space on Yangzhuang road, Shijingshan district, Beijing. Some urban areas of the city started to use ETC system for roadside parking spaces since July 1, 2019. (People’s Daily Online/Li Wenming)\\n\\n\\tThanks to the application of an artificial intelligence (AI)-empowered roadside electronic toll collection (ETC) system, China’s capital city Beijing has seen significant improvement in the efficiency of parking fee collection, turnover of roadside parking spots, order in roadside parking, as well as traffic congestion.\\n\\n\\tAs the city further deepens its roadside parking reform, the ETC system has almost covered all the roadside parking spaces in the city, with the proportion of vehicles parked on roads using the system exceeding 90 percent.\\n\\n\\tWith the AI-empowered system, drivers can park their vehicles at the parking spots on the roadside, and then pay the parking charge via their mobile phones after they drive away.\\n\\n\\t“This road used to be full of cars, and even the normal lanes were occupied. You could hardly move a bit during the morning and evening commute time,” recalled a citizen surnamed Wang, who lives in Chaoyang district of Beijing.\\n\\n\\t“Since the summer of 2019, roadside ETC devices have been installed here. With all the cars being parked in designated parking spots on the roadside, the road now seems brighter and wider,” Wang said.\\n\\n\\tThe smart roadside ETC system “AIpark Sky Eye” adopted by Beijing is developed, operated, and maintained by AIpark, a Beijing-based leading smart parking solution provider.\\n\\n\\tThe company’s intelligent system has brought into full play the advantages of AI technologies and effectively addressed the shortage of parking spaces and the problem of irregular parking in cities. The system has therefore been listed among the country’s innovation projects that integrate AI deeply into the real economy in 2018 by China’s Ministry of Industry and Information Technology (MIIT).\\n\\n\\tTraditional parking management equipment and monitoring devices have failed to meet the actual needs of cities due to limited application scenarios and technical capacity. There are many deficiencies in traditional parking systems. For example, magnetic devices cannot identify detailed information about vehicles; each video monitoring pile can only cover one parking spot; and manual collection of parking fees costs too much.\\n\\n\\tSuch problems don’t exist in smart machines. The “AIpark Sky Eye” system boasts strong stability and high recognition rate. Besides, it can resist the interference of extreme weather conditions like rain, snow, and fog, and form complete graphic evidence based on wheel path of vehicles.\\n\\n\\tEach set of cameras of the “AIpark Sky Eye” system can monitor multiple parking spots at the same time for 24 hours a day. The data collected by front-end cameras are processed using multi-dimensional deep learning algorithm before they are uploaded on to an AI computing cloud platform for data enrichment. The platform then distributes identification results to transport authorities.\\n\\n\\tThe most distinctive innovation in the technological package of the system is precision brought about by high-mounted parking system cameras, according to Xiang Yanping, senior vice president of AIpark, noting that the cameras can recognize more complex static and dynamic reality scenes.\\n\\n\\t“For example, the equipment can accurately identify irregular parking behaviors and state such as double parking and frequent maneuvers, precisely recognize detailed information including plate number and vehicle color, and make good judgment on the behaviors of drivers and pedestrians,” Xiang said.\\n\\n\\tOnce the high-mounted parking system cameras are installed, they can help with many aspects of integrated urban governance, which represents another advantage of the “AIpark Sky Eye” system.\\n\\n\\tBesides managing parking fee collection, high-mounted camera system can also provide data for traffic improvements. The snapshots obtained from the camera system can help solve problems including illegal and inappropriate parking and vehicle theft.\\n\\n\\tSo far, the smart ETC system of AIpark has been introduced into more than 20 cities in China, signaling increasingly important roles of AI in improving parking efficiency and order as well as new development opportunities for smart parking industry.\\n【1】【2】【3】\\nPhotos\\nNaval fleet steams in East China Sea\\nNewborn golden snub-nosed monkey makes debut\\nIn pics: birds across China\\nGrain painting studio helps villagers to increase income\\nRelated Stories\\nExhibition highlighting art-science integration opens in BeijingChina’s AI industry poised to enter boom timesAlibaba outlines 10 technology trends for 2019China’s leading AI enterprise iFlytek to develop health information technologyCheetah Mobile wades into artificial intelligenceChina overtakes the US in investment in AI5 million artificial intelligence talents urgently needed in ChinaGraduate students give 'voice' to sign languageArtificial Intelligence in real livesMicrosoft embraces artificial intelligence\\nAbout People's Daily Online |  Join Us | Contact Us\\nCopyright © 2021 People's Daily Online. All Rights Reserved.\\n\\t\\n</td>\n",
       "      <td>en.people.cn</td>\n",
       "      <td>Artificial intelligence improves parking efficiency in Chinese cities</td>\n",
       "      <td>Thanks to the application of an artificial intelligence (AI)-empowered roadside electronic toll collection (ETC) system, China’s capital city Beijing has seen significant improvement in the efficiency of parking fee collection, turnover of roadside parking spots, order in roadside parking, as well as traffic congestion. As the city further deepens its roadside parking reform, the ETC system has almost covered all the roadside parking spaces in the city, with the proportion of vehicles parked on roads using the system exceeding 90 percent. With the AI-empowered system, drivers can park their vehicles at the parking spots on the roadside, and then pay the parking charge via their mobile phones after they drive away. “This road used to be full of cars, and even the normal lanes were occupied. You could hardly move a bit during the morning and evening commute time,” recalled a citizen surnamed Wang, who lives in Chaoyang district of Beijing. “Since the summer of 2019, roadside ETC devices have been installed here. With all the cars being parked in designated parking spots on the roadside, the road now seems brighter and wider,” Wang said. The smart roadside ETC system “AIpark Sky Eye” adopted by Beijing is developed, operated, and maintained by AIpark, a Beijing-based leading smart parking solution provider. The company’s intelligent system has brought into full play the advantages of AI technologies and effectively addressed the shortage of parking spaces and the problem of irregular parking in cities. The system has therefore been listed among the country’s innovation projects that integrate AI deeply into the real economy in 2018 by China’s Ministry of Industry and Information Technology (MIIT). Traditional parking management equipment and monitoring devices have failed to meet the actual needs of cities due to limited application scenarios and technical capacity. There are many deficiencies in traditional parking systems. For example, magnetic devices cannot identify detailed information about vehicles; each video monitoring pile can only cover one parking spot; and manual collection of parking fees costs too much. Such problems don’t exist in smart machines. The “AIpark Sky Eye” system boasts strong stability and high recognition rate. Besides, it can resist the interference of extreme weather conditions like rain, snow, and fog, and form complete graphic evidence based on wheel path of vehicles. Each set of cameras of the “AIpark Sky Eye” system can monitor multiple parking spots at the same time for 24 hours a day. The data collected by front-end cameras are processed using multi-dimensional deep learning algorithm before they are uploaded on to an AI computing cloud platform for data enrichment. The platform then distributes identification results to transport authorities. The most distinctive innovation in the technological package of the system is precision brought about by high-mounted parking system cameras, according to Xiang Yanping, senior vice president of AIpark, noting that the cameras can recognize more complex static and dynamic reality scenes. “For example, the equipment can accurately identify irregular parking behaviors and state such as double parking and frequent maneuvers, precisely recognize detailed information including plate number and vehicle color, and make good judgment on the behaviors of drivers and pedestrians,” Xiang said. Once the high-mounted parking system cameras are installed, they can help with many aspects of integrated urban governance, which represents another advantage of the “AIpark Sky Eye” system. Besides managing parking fee collection, high-mounted camera system can also provide data for traffic improvements. The snapshots obtained from the camera system can help solve problems including illegal and inappropriate parking and vehicle theft. So far, the smart ETC system of AIpark has been introduced into more than 20 cities in China, signaling increasingly important roles of AI in improving parking efficiency and order as well as new development opportunities for smart parking industry. Exhibition highlighting art-science integration opens in BeijingChina’s AI industry poised to enter boom timesAlibaba outlines 10 technology trends for 2019China’s leading AI enterprise iFlytek to develop health information technologyCheetah Mobile wades into artificial intelligenceChina overtakes the US in investment in AI5 million artificial intelligence talents urgently needed in ChinaGraduate students give 'voice' to sign languageArtificial Intelligence in real livesMicrosoft embraces artificial intelligence</td>\n",
       "    </tr>\n",
       "  </tbody>\n",
       "</table>\n",
       "</div>"
      ],
      "text/plain": [
       "         date  \\\n",
       "0  2021-03-18   \n",
       "\n",
       "                                                                                           title  \\\n",
       "0  Artificial intelligence improves parking efficiency in Chinese cities – People's Daily Online   \n",
       "\n",
       "                                                                                                                                                                                                                                                                                                                                                                                                                                                                                                                                                                                                                                                                                                                                                                                                                                                                                                                                                                                                                                                                                                                                                                                                                                                                                                                                                                                                                                                                                                                                                                                                                                                                                                                                                                                                                                                                                                                                                                                                                                                                                                                                                                                                                                                                                                                                                                                                                                                                                                                                                                                                                                                                                                                                                                                                                                                                                                                                                                                                                                                                                                                                                                                                                                                                                                                                                                                                                                                                                                                                                                                                                                                                                                                                                                                                                                                                                                                                                                                                                                                                                                                                                                                                                                                                                                                                                                                                                                                                                                                                                                                                                                                                                                                                                                                                                                                                                                                                                                                                                                                                                                                                                                                                                                                                                                                                                                                                                                                                                                                                                                                                                                                                                                                                                                                                                                                                                                                                                                                                                                                                                      text  \\\n",
       "0  \\n\\nArtificial intelligence improves parking efficiency in Chinese cities - People's Daily Online\\n\\nHome\\nChina Politics\\nForeign Affairs\\nOpinions\\nVideo: We Are China\\nBusiness\\nMilitary\\nWorld\\nSociety\\nCulture\\nTravel\\nScience\\nSports\\nPhoto\\n\\nLanguages\\n\\nChinese\\nJapanese\\nFrench\\nSpanish\\nRussian\\nArabic\\nKorean\\nGerman\\nPortuguese\\nThursday, March 18, 2021\\nHome>>\\n\\t\\t\\nArtificial intelligence improves parking efficiency in Chinese cities\\nBy Liu Shiyao (People's Daily) 09:16, March 18, 2021\\nPhoto taken on July 1, 2019, shows a sign for electronic toll collection (ETC) newly set up at a roadside parking space on Yangzhuang road, Shijingshan district, Beijing. Some urban areas of the city started to use ETC system for roadside parking spaces since July 1, 2019. (People’s Daily Online/Li Wenming)\\n\\n\\tThanks to the application of an artificial intelligence (AI)-empowered roadside electronic toll collection (ETC) system, China’s capital city Beijing has seen significant improvement in the efficiency of parking fee collection, turnover of roadside parking spots, order in roadside parking, as well as traffic congestion.\\n\\n\\tAs the city further deepens its roadside parking reform, the ETC system has almost covered all the roadside parking spaces in the city, with the proportion of vehicles parked on roads using the system exceeding 90 percent.\\n\\n\\tWith the AI-empowered system, drivers can park their vehicles at the parking spots on the roadside, and then pay the parking charge via their mobile phones after they drive away.\\n\\n\\t“This road used to be full of cars, and even the normal lanes were occupied. You could hardly move a bit during the morning and evening commute time,” recalled a citizen surnamed Wang, who lives in Chaoyang district of Beijing.\\n\\n\\t“Since the summer of 2019, roadside ETC devices have been installed here. With all the cars being parked in designated parking spots on the roadside, the road now seems brighter and wider,” Wang said.\\n\\n\\tThe smart roadside ETC system “AIpark Sky Eye” adopted by Beijing is developed, operated, and maintained by AIpark, a Beijing-based leading smart parking solution provider.\\n\\n\\tThe company’s intelligent system has brought into full play the advantages of AI technologies and effectively addressed the shortage of parking spaces and the problem of irregular parking in cities. The system has therefore been listed among the country’s innovation projects that integrate AI deeply into the real economy in 2018 by China’s Ministry of Industry and Information Technology (MIIT).\\n\\n\\tTraditional parking management equipment and monitoring devices have failed to meet the actual needs of cities due to limited application scenarios and technical capacity. There are many deficiencies in traditional parking systems. For example, magnetic devices cannot identify detailed information about vehicles; each video monitoring pile can only cover one parking spot; and manual collection of parking fees costs too much.\\n\\n\\tSuch problems don’t exist in smart machines. The “AIpark Sky Eye” system boasts strong stability and high recognition rate. Besides, it can resist the interference of extreme weather conditions like rain, snow, and fog, and form complete graphic evidence based on wheel path of vehicles.\\n\\n\\tEach set of cameras of the “AIpark Sky Eye” system can monitor multiple parking spots at the same time for 24 hours a day. The data collected by front-end cameras are processed using multi-dimensional deep learning algorithm before they are uploaded on to an AI computing cloud platform for data enrichment. The platform then distributes identification results to transport authorities.\\n\\n\\tThe most distinctive innovation in the technological package of the system is precision brought about by high-mounted parking system cameras, according to Xiang Yanping, senior vice president of AIpark, noting that the cameras can recognize more complex static and dynamic reality scenes.\\n\\n\\t“For example, the equipment can accurately identify irregular parking behaviors and state such as double parking and frequent maneuvers, precisely recognize detailed information including plate number and vehicle color, and make good judgment on the behaviors of drivers and pedestrians,” Xiang said.\\n\\n\\tOnce the high-mounted parking system cameras are installed, they can help with many aspects of integrated urban governance, which represents another advantage of the “AIpark Sky Eye” system.\\n\\n\\tBesides managing parking fee collection, high-mounted camera system can also provide data for traffic improvements. The snapshots obtained from the camera system can help solve problems including illegal and inappropriate parking and vehicle theft.\\n\\n\\tSo far, the smart ETC system of AIpark has been introduced into more than 20 cities in China, signaling increasingly important roles of AI in improving parking efficiency and order as well as new development opportunities for smart parking industry.\\n【1】【2】【3】\\nPhotos\\nNaval fleet steams in East China Sea\\nNewborn golden snub-nosed monkey makes debut\\nIn pics: birds across China\\nGrain painting studio helps villagers to increase income\\nRelated Stories\\nExhibition highlighting art-science integration opens in BeijingChina’s AI industry poised to enter boom timesAlibaba outlines 10 technology trends for 2019China’s leading AI enterprise iFlytek to develop health information technologyCheetah Mobile wades into artificial intelligenceChina overtakes the US in investment in AI5 million artificial intelligence talents urgently needed in ChinaGraduate students give 'voice' to sign languageArtificial Intelligence in real livesMicrosoft embraces artificial intelligence\\nAbout People's Daily Online |  Join Us | Contact Us\\nCopyright © 2021 People's Daily Online. All Rights Reserved.\\n\\t\\n   \n",
       "\n",
       "         domain  \\\n",
       "0  en.people.cn   \n",
       "\n",
       "                                                             clean_title  \\\n",
       "0  Artificial intelligence improves parking efficiency in Chinese cities   \n",
       "\n",
       "                                                                                                                                                                                                                                                                                                                                                                                                                                                                                                                                                                                                                                                                                                                                                                                                                                                                                                                                                                                                                                                                                                                                                                                                                                                                                                                                                                                                                                                                                                                                                                                                                                                                                                                                                                                                                                                                                                                                                                                                                                                                                                                                                                                                                                                                                                                                                                                                                                                                                                                                                                                                                                                                                                                                                                                                                                                                                                                                                                                                                                                                                                                                                                                                                                                                                                                                                                                                                                                                                                                                                                                                                                                                                                                                                                                                                                                                                                                                                                                                                                                                                                                                                                                                                                                                                                                                                                                                                                                                                                                                                                                                                                                                                                                                                                                                          clean_text  \n",
       "0  Thanks to the application of an artificial intelligence (AI)-empowered roadside electronic toll collection (ETC) system, China’s capital city Beijing has seen significant improvement in the efficiency of parking fee collection, turnover of roadside parking spots, order in roadside parking, as well as traffic congestion. As the city further deepens its roadside parking reform, the ETC system has almost covered all the roadside parking spaces in the city, with the proportion of vehicles parked on roads using the system exceeding 90 percent. With the AI-empowered system, drivers can park their vehicles at the parking spots on the roadside, and then pay the parking charge via their mobile phones after they drive away. “This road used to be full of cars, and even the normal lanes were occupied. You could hardly move a bit during the morning and evening commute time,” recalled a citizen surnamed Wang, who lives in Chaoyang district of Beijing. “Since the summer of 2019, roadside ETC devices have been installed here. With all the cars being parked in designated parking spots on the roadside, the road now seems brighter and wider,” Wang said. The smart roadside ETC system “AIpark Sky Eye” adopted by Beijing is developed, operated, and maintained by AIpark, a Beijing-based leading smart parking solution provider. The company’s intelligent system has brought into full play the advantages of AI technologies and effectively addressed the shortage of parking spaces and the problem of irregular parking in cities. The system has therefore been listed among the country’s innovation projects that integrate AI deeply into the real economy in 2018 by China’s Ministry of Industry and Information Technology (MIIT). Traditional parking management equipment and monitoring devices have failed to meet the actual needs of cities due to limited application scenarios and technical capacity. There are many deficiencies in traditional parking systems. For example, magnetic devices cannot identify detailed information about vehicles; each video monitoring pile can only cover one parking spot; and manual collection of parking fees costs too much. Such problems don’t exist in smart machines. The “AIpark Sky Eye” system boasts strong stability and high recognition rate. Besides, it can resist the interference of extreme weather conditions like rain, snow, and fog, and form complete graphic evidence based on wheel path of vehicles. Each set of cameras of the “AIpark Sky Eye” system can monitor multiple parking spots at the same time for 24 hours a day. The data collected by front-end cameras are processed using multi-dimensional deep learning algorithm before they are uploaded on to an AI computing cloud platform for data enrichment. The platform then distributes identification results to transport authorities. The most distinctive innovation in the technological package of the system is precision brought about by high-mounted parking system cameras, according to Xiang Yanping, senior vice president of AIpark, noting that the cameras can recognize more complex static and dynamic reality scenes. “For example, the equipment can accurately identify irregular parking behaviors and state such as double parking and frequent maneuvers, precisely recognize detailed information including plate number and vehicle color, and make good judgment on the behaviors of drivers and pedestrians,” Xiang said. Once the high-mounted parking system cameras are installed, they can help with many aspects of integrated urban governance, which represents another advantage of the “AIpark Sky Eye” system. Besides managing parking fee collection, high-mounted camera system can also provide data for traffic improvements. The snapshots obtained from the camera system can help solve problems including illegal and inappropriate parking and vehicle theft. So far, the smart ETC system of AIpark has been introduced into more than 20 cities in China, signaling increasingly important roles of AI in improving parking efficiency and order as well as new development opportunities for smart parking industry. Exhibition highlighting art-science integration opens in BeijingChina’s AI industry poised to enter boom timesAlibaba outlines 10 technology trends for 2019China’s leading AI enterprise iFlytek to develop health information technologyCheetah Mobile wades into artificial intelligenceChina overtakes the US in investment in AI5 million artificial intelligence talents urgently needed in ChinaGraduate students give 'voice' to sign languageArtificial Intelligence in real livesMicrosoft embraces artificial intelligence  "
      ]
     },
     "execution_count": 137,
     "metadata": {},
     "output_type": "execute_result"
    }
   ],
   "source": [
    "df_filtered.head(1)"
   ]
  },
  {
   "cell_type": "code",
   "execution_count": 138,
   "id": "6c60a01d",
   "metadata": {},
   "outputs": [
    {
     "data": {
      "text/plain": [
       "(165530, 6)"
      ]
     },
     "execution_count": 138,
     "metadata": {},
     "output_type": "execute_result"
    }
   ],
   "source": [
    "df_filtered.shape"
   ]
  },
  {
   "attachments": {},
   "cell_type": "markdown",
   "id": "353d02e8",
   "metadata": {},
   "source": [
    "## Tokenization, Lemmatization, and Concatnation"
   ]
  },
  {
   "cell_type": "code",
   "execution_count": 139,
   "id": "42506872",
   "metadata": {},
   "outputs": [],
   "source": [
    "from nltk.tokenize import word_tokenize\n",
    "from nltk.corpus import stopwords\n",
    "from nltk.stem import WordNetLemmatizer\n",
    "import nltk"
   ]
  },
  {
   "cell_type": "code",
   "execution_count": 140,
   "id": "61e828e7",
   "metadata": {},
   "outputs": [
    {
     "name": "stderr",
     "output_type": "stream",
     "text": [
      "[nltk_data] Downloading package punkt to C:\\Users\\Eason\n",
      "[nltk_data]     Peng\\AppData\\Roaming\\nltk_data...\n",
      "[nltk_data]   Package punkt is already up-to-date!\n",
      "[nltk_data] Downloading package stopwords to C:\\Users\\Eason\n",
      "[nltk_data]     Peng\\AppData\\Roaming\\nltk_data...\n",
      "[nltk_data]   Package stopwords is already up-to-date!\n",
      "[nltk_data] Downloading package wordnet to C:\\Users\\Eason\n",
      "[nltk_data]     Peng\\AppData\\Roaming\\nltk_data...\n",
      "[nltk_data]   Package wordnet is already up-to-date!\n"
     ]
    }
   ],
   "source": [
    "# Download necessary resources\n",
    "nltk.download('punkt')\n",
    "nltk.download('stopwords')\n",
    "nltk.download('wordnet')\n",
    "\n",
    "stop_words = set(stopwords.words('english')) \n",
    "lemmatizer = WordNetLemmatizer()"
   ]
  },
  {
   "cell_type": "code",
   "execution_count": 141,
   "id": "abe9e847",
   "metadata": {},
   "outputs": [],
   "source": [
    "def clean_tokens(text):\n",
    "    \n",
    "    # Tokenize the text\n",
    "    tokens = word_tokenize(text)\n",
    "\n",
    "    # Remove single-character tokens (mostly punctuation)\n",
    "    tokens = [word for word in tokens if len(word) > 1]\n",
    "\n",
    "    # Do not remove numbers --> numbers here may matter\n",
    "    # tokens = [word for word in tokens if not word.isnumeric()]\n",
    "\n",
    "    # Remove punctuation\n",
    "    tokens = [word for word in tokens if word.isalpha()]\n",
    "\n",
    "    # Lowercase all words (default_stopwords are lowercase too)\n",
    "    tokens = [word.lower() for word in tokens]\n",
    "    \n",
    "    # Remove stopwords\n",
    "    tokens = [word for word in tokens if word not in stop_words]\n",
    "    \n",
    "    lemmatized_tokens = [lemmatizer.lemmatize(token.lower()) for token in tokens]\n",
    "    return \" \".join(lemmatized_tokens)"
   ]
  },
  {
   "cell_type": "code",
   "execution_count": 142,
   "id": "067a52a2",
   "metadata": {},
   "outputs": [
    {
     "name": "stdout",
     "output_type": "stream",
     "text": [
      "CPU times: total: 4min 44s\n",
      "Wall time: 9min 48s\n"
     ]
    }
   ],
   "source": [
    "%%time\n",
    "df_filtered['clean_token'] = df_filtered['clean_text'].apply(clean_tokens)"
   ]
  },
  {
   "attachments": {},
   "cell_type": "markdown",
   "id": "7a5b791f",
   "metadata": {},
   "source": [
    "## Save to Local"
   ]
  },
  {
   "cell_type": "code",
   "execution_count": 145,
   "id": "a4ac5de5",
   "metadata": {},
   "outputs": [
    {
     "data": {
      "text/plain": [
       "Index(['date', 'title', 'text', 'domain', 'clean_title', 'clean_text',\n",
       "       'clean_token'],\n",
       "      dtype='object')"
      ]
     },
     "execution_count": 145,
     "metadata": {},
     "output_type": "execute_result"
    }
   ],
   "source": [
    "df_filtered.columns"
   ]
  },
  {
   "cell_type": "code",
   "execution_count": 146,
   "id": "05765e43",
   "metadata": {},
   "outputs": [],
   "source": [
    "df_filtered = df_filtered.drop(['text', 'title'], axis=1)"
   ]
  },
  {
   "cell_type": "code",
   "execution_count": 147,
   "id": "eac87a85",
   "metadata": {},
   "outputs": [
    {
     "data": {
      "text/html": [
       "<div>\n",
       "<style scoped>\n",
       "    .dataframe tbody tr th:only-of-type {\n",
       "        vertical-align: middle;\n",
       "    }\n",
       "\n",
       "    .dataframe tbody tr th {\n",
       "        vertical-align: top;\n",
       "    }\n",
       "\n",
       "    .dataframe thead th {\n",
       "        text-align: right;\n",
       "    }\n",
       "</style>\n",
       "<table border=\"1\" class=\"dataframe\">\n",
       "  <thead>\n",
       "    <tr style=\"text-align: right;\">\n",
       "      <th></th>\n",
       "      <th>date</th>\n",
       "      <th>domain</th>\n",
       "      <th>clean_title</th>\n",
       "      <th>clean_text</th>\n",
       "      <th>clean_token</th>\n",
       "    </tr>\n",
       "  </thead>\n",
       "  <tbody>\n",
       "    <tr>\n",
       "      <th>0</th>\n",
       "      <td>2021-03-18</td>\n",
       "      <td>en.people.cn</td>\n",
       "      <td>Artificial intelligence improves parking efficiency in Chinese cities</td>\n",
       "      <td>Thanks to the application of an artificial intelligence (AI)-empowered roadside electronic toll collection (ETC) system, China’s capital city Beijing has seen significant improvement in the efficiency of parking fee collection, turnover of roadside parking spots, order in roadside parking, as well as traffic congestion. As the city further deepens its roadside parking reform, the ETC system has almost covered all the roadside parking spaces in the city, with the proportion of vehicles parked on roads using the system exceeding 90 percent. With the AI-empowered system, drivers can park their vehicles at the parking spots on the roadside, and then pay the parking charge via their mobile phones after they drive away. “This road used to be full of cars, and even the normal lanes were occupied. You could hardly move a bit during the morning and evening commute time,” recalled a citizen surnamed Wang, who lives in Chaoyang district of Beijing. “Since the summer of 2019, roadside ETC devices have been installed here. With all the cars being parked in designated parking spots on the roadside, the road now seems brighter and wider,” Wang said. The smart roadside ETC system “AIpark Sky Eye” adopted by Beijing is developed, operated, and maintained by AIpark, a Beijing-based leading smart parking solution provider. The company’s intelligent system has brought into full play the advantages of AI technologies and effectively addressed the shortage of parking spaces and the problem of irregular parking in cities. The system has therefore been listed among the country’s innovation projects that integrate AI deeply into the real economy in 2018 by China’s Ministry of Industry and Information Technology (MIIT). Traditional parking management equipment and monitoring devices have failed to meet the actual needs of cities due to limited application scenarios and technical capacity. There are many deficiencies in traditional parking systems. For example, magnetic devices cannot identify detailed information about vehicles; each video monitoring pile can only cover one parking spot; and manual collection of parking fees costs too much. Such problems don’t exist in smart machines. The “AIpark Sky Eye” system boasts strong stability and high recognition rate. Besides, it can resist the interference of extreme weather conditions like rain, snow, and fog, and form complete graphic evidence based on wheel path of vehicles. Each set of cameras of the “AIpark Sky Eye” system can monitor multiple parking spots at the same time for 24 hours a day. The data collected by front-end cameras are processed using multi-dimensional deep learning algorithm before they are uploaded on to an AI computing cloud platform for data enrichment. The platform then distributes identification results to transport authorities. The most distinctive innovation in the technological package of the system is precision brought about by high-mounted parking system cameras, according to Xiang Yanping, senior vice president of AIpark, noting that the cameras can recognize more complex static and dynamic reality scenes. “For example, the equipment can accurately identify irregular parking behaviors and state such as double parking and frequent maneuvers, precisely recognize detailed information including plate number and vehicle color, and make good judgment on the behaviors of drivers and pedestrians,” Xiang said. Once the high-mounted parking system cameras are installed, they can help with many aspects of integrated urban governance, which represents another advantage of the “AIpark Sky Eye” system. Besides managing parking fee collection, high-mounted camera system can also provide data for traffic improvements. The snapshots obtained from the camera system can help solve problems including illegal and inappropriate parking and vehicle theft. So far, the smart ETC system of AIpark has been introduced into more than 20 cities in China, signaling increasingly important roles of AI in improving parking efficiency and order as well as new development opportunities for smart parking industry. Exhibition highlighting art-science integration opens in BeijingChina’s AI industry poised to enter boom timesAlibaba outlines 10 technology trends for 2019China’s leading AI enterprise iFlytek to develop health information technologyCheetah Mobile wades into artificial intelligenceChina overtakes the US in investment in AI5 million artificial intelligence talents urgently needed in ChinaGraduate students give 'voice' to sign languageArtificial Intelligence in real livesMicrosoft embraces artificial intelligence</td>\n",
       "      <td>thanks application artificial intelligence ai roadside electronic toll collection etc system china capital city beijing seen significant improvement efficiency parking fee collection turnover roadside parking spot order roadside parking well traffic congestion city deepens roadside parking reform etc system almost covered roadside parking space city proportion vehicle parked road using system exceeding percent system driver park vehicle parking spot roadside pay parking charge via mobile phone drive away road used full car even normal lane occupied could hardly move bit morning evening commute time recalled citizen surnamed wang life chaoyang district beijing since summer roadside etc device installed car parked designated parking spot roadside road seems brighter wider wang said smart roadside etc system aipark sky eye adopted beijing developed operated maintained aipark leading smart parking solution provider company intelligent system brought full play advantage ai technology effectively addressed shortage parking space problem irregular parking city system therefore listed among country innovation project integrate ai deeply real economy china ministry industry information technology miit traditional parking management equipment monitoring device failed meet actual need city due limited application scenario technical capacity many deficiency traditional parking system example magnetic device identify detailed information vehicle video monitoring pile cover one parking spot manual collection parking fee cost much problem exist smart machine aipark sky eye system boast strong stability high recognition rate besides resist interference extreme weather condition like rain snow fog form complete graphic evidence based wheel path vehicle set camera aipark sky eye system monitor multiple parking spot time hour day data collected camera processed using deep learning algorithm uploaded ai computing cloud platform data enrichment platform distributes identification result transport authority distinctive innovation technological package system precision brought parking system camera according xiang yanping senior vice president aipark noting camera recognize complex static dynamic reality scene example equipment accurately identify irregular parking behavior state double parking frequent maneuver precisely recognize detailed information including plate number vehicle color make good judgment behavior driver pedestrian xiang said parking system camera installed help many aspect integrated urban governance represents another advantage aipark sky eye system besides managing parking fee collection camera system also provide data traffic improvement snapshot obtained camera system help solve problem including illegal inappropriate parking vehicle theft far smart etc system aipark introduced city china signaling increasingly important role ai improving parking efficiency order well new development opportunity smart parking industry exhibition highlighting integration open beijingchina ai industry poised enter boom timesalibaba outline technology trend leading ai enterprise iflytek develop health information technologycheetah mobile wade artificial intelligencechina overtakes u investment million artificial intelligence talent urgently needed chinagraduate student give sign languageartificial intelligence real livesmicrosoft embrace artificial intelligence</td>\n",
       "    </tr>\n",
       "  </tbody>\n",
       "</table>\n",
       "</div>"
      ],
      "text/plain": [
       "         date        domain  \\\n",
       "0  2021-03-18  en.people.cn   \n",
       "\n",
       "                                                             clean_title  \\\n",
       "0  Artificial intelligence improves parking efficiency in Chinese cities   \n",
       "\n",
       "                                                                                                                                                                                                                                                                                                                                                                                                                                                                                                                                                                                                                                                                                                                                                                                                                                                                                                                                                                                                                                                                                                                                                                                                                                                                                                                                                                                                                                                                                                                                                                                                                                                                                                                                                                                                                                                                                                                                                                                                                                                                                                                                                                                                                                                                                                                                                                                                                                                                                                                                                                                                                                                                                                                                                                                                                                                                                                                                                                                                                                                                                                                                                                                                                                                                                                                                                                                                                                                                                                                                                                                                                                                                                                                                                                                                                                                                                                                                                                                                                                                                                                                                                                                                                                                                                                                                                                                                                                                                                                                                                                                                                                                                                                                                                                                                          clean_text  \\\n",
       "0  Thanks to the application of an artificial intelligence (AI)-empowered roadside electronic toll collection (ETC) system, China’s capital city Beijing has seen significant improvement in the efficiency of parking fee collection, turnover of roadside parking spots, order in roadside parking, as well as traffic congestion. As the city further deepens its roadside parking reform, the ETC system has almost covered all the roadside parking spaces in the city, with the proportion of vehicles parked on roads using the system exceeding 90 percent. With the AI-empowered system, drivers can park their vehicles at the parking spots on the roadside, and then pay the parking charge via their mobile phones after they drive away. “This road used to be full of cars, and even the normal lanes were occupied. You could hardly move a bit during the morning and evening commute time,” recalled a citizen surnamed Wang, who lives in Chaoyang district of Beijing. “Since the summer of 2019, roadside ETC devices have been installed here. With all the cars being parked in designated parking spots on the roadside, the road now seems brighter and wider,” Wang said. The smart roadside ETC system “AIpark Sky Eye” adopted by Beijing is developed, operated, and maintained by AIpark, a Beijing-based leading smart parking solution provider. The company’s intelligent system has brought into full play the advantages of AI technologies and effectively addressed the shortage of parking spaces and the problem of irregular parking in cities. The system has therefore been listed among the country’s innovation projects that integrate AI deeply into the real economy in 2018 by China’s Ministry of Industry and Information Technology (MIIT). Traditional parking management equipment and monitoring devices have failed to meet the actual needs of cities due to limited application scenarios and technical capacity. There are many deficiencies in traditional parking systems. For example, magnetic devices cannot identify detailed information about vehicles; each video monitoring pile can only cover one parking spot; and manual collection of parking fees costs too much. Such problems don’t exist in smart machines. The “AIpark Sky Eye” system boasts strong stability and high recognition rate. Besides, it can resist the interference of extreme weather conditions like rain, snow, and fog, and form complete graphic evidence based on wheel path of vehicles. Each set of cameras of the “AIpark Sky Eye” system can monitor multiple parking spots at the same time for 24 hours a day. The data collected by front-end cameras are processed using multi-dimensional deep learning algorithm before they are uploaded on to an AI computing cloud platform for data enrichment. The platform then distributes identification results to transport authorities. The most distinctive innovation in the technological package of the system is precision brought about by high-mounted parking system cameras, according to Xiang Yanping, senior vice president of AIpark, noting that the cameras can recognize more complex static and dynamic reality scenes. “For example, the equipment can accurately identify irregular parking behaviors and state such as double parking and frequent maneuvers, precisely recognize detailed information including plate number and vehicle color, and make good judgment on the behaviors of drivers and pedestrians,” Xiang said. Once the high-mounted parking system cameras are installed, they can help with many aspects of integrated urban governance, which represents another advantage of the “AIpark Sky Eye” system. Besides managing parking fee collection, high-mounted camera system can also provide data for traffic improvements. The snapshots obtained from the camera system can help solve problems including illegal and inappropriate parking and vehicle theft. So far, the smart ETC system of AIpark has been introduced into more than 20 cities in China, signaling increasingly important roles of AI in improving parking efficiency and order as well as new development opportunities for smart parking industry. Exhibition highlighting art-science integration opens in BeijingChina’s AI industry poised to enter boom timesAlibaba outlines 10 technology trends for 2019China’s leading AI enterprise iFlytek to develop health information technologyCheetah Mobile wades into artificial intelligenceChina overtakes the US in investment in AI5 million artificial intelligence talents urgently needed in ChinaGraduate students give 'voice' to sign languageArtificial Intelligence in real livesMicrosoft embraces artificial intelligence   \n",
       "\n",
       "                                                                                                                                                                                                                                                                                                                                                                                                                                                                                                                                                                                                                                                                                                                                                                                                                                                                                                                                                                                                                                                                                                                                                                                                                                                                                                                                                                                                                                                                                                                                                                                                                                                                                                                                                                                                                                                                                                                                                                                                                                                                                                                                                                                                                                                                                                                                                                                                                                                                                                                                                                                                                                                                                                                                                                                                                                                                                                                                                                                                                                                                                                                                                                                                                                                                                                                                                                                                                                                                                                                                    clean_token  \n",
       "0  thanks application artificial intelligence ai roadside electronic toll collection etc system china capital city beijing seen significant improvement efficiency parking fee collection turnover roadside parking spot order roadside parking well traffic congestion city deepens roadside parking reform etc system almost covered roadside parking space city proportion vehicle parked road using system exceeding percent system driver park vehicle parking spot roadside pay parking charge via mobile phone drive away road used full car even normal lane occupied could hardly move bit morning evening commute time recalled citizen surnamed wang life chaoyang district beijing since summer roadside etc device installed car parked designated parking spot roadside road seems brighter wider wang said smart roadside etc system aipark sky eye adopted beijing developed operated maintained aipark leading smart parking solution provider company intelligent system brought full play advantage ai technology effectively addressed shortage parking space problem irregular parking city system therefore listed among country innovation project integrate ai deeply real economy china ministry industry information technology miit traditional parking management equipment monitoring device failed meet actual need city due limited application scenario technical capacity many deficiency traditional parking system example magnetic device identify detailed information vehicle video monitoring pile cover one parking spot manual collection parking fee cost much problem exist smart machine aipark sky eye system boast strong stability high recognition rate besides resist interference extreme weather condition like rain snow fog form complete graphic evidence based wheel path vehicle set camera aipark sky eye system monitor multiple parking spot time hour day data collected camera processed using deep learning algorithm uploaded ai computing cloud platform data enrichment platform distributes identification result transport authority distinctive innovation technological package system precision brought parking system camera according xiang yanping senior vice president aipark noting camera recognize complex static dynamic reality scene example equipment accurately identify irregular parking behavior state double parking frequent maneuver precisely recognize detailed information including plate number vehicle color make good judgment behavior driver pedestrian xiang said parking system camera installed help many aspect integrated urban governance represents another advantage aipark sky eye system besides managing parking fee collection camera system also provide data traffic improvement snapshot obtained camera system help solve problem including illegal inappropriate parking vehicle theft far smart etc system aipark introduced city china signaling increasingly important role ai improving parking efficiency order well new development opportunity smart parking industry exhibition highlighting integration open beijingchina ai industry poised enter boom timesalibaba outline technology trend leading ai enterprise iflytek develop health information technologycheetah mobile wade artificial intelligencechina overtakes u investment million artificial intelligence talent urgently needed chinagraduate student give sign languageartificial intelligence real livesmicrosoft embrace artificial intelligence  "
      ]
     },
     "execution_count": 147,
     "metadata": {},
     "output_type": "execute_result"
    }
   ],
   "source": [
    "df_filtered.head(1)"
   ]
  },
  {
   "cell_type": "code",
   "execution_count": 148,
   "id": "497c29e1",
   "metadata": {},
   "outputs": [
    {
     "data": {
      "text/plain": [
       "(165530, 5)"
      ]
     },
     "execution_count": 148,
     "metadata": {},
     "output_type": "execute_result"
    }
   ],
   "source": [
    "df_filtered.shape"
   ]
  },
  {
   "cell_type": "code",
   "execution_count": null,
   "id": "a1c023a6",
   "metadata": {},
   "outputs": [],
   "source": []
  },
  {
   "cell_type": "code",
   "execution_count": 149,
   "id": "3592a9a0",
   "metadata": {},
   "outputs": [
    {
     "name": "stdout",
     "output_type": "stream",
     "text": [
      "CPU times: total: 2.86 s\n",
      "Wall time: 6.44 s\n"
     ]
    }
   ],
   "source": [
    "%%time\n",
    "# save filtered df\n",
    "df_filtered.to_parquet('filtered_data.parquet', engine='pyarrow')"
   ]
  },
  {
   "cell_type": "code",
   "execution_count": null,
   "id": "9bc83bbc",
   "metadata": {},
   "outputs": [],
   "source": []
  }
 ],
 "metadata": {
  "kernelspec": {
   "display_name": "Python 3 (ipykernel)",
   "language": "python",
   "name": "python3"
  },
  "language_info": {
   "codemirror_mode": {
    "name": "ipython",
    "version": 3
   },
   "file_extension": ".py",
   "mimetype": "text/x-python",
   "name": "python",
   "nbconvert_exporter": "python",
   "pygments_lexer": "ipython3",
   "version": "3.9.0"
  }
 },
 "nbformat": 4,
 "nbformat_minor": 5
}
