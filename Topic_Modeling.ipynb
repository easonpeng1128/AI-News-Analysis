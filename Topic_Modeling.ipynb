{
 "cells": [
  {
   "attachments": {},
   "cell_type": "markdown",
   "metadata": {
    "tags": []
   },
   "source": [
    "## Environment Setting and Data Loading"
   ]
  },
  {
   "cell_type": "code",
   "execution_count": 1,
   "metadata": {
    "tags": []
   },
   "outputs": [],
   "source": [
    "import pandas as pd\n",
    "import numpy as np"
   ]
  },
  {
   "cell_type": "code",
   "execution_count": 2,
   "metadata": {
    "tags": []
   },
   "outputs": [],
   "source": [
    "from gensim.models import LdaMulticore\n",
    "from gensim.models.coherencemodel import CoherenceModel\n",
    "from gensim import corpora\n",
    "from gensim.utils import simple_preprocess\n",
    "from gensim.models import TfidfModel\n",
    "from nltk.corpus import stopwords\n",
    "import matplotlib.pyplot as plt\n",
    "import spacy\n",
    "import gensim\n",
    "import time"
   ]
  },
  {
   "cell_type": "code",
   "execution_count": 3,
   "metadata": {
    "tags": []
   },
   "outputs": [
    {
     "data": {
      "text/plain": [
       "20"
      ]
     },
     "execution_count": 3,
     "metadata": {},
     "output_type": "execute_result"
    }
   ],
   "source": [
    "import multiprocessing\n",
    "\n",
    "num_processors = multiprocessing.cpu_count()\n",
    "num_processors"
   ]
  },
  {
   "cell_type": "code",
   "execution_count": 4,
   "metadata": {
    "tags": []
   },
   "outputs": [],
   "source": [
    "# !pip install pandarallel"
   ]
  },
  {
   "cell_type": "code",
   "execution_count": 4,
   "metadata": {
    "tags": []
   },
   "outputs": [
    {
     "name": "stdout",
     "output_type": "stream",
     "text": [
      "INFO: Pandarallel will run on 19 workers.\n",
      "INFO: Pandarallel will use standard multiprocessing data transfer (pipe) to transfer data between the main process and workers.\n",
      "\n",
      "WARNING: You are on Windows. If you detect any issue with pandarallel, be sure you checked out the Troubleshooting page:\n",
      "https://nalepae.github.io/pandarallel/troubleshooting/\n"
     ]
    }
   ],
   "source": [
    "from pandarallel import pandarallel\n",
    "\n",
    "# Initialize pandarallel\n",
    "pandarallel.initialize(nb_workers = multiprocessing.cpu_count()-1, use_memory_fs=False, progress_bar=True)"
   ]
  },
  {
   "cell_type": "code",
   "execution_count": 6,
   "metadata": {
    "tags": []
   },
   "outputs": [],
   "source": [
    "start_time = time.time()\n",
    "\n",
    "def tic():\n",
    "    global start_time \n",
    "    start_time = time.time()\n",
    "\n",
    "def tac():\n",
    "    t_sec = round(time.time() - start_time)\n",
    "    (t_min, t_sec) = divmod(t_sec,60)\n",
    "    (t_hour,t_min) = divmod(t_min,60) \n",
    "    print(f'Execution time to calculate for topic {k}: {t_hour}hour:{t_min}min:{t_sec}sec'.format(t_hour,t_min,t_sec))"
   ]
  },
  {
   "cell_type": "code",
   "execution_count": 8,
   "metadata": {
    "tags": []
   },
   "outputs": [
    {
     "name": "stdout",
     "output_type": "stream",
     "text": [
      "CPU times: total: 6.33 s\n",
      "Wall time: 18 s\n"
     ]
    },
    {
     "data": {
      "text/html": [
       "<div>\n",
       "<style scoped>\n",
       "    .dataframe tbody tr th:only-of-type {\n",
       "        vertical-align: middle;\n",
       "    }\n",
       "\n",
       "    .dataframe tbody tr th {\n",
       "        vertical-align: top;\n",
       "    }\n",
       "\n",
       "    .dataframe thead th {\n",
       "        text-align: right;\n",
       "    }\n",
       "</style>\n",
       "<table border=\"1\" class=\"dataframe\">\n",
       "  <thead>\n",
       "    <tr style=\"text-align: right;\">\n",
       "      <th></th>\n",
       "      <th>date</th>\n",
       "      <th>domain</th>\n",
       "      <th>clean_title</th>\n",
       "      <th>clean_text</th>\n",
       "      <th>clean_token</th>\n",
       "      <th>sentiment_score_vader</th>\n",
       "      <th>sentiment_vader</th>\n",
       "      <th>sentiment_svm</th>\n",
       "      <th>sentiment_score_vader_customized</th>\n",
       "      <th>sentiment_vader_customized</th>\n",
       "      <th>NER_word</th>\n",
       "      <th>ORG_NER</th>\n",
       "      <th>PERSON_NER</th>\n",
       "      <th>GPE_NER</th>\n",
       "      <th>sentiment_ner</th>\n",
       "    </tr>\n",
       "  </thead>\n",
       "  <tbody>\n",
       "    <tr>\n",
       "      <th>0</th>\n",
       "      <td>2021-03-18</td>\n",
       "      <td>en.people.cn</td>\n",
       "      <td>Artificial intelligence improves parking effic...</td>\n",
       "      <td>Thanks to the application of an artificial int...</td>\n",
       "      <td>thanks application artificial intelligence ai ...</td>\n",
       "      <td>0.997</td>\n",
       "      <td>Positive</td>\n",
       "      <td>0</td>\n",
       "      <td>0.9961</td>\n",
       "      <td>Positive</td>\n",
       "      <td>[[ETC, ETC, AI, Wang, ETC, Wang, ETC, Ministry...</td>\n",
       "      <td>[ETC, ETC, AI, Wang, ETC, Wang, ETC, Ministry ...</td>\n",
       "      <td>[Xiang Yanping, Xiang]</td>\n",
       "      <td>[China, Beijing, Chaoyang, Beijing, Beijing, B...</td>\n",
       "      <td>E...</td>\n",
       "    </tr>\n",
       "  </tbody>\n",
       "</table>\n",
       "</div>"
      ],
      "text/plain": [
       "         date        domain  \\\n",
       "0  2021-03-18  en.people.cn   \n",
       "\n",
       "                                         clean_title  \\\n",
       "0  Artificial intelligence improves parking effic...   \n",
       "\n",
       "                                          clean_text  \\\n",
       "0  Thanks to the application of an artificial int...   \n",
       "\n",
       "                                         clean_token  sentiment_score_vader  \\\n",
       "0  thanks application artificial intelligence ai ...                  0.997   \n",
       "\n",
       "  sentiment_vader  sentiment_svm  sentiment_score_vader_customized  \\\n",
       "0        Positive              0                            0.9961   \n",
       "\n",
       "  sentiment_vader_customized  \\\n",
       "0                   Positive   \n",
       "\n",
       "                                            NER_word  \\\n",
       "0  [[ETC, ETC, AI, Wang, ETC, Wang, ETC, Ministry...   \n",
       "\n",
       "                                             ORG_NER              PERSON_NER  \\\n",
       "0  [ETC, ETC, AI, Wang, ETC, Wang, ETC, Ministry ...  [Xiang Yanping, Xiang]   \n",
       "\n",
       "                                             GPE_NER  \\\n",
       "0  [China, Beijing, Chaoyang, Beijing, Beijing, B...   \n",
       "\n",
       "                                       sentiment_ner  \n",
       "0                                               E...  "
      ]
     },
     "execution_count": 8,
     "metadata": {},
     "output_type": "execute_result"
    }
   ],
   "source": [
    "%%time\n",
    "import pickle\n",
    "df_filtered = pd.read_pickle('filtered_data_sentiment_NER.pkl')\n",
    "df_filtered.head(1)"
   ]
  },
  {
   "cell_type": "code",
   "execution_count": 9,
   "metadata": {
    "tags": []
   },
   "outputs": [
    {
     "data": {
      "text/plain": [
       "(165530, 15)"
      ]
     },
     "execution_count": 9,
     "metadata": {},
     "output_type": "execute_result"
    }
   ],
   "source": [
    "df_filtered.shape"
   ]
  },
  {
   "attachments": {},
   "cell_type": "markdown",
   "metadata": {
    "tags": []
   },
   "source": [
    "## LDA with Hyperparameter Tuning with Sample"
   ]
  },
  {
   "cell_type": "code",
   "execution_count": 9,
   "metadata": {
    "tags": []
   },
   "outputs": [],
   "source": [
    "nlp = spacy.load(\"en_core_web_sm\", disable=['parser', 'ner'])"
   ]
  },
  {
   "cell_type": "code",
   "execution_count": 10,
   "metadata": {
    "tags": []
   },
   "outputs": [
    {
     "data": {
      "text/plain": [
       "(8276, 15)"
      ]
     },
     "execution_count": 10,
     "metadata": {},
     "output_type": "execute_result"
    }
   ],
   "source": [
    "df_sample = df_filtered.sample(frac=0.05, random_state=1)\n",
    "df_sample.shape"
   ]
  },
  {
   "cell_type": "code",
   "execution_count": 12,
   "metadata": {
    "tags": []
   },
   "outputs": [],
   "source": [
    "def sent_to_words(sentences):\n",
    "    for sentence in sentences:\n",
    "        yield(gensim.utils.simple_preprocess(str(sentence), deacc=True))  # deacc=True removes punctuations\n",
    "\n",
    "\n",
    "        \n",
    "sample_list = df_sample['clean_text'].tolist()        \n",
    "sample_tokens = list(sent_to_words(sample_list))"
   ]
  },
  {
   "cell_type": "code",
   "execution_count": 13,
   "metadata": {
    "tags": []
   },
   "outputs": [],
   "source": [
    "bigram = gensim.models.Phrases(sample_tokens, min_count=1, threshold=1)\n",
    "trigram = gensim.models.Phrases(bigram[sample_tokens], threshold=1)\n",
    "bigram_mod = gensim.models.phrases.Phraser(bigram)\n",
    "trigram_mod = gensim.models.phrases.Phraser(trigram)"
   ]
  },
  {
   "cell_type": "code",
   "execution_count": 14,
   "metadata": {
    "tags": []
   },
   "outputs": [],
   "source": [
    "stop_words = stopwords.words('english')\n",
    "\n",
    "# Define functions for stopwords, bigrams, trigrams and lemmatization\n",
    "def remove_stopwords(texts):\n",
    "    return [[word for word in simple_preprocess(str(doc)) if word not in stop_words] for doc in texts]\n",
    "\n",
    "def make_trigrams(texts):\n",
    "    return [trigram_mod[bigram_mod[doc]] for doc in texts]\n",
    "\n",
    "def lemmatization(texts, allowed_postags=['NOUN', 'ADJ', 'VERB', 'ADV']):\n",
    "    \"\"\"https://spacy.io/api/annotation\"\"\"\n",
    "    texts_out = []\n",
    "    for sent in texts:\n",
    "        doc = nlp(\" \".join(sent)) \n",
    "        texts_out.append([token.lemma_ for token in doc if token.pos_ in allowed_postags])\n",
    "    return texts_out"
   ]
  },
  {
   "cell_type": "code",
   "execution_count": 15,
   "metadata": {
    "tags": []
   },
   "outputs": [],
   "source": [
    "# Remove Stop Words\n",
    "sample_tokens_nostops = remove_stopwords(sample_tokens)\n",
    "\n",
    "# Create n-grams\n",
    "sample_words_trigrams = make_trigrams(sample_tokens_nostops)\n",
    "\n",
    "# Combine tokens and n-grams (this time we only do trigrams)\n",
    "sample_tokens_combined = sample_words_trigrams \n",
    "\n",
    "# Lemmatize text keeping only noun, adj, vb, adv\n",
    "sample_lemmatized = lemmatization(sample_tokens_combined, allowed_postags=['NOUN', 'ADJ', 'VERB', 'ADV'])"
   ]
  },
  {
   "cell_type": "code",
   "execution_count": 16,
   "metadata": {
    "tags": []
   },
   "outputs": [],
   "source": [
    "# Creating the term dictionary of our courpus, where every unique term is assigned an index. \n",
    "sample_dictionary = corpora.Dictionary(sample_lemmatized)\n",
    "\n",
    "# Converting list of documents (corpus) into Document Term Matrix using dictionary prepared above.\n",
    "sample_doc_term_matrix = [sample_dictionary.doc2bow(doc) for doc in sample_lemmatized]"
   ]
  },
  {
   "cell_type": "code",
   "execution_count": 17,
   "metadata": {
    "tags": []
   },
   "outputs": [],
   "source": [
    "# supporting function\n",
    "def compute_coherence_values(corpus, dictionary, k, a, b, data_lemmatized):\n",
    "    \n",
    "    lda_model = LdaMulticore(corpus=corpus,\n",
    "                       id2word=dictionary,\n",
    "                       num_topics=k,\n",
    "                       random_state=100,                  \n",
    "                       passes=10,\n",
    "                       alpha=a,\n",
    "                       eta=b,\n",
    "                       workers=num_processors-1)\n",
    "    \n",
    "    coherence_model_lda = CoherenceModel(model=lda_model, texts=data_lemmatized, dictionary=dictionary, coherence='c_v')\n",
    "    \n",
    "    return coherence_model_lda.get_coherence()"
   ]
  },
  {
   "cell_type": "code",
   "execution_count": 18,
   "metadata": {
    "tags": []
   },
   "outputs": [
    {
     "name": "stdout",
     "output_type": "stream",
     "text": [
      "LDA will execute 150 iterations\n",
      "Completed model based on 20 LDA topics. Finished 20.0% of LDA runs\n",
      "Execution time to calculate for topic 20: 0hour:57min:32sec\n",
      "Completed model based on 25 LDA topics. Finished 40.0% of LDA runs\n",
      "Execution time to calculate for topic 25: 1hour:13min:36sec\n",
      "Completed model based on 30 LDA topics. Finished 60.0% of LDA runs\n",
      "Execution time to calculate for topic 30: 1hour:26min:17sec\n",
      "Completed model based on 140 LDA topics. Finished 80.0% of LDA runs\n",
      "Execution time to calculate for topic 140: 3hour:28min:3sec\n",
      "Completed model based on 150 LDA topics. Finished 100.0% of LDA runs\n",
      "Execution time to calculate for topic 150: 4hour:44min:23sec\n"
     ]
    },
    {
     "data": {
      "text/html": [
       "<div>\n",
       "<style scoped>\n",
       "    .dataframe tbody tr th:only-of-type {\n",
       "        vertical-align: middle;\n",
       "    }\n",
       "\n",
       "    .dataframe tbody tr th {\n",
       "        vertical-align: top;\n",
       "    }\n",
       "\n",
       "    .dataframe thead th {\n",
       "        text-align: right;\n",
       "    }\n",
       "</style>\n",
       "<table border=\"1\" class=\"dataframe\">\n",
       "  <thead>\n",
       "    <tr style=\"text-align: right;\">\n",
       "      <th></th>\n",
       "      <th>Topics</th>\n",
       "      <th>Alpha</th>\n",
       "      <th>Beta</th>\n",
       "      <th>Coherence</th>\n",
       "    </tr>\n",
       "  </thead>\n",
       "  <tbody>\n",
       "    <tr>\n",
       "      <th>0</th>\n",
       "      <td>20</td>\n",
       "      <td>0.01</td>\n",
       "      <td>0.01</td>\n",
       "      <td>0.362910</td>\n",
       "    </tr>\n",
       "    <tr>\n",
       "      <th>1</th>\n",
       "      <td>20</td>\n",
       "      <td>0.01</td>\n",
       "      <td>0.31</td>\n",
       "      <td>0.410539</td>\n",
       "    </tr>\n",
       "    <tr>\n",
       "      <th>2</th>\n",
       "      <td>20</td>\n",
       "      <td>0.01</td>\n",
       "      <td>0.61</td>\n",
       "      <td>0.484452</td>\n",
       "    </tr>\n",
       "    <tr>\n",
       "      <th>3</th>\n",
       "      <td>20</td>\n",
       "      <td>0.01</td>\n",
       "      <td>0.91</td>\n",
       "      <td>0.469680</td>\n",
       "    </tr>\n",
       "    <tr>\n",
       "      <th>4</th>\n",
       "      <td>20</td>\n",
       "      <td>0.01</td>\n",
       "      <td>symmetric</td>\n",
       "      <td>0.354605</td>\n",
       "    </tr>\n",
       "    <tr>\n",
       "      <th>...</th>\n",
       "      <td>...</td>\n",
       "      <td>...</td>\n",
       "      <td>...</td>\n",
       "      <td>...</td>\n",
       "    </tr>\n",
       "    <tr>\n",
       "      <th>145</th>\n",
       "      <td>150</td>\n",
       "      <td>asymmetric</td>\n",
       "      <td>0.01</td>\n",
       "      <td>0.368227</td>\n",
       "    </tr>\n",
       "    <tr>\n",
       "      <th>146</th>\n",
       "      <td>150</td>\n",
       "      <td>asymmetric</td>\n",
       "      <td>0.31</td>\n",
       "      <td>0.466991</td>\n",
       "    </tr>\n",
       "    <tr>\n",
       "      <th>147</th>\n",
       "      <td>150</td>\n",
       "      <td>asymmetric</td>\n",
       "      <td>0.61</td>\n",
       "      <td>0.466836</td>\n",
       "    </tr>\n",
       "    <tr>\n",
       "      <th>148</th>\n",
       "      <td>150</td>\n",
       "      <td>asymmetric</td>\n",
       "      <td>0.91</td>\n",
       "      <td>0.447392</td>\n",
       "    </tr>\n",
       "    <tr>\n",
       "      <th>149</th>\n",
       "      <td>150</td>\n",
       "      <td>asymmetric</td>\n",
       "      <td>symmetric</td>\n",
       "      <td>0.365213</td>\n",
       "    </tr>\n",
       "  </tbody>\n",
       "</table>\n",
       "<p>150 rows × 4 columns</p>\n",
       "</div>"
      ],
      "text/plain": [
       "     Topics       Alpha       Beta  Coherence\n",
       "0        20        0.01       0.01   0.362910\n",
       "1        20        0.01       0.31   0.410539\n",
       "2        20        0.01       0.61   0.484452\n",
       "3        20        0.01       0.91   0.469680\n",
       "4        20        0.01  symmetric   0.354605\n",
       "..      ...         ...        ...        ...\n",
       "145     150  asymmetric       0.01   0.368227\n",
       "146     150  asymmetric       0.31   0.466991\n",
       "147     150  asymmetric       0.61   0.466836\n",
       "148     150  asymmetric       0.91   0.447392\n",
       "149     150  asymmetric  symmetric   0.365213\n",
       "\n",
       "[150 rows x 4 columns]"
      ]
     },
     "execution_count": 18,
     "metadata": {},
     "output_type": "execute_result"
    }
   ],
   "source": [
    "grid = {}\n",
    "grid['Validation_Set'] = {}\n",
    "# Topics range\n",
    "topics_range = [20, 25, 30, 140, 150]\n",
    "\n",
    "# Alpha parameter\n",
    "alpha = list(np.arange(0.01, 1, 0.3))\n",
    "alpha.append('symmetric')\n",
    "alpha.append('asymmetric')\n",
    "# alpha = ['asymmetric'] # Run for number of topics only\n",
    "\n",
    "# Beta parameter\n",
    "beta = list(np.arange(0.01, 1, 0.3))\n",
    "beta.append('symmetric')\n",
    "# beta = ['auto'] # Run for number of topics only\n",
    "\n",
    "\n",
    "# Validation sets\n",
    "num_of_docs = len(sample_doc_term_matrix)\n",
    "corpus_sets = [# gensim.utils.ClippedCorpus(doc_term_matrix, num_of_docs*0.25), \n",
    "               # gensim.utils.ClippedCorpus(doc_term_matrix, num_of_docs*0.5), \n",
    "               # gensim.utils.ClippedCorpus(doc_term_matrix, num_of_docs*0.75), \n",
    "               sample_doc_term_matrix] # simply use the whole matrix\n",
    "\n",
    "# corpus_title = ['75% Corpus', '100% Corpus']\n",
    "corpus_title = ['100% Corpus']\n",
    "model_results = {\n",
    "                 'Topics': [],\n",
    "                 'Alpha': [],\n",
    "                 'Beta': [],\n",
    "                 'Coherence': []\n",
    "                }\n",
    "\n",
    "itr = 0\n",
    "itr_total = len(beta)*len(alpha)*len(topics_range)*len(corpus_title)\n",
    "print(f'LDA will execute {itr_total} iterations')\n",
    "\n",
    "    \n",
    "# iterate through hyperparameters\n",
    "for i in range(len(corpus_sets)):\n",
    "    # iterate through number of topics\n",
    "    for k in topics_range:\n",
    "        # iterate through alpha values\n",
    "        tic()\n",
    "        for a in alpha:\n",
    "            # iterare through beta values\n",
    "            for b in beta:\n",
    "                # get the coherence score for the given parameters\n",
    "                itr += 1\n",
    "                cv = compute_coherence_values(corpus=corpus_sets[i], dictionary=sample_dictionary, \n",
    "                                              k=k, a=a, b=b, data_lemmatized=sample_lemmatized)\n",
    "                # Save the model results\n",
    "                model_results['Topics'].append(k)\n",
    "                model_results['Alpha'].append(a)\n",
    "                model_results['Beta'].append(b)\n",
    "                model_results['Coherence'].append(cv)\n",
    "                pct_completed = round((itr / itr_total * 100),1)\n",
    "                # print(f'Completed Percent: {pct_completed}%, Corpus: {corpus_title[i]}, Topics: {k}, Alpha: {a}, Beta: {b}, Coherence: {cv}')\n",
    "        print(f'Completed model based on {k} LDA topics. Finished {pct_completed}% of LDA runs')\n",
    "        tac()\n",
    "                    \n",
    "sample_lda_tuning = pd.DataFrame(model_results)\n",
    "sample_lda_tuning"
   ]
  },
  {
   "cell_type": "code",
   "execution_count": 19,
   "metadata": {
    "tags": []
   },
   "outputs": [
    {
     "data": {
      "image/png": "[encoded data removed]",
      "text/plain": [
       "<Figure size 640x480 with 1 Axes>"
      ]
     },
     "metadata": {},
     "output_type": "display_data"
    }
   ],
   "source": [
    "# Plot coherence scores\n",
    "plt.plot(sample_lda_tuning['Topics'].to_numpy(), sample_lda_tuning['Coherence'].to_numpy(), 'b-o')\n",
    "plt.xlabel('Number of Topics')\n",
    "plt.ylabel('Coherence Score')\n",
    "plt.title('Coherence Score vs. Number of Topics')\n",
    "plt.grid(True)\n",
    "plt.show()"
   ]
  },
  {
   "cell_type": "code",
   "execution_count": 20,
   "metadata": {
    "tags": []
   },
   "outputs": [
    {
     "data": {
      "text/plain": [
       "Topics            150\n",
       "Alpha            0.31\n",
       "Beta             0.91\n",
       "Coherence    0.571352\n",
       "Name: 128, dtype: object"
      ]
     },
     "execution_count": 20,
     "metadata": {},
     "output_type": "execute_result"
    }
   ],
   "source": [
    "max_row_index = sample_lda_tuning['Coherence'].idxmax()\n",
    "max_row = sample_lda_tuning.loc[max_row_index]\n",
    "max_row"
   ]
  },
  {
   "cell_type": "code",
   "execution_count": 20,
   "metadata": {
    "tags": []
   },
   "outputs": [],
   "source": [
    "best_sample_lda_model = LdaMulticore(corpus=sample_doc_term_matrix,\n",
    "                   id2word=sample_dictionary,\n",
    "                   num_topics=150,\n",
    "                   random_state=100,                  \n",
    "                   passes=10,\n",
    "                   alpha=0.31,\n",
    "                   eta=0.91,\n",
    "                   workers=num_processors-1)\n"
   ]
  },
  {
   "cell_type": "code",
   "execution_count": 21,
   "metadata": {
    "tags": []
   },
   "outputs": [],
   "source": [
    "\n",
    "topics = best_sample_lda_model.print_topics(num_topics=150, num_words=10)\n",
    "topic_data = []\n",
    "\n",
    "for topic in topics:\n",
    "    words = topic[1].split(\"+\")\n",
    "    topic_words = [word.split(\"*\")[1].strip().replace('\"', '') for word in words]\n",
    "    topic_data.append(topic_words)\n",
    "\n",
    "df_topics = pd.DataFrame(topic_data, columns=[f\"Topic{i}\" for i in range(10)])\n",
    "df_topics.insert(0, \"Topic\", range(150))\n"
   ]
  },
  {
   "cell_type": "code",
   "execution_count": 44,
   "metadata": {
    "tags": []
   },
   "outputs": [
    {
     "data": {
      "text/html": [
       "<div>\n",
       "<style scoped>\n",
       "    .dataframe tbody tr th:only-of-type {\n",
       "        vertical-align: middle;\n",
       "    }\n",
       "\n",
       "    .dataframe tbody tr th {\n",
       "        vertical-align: top;\n",
       "    }\n",
       "\n",
       "    .dataframe thead th {\n",
       "        text-align: right;\n",
       "    }\n",
       "</style>\n",
       "<table border=\"1\" class=\"dataframe\">\n",
       "  <thead>\n",
       "    <tr style=\"text-align: right;\">\n",
       "      <th></th>\n",
       "      <th>Topic</th>\n",
       "      <th>Topic0</th>\n",
       "      <th>Topic1</th>\n",
       "      <th>Topic2</th>\n",
       "      <th>Topic3</th>\n",
       "      <th>Topic4</th>\n",
       "      <th>Topic5</th>\n",
       "      <th>Topic6</th>\n",
       "      <th>Topic7</th>\n",
       "      <th>Topic8</th>\n",
       "      <th>Topic9</th>\n",
       "    </tr>\n",
       "  </thead>\n",
       "  <tbody>\n",
       "    <tr>\n",
       "      <th>0</th>\n",
       "      <td>0</td>\n",
       "      <td>ҳлиө</td>\n",
       "      <td>wind</td>\n",
       "      <td>ләел_мқј</td>\n",
       "      <td>ҳл_ҙм</td>\n",
       "      <td>җлҹ</td>\n",
       "      <td>ҳлқҳ</td>\n",
       "      <td>ҳкің</td>\n",
       "      <td>лҙј</td>\n",
       "      <td>ліҙлҙј</td>\n",
       "      <td>нҷ</td>\n",
       "    </tr>\n",
       "    <tr>\n",
       "      <th>1</th>\n",
       "      <td>1</td>\n",
       "      <td>arena_analytic</td>\n",
       "      <td>training_sample</td>\n",
       "      <td>distinguished_industry</td>\n",
       "      <td>use</td>\n",
       "      <td>smother</td>\n",
       "      <td>market</td>\n",
       "      <td>zac</td>\n",
       "      <td>deep_convolutional_neural_network</td>\n",
       "      <td>naturally_stop</td>\n",
       "      <td>connect_women</td>\n",
       "    </tr>\n",
       "    <tr>\n",
       "      <th>2</th>\n",
       "      <td>2</td>\n",
       "      <td>medical_ai_data_analysis</td>\n",
       "      <td>first_picture</td>\n",
       "      <td>google_parent_company_alphabet</td>\n",
       "      <td>steamtown</td>\n",
       "      <td>performances_take</td>\n",
       "      <td>wednesday_alphabet</td>\n",
       "      <td>widespread_job_cut</td>\n",
       "      <td>knowing_machine</td>\n",
       "      <td>tech_sector_alphabet_cut</td>\n",
       "      <td>engine_publicly</td>\n",
       "    </tr>\n",
       "    <tr>\n",
       "      <th>3</th>\n",
       "      <td>3</td>\n",
       "      <td>pmsport</td>\n",
       "      <td>match_feb</td>\n",
       "      <td>wickets_root</td>\n",
       "      <td>ing_car</td>\n",
       "      <td>market</td>\n",
       "      <td>use</td>\n",
       "      <td>ai</td>\n",
       "      <td>company</td>\n",
       "      <td>say</td>\n",
       "      <td>technology</td>\n",
       "    </tr>\n",
       "    <tr>\n",
       "      <th>4</th>\n",
       "      <td>4</td>\n",
       "      <td>transaction_review</td>\n",
       "      <td>uses_advance</td>\n",
       "      <td>use</td>\n",
       "      <td>billing_detail</td>\n",
       "      <td>bonifazidenver_co</td>\n",
       "      <td>cofive</td>\n",
       "      <td>ai</td>\n",
       "      <td>datum</td>\n",
       "      <td>say</td>\n",
       "      <td>technology_digit</td>\n",
       "    </tr>\n",
       "    <tr>\n",
       "      <th>...</th>\n",
       "      <td>...</td>\n",
       "      <td>...</td>\n",
       "      <td>...</td>\n",
       "      <td>...</td>\n",
       "      <td>...</td>\n",
       "      <td>...</td>\n",
       "      <td>...</td>\n",
       "      <td>...</td>\n",
       "      <td>...</td>\n",
       "      <td>...</td>\n",
       "      <td>...</td>\n",
       "    </tr>\n",
       "    <tr>\n",
       "      <th>145</th>\n",
       "      <td>145</td>\n",
       "      <td>wvlt_newsfirst</td>\n",
       "      <td>wayanythe</td>\n",
       "      <td>teamcareerswvlt_paid</td>\n",
       "      <td>alert_weatherfirst_alert_weather</td>\n",
       "      <td>alert_live</td>\n",
       "      <td>dividesupport_local</td>\n",
       "      <td>calendarcontact_usmeet</td>\n",
       "      <td>solutionsmedal</td>\n",
       "      <td>cookingeye</td>\n",
       "      <td>possiblelet_get</td>\n",
       "    </tr>\n",
       "    <tr>\n",
       "      <th>146</th>\n",
       "      <td>146</td>\n",
       "      <td>technology_review</td>\n",
       "      <td>alphafold</td>\n",
       "      <td>fox_business</td>\n",
       "      <td>protein</td>\n",
       "      <td>rogd</td>\n",
       "      <td>proteins_found</td>\n",
       "      <td>refinitiv_lipper</td>\n",
       "      <td>million_structure</td>\n",
       "      <td>statement_mutual</td>\n",
       "      <td>market_data_provide</td>\n",
       "    </tr>\n",
       "    <tr>\n",
       "      <th>147</th>\n",
       "      <td>147</td>\n",
       "      <td>market</td>\n",
       "      <td>report</td>\n",
       "      <td>santo_cjmorne</td>\n",
       "      <td>invest</td>\n",
       "      <td>call_trading_calls_trade</td>\n",
       "      <td>markets_data_exclusive_trade</td>\n",
       "      <td>thomson_reutersdetail</td>\n",
       "      <td>equity_analysis_actionable_investment</td>\n",
       "      <td>sip_balancerdelay</td>\n",
       "      <td>trackersip_performance</td>\n",
       "    </tr>\n",
       "    <tr>\n",
       "      <th>148</th>\n",
       "      <td>148</td>\n",
       "      <td>new_exhibition</td>\n",
       "      <td>world_renowned</td>\n",
       "      <td>rapture</td>\n",
       "      <td>press_preview</td>\n",
       "      <td>content_markete</td>\n",
       "      <td>market</td>\n",
       "      <td>lisbon</td>\n",
       "      <td>complainour_brandsprivacy</td>\n",
       "      <td>bicycle</td>\n",
       "      <td>franca</td>\n",
       "    </tr>\n",
       "    <tr>\n",
       "      <th>149</th>\n",
       "      <td>149</td>\n",
       "      <td>use</td>\n",
       "      <td>market</td>\n",
       "      <td>say</td>\n",
       "      <td>ai</td>\n",
       "      <td>company</td>\n",
       "      <td>machine_learne</td>\n",
       "      <td>technology</td>\n",
       "      <td>work</td>\n",
       "      <td>report</td>\n",
       "      <td>artificial_intelligence</td>\n",
       "    </tr>\n",
       "  </tbody>\n",
       "</table>\n",
       "<p>150 rows × 11 columns</p>\n",
       "</div>"
      ],
      "text/plain": [
       "     Topic                    Topic0           Topic1  \\\n",
       "0        0                      ҳлиө             wind   \n",
       "1        1            arena_analytic  training_sample   \n",
       "2        2  medical_ai_data_analysis    first_picture   \n",
       "3        3                   pmsport        match_feb   \n",
       "4        4        transaction_review     uses_advance   \n",
       "..     ...                       ...              ...   \n",
       "145    145            wvlt_newsfirst        wayanythe   \n",
       "146    146         technology_review        alphafold   \n",
       "147    147                    market           report   \n",
       "148    148            new_exhibition   world_renowned   \n",
       "149    149                       use           market   \n",
       "\n",
       "                             Topic2                            Topic3  \\\n",
       "0                          ләел_мқј                             ҳл_ҙм   \n",
       "1            distinguished_industry                               use   \n",
       "2    google_parent_company_alphabet                         steamtown   \n",
       "3                      wickets_root                           ing_car   \n",
       "4                               use                    billing_detail   \n",
       "..                              ...                               ...   \n",
       "145            teamcareerswvlt_paid  alert_weatherfirst_alert_weather   \n",
       "146                    fox_business                           protein   \n",
       "147                   santo_cjmorne                            invest   \n",
       "148                         rapture                     press_preview   \n",
       "149                             say                                ai   \n",
       "\n",
       "                       Topic4                        Topic5  \\\n",
       "0                         җлҹ                          ҳлқҳ   \n",
       "1                     smother                        market   \n",
       "2           performances_take            wednesday_alphabet   \n",
       "3                      market                           use   \n",
       "4           bonifazidenver_co                        cofive   \n",
       "..                        ...                           ...   \n",
       "145                alert_live           dividesupport_local   \n",
       "146                      rogd                proteins_found   \n",
       "147  call_trading_calls_trade  markets_data_exclusive_trade   \n",
       "148           content_markete                        market   \n",
       "149                   company                machine_learne   \n",
       "\n",
       "                     Topic6                                 Topic7  \\\n",
       "0                      ҳкің                                    лҙј   \n",
       "1                       zac      deep_convolutional_neural_network   \n",
       "2        widespread_job_cut                        knowing_machine   \n",
       "3                        ai                                company   \n",
       "4                        ai                                  datum   \n",
       "..                      ...                                    ...   \n",
       "145  calendarcontact_usmeet                         solutionsmedal   \n",
       "146        refinitiv_lipper                      million_structure   \n",
       "147   thomson_reutersdetail  equity_analysis_actionable_investment   \n",
       "148                  lisbon              complainour_brandsprivacy   \n",
       "149              technology                                   work   \n",
       "\n",
       "                       Topic8                   Topic9  \n",
       "0                      ліҙлҙј                       нҷ  \n",
       "1              naturally_stop            connect_women  \n",
       "2    tech_sector_alphabet_cut          engine_publicly  \n",
       "3                         say               technology  \n",
       "4                         say         technology_digit  \n",
       "..                        ...                      ...  \n",
       "145                cookingeye          possiblelet_get  \n",
       "146          statement_mutual      market_data_provide  \n",
       "147         sip_balancerdelay   trackersip_performance  \n",
       "148                   bicycle                   franca  \n",
       "149                    report  artificial_intelligence  \n",
       "\n",
       "[150 rows x 11 columns]"
      ]
     },
     "execution_count": 44,
     "metadata": {},
     "output_type": "execute_result"
    }
   ],
   "source": [
    "df_topics"
   ]
  },
  {
   "cell_type": "code",
   "execution_count": null,
   "metadata": {},
   "outputs": [],
   "source": [
    "visible_best_sample_lda_model = LdaMulticore(corpus=sample_doc_term_matrix,\n",
    "                   id2word=sample_dictionary,\n",
    "                   num_topics=20,\n",
    "                   random_state=100,                  \n",
    "                   passes=10,\n",
    "                   alpha=0.31,\n",
    "                   eta=0.61,\n",
    "                   workers=num_processors-1)"
   ]
  },
  {
   "cell_type": "code",
   "execution_count": null,
   "metadata": {},
   "outputs": [],
   "source": [
    "topics = visible_best_sample_lda_model.print_topics(num_topics=20, num_words=10)\n",
    "topic_data = []\n",
    "\n",
    "for topic in topics:\n",
    "    words = topic[1].split(\"+\")\n",
    "    topic_words = [word.split(\"*\")[1].strip().replace('\"', '') for word in words]\n",
    "    topic_data.append(topic_words)\n",
    "\n",
    "df_topics = pd.DataFrame(topic_data, columns=[f\"Topic{i}\" for i in range(10)])\n",
    "df_topics.insert(0, \"Topic\", range(20))"
   ]
  },
  {
   "cell_type": "code",
   "execution_count": null,
   "metadata": {},
   "outputs": [],
   "source": [
    "df_topics.head(20)"
   ]
  },
  {
   "cell_type": "code",
   "execution_count": null,
   "metadata": {},
   "outputs": [],
   "source": []
  },
  {
   "attachments": {},
   "cell_type": "markdown",
   "metadata": {
    "tags": []
   },
   "source": [
    "## Ktrain with Found Optimal n_topics"
   ]
  },
  {
   "attachments": {},
   "cell_type": "markdown",
   "metadata": {},
   "source": [
    "#### Setting"
   ]
  },
  {
   "cell_type": "code",
   "execution_count": 4,
   "metadata": {
    "tags": []
   },
   "outputs": [],
   "source": [
    "import tensorflow as tf"
   ]
  },
  {
   "cell_type": "code",
   "execution_count": 5,
   "metadata": {
    "tags": []
   },
   "outputs": [
    {
     "data": {
      "text/plain": [
       "[PhysicalDevice(name='/physical_device:CPU:0', device_type='CPU')]"
      ]
     },
     "execution_count": 5,
     "metadata": {},
     "output_type": "execute_result"
    }
   ],
   "source": [
    "#Verify we got CPU + GPU or only CPU\n",
    "tf.config.list_physical_devices()"
   ]
  },
  {
   "cell_type": "code",
   "execution_count": 24,
   "metadata": {
    "tags": []
   },
   "outputs": [],
   "source": [
    "#!pip install ktrain"
   ]
  },
  {
   "cell_type": "code",
   "execution_count": 6,
   "metadata": {
    "tags": []
   },
   "outputs": [
    {
     "name": "stdout",
     "output_type": "stream",
     "text": [
      "Ktrain Version: 0.37.0\n"
     ]
    }
   ],
   "source": [
    "import ktrain\n",
    "from ktrain import text as txt\n",
    "\n",
    "print('Ktrain Version: ' + ktrain.__version__)"
   ]
  },
  {
   "cell_type": "code",
   "execution_count": 10,
   "metadata": {
    "tags": []
   },
   "outputs": [],
   "source": [
    "texts = df_filtered['clean_token'].tolist()"
   ]
  },
  {
   "attachments": {},
   "cell_type": "markdown",
   "metadata": {},
   "source": [
    "#### 5 topics"
   ]
  },
  {
   "cell_type": "code",
   "execution_count": 27,
   "metadata": {
    "tags": []
   },
   "outputs": [
    {
     "name": "stdout",
     "output_type": "stream",
     "text": [
      "lang: en\n",
      "preprocessing texts...\n",
      "fitting model...\n",
      "iteration: 1 of max_iter: 5\n",
      "iteration: 2 of max_iter: 5\n",
      "iteration: 3 of max_iter: 5\n",
      "iteration: 4 of max_iter: 5\n",
      "iteration: 5 of max_iter: 5\n",
      "done.\n"
     ]
    }
   ],
   "source": [
    "tm_5 = ktrain.text.get_topic_model(\n",
    "    texts=texts, \n",
    "    n_topics=5, \n",
    "    n_features=10000, \n",
    "    min_df=5, \n",
    "    max_df=0.5, \n",
    "    stop_words='english', \n",
    "    model_type='lda', \n",
    "    lda_max_iter=5, \n",
    "    verbose=1)"
   ]
  },
  {
   "cell_type": "code",
   "execution_count": 28,
   "metadata": {
    "tags": []
   },
   "outputs": [
    {
     "name": "stdout",
     "output_type": "stream",
     "text": [
      "topic 0 | share stock news investment fund dollar best investor trade price\n",
      "topic 1 | solution customer learning business platform service machine help model use\n",
      "topic 2 | chatgpt said like google human use people tool user time\n",
      "topic 3 | market report global artificial analysis growth industry research forecast key\n",
      "topic 4 | republic said news state say people day year india world\n"
     ]
    }
   ],
   "source": [
    "tm_5.print_topics()"
   ]
  },
  {
   "attachments": {},
   "cell_type": "markdown",
   "metadata": {},
   "source": [
    "#### 20 topics"
   ]
  },
  {
   "cell_type": "code",
   "execution_count": 11,
   "metadata": {
    "tags": []
   },
   "outputs": [
    {
     "name": "stdout",
     "output_type": "stream",
     "text": [
      "lang: en\n",
      "preprocessing texts...\n",
      "fitting model...\n",
      "iteration: 1 of max_iter: 5\n",
      "iteration: 2 of max_iter: 5\n",
      "iteration: 3 of max_iter: 5\n",
      "iteration: 4 of max_iter: 5\n",
      "iteration: 5 of max_iter: 5\n",
      "done.\n"
     ]
    }
   ],
   "source": [
    "tm_20 = ktrain.text.get_topic_model(\n",
    "    texts=texts, \n",
    "    n_topics=20, \n",
    "    n_features=10000, \n",
    "    min_df=5, \n",
    "    max_df=0.5, \n",
    "    stop_words='english', \n",
    "    model_type='lda', \n",
    "    lda_max_iter=5, \n",
    "    verbose=1)"
   ]
  },
  {
   "cell_type": "code",
   "execution_count": 12,
   "metadata": {
    "tags": []
   },
   "outputs": [
    {
     "name": "stdout",
     "output_type": "stream",
     "text": [
      "topic 0 | stock share dollar fund traded trade price nasdaq btc investment\n",
      "topic 1 | year million billion startup venture according time firm investor space\n",
      "topic 2 | like people say human thing make work time think way\n",
      "topic 3 | patient health medical healthcare care drug cancer disease clinical hospital\n",
      "topic 4 | science education world artificial research industry global business student development\n",
      "topic 5 | image video art like voice create content artist music tool\n",
      "topic 6 | best insurance credit crypto real finance card forbes paid estate\n",
      "topic 7 | security said use law risk privacy government artificial legal policy\n",
      "topic 8 | learning machine device chip edge computing nvidia catheter deep processing\n",
      "topic 9 | model learning researcher algorithm human research used machine using science\n",
      "topic 10 | vehicle robot smart vision car energy camera computer sensor autonomous\n",
      "topic 11 | solution platform customer business cloud service enterprise software application product\n",
      "topic 12 | market report global artificial analysis growth industry forecast research key\n",
      "topic 13 | news india open game video best apple window mobile feature\n",
      "topic 14 | star look film reveals day black year fan say share\n",
      "topic 15 | republic kingdom people philip die state island und democratic sie\n",
      "topic 16 | said say state day china news year police home world\n",
      "topic 17 | customer user content business use experience website help cooky marketing\n",
      "topic 18 | comment post gold weather news gpt hole silver term reading\n",
      "topic 19 | chatgpt google openai microsoft chatbot said search tool language user\n"
     ]
    }
   ],
   "source": [
    "tm_20.print_topics()"
   ]
  },
  {
   "attachments": {},
   "cell_type": "markdown",
   "metadata": {},
   "source": [
    "#### Label Useful Results and Save to Local"
   ]
  },
  {
   "cell_type": "code",
   "execution_count": 13,
   "metadata": {},
   "outputs": [],
   "source": [
    "import pandas as pd\n",
    "df_topic = pd.read_pickle('filtered_data_topic.pkl')"
   ]
  },
  {
   "cell_type": "code",
   "execution_count": 15,
   "metadata": {},
   "outputs": [
    {
     "data": {
      "text/html": [
       "<div>\n",
       "<style scoped>\n",
       "    .dataframe tbody tr th:only-of-type {\n",
       "        vertical-align: middle;\n",
       "    }\n",
       "\n",
       "    .dataframe tbody tr th {\n",
       "        vertical-align: top;\n",
       "    }\n",
       "\n",
       "    .dataframe thead th {\n",
       "        text-align: right;\n",
       "    }\n",
       "</style>\n",
       "<table border=\"1\" class=\"dataframe\">\n",
       "  <thead>\n",
       "    <tr style=\"text-align: right;\">\n",
       "      <th></th>\n",
       "      <th>date</th>\n",
       "      <th>domain</th>\n",
       "      <th>clean_title</th>\n",
       "      <th>clean_text</th>\n",
       "      <th>clean_token</th>\n",
       "      <th>sentiment_score_vader</th>\n",
       "      <th>sentiment_vader</th>\n",
       "      <th>sentiment_svm</th>\n",
       "      <th>sentiment_score_vader_customized</th>\n",
       "      <th>sentiment_vader_customized</th>\n",
       "      <th>NER_word</th>\n",
       "      <th>ORG_NER</th>\n",
       "      <th>PERSON_NER</th>\n",
       "      <th>GPE_NER</th>\n",
       "      <th>sentiment_ner</th>\n",
       "      <th>clean_text_without_stopwords</th>\n",
       "      <th>bert_auto_topic_id</th>\n",
       "    </tr>\n",
       "  </thead>\n",
       "  <tbody>\n",
       "    <tr>\n",
       "      <th>0</th>\n",
       "      <td>2021-03-18</td>\n",
       "      <td>en.people.cn</td>\n",
       "      <td>Artificial intelligence improves parking effic...</td>\n",
       "      <td>Thanks to the application of an artificial int...</td>\n",
       "      <td>thanks application artificial intelligence ai ...</td>\n",
       "      <td>0.997</td>\n",
       "      <td>Positive</td>\n",
       "      <td>0</td>\n",
       "      <td>0.9961</td>\n",
       "      <td>Positive</td>\n",
       "      <td>[[ETC, ETC, AI, Wang, ETC, Wang, ETC, Ministry...</td>\n",
       "      <td>[ETC, ETC, AI, Wang, ETC, Wang, ETC, Ministry ...</td>\n",
       "      <td>[Xiang Yanping, Xiang]</td>\n",
       "      <td>[China, Beijing, Chaoyang, Beijing, Beijing, B...</td>\n",
       "      <td>E...</td>\n",
       "      <td>Thanks application artificial intelligence ( A...</td>\n",
       "      <td>9</td>\n",
       "    </tr>\n",
       "  </tbody>\n",
       "</table>\n",
       "</div>"
      ],
      "text/plain": [
       "         date        domain  \\\n",
       "0  2021-03-18  en.people.cn   \n",
       "\n",
       "                                         clean_title  \\\n",
       "0  Artificial intelligence improves parking effic...   \n",
       "\n",
       "                                          clean_text  \\\n",
       "0  Thanks to the application of an artificial int...   \n",
       "\n",
       "                                         clean_token  sentiment_score_vader  \\\n",
       "0  thanks application artificial intelligence ai ...                  0.997   \n",
       "\n",
       "  sentiment_vader  sentiment_svm  sentiment_score_vader_customized  \\\n",
       "0        Positive              0                            0.9961   \n",
       "\n",
       "  sentiment_vader_customized  \\\n",
       "0                   Positive   \n",
       "\n",
       "                                            NER_word  \\\n",
       "0  [[ETC, ETC, AI, Wang, ETC, Wang, ETC, Ministry...   \n",
       "\n",
       "                                             ORG_NER              PERSON_NER  \\\n",
       "0  [ETC, ETC, AI, Wang, ETC, Wang, ETC, Ministry ...  [Xiang Yanping, Xiang]   \n",
       "\n",
       "                                             GPE_NER  \\\n",
       "0  [China, Beijing, Chaoyang, Beijing, Beijing, B...   \n",
       "\n",
       "                                       sentiment_ner  \\\n",
       "0                                               E...   \n",
       "\n",
       "                        clean_text_without_stopwords  bert_auto_topic_id  \n",
       "0  Thanks application artificial intelligence ( A...                   9  "
      ]
     },
     "execution_count": 15,
     "metadata": {},
     "output_type": "execute_result"
    }
   ],
   "source": [
    "df_topic.head(1)"
   ]
  },
  {
   "cell_type": "code",
   "execution_count": 16,
   "metadata": {},
   "outputs": [],
   "source": [
    "import numpy as np\n",
    "\n",
    "topic_probabilities = tm_20.predict(texts)\n",
    "topic_ids = np.argmax(topic_probabilities, axis=1)\n",
    "df_topic['ktrain_20_topic_id'] = topic_ids\n"
   ]
  },
  {
   "cell_type": "code",
   "execution_count": 17,
   "metadata": {},
   "outputs": [
    {
     "data": {
      "text/html": [
       "<div>\n",
       "<style scoped>\n",
       "    .dataframe tbody tr th:only-of-type {\n",
       "        vertical-align: middle;\n",
       "    }\n",
       "\n",
       "    .dataframe tbody tr th {\n",
       "        vertical-align: top;\n",
       "    }\n",
       "\n",
       "    .dataframe thead th {\n",
       "        text-align: right;\n",
       "    }\n",
       "</style>\n",
       "<table border=\"1\" class=\"dataframe\">\n",
       "  <thead>\n",
       "    <tr style=\"text-align: right;\">\n",
       "      <th></th>\n",
       "      <th>date</th>\n",
       "      <th>domain</th>\n",
       "      <th>clean_title</th>\n",
       "      <th>clean_text</th>\n",
       "      <th>clean_token</th>\n",
       "      <th>sentiment_score_vader</th>\n",
       "      <th>sentiment_vader</th>\n",
       "      <th>sentiment_svm</th>\n",
       "      <th>sentiment_score_vader_customized</th>\n",
       "      <th>sentiment_vader_customized</th>\n",
       "      <th>NER_word</th>\n",
       "      <th>ORG_NER</th>\n",
       "      <th>PERSON_NER</th>\n",
       "      <th>GPE_NER</th>\n",
       "      <th>sentiment_ner</th>\n",
       "      <th>clean_text_without_stopwords</th>\n",
       "      <th>bert_auto_topic_id</th>\n",
       "      <th>ktrain_20_topic_id</th>\n",
       "    </tr>\n",
       "  </thead>\n",
       "  <tbody>\n",
       "    <tr>\n",
       "      <th>0</th>\n",
       "      <td>2021-03-18</td>\n",
       "      <td>en.people.cn</td>\n",
       "      <td>Artificial intelligence improves parking effic...</td>\n",
       "      <td>Thanks to the application of an artificial int...</td>\n",
       "      <td>thanks application artificial intelligence ai ...</td>\n",
       "      <td>0.997</td>\n",
       "      <td>Positive</td>\n",
       "      <td>0</td>\n",
       "      <td>0.9961</td>\n",
       "      <td>Positive</td>\n",
       "      <td>[[ETC, ETC, AI, Wang, ETC, Wang, ETC, Ministry...</td>\n",
       "      <td>[ETC, ETC, AI, Wang, ETC, Wang, ETC, Ministry ...</td>\n",
       "      <td>[Xiang Yanping, Xiang]</td>\n",
       "      <td>[China, Beijing, Chaoyang, Beijing, Beijing, B...</td>\n",
       "      <td>E...</td>\n",
       "      <td>Thanks application artificial intelligence ( A...</td>\n",
       "      <td>9</td>\n",
       "      <td>10</td>\n",
       "    </tr>\n",
       "  </tbody>\n",
       "</table>\n",
       "</div>"
      ],
      "text/plain": [
       "         date        domain  \\\n",
       "0  2021-03-18  en.people.cn   \n",
       "\n",
       "                                         clean_title  \\\n",
       "0  Artificial intelligence improves parking effic...   \n",
       "\n",
       "                                          clean_text  \\\n",
       "0  Thanks to the application of an artificial int...   \n",
       "\n",
       "                                         clean_token  sentiment_score_vader  \\\n",
       "0  thanks application artificial intelligence ai ...                  0.997   \n",
       "\n",
       "  sentiment_vader  sentiment_svm  sentiment_score_vader_customized  \\\n",
       "0        Positive              0                            0.9961   \n",
       "\n",
       "  sentiment_vader_customized  \\\n",
       "0                   Positive   \n",
       "\n",
       "                                            NER_word  \\\n",
       "0  [[ETC, ETC, AI, Wang, ETC, Wang, ETC, Ministry...   \n",
       "\n",
       "                                             ORG_NER              PERSON_NER  \\\n",
       "0  [ETC, ETC, AI, Wang, ETC, Wang, ETC, Ministry ...  [Xiang Yanping, Xiang]   \n",
       "\n",
       "                                             GPE_NER  \\\n",
       "0  [China, Beijing, Chaoyang, Beijing, Beijing, B...   \n",
       "\n",
       "                                       sentiment_ner  \\\n",
       "0                                               E...   \n",
       "\n",
       "                        clean_text_without_stopwords  bert_auto_topic_id  \\\n",
       "0  Thanks application artificial intelligence ( A...                   9   \n",
       "\n",
       "   ktrain_20_topic_id  \n",
       "0                  10  "
      ]
     },
     "execution_count": 17,
     "metadata": {},
     "output_type": "execute_result"
    }
   ],
   "source": [
    "df_topic.head(1)"
   ]
  },
  {
   "cell_type": "code",
   "execution_count": 18,
   "metadata": {},
   "outputs": [
    {
     "data": {
      "text/plain": [
       "(6345, 18)"
      ]
     },
     "execution_count": 18,
     "metadata": {},
     "output_type": "execute_result"
    }
   ],
   "source": [
    "# finance\n",
    "df_topic[df_topic.ktrain_20_topic_id == 0].shape"
   ]
  },
  {
   "cell_type": "code",
   "execution_count": 19,
   "metadata": {},
   "outputs": [
    {
     "data": {
      "text/plain": [
       "(7776, 18)"
      ]
     },
     "execution_count": 19,
     "metadata": {},
     "output_type": "execute_result"
    }
   ],
   "source": [
    "# healthcare\n",
    "df_topic[df_topic.ktrain_20_topic_id == 3].shape"
   ]
  },
  {
   "cell_type": "code",
   "execution_count": 20,
   "metadata": {},
   "outputs": [
    {
     "data": {
      "text/plain": [
       "(10111, 18)"
      ]
     },
     "execution_count": 20,
     "metadata": {},
     "output_type": "execute_result"
    }
   ],
   "source": [
    "# education\n",
    "df_topic[df_topic.ktrain_20_topic_id == 4].shape"
   ]
  },
  {
   "cell_type": "code",
   "execution_count": 21,
   "metadata": {},
   "outputs": [
    {
     "data": {
      "text/plain": [
       "(7094, 18)"
      ]
     },
     "execution_count": 21,
     "metadata": {},
     "output_type": "execute_result"
    }
   ],
   "source": [
    "# art/music/design\n",
    "df_topic[df_topic.ktrain_20_topic_id == 5].shape"
   ]
  },
  {
   "cell_type": "code",
   "execution_count": 22,
   "metadata": {},
   "outputs": [
    {
     "data": {
      "text/plain": [
       "(3685, 18)"
      ]
     },
     "execution_count": 22,
     "metadata": {},
     "output_type": "execute_result"
    }
   ],
   "source": [
    "# automotive\n",
    "df_topic[df_topic.ktrain_20_topic_id == 10].shape"
   ]
  },
  {
   "cell_type": "code",
   "execution_count": 23,
   "metadata": {},
   "outputs": [
    {
     "data": {
      "text/plain": [
       "(2312, 18)"
      ]
     },
     "execution_count": 23,
     "metadata": {},
     "output_type": "execute_result"
    }
   ],
   "source": [
    "# entertainment\n",
    "df_topic[df_topic.ktrain_20_topic_id == 14].shape"
   ]
  },
  {
   "cell_type": "code",
   "execution_count": 24,
   "metadata": {},
   "outputs": [
    {
     "data": {
      "text/plain": [
       "(11587, 18)"
      ]
     },
     "execution_count": 24,
     "metadata": {},
     "output_type": "execute_result"
    }
   ],
   "source": [
    "# companies and technologies\n",
    "df_topic[df_topic.ktrain_20_topic_id == 19].shape"
   ]
  },
  {
   "cell_type": "code",
   "execution_count": 37,
   "metadata": {},
   "outputs": [],
   "source": [
    "# mapping\n",
    "topic_mapping = {6: \"finance\", \n",
    "                 3: \"healthcare\", \n",
    "                 4: \"education\", \n",
    "                 5: \"studio_art\", \n",
    "                 10: \"automotive\", \n",
    "                 14: \"entertainment\", \n",
    "                 19: \"company_technology\"}\n",
    "\n",
    "\n",
    "df_topic['ktrain_topic'] = df_topic['ktrain_20_topic_id'].map(topic_mapping).fillna(\"Others\")"
   ]
  },
  {
   "cell_type": "code",
   "execution_count": 38,
   "metadata": {},
   "outputs": [
    {
     "data": {
      "text/plain": [
       "Others                121378\n",
       "company_technology     11587\n",
       "education              10111\n",
       "healthcare              7776\n",
       "studio_art              7094\n",
       "automotive              3685\n",
       "entertainment           2312\n",
       "finance                 1587\n",
       "Name: ktrain_topic, dtype: int64"
      ]
     },
     "execution_count": 38,
     "metadata": {},
     "output_type": "execute_result"
    }
   ],
   "source": [
    "df_topic.ktrain_topic.value_counts()"
   ]
  },
  {
   "cell_type": "code",
   "execution_count": 39,
   "metadata": {},
   "outputs": [
    {
     "data": {
      "text/html": [
       "<div>\n",
       "<style scoped>\n",
       "    .dataframe tbody tr th:only-of-type {\n",
       "        vertical-align: middle;\n",
       "    }\n",
       "\n",
       "    .dataframe tbody tr th {\n",
       "        vertical-align: top;\n",
       "    }\n",
       "\n",
       "    .dataframe thead th {\n",
       "        text-align: right;\n",
       "    }\n",
       "</style>\n",
       "<table border=\"1\" class=\"dataframe\">\n",
       "  <thead>\n",
       "    <tr style=\"text-align: right;\">\n",
       "      <th></th>\n",
       "      <th>date</th>\n",
       "      <th>domain</th>\n",
       "      <th>clean_title</th>\n",
       "      <th>clean_text</th>\n",
       "      <th>clean_token</th>\n",
       "      <th>sentiment_score_vader</th>\n",
       "      <th>sentiment_vader</th>\n",
       "      <th>sentiment_svm</th>\n",
       "      <th>sentiment_score_vader_customized</th>\n",
       "      <th>sentiment_vader_customized</th>\n",
       "      <th>NER_word</th>\n",
       "      <th>ORG_NER</th>\n",
       "      <th>PERSON_NER</th>\n",
       "      <th>GPE_NER</th>\n",
       "      <th>sentiment_ner</th>\n",
       "      <th>clean_text_without_stopwords</th>\n",
       "      <th>bert_auto_topic_id</th>\n",
       "      <th>ktrain_20_topic_id</th>\n",
       "      <th>ktrain_topic</th>\n",
       "    </tr>\n",
       "  </thead>\n",
       "  <tbody>\n",
       "    <tr>\n",
       "      <th>0</th>\n",
       "      <td>2021-03-18</td>\n",
       "      <td>en.people.cn</td>\n",
       "      <td>Artificial intelligence improves parking effic...</td>\n",
       "      <td>Thanks to the application of an artificial int...</td>\n",
       "      <td>thanks application artificial intelligence ai ...</td>\n",
       "      <td>0.997</td>\n",
       "      <td>Positive</td>\n",
       "      <td>0</td>\n",
       "      <td>0.9961</td>\n",
       "      <td>Positive</td>\n",
       "      <td>[[ETC, ETC, AI, Wang, ETC, Wang, ETC, Ministry...</td>\n",
       "      <td>[ETC, ETC, AI, Wang, ETC, Wang, ETC, Ministry ...</td>\n",
       "      <td>[Xiang Yanping, Xiang]</td>\n",
       "      <td>[China, Beijing, Chaoyang, Beijing, Beijing, B...</td>\n",
       "      <td>E...</td>\n",
       "      <td>Thanks application artificial intelligence ( A...</td>\n",
       "      <td>9</td>\n",
       "      <td>10</td>\n",
       "      <td>automotive</td>\n",
       "    </tr>\n",
       "  </tbody>\n",
       "</table>\n",
       "</div>"
      ],
      "text/plain": [
       "         date        domain  \\\n",
       "0  2021-03-18  en.people.cn   \n",
       "\n",
       "                                         clean_title  \\\n",
       "0  Artificial intelligence improves parking effic...   \n",
       "\n",
       "                                          clean_text  \\\n",
       "0  Thanks to the application of an artificial int...   \n",
       "\n",
       "                                         clean_token  sentiment_score_vader  \\\n",
       "0  thanks application artificial intelligence ai ...                  0.997   \n",
       "\n",
       "  sentiment_vader  sentiment_svm  sentiment_score_vader_customized  \\\n",
       "0        Positive              0                            0.9961   \n",
       "\n",
       "  sentiment_vader_customized  \\\n",
       "0                   Positive   \n",
       "\n",
       "                                            NER_word  \\\n",
       "0  [[ETC, ETC, AI, Wang, ETC, Wang, ETC, Ministry...   \n",
       "\n",
       "                                             ORG_NER              PERSON_NER  \\\n",
       "0  [ETC, ETC, AI, Wang, ETC, Wang, ETC, Ministry ...  [Xiang Yanping, Xiang]   \n",
       "\n",
       "                                             GPE_NER  \\\n",
       "0  [China, Beijing, Chaoyang, Beijing, Beijing, B...   \n",
       "\n",
       "                                       sentiment_ner  \\\n",
       "0                                               E...   \n",
       "\n",
       "                        clean_text_without_stopwords  bert_auto_topic_id  \\\n",
       "0  Thanks application artificial intelligence ( A...                   9   \n",
       "\n",
       "   ktrain_20_topic_id ktrain_topic  \n",
       "0                  10   automotive  "
      ]
     },
     "execution_count": 39,
     "metadata": {},
     "output_type": "execute_result"
    }
   ],
   "source": [
    "df_topic.head(1)"
   ]
  },
  {
   "cell_type": "code",
   "execution_count": 40,
   "metadata": {},
   "outputs": [],
   "source": [
    "df_topic.to_pickle(\"filtered_data_topic.pkl\")"
   ]
  },
  {
   "attachments": {},
   "cell_type": "markdown",
   "metadata": {},
   "source": [
    "#### 150 topics"
   ]
  },
  {
   "cell_type": "code",
   "execution_count": 31,
   "metadata": {},
   "outputs": [
    {
     "name": "stdout",
     "output_type": "stream",
     "text": [
      "lang: en\n",
      "preprocessing texts...\n",
      "fitting model...\n",
      "iteration: 1 of max_iter: 5\n",
      "iteration: 2 of max_iter: 5\n",
      "iteration: 3 of max_iter: 5\n",
      "iteration: 4 of max_iter: 5\n",
      "iteration: 5 of max_iter: 5\n",
      "done.\n"
     ]
    }
   ],
   "source": [
    "tm_150 = ktrain.text.get_topic_model(\n",
    "    texts=texts, \n",
    "    n_topics=150, \n",
    "    n_features=10000, \n",
    "    min_df=5, \n",
    "    max_df=0.5, \n",
    "    stop_words='english', \n",
    "    model_type='lda', \n",
    "    lda_max_iter=5, \n",
    "    verbose=1)"
   ]
  },
  {
   "cell_type": "code",
   "execution_count": 32,
   "metadata": {},
   "outputs": [
    {
     "name": "stdout",
     "output_type": "stream",
     "text": [
      "topic 0 | oil gas price market say stock min inflation rate bank\n",
      "topic 1 | patient health healthcare medical care hospital clinical imaging disease treatment\n",
      "topic 2 | google said tech year giant alphabet according week pichai ceo\n",
      "topic 3 | center contact agent var customer node research request communication field\n",
      "topic 4 | research project engineering community team said work join access building\n",
      "topic 5 | updated hour minute prnewsfoto skip news today announced logo weather\n",
      "topic 6 | cancer breast lunit study screening tissue patient lung clinical image\n",
      "topic 7 | light eye noise radio station motion zoom mode cool room\n",
      "topic 8 | camera sensor design module application power product embedded control kit\n",
      "topic 9 | scott daniel club allen hill suicide thomas colorado delta brown\n",
      "topic 10 | city traffic transportation road urban location transport map forest download\n",
      "topic 11 | canada canadian toronto ontario assange donor say montreal urine bell\n",
      "topic 12 | artificial market report analysis global industry research growth player forecast\n",
      "topic 13 | game player gaming play score yahoo expert sony nba team\n",
      "topic 14 | japan targeting formula dna tokyo mesh webinar frequency contextual edgecortix\n",
      "topic 15 | award heart wearable skin blood beauty ultrasound winner year organ\n",
      "topic 16 | dollar traded trade btc exchange matrix network bitcoin using higher\n",
      "topic 17 | year billion million investment revenue market growth business investor financial\n",
      "topic 18 | gold gpt hole silver drill meter vein zone result sample\n",
      "topic 19 | reveals look star dress daughter black share say husband kardashian\n",
      "topic 20 | question view answer author opinion book fact general source knowledge\n",
      "topic 21 | drug discovery medicine pharmaceutical development trial clinical disease therapeutic wordpress\n",
      "topic 22 | content try ein presswire news editor use false welcome client\n",
      "topic 23 | restaurant order super hearing bowl guest mitchell talk kitchen food\n",
      "topic 24 | use make tool need used way potential example help like\n",
      "topic 25 | student education school university teacher college learning skill professor class\n",
      "topic 26 | device edge smart iot internet thing hardware chipsets chipset home\n",
      "topic 27 | dog animal bag bird recipe pet travel food vega ingredient\n",
      "topic 28 | coronavirus pandemic covid virus outbreak lockdown case crisis infection disease\n",
      "topic 29 | alert today log sign feb photo mar tak commentary swiss\n",
      "topic 30 | service big amazon provider citizen consulting web business offer client\n",
      "topic 31 | said state police say man official jones county department florida\n",
      "topic 32 | share stock nasdaq price nyse llc quarter etf average trading\n",
      "topic 33 | james smith lee ben tom david adam michael robert ryan\n",
      "topic 34 | die und sie der ist von nicht auf stoxx den\n",
      "topic 35 | conversational energy electric power solar battery renewable grid vehicle green\n",
      "topic 36 | cloud robot robotics ibm automation robotic sap oracle hybrid vacuum\n",
      "topic 37 | privacy personal protection user information italian policy authority italy concern\n",
      "topic 38 | news article story latest daily read newsletter inbox policy content\n",
      "topic 39 | chief officer executive president vice virginia director senior texas head\n",
      "topic 40 | risk use ethical responsible ensure framework need issue ethic governance\n",
      "topic 41 | stadium west olympics winter animation summer opening game olympic bird\n",
      "topic 42 | distribution fund return fiscal capital income nav total current tax\n",
      "topic 43 | human artificial machine task world computer emotion robot future brain\n",
      "topic 44 | sport day team league win season football home cup fan\n",
      "topic 45 | agreement climate february carbon emission january change acquisition transaction merger\n",
      "topic 46 | learning machine deep processing infrastructure operationalization algorithm advanced amazon databricks\n",
      "topic 47 | temperature heat dental uber atlas bmw cooling oral liquid heating\n",
      "topic 48 | tool content user code developer use platform create help api\n",
      "topic 49 | manufacturing industrial equipment maintenance repair inspection operation production predictive mlaas\n",
      "topic 50 | apple pro iphone phone samsung galaxy google review android feature\n",
      "topic 51 | john paul michael peter martin tampa sydney robert upper han\n",
      "topic 52 | law legal court patent case copyright lawyer lawsuit firm right\n",
      "topic 53 | software market global development cleaning skill business usa segmentation industry\n",
      "topic 54 | exhibit optical diego van laser scanner museum night cable painting\n",
      "topic 55 | republic kingdom people state democratic territory arab island email united\n",
      "topic 56 | russia world ukraine russian minister say country war israel international\n",
      "topic 57 | blockchain metaverse paper black gebru research fired tech email list\n",
      "topic 58 | people day year body camera life photo time like memory\n",
      "topic 59 | open tab site best link earn affiliate receive commission future\n",
      "topic 60 | medical catheter device market surgical bard vascular stent urinary johnson\n",
      "topic 61 | chatgpt chatbot openai bot tool said question response chatbots text\n",
      "topic 62 | word post conversation human researcher lamda people text like language\n",
      "topic 63 | computer vision healthcare product visual deep application network dilation teledyne\n",
      "topic 64 | say bias people algorithm woman gender black used study race\n",
      "topic 65 | management globe inventory sloan managing publishes consultant lifecycle wafer condition\n",
      "topic 66 | mobile best amazon tech home smart phone tablet podcasts work\n",
      "topic 67 | europe market launch european solution study service platform website world\n",
      "topic 68 | child family baby parent los county mental tool angeles adult\n",
      "topic 69 | energy fashion news utility important environment environmental fuel previous contributor\n",
      "topic 70 | startup venture million capital funding investor round investment partner ceo\n",
      "topic 71 | said employee time percent work help store customer worker according\n",
      "topic 72 | san francisco david morgan antonio moore miller wilson stanley jay\n",
      "topic 73 | image photo create generate prompt text used synthetic generator stable\n",
      "topic 74 | event conference virtual world meeting industry summit session year annual\n",
      "topic 75 | musk tesla openai elon letter twitter altman said ceo pause\n",
      "topic 76 | result search test detection algorithm automatically change testing type field\n",
      "topic 77 | job hiring candidate skill worker talent employer tool employee recruitment\n",
      "topic 78 | river charles neuromorphic analytic adfox brainchip rad enroute aitx iwave\n",
      "topic 79 | financial cent fraud organisation australia centre transaction australian money institution\n",
      "topic 80 | india indian stone read tata iit delhi premium programme crore\n",
      "topic 81 | survey banking corporate talent organization report respondent red leader bridge\n",
      "topic 82 | group online registered sun limited london newspaper time trademark press\n",
      "topic 83 | market growth expected global usd period america forecast cagr research\n",
      "topic 84 | port announces powered support slot del interface pcie usb dual\n",
      "topic 85 | crypto investment defi cryptocurrency token nfts alternative buy real good\n",
      "topic 86 | security cybersecurity cyber threat attack network secure detection organization risk\n",
      "topic 87 | art artist creative work design medium style digital creativity painting\n",
      "topic 88 | contract fintech payment taiwan legaltech industry collection commercial extraction iii\n",
      "topic 89 | space satellite nasa earth program rocket moon say spacex launch\n",
      "topic 90 | feature user access available free offer option app subscription update\n",
      "topic 91 | july baidu alibaba ernie tencent datarobot snowflake search artificial yuan\n",
      "topic 92 | document marketplace international record seller world evaluation ops area main\n",
      "topic 93 | researcher study research university protein cell team using used method\n",
      "topic 94 | video comment email visual address field notify published marked required\n",
      "topic 95 | research analysis report market client strategy study provides impact information\n",
      "topic 96 | market report global analysis key player growth research industry product\n",
      "topic 97 | course starfilled para busco filled helpful salud signify specialization starby\n",
      "topic 98 | azure mining metal javascript lake dynamic announces target golden cannabis\n",
      "topic 99 | facebook meta instagram post subscriber mark zuckerberg content social peak\n",
      "topic 100 | science platform scientist university institute program field engineering degree professor\n",
      "topic 101 | news telecom policy market trading fund privacy finance digital investment\n",
      "topic 102 | food material construction water plant waste chemical plastic disaster packaging\n",
      "topic 103 | like say thing people make think time know way want\n",
      "topic 104 | voice assistant speech audio speaker alexa virtual digital siri recording\n",
      "topic 105 | window open share click twitter linkedin facebook print crop reddit\n",
      "topic 106 | best forbes program paid real travel car estate brandvoice investing\n",
      "topic 107 | interview magazine family perimeter schumacher german cover french epidemic gaudi\n",
      "topic 108 | sale revenue global application production type product share price chapter\n",
      "topic 109 | index average avatar chart moving prisma marketing volume star lensa\n",
      "topic 110 | south africa korea east america country germany europe middle united\n",
      "topic 111 | credit insurance card loan claim life reward risk cardsbest auto\n",
      "topic 112 | report growth global market section research development various crucial player\n",
      "topic 113 | platform solution enterprise customer capability application said product leading today\n",
      "topic 114 | film movie series star character play netflix actor studio story\n",
      "topic 115 | government said european right state artificial union agency federal rule\n",
      "topic 116 | supply chain quantum logistics impact demand industry computing health supplier\n",
      "topic 117 | network computing hardware processing neural performance processor storage application power\n",
      "topic 118 | china chinese beijing hong kong huawei artist weiwei world shanghai\n",
      "topic 119 | music song artist podcast npr said spotify like label sound\n",
      "topic 120 | writing writer written pitch seattle techrepublic grammar help novelty creative\n",
      "topic 121 | website cooky use site cookie used user experience consent set\n",
      "topic 122 | india news delhi indian flight case story say air modi\n",
      "topic 123 | global digital sector innovation development artificial industry agriculture world government\n",
      "topic 124 | trump american biden president election house vote joe donald political\n",
      "topic 125 | model training algorithm set trained used train learning large prediction\n",
      "topic 126 | car vehicle driver automotive driving autonomous motor safety ford truck\n",
      "topic 127 | chip nvidia intel gpu server semiconductor gpus amd computing qualcomm\n",
      "topic 128 | aws reality process dell veteran internal alto procurement experience category\n",
      "topic 129 | military defense air drone force aviation weapon artificial aircraft pilot\n",
      "topic 130 | wind shall hotel rain mph church freedom high low free\n",
      "topic 131 | day love star fan woman life man make son friend\n",
      "topic 132 | microsoft search bing bard engine openai user google chatbot said\n",
      "topic 133 | post comment news inappropriate term valley reading lehigh county removed\n",
      "topic 134 | watch live video day pakistan online khan update know pic\n",
      "topic 135 | business analytics process organization help insight team need experience strategy\n",
      "topic 136 | customer experience marketing product brand digital business consumer sale help\n",
      "topic 137 | recognition facial face clearview surveillance use enforcement law used privacy\n",
      "topic 138 | bank share communication finance nuance express ifsc overseas petroleum zeroeyes\n",
      "topic 139 | app generative user apps indicates person head insider way icon\n",
      "topic 140 | march board member director leader group review leadership committee advisory\n",
      "topic 141 | language natural text processing model microsoft word large translation llm\n",
      "topic 142 | email account sign profile link site notification comment page website\n",
      "topic 143 | cognitive business examination investigation worldwide significant element organization development information\n",
      "topic 144 | market forecast growth analysis trend industry global report size key\n",
      "topic 145 | information statement result including date provide security release term unit\n",
      "topic 146 | medium social fake tiktok online video platform misinformation deepfake filter\n",
      "topic 147 | weather ship ocean sea vessel balloon carrier ice shipping coast\n",
      "topic 148 | philip care island product solution support service glass contact specialty\n",
      "topic 149 | stock symbol add fool buy portfolio opinion market view motley\n"
     ]
    }
   ],
   "source": [
    "tm_150.print_topics()"
   ]
  },
  {
   "attachments": {},
   "cell_type": "markdown",
   "metadata": {
    "tags": []
   },
   "source": [
    "## BERTopic"
   ]
  },
  {
   "attachments": {},
   "cell_type": "markdown",
   "metadata": {},
   "source": [
    "#### Setting"
   ]
  },
  {
   "cell_type": "code",
   "execution_count": null,
   "metadata": {
    "tags": []
   },
   "outputs": [],
   "source": [
    "# !pip install bertopic"
   ]
  },
  {
   "cell_type": "code",
   "execution_count": 1,
   "metadata": {
    "tags": []
   },
   "outputs": [
    {
     "name": "stderr",
     "output_type": "stream",
     "text": [
      "e:\\miniconda3\\envs\\general\\lib\\site-packages\\umap\\distances.py:1063: NumbaDeprecationWarning: \u001b[1mThe 'nopython' keyword argument was not supplied to the 'numba.jit' decorator. The implicit default value for this argument is currently False, but it will be changed to True in Numba 0.59.0. See https://numba.readthedocs.io/en/stable/reference/deprecation.html#deprecation-of-object-mode-fall-back-behaviour-when-using-jit for details.\u001b[0m\n",
      "  @numba.jit()\n",
      "e:\\miniconda3\\envs\\general\\lib\\site-packages\\umap\\distances.py:1071: NumbaDeprecationWarning: \u001b[1mThe 'nopython' keyword argument was not supplied to the 'numba.jit' decorator. The implicit default value for this argument is currently False, but it will be changed to True in Numba 0.59.0. See https://numba.readthedocs.io/en/stable/reference/deprecation.html#deprecation-of-object-mode-fall-back-behaviour-when-using-jit for details.\u001b[0m\n",
      "  @numba.jit()\n",
      "e:\\miniconda3\\envs\\general\\lib\\site-packages\\umap\\distances.py:1086: NumbaDeprecationWarning: \u001b[1mThe 'nopython' keyword argument was not supplied to the 'numba.jit' decorator. The implicit default value for this argument is currently False, but it will be changed to True in Numba 0.59.0. See https://numba.readthedocs.io/en/stable/reference/deprecation.html#deprecation-of-object-mode-fall-back-behaviour-when-using-jit for details.\u001b[0m\n",
      "  @numba.jit()\n",
      "e:\\miniconda3\\envs\\general\\lib\\site-packages\\umap\\umap_.py:660: NumbaDeprecationWarning: \u001b[1mThe 'nopython' keyword argument was not supplied to the 'numba.jit' decorator. The implicit default value for this argument is currently False, but it will be changed to True in Numba 0.59.0. See https://numba.readthedocs.io/en/stable/reference/deprecation.html#deprecation-of-object-mode-fall-back-behaviour-when-using-jit for details.\u001b[0m\n",
      "  @numba.jit()\n"
     ]
    },
    {
     "ename": "RuntimeError",
     "evalue": "Failed to import transformers.pipelines because of the following error (look up to see its traceback):\n[WinError 182] 操作系统无法运行 %1。 Error loading \"e:\\miniconda3\\envs\\general\\lib\\site-packages\\torch\\lib\\shm.dll\" or one of its dependencies.",
     "output_type": "error",
     "traceback": [
      "\u001b[1;31m---------------------------------------------------------------------------\u001b[0m",
      "\u001b[1;31mOSError\u001b[0m                                   Traceback (most recent call last)",
      "File \u001b[1;32me:\\miniconda3\\envs\\general\\lib\\site-packages\\transformers\\utils\\import_utils.py:1172\u001b[0m, in \u001b[0;36m_LazyModule._get_module\u001b[1;34m(self, module_name)\u001b[0m\n\u001b[0;32m   1171\u001b[0m \u001b[39mtry\u001b[39;00m:\n\u001b[1;32m-> 1172\u001b[0m     \u001b[39mreturn\u001b[39;00m importlib\u001b[39m.\u001b[39;49mimport_module(\u001b[39m\"\u001b[39;49m\u001b[39m.\u001b[39;49m\u001b[39m\"\u001b[39;49m \u001b[39m+\u001b[39;49m module_name, \u001b[39mself\u001b[39;49m\u001b[39m.\u001b[39;49m\u001b[39m__name__\u001b[39;49m)\n\u001b[0;32m   1173\u001b[0m \u001b[39mexcept\u001b[39;00m \u001b[39mException\u001b[39;00m \u001b[39mas\u001b[39;00m e:\n",
      "File \u001b[1;32me:\\miniconda3\\envs\\general\\lib\\importlib\\__init__.py:127\u001b[0m, in \u001b[0;36mimport_module\u001b[1;34m(name, package)\u001b[0m\n\u001b[0;32m    126\u001b[0m         level \u001b[39m+\u001b[39m\u001b[39m=\u001b[39m \u001b[39m1\u001b[39m\n\u001b[1;32m--> 127\u001b[0m \u001b[39mreturn\u001b[39;00m _bootstrap\u001b[39m.\u001b[39;49m_gcd_import(name[level:], package, level)\n",
      "File \u001b[1;32m<frozen importlib._bootstrap>:1030\u001b[0m, in \u001b[0;36m_gcd_import\u001b[1;34m(name, package, level)\u001b[0m\n",
      "File \u001b[1;32m<frozen importlib._bootstrap>:1007\u001b[0m, in \u001b[0;36m_find_and_load\u001b[1;34m(name, import_)\u001b[0m\n",
      "File \u001b[1;32m<frozen importlib._bootstrap>:986\u001b[0m, in \u001b[0;36m_find_and_load_unlocked\u001b[1;34m(name, import_)\u001b[0m\n",
      "File \u001b[1;32m<frozen importlib._bootstrap>:680\u001b[0m, in \u001b[0;36m_load_unlocked\u001b[1;34m(spec)\u001b[0m\n",
      "File \u001b[1;32m<frozen importlib._bootstrap_external>:790\u001b[0m, in \u001b[0;36mexec_module\u001b[1;34m(self, module)\u001b[0m\n",
      "File \u001b[1;32m<frozen importlib._bootstrap>:228\u001b[0m, in \u001b[0;36m_call_with_frames_removed\u001b[1;34m(f, *args, **kwds)\u001b[0m\n",
      "File \u001b[1;32me:\\miniconda3\\envs\\general\\lib\\site-packages\\transformers\\pipelines\\__init__.py:44\u001b[0m\n\u001b[0;32m     35\u001b[0m \u001b[39mfrom\u001b[39;00m \u001b[39m.\u001b[39;00m\u001b[39m.\u001b[39;00m\u001b[39mutils\u001b[39;00m \u001b[39mimport\u001b[39;00m (\n\u001b[0;32m     36\u001b[0m     HUGGINGFACE_CO_RESOLVE_ENDPOINT,\n\u001b[0;32m     37\u001b[0m     is_kenlm_available,\n\u001b[1;32m   (...)\u001b[0m\n\u001b[0;32m     42\u001b[0m     logging,\n\u001b[0;32m     43\u001b[0m )\n\u001b[1;32m---> 44\u001b[0m \u001b[39mfrom\u001b[39;00m \u001b[39m.\u001b[39;00m\u001b[39maudio_classification\u001b[39;00m \u001b[39mimport\u001b[39;00m AudioClassificationPipeline\n\u001b[0;32m     45\u001b[0m \u001b[39mfrom\u001b[39;00m \u001b[39m.\u001b[39;00m\u001b[39mautomatic_speech_recognition\u001b[39;00m \u001b[39mimport\u001b[39;00m AutomaticSpeechRecognitionPipeline\n",
      "File \u001b[1;32me:\\miniconda3\\envs\\general\\lib\\site-packages\\transformers\\pipelines\\audio_classification.py:21\u001b[0m\n\u001b[0;32m     20\u001b[0m \u001b[39mfrom\u001b[39;00m \u001b[39m.\u001b[39;00m\u001b[39m.\u001b[39;00m\u001b[39mutils\u001b[39;00m \u001b[39mimport\u001b[39;00m add_end_docstrings, is_torch_available, logging\n\u001b[1;32m---> 21\u001b[0m \u001b[39mfrom\u001b[39;00m \u001b[39m.\u001b[39;00m\u001b[39mbase\u001b[39;00m \u001b[39mimport\u001b[39;00m PIPELINE_INIT_ARGS, Pipeline\n\u001b[0;32m     24\u001b[0m \u001b[39mif\u001b[39;00m is_torch_available():\n",
      "File \u001b[1;32me:\\miniconda3\\envs\\general\\lib\\site-packages\\transformers\\pipelines\\base.py:36\u001b[0m\n\u001b[0;32m     35\u001b[0m \u001b[39mfrom\u001b[39;00m \u001b[39m.\u001b[39;00m\u001b[39m.\u001b[39;00m\u001b[39mimage_processing_utils\u001b[39;00m \u001b[39mimport\u001b[39;00m BaseImageProcessor\n\u001b[1;32m---> 36\u001b[0m \u001b[39mfrom\u001b[39;00m \u001b[39m.\u001b[39;00m\u001b[39m.\u001b[39;00m\u001b[39mmodelcard\u001b[39;00m \u001b[39mimport\u001b[39;00m ModelCard\n\u001b[0;32m     37\u001b[0m \u001b[39mfrom\u001b[39;00m \u001b[39m.\u001b[39;00m\u001b[39m.\u001b[39;00m\u001b[39mmodels\u001b[39;00m\u001b[39m.\u001b[39;00m\u001b[39mauto\u001b[39;00m\u001b[39m.\u001b[39;00m\u001b[39mconfiguration_auto\u001b[39;00m \u001b[39mimport\u001b[39;00m AutoConfig\n",
      "File \u001b[1;32me:\\miniconda3\\envs\\general\\lib\\site-packages\\transformers\\modelcard.py:48\u001b[0m\n\u001b[0;32m     32\u001b[0m \u001b[39mfrom\u001b[39;00m \u001b[39m.\u001b[39;00m\u001b[39mmodels\u001b[39;00m\u001b[39m.\u001b[39;00m\u001b[39mauto\u001b[39;00m\u001b[39m.\u001b[39;00m\u001b[39mmodeling_auto\u001b[39;00m \u001b[39mimport\u001b[39;00m (\n\u001b[0;32m     33\u001b[0m     MODEL_FOR_AUDIO_CLASSIFICATION_MAPPING_NAMES,\n\u001b[0;32m     34\u001b[0m     MODEL_FOR_CAUSAL_LM_MAPPING_NAMES,\n\u001b[1;32m   (...)\u001b[0m\n\u001b[0;32m     46\u001b[0m     MODEL_FOR_ZERO_SHOT_IMAGE_CLASSIFICATION_MAPPING_NAMES,\n\u001b[0;32m     47\u001b[0m )\n\u001b[1;32m---> 48\u001b[0m \u001b[39mfrom\u001b[39;00m \u001b[39m.\u001b[39;00m\u001b[39mtraining_args\u001b[39;00m \u001b[39mimport\u001b[39;00m ParallelMode\n\u001b[0;32m     49\u001b[0m \u001b[39mfrom\u001b[39;00m \u001b[39m.\u001b[39;00m\u001b[39mutils\u001b[39;00m \u001b[39mimport\u001b[39;00m (\n\u001b[0;32m     50\u001b[0m     MODEL_CARD_NAME,\n\u001b[0;32m     51\u001b[0m     cached_file,\n\u001b[1;32m   (...)\u001b[0m\n\u001b[0;32m     57\u001b[0m     logging,\n\u001b[0;32m     58\u001b[0m )\n",
      "File \u001b[1;32me:\\miniconda3\\envs\\general\\lib\\site-packages\\transformers\\training_args.py:29\u001b[0m\n\u001b[0;32m     27\u001b[0m \u001b[39mfrom\u001b[39;00m \u001b[39mpackaging\u001b[39;00m \u001b[39mimport\u001b[39;00m version\n\u001b[1;32m---> 29\u001b[0m \u001b[39mfrom\u001b[39;00m \u001b[39m.\u001b[39;00m\u001b[39mdebug_utils\u001b[39;00m \u001b[39mimport\u001b[39;00m DebugOption\n\u001b[0;32m     30\u001b[0m \u001b[39mfrom\u001b[39;00m \u001b[39m.\u001b[39;00m\u001b[39mtrainer_utils\u001b[39;00m \u001b[39mimport\u001b[39;00m (\n\u001b[0;32m     31\u001b[0m     EvaluationStrategy,\n\u001b[0;32m     32\u001b[0m     FSDPOption,\n\u001b[1;32m   (...)\u001b[0m\n\u001b[0;32m     36\u001b[0m     ShardedDDPOption,\n\u001b[0;32m     37\u001b[0m )\n",
      "File \u001b[1;32me:\\miniconda3\\envs\\general\\lib\\site-packages\\transformers\\debug_utils.py:21\u001b[0m\n\u001b[0;32m     20\u001b[0m \u001b[39mif\u001b[39;00m is_torch_available():\n\u001b[1;32m---> 21\u001b[0m     \u001b[39mimport\u001b[39;00m \u001b[39mtorch\u001b[39;00m\n\u001b[0;32m     24\u001b[0m logger \u001b[39m=\u001b[39m logging\u001b[39m.\u001b[39mget_logger(\u001b[39m__name__\u001b[39m)\n",
      "File \u001b[1;32me:\\miniconda3\\envs\\general\\lib\\site-packages\\torch\\__init__.py:122\u001b[0m\n\u001b[0;32m    121\u001b[0m     err\u001b[39m.\u001b[39mstrerror \u001b[39m+\u001b[39m\u001b[39m=\u001b[39m \u001b[39mf\u001b[39m\u001b[39m'\u001b[39m\u001b[39m Error loading \u001b[39m\u001b[39m\"\u001b[39m\u001b[39m{\u001b[39;00mdll\u001b[39m}\u001b[39;00m\u001b[39m\"\u001b[39m\u001b[39m or one of its dependencies.\u001b[39m\u001b[39m'\u001b[39m\n\u001b[1;32m--> 122\u001b[0m     \u001b[39mraise\u001b[39;00m err\n\u001b[0;32m    123\u001b[0m \u001b[39melif\u001b[39;00m res \u001b[39mis\u001b[39;00m \u001b[39mnot\u001b[39;00m \u001b[39mNone\u001b[39;00m:\n",
      "\u001b[1;31mOSError\u001b[0m: [WinError 182] 操作系统无法运行 %1。 Error loading \"e:\\miniconda3\\envs\\general\\lib\\site-packages\\torch\\lib\\shm.dll\" or one of its dependencies.",
      "\nThe above exception was the direct cause of the following exception:\n",
      "\u001b[1;31mRuntimeError\u001b[0m                              Traceback (most recent call last)",
      "Cell \u001b[1;32mIn[1], line 1\u001b[0m\n\u001b[1;32m----> 1\u001b[0m \u001b[39mfrom\u001b[39;00m \u001b[39mbertopic\u001b[39;00m \u001b[39mimport\u001b[39;00m BERTopic\n",
      "File \u001b[1;32me:\\miniconda3\\envs\\general\\lib\\site-packages\\bertopic\\__init__.py:1\u001b[0m\n\u001b[1;32m----> 1\u001b[0m \u001b[39mfrom\u001b[39;00m \u001b[39mbertopic\u001b[39;00m\u001b[39m.\u001b[39;00m\u001b[39m_bertopic\u001b[39;00m \u001b[39mimport\u001b[39;00m BERTopic\n\u001b[0;32m      3\u001b[0m __version__ \u001b[39m=\u001b[39m \u001b[39m\"\u001b[39m\u001b[39m0.14.0\u001b[39m\u001b[39m\"\u001b[39m\n\u001b[0;32m      5\u001b[0m __all__ \u001b[39m=\u001b[39m [\n\u001b[0;32m      6\u001b[0m     \u001b[39m\"\u001b[39m\u001b[39mBERTopic\u001b[39m\u001b[39m\"\u001b[39m,\n\u001b[0;32m      7\u001b[0m ]\n",
      "File \u001b[1;32me:\\miniconda3\\envs\\general\\lib\\site-packages\\bertopic\\_bertopic.py:38\u001b[0m\n\u001b[0;32m     36\u001b[0m \u001b[39mfrom\u001b[39;00m \u001b[39mbertopic\u001b[39;00m\u001b[39m.\u001b[39;00m\u001b[39mbackend\u001b[39;00m \u001b[39mimport\u001b[39;00m BaseEmbedder\n\u001b[0;32m     37\u001b[0m \u001b[39mfrom\u001b[39;00m \u001b[39mbertopic\u001b[39;00m\u001b[39m.\u001b[39;00m\u001b[39mbackend\u001b[39;00m\u001b[39m.\u001b[39;00m\u001b[39m_utils\u001b[39;00m \u001b[39mimport\u001b[39;00m select_backend\n\u001b[1;32m---> 38\u001b[0m \u001b[39mfrom\u001b[39;00m \u001b[39mbertopic\u001b[39;00m\u001b[39m.\u001b[39;00m\u001b[39mrepresentation\u001b[39;00m \u001b[39mimport\u001b[39;00m BaseRepresentation\n\u001b[0;32m     39\u001b[0m \u001b[39mfrom\u001b[39;00m \u001b[39mbertopic\u001b[39;00m\u001b[39m.\u001b[39;00m\u001b[39mcluster\u001b[39;00m\u001b[39m.\u001b[39;00m\u001b[39m_utils\u001b[39;00m \u001b[39mimport\u001b[39;00m hdbscan_delegator, is_supported_hdbscan\n\u001b[0;32m     40\u001b[0m \u001b[39mfrom\u001b[39;00m \u001b[39mbertopic\u001b[39;00m\u001b[39m.\u001b[39;00m\u001b[39m_utils\u001b[39;00m \u001b[39mimport\u001b[39;00m MyLogger, check_documents_type, check_embeddings_shape, check_is_fitted\n",
      "File \u001b[1;32me:\\miniconda3\\envs\\general\\lib\\site-packages\\bertopic\\representation\\__init__.py:9\u001b[0m\n\u001b[0;32m      7\u001b[0m \u001b[39m# Text Generation using transformers\u001b[39;00m\n\u001b[0;32m      8\u001b[0m \u001b[39mtry\u001b[39;00m:\n\u001b[1;32m----> 9\u001b[0m     \u001b[39mfrom\u001b[39;00m \u001b[39mbertopic\u001b[39;00m\u001b[39m.\u001b[39;00m\u001b[39mrepresentation\u001b[39;00m\u001b[39m.\u001b[39;00m\u001b[39m_textgeneration\u001b[39;00m \u001b[39mimport\u001b[39;00m TextGeneration\n\u001b[0;32m     10\u001b[0m \u001b[39mexcept\u001b[39;00m \u001b[39mModuleNotFoundError\u001b[39;00m:\n\u001b[0;32m     11\u001b[0m     msg \u001b[39m=\u001b[39m \u001b[39m\"\u001b[39m\u001b[39m`pip install bertopic` without `--no-deps` \u001b[39m\u001b[39m\\n\u001b[39;00m\u001b[39m\\n\u001b[39;00m\u001b[39m\"\u001b[39m\n",
      "File \u001b[1;32me:\\miniconda3\\envs\\general\\lib\\site-packages\\bertopic\\representation\\_textgeneration.py:4\u001b[0m\n\u001b[0;32m      2\u001b[0m \u001b[39mfrom\u001b[39;00m \u001b[39mtqdm\u001b[39;00m \u001b[39mimport\u001b[39;00m tqdm\n\u001b[0;32m      3\u001b[0m \u001b[39mfrom\u001b[39;00m \u001b[39mscipy\u001b[39;00m\u001b[39m.\u001b[39;00m\u001b[39msparse\u001b[39;00m \u001b[39mimport\u001b[39;00m csr_matrix\n\u001b[1;32m----> 4\u001b[0m \u001b[39mfrom\u001b[39;00m \u001b[39mtransformers\u001b[39;00m \u001b[39mimport\u001b[39;00m pipeline, set_seed\n\u001b[0;32m      5\u001b[0m \u001b[39mfrom\u001b[39;00m \u001b[39mtransformers\u001b[39;00m\u001b[39m.\u001b[39;00m\u001b[39mpipelines\u001b[39;00m\u001b[39m.\u001b[39;00m\u001b[39mbase\u001b[39;00m \u001b[39mimport\u001b[39;00m Pipeline\n\u001b[0;32m      6\u001b[0m \u001b[39mfrom\u001b[39;00m \u001b[39mtyping\u001b[39;00m \u001b[39mimport\u001b[39;00m Mapping, List, Tuple, Any, Union\n",
      "File \u001b[1;32m<frozen importlib._bootstrap>:1055\u001b[0m, in \u001b[0;36m_handle_fromlist\u001b[1;34m(module, fromlist, import_, recursive)\u001b[0m\n",
      "File \u001b[1;32me:\\miniconda3\\envs\\general\\lib\\site-packages\\transformers\\utils\\import_utils.py:1162\u001b[0m, in \u001b[0;36m_LazyModule.__getattr__\u001b[1;34m(self, name)\u001b[0m\n\u001b[0;32m   1160\u001b[0m     value \u001b[39m=\u001b[39m \u001b[39mself\u001b[39m\u001b[39m.\u001b[39m_get_module(name)\n\u001b[0;32m   1161\u001b[0m \u001b[39melif\u001b[39;00m name \u001b[39min\u001b[39;00m \u001b[39mself\u001b[39m\u001b[39m.\u001b[39m_class_to_module\u001b[39m.\u001b[39mkeys():\n\u001b[1;32m-> 1162\u001b[0m     module \u001b[39m=\u001b[39m \u001b[39mself\u001b[39;49m\u001b[39m.\u001b[39;49m_get_module(\u001b[39mself\u001b[39;49m\u001b[39m.\u001b[39;49m_class_to_module[name])\n\u001b[0;32m   1163\u001b[0m     value \u001b[39m=\u001b[39m \u001b[39mgetattr\u001b[39m(module, name)\n\u001b[0;32m   1164\u001b[0m \u001b[39melse\u001b[39;00m:\n",
      "File \u001b[1;32me:\\miniconda3\\envs\\general\\lib\\site-packages\\transformers\\utils\\import_utils.py:1174\u001b[0m, in \u001b[0;36m_LazyModule._get_module\u001b[1;34m(self, module_name)\u001b[0m\n\u001b[0;32m   1172\u001b[0m     \u001b[39mreturn\u001b[39;00m importlib\u001b[39m.\u001b[39mimport_module(\u001b[39m\"\u001b[39m\u001b[39m.\u001b[39m\u001b[39m\"\u001b[39m \u001b[39m+\u001b[39m module_name, \u001b[39mself\u001b[39m\u001b[39m.\u001b[39m\u001b[39m__name__\u001b[39m)\n\u001b[0;32m   1173\u001b[0m \u001b[39mexcept\u001b[39;00m \u001b[39mException\u001b[39;00m \u001b[39mas\u001b[39;00m e:\n\u001b[1;32m-> 1174\u001b[0m     \u001b[39mraise\u001b[39;00m \u001b[39mRuntimeError\u001b[39;00m(\n\u001b[0;32m   1175\u001b[0m         \u001b[39mf\u001b[39m\u001b[39m\"\u001b[39m\u001b[39mFailed to import \u001b[39m\u001b[39m{\u001b[39;00m\u001b[39mself\u001b[39m\u001b[39m.\u001b[39m\u001b[39m__name__\u001b[39m\u001b[39m}\u001b[39;00m\u001b[39m.\u001b[39m\u001b[39m{\u001b[39;00mmodule_name\u001b[39m}\u001b[39;00m\u001b[39m because of the following error (look up to see its\u001b[39m\u001b[39m\"\u001b[39m\n\u001b[0;32m   1176\u001b[0m         \u001b[39mf\u001b[39m\u001b[39m\"\u001b[39m\u001b[39m traceback):\u001b[39m\u001b[39m\\n\u001b[39;00m\u001b[39m{\u001b[39;00me\u001b[39m}\u001b[39;00m\u001b[39m\"\u001b[39m\n\u001b[0;32m   1177\u001b[0m     ) \u001b[39mfrom\u001b[39;00m \u001b[39me\u001b[39;00m\n",
      "\u001b[1;31mRuntimeError\u001b[0m: Failed to import transformers.pipelines because of the following error (look up to see its traceback):\n[WinError 182] 操作系统无法运行 %1。 Error loading \"e:\\miniconda3\\envs\\general\\lib\\site-packages\\torch\\lib\\shm.dll\" or one of its dependencies."
     ]
    }
   ],
   "source": [
    "from bertopic import BERTopic\n",
    "# from sentence_transformers import SentenceTransformer"
   ]
  },
  {
   "cell_type": "code",
   "execution_count": 34,
   "metadata": {
    "tags": []
   },
   "outputs": [],
   "source": [
    "def remove_stopwords(sentence):\n",
    "    from nltk.tokenize import word_tokenize\n",
    "    from nltk.corpus import stopwords\n",
    "    stop_words = stopwords.words('english')\n",
    "    tokens = word_tokenize(sentence)\n",
    "    filtered_sentence = [word for word in tokens if not word in stop_words]\n",
    "    return \" \".join(filtered_sentence)"
   ]
  },
  {
   "cell_type": "code",
   "execution_count": 35,
   "metadata": {
    "tags": []
   },
   "outputs": [
    {
     "data": {
      "application/vnd.jupyter.widget-view+json": {
       "model_id": "22cc66759b1b49c5beecb46f3fdd337d",
       "version_major": 2,
       "version_minor": 0
      },
      "text/plain": [
       "VBox(children=(HBox(children=(IntProgress(value=0, description='0.00%', max=8713), Label(value='0 / 8713'))), …"
      ]
     },
     "metadata": {},
     "output_type": "display_data"
    },
    {
     "name": "stdout",
     "output_type": "stream",
     "text": [
      "CPU times: total: 3.58 s\n",
      "Wall time: 1min 20s\n"
     ]
    }
   ],
   "source": [
    "%%time\n",
    "df_filtered['clean_text_without_stopwords'] = df_filtered['clean_text'].parallel_apply(remove_stopwords)"
   ]
  },
  {
   "attachments": {},
   "cell_type": "markdown",
   "metadata": {},
   "source": [
    "#### On Sample"
   ]
  },
  {
   "cell_type": "code",
   "execution_count": null,
   "metadata": {
    "tags": []
   },
   "outputs": [],
   "source": [
    "# first try on sample\n",
    "df_sample = df_filtered.sample(n=10000)\n",
    "sample_documents = df_sample['clean_text_without_stopwords'].tolist()  "
   ]
  },
  {
   "cell_type": "code",
   "execution_count": null,
   "metadata": {
    "tags": []
   },
   "outputs": [],
   "source": [
    "# Create a BERTopic model\n",
    "sample_topic_model_auto = BERTopic(embedding_model=\"bert-base-nli-mean-tokens\",  min_topic_size=50)"
   ]
  },
  {
   "cell_type": "code",
   "execution_count": null,
   "metadata": {
    "tags": []
   },
   "outputs": [],
   "source": [
    "sample_topics, sample_probabilities = sample_topic_model_auto.fit_transform(sample_documents)"
   ]
  },
  {
   "cell_type": "code",
   "execution_count": null,
   "metadata": {
    "tags": []
   },
   "outputs": [],
   "source": [
    "sample_topic_keywords = sample_topic_model_auto.get_topic_info()"
   ]
  },
  {
   "cell_type": "code",
   "execution_count": null,
   "metadata": {
    "tags": []
   },
   "outputs": [],
   "source": [
    "for topic in sample_topic_keywords['Topic'].unique():\n",
    "    sample_keywords = sample_topic_model_auto.get_topic(topic)\n",
    "    sample_keywords, _ = zip(*sample_keywords[:5])  # unzip keywords and probabilities, ignore probabilities\n",
    "    print(f\"Topic {topic} Keywords: {sample_keywords}\")"
   ]
  },
  {
   "attachments": {},
   "cell_type": "markdown",
   "metadata": {},
   "source": [
    "#### On Full Dataset"
   ]
  },
  {
   "attachments": {},
   "cell_type": "markdown",
   "metadata": {},
   "source": [
    "##### Auto n_topics"
   ]
  },
  {
   "cell_type": "code",
   "execution_count": 36,
   "metadata": {
    "tags": []
   },
   "outputs": [],
   "source": [
    "# Create a BERTopic model\n",
    "topic_model_auto = BERTopic(embedding_model=\"bert-base-nli-mean-tokens\",  min_topic_size=100)"
   ]
  },
  {
   "cell_type": "code",
   "execution_count": 37,
   "metadata": {
    "tags": []
   },
   "outputs": [
    {
     "name": "stdout",
     "output_type": "stream",
     "text": [
      "CPU times: total: 4h 2min 29s\n",
      "Wall time: 3h 16min 20s\n"
     ]
    }
   ],
   "source": [
    "%%time\n",
    "topics_auto, probabilities_tuo = topic_model_auto.fit_transform(df_filtered.clean_text_without_stopwords.tolist())"
   ]
  },
  {
   "cell_type": "code",
   "execution_count": 38,
   "metadata": {
    "tags": []
   },
   "outputs": [],
   "source": [
    "topic_keywords_auto = topic_model_auto.get_topic_info()"
   ]
  },
  {
   "cell_type": "code",
   "execution_count": 39,
   "metadata": {
    "tags": []
   },
   "outputs": [
    {
     "name": "stdout",
     "output_type": "stream",
     "text": [
      "Topic -1 Keywords: ('ai', 'the', 'new', 'said', 'data')\n",
      "Topic 0 Keywords: ('market', 'report', 'analysis', 'global', 'growth')\n",
      "Topic 1 Keywords: ('patients', 'health', 'cancer', 'patient', 'healthcare')\n",
      "Topic 2 Keywords: ('google', 'ai', 'data', 'chatgpt', 'use')\n",
      "Topic 3 Keywords: ('market', 'analysis', 'report', 'global', 'growth')\n",
      "Topic 4 Keywords: ('star', 'day', 'says', 'watch', 'india')\n",
      "Topic 5 Keywords: ('results', 'search', 'typing', 'automatically', 'data')\n",
      "Topic 6 Keywords: ('china', 'chinese', 'baidu', 'ernie', 'beijing')\n",
      "Topic 7 Keywords: ('ai', 'million', 'openai', 'billion', 'company')\n",
      "Topic 8 Keywords: ('wfmz', 'posts', 'comments', 'inappropriate', 'lehigh')\n",
      "Topic 9 Keywords: ('tesla', 'car', 'driving', 'vehicle', 'vehicles')\n",
      "Topic 10 Keywords: ('tab', 'opens', 'new', 'techradar', 'best')\n",
      "Topic 11 Keywords: ('zu', 'und', 'die', 'sie', '500nasdaq')\n",
      "Topic 12 Keywords: ('students', 'chatgpt', 'teachers', 'school', 'writing')\n",
      "Topic 13 Keywords: ('venturebeat', 'join', 'data', 'collect', 'ai')\n",
      "Topic 14 Keywords: ('defense', 'military', 'air', 'force', 'drone')\n",
      "Topic 15 Keywords: ('endnoteall', 'safetylit', 'zotero', 'mendeley', 'citations')\n",
      "Topic 16 Keywords: ('best', 'forbes', 'cards', 'paid', 'brandvoice')\n",
      "Topic 17 Keywords: ('students', 'science', 'education', 'programme', 'university')\n",
      "Topic 18 Keywords: ('traded', 'btc', 'dollar', 'trades', 'decentralized')\n",
      "Topic 19 Keywords: ('space', 'earth', 'nasa', 'moon', 'craters')\n",
      "Topic 20 Keywords: ('updated', 'minutes', 'hour', '2023', 'april')\n",
      "Topic 21 Keywords: ('commentary', 'alerts', 'newsletters', 'log', 'breaking')\n",
      "Topic 22 Keywords: ('7newsabout', 'buyclick', 'newsmilitaryeducationweatherclosings5th', 'emailnewslocal', 'newscrimestatenationalexclusive')\n",
      "Topic 23 Keywords: ('traded', 'btc', 'dollar', 'trades', 'exchanges')\n",
      "Topic 24 Keywords: ('food', 'recipes', 'restaurant', 'sense', 'common')\n",
      "Topic 25 Keywords: ('ip', 'performance', 'neupro', 'edge', 'gpu')\n",
      "Topic 26 Keywords: ('italian', 'italy', 'openai', 'chatgpt', 'protection')\n",
      "Topic 27 Keywords: ('weather', 'usadvertise', 'appsadvertise', '3now', '3coronavirusmedical')\n",
      "Topic 28 Keywords: ('exhibit', 'market', 'forecast', 'growth', '2026')\n",
      "Topic 29 Keywords: ('republic', 'winds', 'mph', 'cloudy', 'rain')\n",
      "Topic 30 Keywords: ('crypto', 'under', 'defi', 'stocksbest', 'brokersstock')\n",
      "Topic 31 Keywords: ('agriculture', 'farmers', 'crop', 'agricultural', 'crops')\n",
      "Topic 32 Keywords: ('tak', 'today', 'india', 'chatgpt', 'ist')\n",
      "Topic 33 Keywords: ('indicates', 'shoulders', 'icon', 'dismiss', 'crossed')\n",
      "Topic 34 Keywords: ('skip', 'conditionsairport', 'expodakota', 'graphicslive', 'skywatch')\n",
      "Topic 35 Keywords: ('air', 'india', 'flight', 'airline', 'passengers')\n",
      "Topic 36 Keywords: ('inflation', 'canadians', 'canada', 'ceo', 'bank')\n",
      "Topic 37 Keywords: ('market', 'analysis', 'report', 'global', 'covid')\n",
      "Topic 38 Keywords: ('automotive', 'artificial', 'market', 'intelligence', 'report')\n",
      "Topic 39 Keywords: ('tdr', 'ptz', 'srg', 'reviewer', 'sony')\n",
      "Topic 40 Keywords: ('data', 'experience', 'vlab', 'sql', 'business')\n",
      "Topic 41 Keywords: ('newsindiana', 'ustvriver', 'coveragesunrise', 'clubask', 'appsprevious')\n",
      "Topic 42 Keywords: ('shares', 'stock', 'renalytix', 'quarter', 'nyse')\n",
      "Topic 43 Keywords: ('matrix', 'traded', 'btc', 'dollar', 'trades')\n",
      "Topic 44 Keywords: ('window', 'click', 'opens', 'share', 'new')\n",
      "Topic 45 Keywords: ('my', 'advertisementhide', 'adadvertisementhide', 'rent', 'linkscontact')\n",
      "Topic 46 Keywords: ('starfilled', 'course', 'filled', 'helpful', 'starby')\n",
      "Topic 47 Keywords: ('energy', 'solar', 'cleantechnica', 'emissions', 'electric')\n",
      "Topic 48 Keywords: ('like', 'robot', 'film', 'human', 'movie')\n",
      "Topic 49 Keywords: ('nowfeatured', 'india', 'prime', 'news', 'papersubscribesign')\n",
      "Topic 50 Keywords: ('1d', 'minutess', 'crude', 'gold1', 'eur')\n",
      "Topic 51 Keywords: ('africa', 'african', 'india', 'covid', '19')\n",
      "Topic 52 Keywords: ('lifestyleadvertise', 'usteacher', 'nowwatch', 'contentcircle', 'updatewatch')\n",
      "Topic 53 Keywords: ('olympics', 'weiwei', 'china', 'assange', '2008')\n",
      "Topic 54 Keywords: ('news', 'conclave', 'etcio', 'digital', '2022etcio')\n",
      "Topic 55 Keywords: ('google', 'microsoft', 'search', 'alphabet', 'bard')\n",
      "Topic 56 Keywords: ('shares', 'etf', 'llc', 'quarter', 'stock')\n",
      "Topic 57 Keywords: ('mobile', 'recommender', 'iphone', 'laptops', 'tonkean')\n",
      "Topic 58 Keywords: ('jones', 'florida', 'state', 'desantis', 'department')\n",
      "Topic 59 Keywords: ('agriculture', 'artificial', 'intelligence', 'market', 'agricultural')\n",
      "Topic 60 Keywords: ('republic', 'kingdom', 'healthquest', 'ultron', 'capital')\n",
      "Topic 61 Keywords: ('linux', 'steam', 'steamdb', 'valve', 'utc')\n",
      "Topic 62 Keywords: ('weather', 'videoweatherradartraffic', 'newsnationalcrimetv6', 'homenewsillinois', 'zonespotlight')\n",
      "Topic 63 Keywords: ('shares', 'stock', 'price', 'trading', 'gfai')\n",
      "Topic 64 Keywords: ('market', 'global', 'size', '2016', 'key')\n",
      "Topic 65 Keywords: ('displaying', 'italian', 'logo', 'boston', 'output')\n",
      "Topic 66 Keywords: ('00', 'minutess', 'crude', 'gold1', '2000')\n",
      "Topic 67 Keywords: ('coral', 'reef', 'ocean', 'fish', 'marine')\n",
      "Topic 68 Keywords: ('mobiles', 'speakers', 'smart', 'reviews', 'gadgets')\n",
      "Topic 69 Keywords: ('tu', 'instagram', 'job', 'huy', 'visas')\n",
      "Topic 70 Keywords: ('cardsbest', 'credit', 'syntegra', 'share', 'privacy')\n",
      "Topic 71 Keywords: ('leetcode', 'java', 'how', 'chronological', 'your')\n",
      "Topic 72 Keywords: ('crime', 'countywarren', 'photosnewsletter', 'contentcontestsbusiness', 'countyclermont')\n",
      "Topic 73 Keywords: ('weather', 'dopplersevere', 'newscastsbreaking', 'safetyclosingsfirstalert', 'raihigh')\n",
      "Topic 74 Keywords: ('clearview', 'facial', 'recognition', 'enforcement', 'law')\n",
      "Topic 75 Keywords: ('closeds', '1d', 'crude', 'eur', 'gold1')\n",
      "Topic 76 Keywords: ('guardforce', 'ses', 'institutional', 'earnings', 'nyse')\n",
      "Topic 77 Keywords: ('contenttexoma', 'tipwatch', 'localexpert', 'forecastoutdoorssportsfriday', 'blitz')\n",
      "Topic 78 Keywords: ('wfmz', 'posts', 'comments', 'weather', 'lehigh')\n",
      "Topic 79 Keywords: ('contentsc', 'typosclassroom', 'boxlivenewslive', 'healthynow', 'classworking')\n",
      "Topic 80 Keywords: ('cookies', 'continuing', 'website', 'events', 'cookie')\n",
      "Topic 81 Keywords: ('cardsbest', 'credit', 'calculatorbest', '2020best', 'paid')\n",
      "Topic 82 Keywords: ('music', 'spotify', 'dj', 'songs', 'musiclm')\n",
      "Topic 83 Keywords: ('bend', 'eventssportswatch', 'livewhat', 'busescelebrating', 'aware16')\n",
      "Topic 84 Keywords: ('mondaq', 'patent', 'law', 'act', 'cookies')\n",
      "Topic 85 Keywords: ('philips', 'de', 'busco', 'para', 'signify')\n",
      "Topic 86 Keywords: ('plasma', 'quantum', 'physics', 'fusion', 'doe')\n",
      "Topic 87 Keywords: ('microsoft', 'pm', 'slides', '00', 'excel')\n",
      "Topic 88 Keywords: ('gamesappleappsapps', 'storiesfinancefootballgadgetgadget', 'serverdeveloperseconomyeditor', 'reviewsgadgetsgame', 'newsamazonandroidandroid')\n",
      "Topic 89 Keywords: ('forbes', 'best', 'cars', 'insurance', 'driving')\n",
      "Topic 90 Keywords: ('broadband', 'deals', 'independent', 'editionchangeuk', 'editionasia')\n",
      "Topic 91 Keywords: ('cognigy', 'idc', 'marketscape', 'conversational', 'vendor')\n",
      "Topic 92 Keywords: ('industrythe', 'intel', 'cannabis', 'metalsthe', 'golden')\n",
      "Topic 93 Keywords: ('displaying', 'screen', 'logo', 'boston', 'file')\n",
      "Topic 94 Keywords: ('agoshare', 'facebookemail', 'linkshare', 'pinterestshare', 'twittershare')\n",
      "Topic 95 Keywords: ('rockies', 'bard', 'season', 'dodgers', 'baseball')\n",
      "Topic 96 Keywords: ('prisma', 'your', 'avatars', 'app', 'moiseenkov')\n",
      "Topic 97 Keywords: ('dr', 'der', 'prof', 'gold', '15')\n",
      "Topic 98 Keywords: ('news', '5g', 'ettelecom', 'bsnl', 'vodafone')\n",
      "Topic 99 Keywords: ('contestslatest', 'conditionsstatevideoaccidentsweatherradarlive', 'calendarfeatures', 'electionsenergyfamilyinternationalnationalregionalroad', 'weekfootball')\n",
      "Topic 100 Keywords: ('15', 'di', '40', '30', 'cookie')\n",
      "Topic 101 Keywords: ('gold', 'drill', 'silver', 'gpt', 'mineralization')\n",
      "Topic 102 Keywords: ('trading', 'bonds', 'invest', 'sip', 'investment')\n",
      "Topic 103 Keywords: ('npr', 'music', 'rascoe', 'boilen', 'thompson')\n",
      "Topic 104 Keywords: ('sun', 'newspapers', 'sunjump', 'footballall', 'contentsign')\n",
      "Topic 105 Keywords: ('food', 'beverage', 'beverages', 'market', 'artificial')\n",
      "Topic 106 Keywords: ('presswire', 'ein', 'please', 'weeding', 'opaque')\n",
      "Topic 107 Keywords: ('shares', 'etf', 'nasdaq', 'short', 'interest')\n",
      "Topic 108 Keywords: ('updated', 'agosells', 'solutionanaheim', 'smartcare', 'calif')\n",
      "Topic 109 Keywords: ('dental', 'overjet', 'pearl', 'patient', 'dentists')\n",
      "Topic 110 Keywords: ('stock', 'stocks', 'shares', 'gfai', 'investors')\n",
      "Topic 111 Keywords: ('dh', 'please', 'bengaluru', 'posts', 'comments')\n",
      "Topic 112 Keywords: ('lisk', 'traded', 'btc', 'dollar', 'trades')\n",
      "Topic 113 Keywords: ('beauty', 'fashion', 'skin', 'perfect', 'ar')\n",
      "Topic 114 Keywords: ('fashion', 'retail', 'market', 'in', 'intelligence')\n",
      "Topic 115 Keywords: ('alert', 'wx', 'weatherfirst', 'seen', 'possiblelet')\n",
      "Topic 116 Keywords: ('vectorspace', 'traded', 'dollar', 'btc', 'trades')\n",
      "Topic 117 Keywords: ('argo', 'latitude', 'ford', 'gardensimply', 'newsroad')\n",
      "Topic 118 Keywords: ('gold', 'quotemediakeep', 'lessinvesting', 'houston', 'assange')\n",
      "Topic 119 Keywords: ('crypto', 'under', 'defi', 'brokersstock', 'stocksbest')\n",
      "Topic 120 Keywords: ('canada', 'apple', 'canadian', 'netflix', 'here')\n",
      "Topic 121 Keywords: ('search', 'results', 'data', 'typing', 'round')\n",
      "Topic 122 Keywords: ('politicslivestreamwifr', 'internshipsweathermax', 'calendarcontests23', 'camsclosingscrime', 'stopperssportsscoreboardcommunity')\n",
      "Topic 123 Keywords: ('eurekalert', 'aaas', 'advancement', 'association', 'eligibility')\n",
      "Topic 124 Keywords: ('pdf', 'download', 'book', 'slideshare', 'cookies')\n",
      "Topic 125 Keywords: ('fox', 'news', 'fund', 'businessfox', 'nationfox')\n",
      "Topic 126 Keywords: ('camsclosingssportsscoreboardcontestscommunity', 'calendar23', 'contentweathercoronaviruslivestreamcommunity', 'calendarsee', 'ussearchhomepagenews8')\n",
      "Topic 127 Keywords: ('uswork', 'complaincorrections', 'signupsyndication', 'noticecookie', 'conditionsprivacy')\n",
      "Topic 128 Keywords: ('haven', 'albert', 'ct', 'waymed', 'creative')\n",
      "Topic 129 Keywords: ('toolsstock', 'ratingtop', 'screener', 'ranking', 'portfoliousa')\n",
      "Topic 130 Keywords: ('axes', 'unlv', 'gambling', 'closings', 'cashless')\n",
      "Topic 131 Keywords: ('music', 'song', 'artists', 'drake', 'lyrics')\n",
      "Topic 132 Keywords: ('eu', 'european', 'regulation', 'rights', 'liability')\n",
      "Topic 133 Keywords: ('shares', 'etf', 'nasdaq', 'short', 'interest')\n",
      "Topic 134 Keywords: ('pictures', 'eastsaudi', '2020psl', '2019psl', '2018psl')\n",
      "Topic 135 Keywords: ('lunit', 'purity', 'tumor', 'l1', 'pd')\n",
      "Topic 136 Keywords: ('conversationslivestreamweatherdownload', 'conditionssportsspotlight', 'athletehighlight', 'conditionsillinois', 'usjobshello')\n",
      "Topic 137 Keywords: ('shakespeare', 'theatre', 'burns', 'bard', 'theater')\n",
      "Topic 138 Keywords: ('republic', 'kingdom', 'democratic', 'richland', 'ohio')\n",
      "Topic 139 Keywords: ('dayma', 'mini', 'dall', 'betker', 'uslivenewslocaleventsair')\n",
      "Topic 140 Keywords: ('telescope', 'bard', 'alphabet', 'exoplanets', 'google')\n",
      "Topic 141 Keywords: ('bend', 'eventssportswhat', 'buseswndu', 'momentbuy', 'cubswhat')\n",
      "Topic 142 Keywords: ('tech', 'projectsfuture', 'opinionevents', 'decacornset', 'soonicorns')\n",
      "Topic 143 Keywords: ('republic', 'kingdom', 'democratic', 'richland', 'people')\n",
      "Topic 144 Keywords: ('chess', 'kasparov', 'game', 'human', 'deepmind')\n",
      "Topic 145 Keywords: ('gmo', 'aka', 'dansknederlandsenglishesperantoeestifilipinosuomifrançaisfryskgalegoქართულიdeutschgreekગ', 'indonesiagaeligeitaliano日本語basa', 'languageafrikaansshqipአማርኛالعربيةհայերենazərbaycan')\n",
      "Topic 146 Keywords: ('urdu', 'pakistan', 'psl', 'news', 'uae')\n",
      "Topic 147 Keywords: ('australia', 'australian', 'visualcortex', 'navigation', 'canva')\n",
      "Topic 148 Keywords: ('retrosynthesis', 'closings', 'capabilityseoul', 'synthia', 'updateskvly')\n",
      "Topic 149 Keywords: ('sports', 'statsstats', 'agoyahoo', 'standingsstandings', 'expertsyahoo')\n",
      "Topic 150 Keywords: ('hyperram', 'ti60', 'winbond', 'f100', 'efinix')\n",
      "Topic 151 Keywords: ('fund', 'distribution', 'nav', 'fiscal', 'distributions')\n",
      "Topic 152 Keywords: ('le', 'te', 'ngā', 'ki', 'fa')\n",
      "Topic 153 Keywords: ('women', 'venturebeat', 'science', 'wids', 'diversity')\n",
      "Topic 154 Keywords: ('closings', 'watchkvly', 'danubeweathersportsvideonorth', 'resultsclosingsrequest', 'reportscovid')\n",
      "Topic 155 Keywords: ('edgecortix', 'sakura', 'power', 'ingenic', 'processor')\n",
      "Topic 156 Keywords: ('golf', 'sportsbox', 'ioperfect', 'sportsboxai', '3d')\n",
      "Topic 157 Keywords: ('im', 'sie', 'und', 'sparplanstart', 'fokusinterviewskonjunkturzinsenquellenapaaktiencheckbusinesswiredow')\n",
      "Topic 158 Keywords: ('sk', 'seoul', 'aria', 'telecom', 'lamp')\n",
      "Topic 159 Keywords: ('let', 'chatgpt', 'county', 'said', 'ap')\n",
      "Topic 160 Keywords: ('intelligenceventure', 'equitystrategic', 'awaylife', 'streetmoneybeatwealth', 'videobusinesssectionsmanagementtech')\n"
     ]
    }
   ],
   "source": [
    "for topic in topic_keywords_auto['Topic'].unique():\n",
    "    keywords_auto = topic_model_auto.get_topic(topic)\n",
    "    keywords_auto, _ = zip(*keywords_auto[:5])  # unzip keywords and probabilities, ignore probabilities\n",
    "    print(f\"Topic {topic} Keywords: {keywords_auto}\")"
   ]
  },
  {
   "attachments": {},
   "cell_type": "markdown",
   "metadata": {
    "tags": []
   },
   "source": [
    "##### 20 topics"
   ]
  },
  {
   "cell_type": "code",
   "execution_count": 40,
   "metadata": {
    "tags": []
   },
   "outputs": [],
   "source": [
    "topic_model_20 = BERTopic(embedding_model=\"bert-base-nli-mean-tokens\", nr_topics=20)"
   ]
  },
  {
   "cell_type": "code",
   "execution_count": 41,
   "metadata": {
    "tags": []
   },
   "outputs": [
    {
     "name": "stdout",
     "output_type": "stream",
     "text": [
      "CPU times: total: 14h 22min 12s\n",
      "Wall time: 4h 37min 37s\n"
     ]
    }
   ],
   "source": [
    "%%time\n",
    "topics_20, probabilities_20 = topic_model_20.fit_transform(df_filtered.clean_text_without_stopwords.tolist())"
   ]
  },
  {
   "cell_type": "code",
   "execution_count": 42,
   "metadata": {
    "tags": []
   },
   "outputs": [],
   "source": [
    "topic_keywords_20 = topic_model_20.get_topic_info()"
   ]
  },
  {
   "cell_type": "code",
   "execution_count": 46,
   "metadata": {
    "tags": []
   },
   "outputs": [
    {
     "name": "stdout",
     "output_type": "stream",
     "text": [
      "Topic -1 | ai market the data intelligence new artificial report global also\n",
      "Topic 0 | market ai the intelligence data artificial new global report analysis\n",
      "Topic 1 | agriculture market intelligence artificial ai global report growth agricultural analysis\n",
      "Topic 2 | aviation air flight india market aircraft the intelligence artificial said\n",
      "Topic 3 | automotive market artificial intelligence report global analysis growth industry key\n",
      "Topic 4 | bioworld news fox afinancingsnewco nationfox businessfox policy contact gofox shopfox\n",
      "Topic 5 | coral reef species salmon the fish marine fishing ocean reefs\n",
      "Topic 6 | recipes food restaurant chef cooking the recipe restaurants ai ingredients\n",
      "Topic 7 | bard rockies season league beethoven colorado daniel game innings republic\n",
      "Topic 8 | chess game kasparov human ai the games deepmind humans protein\n",
      "Topic 9 | sermon chatgpt franklin preaching human sermons congregation church pastor wrote\n",
      "Topic 10 | banking corporate market ai global report analysis growth players key\n",
      "Topic 11 | snowflake tigergraph graph data analytics cloud knime alteryx tableau platform\n",
      "Topic 12 | gambling casino casinos online games betting ai players game gaming\n",
      "Topic 13 | pdfgear pdf chatbot users documents desktop feature chatbots pdfs intuitively\n",
      "Topic 14 | earthquakes seismic earthquake data earth slip landslides deformation landslide slow\n",
      "Topic 15 | tiruchirapalli coimbatore madurai vijayawada visakhapatnam mangaluru puducherry thiruvananthapuram hyderabad kochi\n",
      "Topic 16 | diabetes management market artificial intelligence global report analysis growth forecast\n",
      "Topic 17 | mathematicians conjectures mathematical mathematics conjecture theory intuition deepmind knots algebraic\n",
      "Topic 18 | lego legos bricks zarroli weiwei npr alcatraz political artist chinese\n"
     ]
    }
   ],
   "source": [
    "for topic in topic_keywords_20['Topic'].unique():\n",
    "    keywords_20 = topic_model_20.get_topic(topic)\n",
    "    keywords_20, _ = zip(*keywords_20[:10])  # unzip keywords and probabilities, ignore probabilities\n",
    "    print(f\"Topic {topic} | {' '.join(keywords_20)}\")  # join keywords with space\n"
   ]
  },
  {
   "attachments": {},
   "cell_type": "markdown",
   "metadata": {},
   "source": [
    "##### 25 topics"
   ]
  },
  {
   "cell_type": "code",
   "execution_count": null,
   "metadata": {
    "tags": []
   },
   "outputs": [],
   "source": [
    "topic_model_25 = BERTopic(embedding_model=\"bert-base-nli-mean-tokens\", nr_topics=25)"
   ]
  },
  {
   "cell_type": "code",
   "execution_count": null,
   "metadata": {
    "tags": []
   },
   "outputs": [],
   "source": [
    "topics_25, probabilities_25 = topic_model_25.fit_transform(df_filtered.clean_text_without_stopwords.tolist())"
   ]
  },
  {
   "cell_type": "code",
   "execution_count": null,
   "metadata": {
    "tags": []
   },
   "outputs": [],
   "source": [
    "topic_keywords_25 = topic_model_25.get_topic_info()"
   ]
  },
  {
   "cell_type": "code",
   "execution_count": null,
   "metadata": {
    "tags": []
   },
   "outputs": [],
   "source": [
    "for topic in topic_keywords_25['Topic'].unique():\n",
    "    keywords_25 = topic_model_25.get_topic(topic)\n",
    "    keywords_25, _ = zip(*keywords_25[:10])  # unzip keywords and probabilities, ignore probabilities\n",
    "    print(f\"Topic {topic} Keywords: {keywords_25}\")"
   ]
  },
  {
   "cell_type": "code",
   "execution_count": null,
   "metadata": {},
   "outputs": [],
   "source": []
  },
  {
   "cell_type": "code",
   "execution_count": null,
   "metadata": {},
   "outputs": [],
   "source": []
  },
  {
   "cell_type": "code",
   "execution_count": null,
   "metadata": {},
   "outputs": [],
   "source": []
  }
 ],
 "metadata": {
  "kernelspec": {
   "display_name": "Python 3 (ipykernel)",
   "language": "python",
   "name": "python3"
  },
  "language_info": {
   "codemirror_mode": {
    "name": "ipython",
    "version": 3
   },
   "file_extension": ".py",
   "mimetype": "text/x-python",
   "name": "python",
   "nbconvert_exporter": "python",
   "pygments_lexer": "ipython3",
   "version": "3.9.0"
  }
 },
 "nbformat": 4,
 "nbformat_minor": 4
}
