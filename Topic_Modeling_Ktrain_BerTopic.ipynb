{
 "cells": [
  {
   "attachments": {},
   "cell_type": "markdown",
   "metadata": {
    "tags": []
   },
   "source": [
    "## Environment Setting and Data Loading"
   ]
  },
  {
   "cell_type": "code",
   "execution_count": 1,
   "metadata": {
    "tags": []
   },
   "outputs": [],
   "source": [
    "import pandas as pd\n",
    "import numpy as np"
   ]
  },
  {
   "cell_type": "code",
   "execution_count": 2,
   "metadata": {
    "tags": []
   },
   "outputs": [],
   "source": [
    "from gensim.models import LdaMulticore\n",
    "from gensim.models.coherencemodel import CoherenceModel\n",
    "from gensim import corpora\n",
    "from gensim.utils import simple_preprocess\n",
    "from gensim.models import TfidfModel\n",
    "from nltk.corpus import stopwords\n",
    "import matplotlib.pyplot as plt\n",
    "import spacy\n",
    "import gensim\n",
    "import time"
   ]
  },
  {
   "cell_type": "code",
   "execution_count": 3,
   "metadata": {
    "tags": []
   },
   "outputs": [
    {
     "data": {
      "text/plain": [
       "20"
      ]
     },
     "execution_count": 3,
     "metadata": {},
     "output_type": "execute_result"
    }
   ],
   "source": [
    "import multiprocessing\n",
    "\n",
    "num_processors = multiprocessing.cpu_count()\n",
    "num_processors"
   ]
  },
  {
   "cell_type": "code",
   "execution_count": 4,
   "metadata": {
    "tags": []
   },
   "outputs": [],
   "source": [
    "# !pip install pandarallel"
   ]
  },
  {
   "cell_type": "code",
   "execution_count": 5,
   "metadata": {
    "tags": []
   },
   "outputs": [
    {
     "name": "stdout",
     "output_type": "stream",
     "text": [
      "INFO: Pandarallel will run on 19 workers.\n",
      "INFO: Pandarallel will use standard multiprocessing data transfer (pipe) to transfer data between the main process and workers.\n",
      "\n",
      "WARNING: You are on Windows. If you detect any issue with pandarallel, be sure you checked out the Troubleshooting page:\n",
      "https://nalepae.github.io/pandarallel/troubleshooting/\n"
     ]
    }
   ],
   "source": [
    "from pandarallel import pandarallel\n",
    "\n",
    "# Initialize pandarallel\n",
    "pandarallel.initialize(nb_workers = multiprocessing.cpu_count()-1, use_memory_fs=False, progress_bar=True)"
   ]
  },
  {
   "cell_type": "code",
   "execution_count": 6,
   "metadata": {
    "tags": []
   },
   "outputs": [],
   "source": [
    "start_time = time.time()\n",
    "\n",
    "def tic():\n",
    "    global start_time \n",
    "    start_time = time.time()\n",
    "\n",
    "def tac():\n",
    "    t_sec = round(time.time() - start_time)\n",
    "    (t_min, t_sec) = divmod(t_sec,60)\n",
    "    (t_hour,t_min) = divmod(t_min,60) \n",
    "    print(f'Execution time to calculate for topic {k}: {t_hour}hour:{t_min}min:{t_sec}sec'.format(t_hour,t_min,t_sec))"
   ]
  },
  {
   "cell_type": "code",
   "execution_count": 10,
   "metadata": {
    "tags": []
   },
   "outputs": [
    {
     "name": "stdout",
     "output_type": "stream",
     "text": [
      "CPU times: total: 6.97 s\n",
      "Wall time: 17 s\n"
     ]
    },
    {
     "data": {
      "text/html": [
       "<div>\n",
       "<style scoped>\n",
       "    .dataframe tbody tr th:only-of-type {\n",
       "        vertical-align: middle;\n",
       "    }\n",
       "\n",
       "    .dataframe tbody tr th {\n",
       "        vertical-align: top;\n",
       "    }\n",
       "\n",
       "    .dataframe thead th {\n",
       "        text-align: right;\n",
       "    }\n",
       "</style>\n",
       "<table border=\"1\" class=\"dataframe\">\n",
       "  <thead>\n",
       "    <tr style=\"text-align: right;\">\n",
       "      <th></th>\n",
       "      <th>date</th>\n",
       "      <th>domain</th>\n",
       "      <th>clean_text</th>\n",
       "      <th>clean_token</th>\n",
       "      <th>sentiment_robert</th>\n",
       "      <th>sentiment_ner_with_product</th>\n",
       "      <th>ktrain_topic</th>\n",
       "    </tr>\n",
       "  </thead>\n",
       "  <tbody>\n",
       "    <tr>\n",
       "      <th>0</th>\n",
       "      <td>2021-03-18</td>\n",
       "      <td>en.people.cn</td>\n",
       "      <td>Thanks to the application of an artificial int...</td>\n",
       "      <td>thanks application artificial intelligence ai ...</td>\n",
       "      <td>positive</td>\n",
       "      <td>E...</td>\n",
       "      <td>automotive</td>\n",
       "    </tr>\n",
       "  </tbody>\n",
       "</table>\n",
       "</div>"
      ],
      "text/plain": [
       "         date        domain  \\\n",
       "0  2021-03-18  en.people.cn   \n",
       "\n",
       "                                          clean_text  \\\n",
       "0  Thanks to the application of an artificial int...   \n",
       "\n",
       "                                         clean_token sentiment_robert  \\\n",
       "0  thanks application artificial intelligence ai ...         positive   \n",
       "\n",
       "                          sentiment_ner_with_product ktrain_topic  \n",
       "0                                               E...   automotive  "
      ]
     },
     "execution_count": 10,
     "metadata": {},
     "output_type": "execute_result"
    }
   ],
   "source": [
    "%%time\n",
    "import pickle\n",
    "df_filtered = pd.read_pickle('df_topic_modeling.pkl')\n",
    "df_filtered.head(1)"
   ]
  },
  {
   "cell_type": "code",
   "execution_count": 11,
   "metadata": {
    "tags": []
   },
   "outputs": [
    {
     "data": {
      "text/plain": [
       "(135297, 7)"
      ]
     },
     "execution_count": 11,
     "metadata": {},
     "output_type": "execute_result"
    }
   ],
   "source": [
    "df_filtered.shape"
   ]
  },
  {
   "attachments": {},
   "cell_type": "markdown",
   "metadata": {
    "tags": []
   },
   "source": [
    "## LDA with Hyperparameter Tuning with Sample"
   ]
  },
  {
   "cell_type": "code",
   "execution_count": 9,
   "metadata": {
    "tags": []
   },
   "outputs": [],
   "source": [
    "nlp = spacy.load(\"en_core_web_sm\", disable=['parser', 'ner'])"
   ]
  },
  {
   "cell_type": "code",
   "execution_count": 10,
   "metadata": {
    "tags": []
   },
   "outputs": [
    {
     "data": {
      "text/plain": [
       "(6765, 6)"
      ]
     },
     "execution_count": 10,
     "metadata": {},
     "output_type": "execute_result"
    }
   ],
   "source": [
    "df_sample = df_filtered.sample(frac=0.05, random_state=1)\n",
    "df_sample.shape"
   ]
  },
  {
   "cell_type": "code",
   "execution_count": 11,
   "metadata": {
    "tags": []
   },
   "outputs": [],
   "source": [
    "def sent_to_words(sentences):\n",
    "    for sentence in sentences:\n",
    "        yield(gensim.utils.simple_preprocess(str(sentence), deacc=True))  # deacc=True removes punctuations\n",
    "\n",
    "\n",
    "        \n",
    "sample_list = df_sample['clean_text'].tolist()        \n",
    "sample_tokens = list(sent_to_words(sample_list))"
   ]
  },
  {
   "cell_type": "code",
   "execution_count": 12,
   "metadata": {
    "tags": []
   },
   "outputs": [],
   "source": [
    "bigram = gensim.models.Phrases(sample_tokens, min_count=1, threshold=1)\n",
    "trigram = gensim.models.Phrases(bigram[sample_tokens], threshold=1)\n",
    "bigram_mod = gensim.models.phrases.Phraser(bigram)\n",
    "trigram_mod = gensim.models.phrases.Phraser(trigram)"
   ]
  },
  {
   "cell_type": "code",
   "execution_count": 13,
   "metadata": {
    "tags": []
   },
   "outputs": [],
   "source": [
    "stop_words = stopwords.words('english')\n",
    "\n",
    "# Define functions for stopwords, bigrams, trigrams and lemmatization\n",
    "def remove_stopwords(texts):\n",
    "    return [[word for word in simple_preprocess(str(doc)) if word not in stop_words] for doc in texts]\n",
    "\n",
    "def make_trigrams(texts):\n",
    "    return [trigram_mod[bigram_mod[doc]] for doc in texts]\n",
    "\n",
    "def lemmatization(texts, allowed_postags=['NOUN', 'ADJ', 'VERB', 'ADV']):\n",
    "    \"\"\"https://spacy.io/api/annotation\"\"\"\n",
    "    texts_out = []\n",
    "    for sent in texts:\n",
    "        doc = nlp(\" \".join(sent)) \n",
    "        texts_out.append([token.lemma_ for token in doc if token.pos_ in allowed_postags])\n",
    "    return texts_out"
   ]
  },
  {
   "cell_type": "code",
   "execution_count": 14,
   "metadata": {
    "tags": []
   },
   "outputs": [],
   "source": [
    "# Remove Stop Words\n",
    "sample_tokens_nostops = remove_stopwords(sample_tokens)\n",
    "\n",
    "# Create n-grams\n",
    "sample_words_trigrams = make_trigrams(sample_tokens_nostops)\n",
    "\n",
    "# Combine tokens and n-grams (this time we only do trigrams)\n",
    "sample_tokens_combined = sample_words_trigrams \n",
    "\n",
    "# Lemmatize text keeping only noun, adj, vb, adv\n",
    "sample_lemmatized = lemmatization(sample_tokens_combined, allowed_postags=['NOUN', 'ADJ', 'VERB', 'ADV'])"
   ]
  },
  {
   "cell_type": "code",
   "execution_count": 15,
   "metadata": {
    "tags": []
   },
   "outputs": [],
   "source": [
    "# Creating the term dictionary of our courpus, where every unique term is assigned an index. \n",
    "sample_dictionary = corpora.Dictionary(sample_lemmatized)\n",
    "\n",
    "# Converting list of documents (corpus) into Document Term Matrix using dictionary prepared above.\n",
    "sample_doc_term_matrix = [sample_dictionary.doc2bow(doc) for doc in sample_lemmatized]"
   ]
  },
  {
   "cell_type": "code",
   "execution_count": 16,
   "metadata": {
    "tags": []
   },
   "outputs": [],
   "source": [
    "# supporting function\n",
    "def compute_coherence_values(corpus, dictionary, k, a, b, data_lemmatized):\n",
    "    \n",
    "    lda_model = LdaMulticore(corpus=corpus,\n",
    "                       id2word=dictionary,\n",
    "                       num_topics=k,\n",
    "                       random_state=100,                  \n",
    "                       passes=10,\n",
    "                       alpha=a,\n",
    "                       eta=b,\n",
    "                       workers=num_processors-1)\n",
    "    \n",
    "    coherence_model_lda = CoherenceModel(model=lda_model, texts=data_lemmatized, dictionary=dictionary, coherence='c_v')\n",
    "    \n",
    "    return coherence_model_lda.get_coherence()"
   ]
  },
  {
   "cell_type": "code",
   "execution_count": 18,
   "metadata": {
    "tags": []
   },
   "outputs": [
    {
     "name": "stdout",
     "output_type": "stream",
     "text": [
      "LDA will execute 150 iterations\n",
      "Completed model based on 20 LDA topics. Finished 20.0% of LDA runs\n",
      "Execution time to calculate for topic 20: 0hour:57min:32sec\n",
      "Completed model based on 25 LDA topics. Finished 40.0% of LDA runs\n",
      "Execution time to calculate for topic 25: 1hour:13min:36sec\n",
      "Completed model based on 30 LDA topics. Finished 60.0% of LDA runs\n",
      "Execution time to calculate for topic 30: 1hour:26min:17sec\n",
      "Completed model based on 140 LDA topics. Finished 80.0% of LDA runs\n",
      "Execution time to calculate for topic 140: 3hour:28min:3sec\n",
      "Completed model based on 150 LDA topics. Finished 100.0% of LDA runs\n",
      "Execution time to calculate for topic 150: 4hour:44min:23sec\n"
     ]
    },
    {
     "data": {
      "text/html": [
       "<div>\n",
       "<style scoped>\n",
       "    .dataframe tbody tr th:only-of-type {\n",
       "        vertical-align: middle;\n",
       "    }\n",
       "\n",
       "    .dataframe tbody tr th {\n",
       "        vertical-align: top;\n",
       "    }\n",
       "\n",
       "    .dataframe thead th {\n",
       "        text-align: right;\n",
       "    }\n",
       "</style>\n",
       "<table border=\"1\" class=\"dataframe\">\n",
       "  <thead>\n",
       "    <tr style=\"text-align: right;\">\n",
       "      <th></th>\n",
       "      <th>Topics</th>\n",
       "      <th>Alpha</th>\n",
       "      <th>Beta</th>\n",
       "      <th>Coherence</th>\n",
       "    </tr>\n",
       "  </thead>\n",
       "  <tbody>\n",
       "    <tr>\n",
       "      <th>0</th>\n",
       "      <td>20</td>\n",
       "      <td>0.01</td>\n",
       "      <td>0.01</td>\n",
       "      <td>0.362910</td>\n",
       "    </tr>\n",
       "    <tr>\n",
       "      <th>1</th>\n",
       "      <td>20</td>\n",
       "      <td>0.01</td>\n",
       "      <td>0.31</td>\n",
       "      <td>0.410539</td>\n",
       "    </tr>\n",
       "    <tr>\n",
       "      <th>2</th>\n",
       "      <td>20</td>\n",
       "      <td>0.01</td>\n",
       "      <td>0.61</td>\n",
       "      <td>0.484452</td>\n",
       "    </tr>\n",
       "    <tr>\n",
       "      <th>3</th>\n",
       "      <td>20</td>\n",
       "      <td>0.01</td>\n",
       "      <td>0.91</td>\n",
       "      <td>0.469680</td>\n",
       "    </tr>\n",
       "    <tr>\n",
       "      <th>4</th>\n",
       "      <td>20</td>\n",
       "      <td>0.01</td>\n",
       "      <td>symmetric</td>\n",
       "      <td>0.354605</td>\n",
       "    </tr>\n",
       "    <tr>\n",
       "      <th>...</th>\n",
       "      <td>...</td>\n",
       "      <td>...</td>\n",
       "      <td>...</td>\n",
       "      <td>...</td>\n",
       "    </tr>\n",
       "    <tr>\n",
       "      <th>145</th>\n",
       "      <td>150</td>\n",
       "      <td>asymmetric</td>\n",
       "      <td>0.01</td>\n",
       "      <td>0.368227</td>\n",
       "    </tr>\n",
       "    <tr>\n",
       "      <th>146</th>\n",
       "      <td>150</td>\n",
       "      <td>asymmetric</td>\n",
       "      <td>0.31</td>\n",
       "      <td>0.466991</td>\n",
       "    </tr>\n",
       "    <tr>\n",
       "      <th>147</th>\n",
       "      <td>150</td>\n",
       "      <td>asymmetric</td>\n",
       "      <td>0.61</td>\n",
       "      <td>0.466836</td>\n",
       "    </tr>\n",
       "    <tr>\n",
       "      <th>148</th>\n",
       "      <td>150</td>\n",
       "      <td>asymmetric</td>\n",
       "      <td>0.91</td>\n",
       "      <td>0.447392</td>\n",
       "    </tr>\n",
       "    <tr>\n",
       "      <th>149</th>\n",
       "      <td>150</td>\n",
       "      <td>asymmetric</td>\n",
       "      <td>symmetric</td>\n",
       "      <td>0.365213</td>\n",
       "    </tr>\n",
       "  </tbody>\n",
       "</table>\n",
       "<p>150 rows × 4 columns</p>\n",
       "</div>"
      ],
      "text/plain": [
       "     Topics       Alpha       Beta  Coherence\n",
       "0        20        0.01       0.01   0.362910\n",
       "1        20        0.01       0.31   0.410539\n",
       "2        20        0.01       0.61   0.484452\n",
       "3        20        0.01       0.91   0.469680\n",
       "4        20        0.01  symmetric   0.354605\n",
       "..      ...         ...        ...        ...\n",
       "145     150  asymmetric       0.01   0.368227\n",
       "146     150  asymmetric       0.31   0.466991\n",
       "147     150  asymmetric       0.61   0.466836\n",
       "148     150  asymmetric       0.91   0.447392\n",
       "149     150  asymmetric  symmetric   0.365213\n",
       "\n",
       "[150 rows x 4 columns]"
      ]
     },
     "execution_count": 18,
     "metadata": {},
     "output_type": "execute_result"
    }
   ],
   "source": [
    "grid = {}\n",
    "grid['Validation_Set'] = {}\n",
    "# Topics range\n",
    "topics_range = [20, 25, 30, 140, 150]\n",
    "\n",
    "# Alpha parameter\n",
    "alpha = list(np.arange(0.01, 1, 0.3))\n",
    "alpha.append('symmetric')\n",
    "alpha.append('asymmetric')\n",
    "# alpha = ['asymmetric'] # Run for number of topics only\n",
    "\n",
    "# Beta parameter\n",
    "beta = list(np.arange(0.01, 1, 0.3))\n",
    "beta.append('symmetric')\n",
    "# beta = ['auto'] # Run for number of topics only\n",
    "\n",
    "\n",
    "# Validation sets\n",
    "num_of_docs = len(sample_doc_term_matrix)\n",
    "corpus_sets = [# gensim.utils.ClippedCorpus(doc_term_matrix, num_of_docs*0.25), \n",
    "               # gensim.utils.ClippedCorpus(doc_term_matrix, num_of_docs*0.5), \n",
    "               # gensim.utils.ClippedCorpus(doc_term_matrix, num_of_docs*0.75), \n",
    "               sample_doc_term_matrix] # simply use the whole matrix\n",
    "\n",
    "# corpus_title = ['75% Corpus', '100% Corpus']\n",
    "corpus_title = ['100% Corpus']\n",
    "model_results = {\n",
    "                 'Topics': [],\n",
    "                 'Alpha': [],\n",
    "                 'Beta': [],\n",
    "                 'Coherence': []\n",
    "                }\n",
    "\n",
    "itr = 0\n",
    "itr_total = len(beta)*len(alpha)*len(topics_range)*len(corpus_title)\n",
    "print(f'LDA will execute {itr_total} iterations')\n",
    "\n",
    "    \n",
    "# iterate through hyperparameters\n",
    "for i in range(len(corpus_sets)):\n",
    "    # iterate through number of topics\n",
    "    for k in topics_range:\n",
    "        # iterate through alpha values\n",
    "        tic()\n",
    "        for a in alpha:\n",
    "            # iterare through beta values\n",
    "            for b in beta:\n",
    "                # get the coherence score for the given parameters\n",
    "                itr += 1\n",
    "                cv = compute_coherence_values(corpus=corpus_sets[i], dictionary=sample_dictionary, \n",
    "                                              k=k, a=a, b=b, data_lemmatized=sample_lemmatized)\n",
    "                # Save the model results\n",
    "                model_results['Topics'].append(k)\n",
    "                model_results['Alpha'].append(a)\n",
    "                model_results['Beta'].append(b)\n",
    "                model_results['Coherence'].append(cv)\n",
    "                pct_completed = round((itr / itr_total * 100),1)\n",
    "                # print(f'Completed Percent: {pct_completed}%, Corpus: {corpus_title[i]}, Topics: {k}, Alpha: {a}, Beta: {b}, Coherence: {cv}')\n",
    "        print(f'Completed model based on {k} LDA topics. Finished {pct_completed}% of LDA runs')\n",
    "        tac()\n",
    "                    \n",
    "sample_lda_tuning = pd.DataFrame(model_results)\n",
    "sample_lda_tuning"
   ]
  },
  {
   "cell_type": "code",
   "execution_count": 19,
   "metadata": {
    "tags": []
   },
   "outputs": [
    {
     "data": {
      "image/png": "[encoded data removed]",
      "text/plain": [
       "<Figure size 640x480 with 1 Axes>"
      ]
     },
     "metadata": {},
     "output_type": "display_data"
    }
   ],
   "source": [
    "# Plot coherence scores\n",
    "plt.plot(sample_lda_tuning['Topics'].to_numpy(), sample_lda_tuning['Coherence'].to_numpy(), 'b-o')\n",
    "plt.xlabel('Number of Topics')\n",
    "plt.ylabel('Coherence Score')\n",
    "plt.title('Coherence Score vs. Number of Topics')\n",
    "plt.grid(True)\n",
    "plt.show()"
   ]
  },
  {
   "cell_type": "code",
   "execution_count": 20,
   "metadata": {
    "tags": []
   },
   "outputs": [
    {
     "data": {
      "text/plain": [
       "Topics            150\n",
       "Alpha            0.31\n",
       "Beta             0.91\n",
       "Coherence    0.571352\n",
       "Name: 128, dtype: object"
      ]
     },
     "execution_count": 20,
     "metadata": {},
     "output_type": "execute_result"
    }
   ],
   "source": [
    "max_row_index = sample_lda_tuning['Coherence'].idxmax()\n",
    "max_row = sample_lda_tuning.loc[max_row_index]\n",
    "max_row"
   ]
  },
  {
   "cell_type": "code",
   "execution_count": 20,
   "metadata": {
    "tags": []
   },
   "outputs": [],
   "source": [
    "best_sample_lda_model = LdaMulticore(corpus=sample_doc_term_matrix,\n",
    "                   id2word=sample_dictionary,\n",
    "                   num_topics=150,\n",
    "                   random_state=100,                  \n",
    "                   passes=10,\n",
    "                   alpha=0.31,\n",
    "                   eta=0.91,\n",
    "                   workers=num_processors-1)\n"
   ]
  },
  {
   "cell_type": "code",
   "execution_count": 21,
   "metadata": {
    "tags": []
   },
   "outputs": [],
   "source": [
    "\n",
    "topics = best_sample_lda_model.print_topics(num_topics=150, num_words=10)\n",
    "topic_data = []\n",
    "\n",
    "for topic in topics:\n",
    "    words = topic[1].split(\"+\")\n",
    "    topic_words = [word.split(\"*\")[1].strip().replace('\"', '') for word in words]\n",
    "    topic_data.append(topic_words)\n",
    "\n",
    "df_topics = pd.DataFrame(topic_data, columns=[f\"Topic{i}\" for i in range(10)])\n",
    "df_topics.insert(0, \"Topic\", range(150))\n"
   ]
  },
  {
   "cell_type": "code",
   "execution_count": 44,
   "metadata": {
    "tags": []
   },
   "outputs": [
    {
     "data": {
      "text/html": [
       "<div>\n",
       "<style scoped>\n",
       "    .dataframe tbody tr th:only-of-type {\n",
       "        vertical-align: middle;\n",
       "    }\n",
       "\n",
       "    .dataframe tbody tr th {\n",
       "        vertical-align: top;\n",
       "    }\n",
       "\n",
       "    .dataframe thead th {\n",
       "        text-align: right;\n",
       "    }\n",
       "</style>\n",
       "<table border=\"1\" class=\"dataframe\">\n",
       "  <thead>\n",
       "    <tr style=\"text-align: right;\">\n",
       "      <th></th>\n",
       "      <th>Topic</th>\n",
       "      <th>Topic0</th>\n",
       "      <th>Topic1</th>\n",
       "      <th>Topic2</th>\n",
       "      <th>Topic3</th>\n",
       "      <th>Topic4</th>\n",
       "      <th>Topic5</th>\n",
       "      <th>Topic6</th>\n",
       "      <th>Topic7</th>\n",
       "      <th>Topic8</th>\n",
       "      <th>Topic9</th>\n",
       "    </tr>\n",
       "  </thead>\n",
       "  <tbody>\n",
       "    <tr>\n",
       "      <th>0</th>\n",
       "      <td>0</td>\n",
       "      <td>ҳлиө</td>\n",
       "      <td>wind</td>\n",
       "      <td>ләел_мқј</td>\n",
       "      <td>ҳл_ҙм</td>\n",
       "      <td>җлҹ</td>\n",
       "      <td>ҳлқҳ</td>\n",
       "      <td>ҳкің</td>\n",
       "      <td>лҙј</td>\n",
       "      <td>ліҙлҙј</td>\n",
       "      <td>нҷ</td>\n",
       "    </tr>\n",
       "    <tr>\n",
       "      <th>1</th>\n",
       "      <td>1</td>\n",
       "      <td>arena_analytic</td>\n",
       "      <td>training_sample</td>\n",
       "      <td>distinguished_industry</td>\n",
       "      <td>use</td>\n",
       "      <td>smother</td>\n",
       "      <td>market</td>\n",
       "      <td>zac</td>\n",
       "      <td>deep_convolutional_neural_network</td>\n",
       "      <td>naturally_stop</td>\n",
       "      <td>connect_women</td>\n",
       "    </tr>\n",
       "    <tr>\n",
       "      <th>2</th>\n",
       "      <td>2</td>\n",
       "      <td>medical_ai_data_analysis</td>\n",
       "      <td>first_picture</td>\n",
       "      <td>google_parent_company_alphabet</td>\n",
       "      <td>steamtown</td>\n",
       "      <td>performances_take</td>\n",
       "      <td>wednesday_alphabet</td>\n",
       "      <td>widespread_job_cut</td>\n",
       "      <td>knowing_machine</td>\n",
       "      <td>tech_sector_alphabet_cut</td>\n",
       "      <td>engine_publicly</td>\n",
       "    </tr>\n",
       "    <tr>\n",
       "      <th>3</th>\n",
       "      <td>3</td>\n",
       "      <td>pmsport</td>\n",
       "      <td>match_feb</td>\n",
       "      <td>wickets_root</td>\n",
       "      <td>ing_car</td>\n",
       "      <td>market</td>\n",
       "      <td>use</td>\n",
       "      <td>ai</td>\n",
       "      <td>company</td>\n",
       "      <td>say</td>\n",
       "      <td>technology</td>\n",
       "    </tr>\n",
       "    <tr>\n",
       "      <th>4</th>\n",
       "      <td>4</td>\n",
       "      <td>transaction_review</td>\n",
       "      <td>uses_advance</td>\n",
       "      <td>use</td>\n",
       "      <td>billing_detail</td>\n",
       "      <td>bonifazidenver_co</td>\n",
       "      <td>cofive</td>\n",
       "      <td>ai</td>\n",
       "      <td>datum</td>\n",
       "      <td>say</td>\n",
       "      <td>technology_digit</td>\n",
       "    </tr>\n",
       "    <tr>\n",
       "      <th>...</th>\n",
       "      <td>...</td>\n",
       "      <td>...</td>\n",
       "      <td>...</td>\n",
       "      <td>...</td>\n",
       "      <td>...</td>\n",
       "      <td>...</td>\n",
       "      <td>...</td>\n",
       "      <td>...</td>\n",
       "      <td>...</td>\n",
       "      <td>...</td>\n",
       "      <td>...</td>\n",
       "    </tr>\n",
       "    <tr>\n",
       "      <th>145</th>\n",
       "      <td>145</td>\n",
       "      <td>wvlt_newsfirst</td>\n",
       "      <td>wayanythe</td>\n",
       "      <td>teamcareerswvlt_paid</td>\n",
       "      <td>alert_weatherfirst_alert_weather</td>\n",
       "      <td>alert_live</td>\n",
       "      <td>dividesupport_local</td>\n",
       "      <td>calendarcontact_usmeet</td>\n",
       "      <td>solutionsmedal</td>\n",
       "      <td>cookingeye</td>\n",
       "      <td>possiblelet_get</td>\n",
       "    </tr>\n",
       "    <tr>\n",
       "      <th>146</th>\n",
       "      <td>146</td>\n",
       "      <td>technology_review</td>\n",
       "      <td>alphafold</td>\n",
       "      <td>fox_business</td>\n",
       "      <td>protein</td>\n",
       "      <td>rogd</td>\n",
       "      <td>proteins_found</td>\n",
       "      <td>refinitiv_lipper</td>\n",
       "      <td>million_structure</td>\n",
       "      <td>statement_mutual</td>\n",
       "      <td>market_data_provide</td>\n",
       "    </tr>\n",
       "    <tr>\n",
       "      <th>147</th>\n",
       "      <td>147</td>\n",
       "      <td>market</td>\n",
       "      <td>report</td>\n",
       "      <td>santo_cjmorne</td>\n",
       "      <td>invest</td>\n",
       "      <td>call_trading_calls_trade</td>\n",
       "      <td>markets_data_exclusive_trade</td>\n",
       "      <td>thomson_reutersdetail</td>\n",
       "      <td>equity_analysis_actionable_investment</td>\n",
       "      <td>sip_balancerdelay</td>\n",
       "      <td>trackersip_performance</td>\n",
       "    </tr>\n",
       "    <tr>\n",
       "      <th>148</th>\n",
       "      <td>148</td>\n",
       "      <td>new_exhibition</td>\n",
       "      <td>world_renowned</td>\n",
       "      <td>rapture</td>\n",
       "      <td>press_preview</td>\n",
       "      <td>content_markete</td>\n",
       "      <td>market</td>\n",
       "      <td>lisbon</td>\n",
       "      <td>complainour_brandsprivacy</td>\n",
       "      <td>bicycle</td>\n",
       "      <td>franca</td>\n",
       "    </tr>\n",
       "    <tr>\n",
       "      <th>149</th>\n",
       "      <td>149</td>\n",
       "      <td>use</td>\n",
       "      <td>market</td>\n",
       "      <td>say</td>\n",
       "      <td>ai</td>\n",
       "      <td>company</td>\n",
       "      <td>machine_learne</td>\n",
       "      <td>technology</td>\n",
       "      <td>work</td>\n",
       "      <td>report</td>\n",
       "      <td>artificial_intelligence</td>\n",
       "    </tr>\n",
       "  </tbody>\n",
       "</table>\n",
       "<p>150 rows × 11 columns</p>\n",
       "</div>"
      ],
      "text/plain": [
       "     Topic                    Topic0           Topic1  \\\n",
       "0        0                      ҳлиө             wind   \n",
       "1        1            arena_analytic  training_sample   \n",
       "2        2  medical_ai_data_analysis    first_picture   \n",
       "3        3                   pmsport        match_feb   \n",
       "4        4        transaction_review     uses_advance   \n",
       "..     ...                       ...              ...   \n",
       "145    145            wvlt_newsfirst        wayanythe   \n",
       "146    146         technology_review        alphafold   \n",
       "147    147                    market           report   \n",
       "148    148            new_exhibition   world_renowned   \n",
       "149    149                       use           market   \n",
       "\n",
       "                             Topic2                            Topic3  \\\n",
       "0                          ләел_мқј                             ҳл_ҙм   \n",
       "1            distinguished_industry                               use   \n",
       "2    google_parent_company_alphabet                         steamtown   \n",
       "3                      wickets_root                           ing_car   \n",
       "4                               use                    billing_detail   \n",
       "..                              ...                               ...   \n",
       "145            teamcareerswvlt_paid  alert_weatherfirst_alert_weather   \n",
       "146                    fox_business                           protein   \n",
       "147                   santo_cjmorne                            invest   \n",
       "148                         rapture                     press_preview   \n",
       "149                             say                                ai   \n",
       "\n",
       "                       Topic4                        Topic5  \\\n",
       "0                         җлҹ                          ҳлқҳ   \n",
       "1                     smother                        market   \n",
       "2           performances_take            wednesday_alphabet   \n",
       "3                      market                           use   \n",
       "4           bonifazidenver_co                        cofive   \n",
       "..                        ...                           ...   \n",
       "145                alert_live           dividesupport_local   \n",
       "146                      rogd                proteins_found   \n",
       "147  call_trading_calls_trade  markets_data_exclusive_trade   \n",
       "148           content_markete                        market   \n",
       "149                   company                machine_learne   \n",
       "\n",
       "                     Topic6                                 Topic7  \\\n",
       "0                      ҳкің                                    лҙј   \n",
       "1                       zac      deep_convolutional_neural_network   \n",
       "2        widespread_job_cut                        knowing_machine   \n",
       "3                        ai                                company   \n",
       "4                        ai                                  datum   \n",
       "..                      ...                                    ...   \n",
       "145  calendarcontact_usmeet                         solutionsmedal   \n",
       "146        refinitiv_lipper                      million_structure   \n",
       "147   thomson_reutersdetail  equity_analysis_actionable_investment   \n",
       "148                  lisbon              complainour_brandsprivacy   \n",
       "149              technology                                   work   \n",
       "\n",
       "                       Topic8                   Topic9  \n",
       "0                      ліҙлҙј                       нҷ  \n",
       "1              naturally_stop            connect_women  \n",
       "2    tech_sector_alphabet_cut          engine_publicly  \n",
       "3                         say               technology  \n",
       "4                         say         technology_digit  \n",
       "..                        ...                      ...  \n",
       "145                cookingeye          possiblelet_get  \n",
       "146          statement_mutual      market_data_provide  \n",
       "147         sip_balancerdelay   trackersip_performance  \n",
       "148                   bicycle                   franca  \n",
       "149                    report  artificial_intelligence  \n",
       "\n",
       "[150 rows x 11 columns]"
      ]
     },
     "execution_count": 44,
     "metadata": {},
     "output_type": "execute_result"
    }
   ],
   "source": [
    "df_topics"
   ]
  },
  {
   "cell_type": "code",
   "execution_count": null,
   "metadata": {},
   "outputs": [],
   "source": []
  },
  {
   "attachments": {},
   "cell_type": "markdown",
   "metadata": {
    "jp-MarkdownHeadingCollapsed": true,
    "tags": []
   },
   "source": [
    "## Ktrain with Found Optimal n_topics"
   ]
  },
  {
   "attachments": {},
   "cell_type": "markdown",
   "metadata": {},
   "source": [
    "#### Setting"
   ]
  },
  {
   "cell_type": "code",
   "execution_count": 25,
   "metadata": {
    "tags": []
   },
   "outputs": [],
   "source": [
    "import tensorflow as tf"
   ]
  },
  {
   "cell_type": "code",
   "execution_count": 26,
   "metadata": {
    "tags": []
   },
   "outputs": [
    {
     "data": {
      "text/plain": [
       "[PhysicalDevice(name='/physical_device:CPU:0', device_type='CPU')]"
      ]
     },
     "execution_count": 26,
     "metadata": {},
     "output_type": "execute_result"
    }
   ],
   "source": [
    "#Verify we got CPU + GPU or only CPU\n",
    "tf.config.list_physical_devices()"
   ]
  },
  {
   "cell_type": "code",
   "execution_count": 27,
   "metadata": {
    "tags": []
   },
   "outputs": [],
   "source": [
    "#!pip install ktrain"
   ]
  },
  {
   "cell_type": "code",
   "execution_count": 28,
   "metadata": {
    "tags": []
   },
   "outputs": [
    {
     "name": "stdout",
     "output_type": "stream",
     "text": [
      "Ktrain Version: 0.37.0\n"
     ]
    }
   ],
   "source": [
    "import ktrain\n",
    "from ktrain import text as txt\n",
    "\n",
    "print('Ktrain Version: ' + ktrain.__version__)"
   ]
  },
  {
   "cell_type": "code",
   "execution_count": 30,
   "metadata": {
    "tags": []
   },
   "outputs": [],
   "source": [
    "texts = df_filtered['clean_token'].tolist()"
   ]
  },
  {
   "cell_type": "code",
   "execution_count": 66,
   "metadata": {},
   "outputs": [],
   "source": [
    "def print_n_topics(model, n_words):\n",
    "    feature_names = model.vectorizer.get_feature_names_out()\n",
    "    for topic_idx, topic in enumerate(model.model.components_):\n",
    "        top_features_ind = topic.argsort()[-n_words:][::-1]\n",
    "        top_features = [feature_names[i] for i in top_features_ind]\n",
    "        print(f\"Topic {topic_idx} | {' '.join(top_features)}\")\n"
   ]
  },
  {
   "cell_type": "code",
   "execution_count": 76,
   "metadata": {},
   "outputs": [],
   "source": [
    "def topics_to_df(model, n_words):\n",
    "\n",
    "    feature_names = model.vectorizer.get_feature_names_out()\n",
    "\n",
    "\n",
    "    df = pd.DataFrame(columns=[f\"Keyword {i+1}\" for i in range(n_words)])\n",
    "\n",
    "    for topic_idx, topic in enumerate(model.model.components_):\n",
    "        top_features_ind = topic.argsort()[-n_words:][::-1]\n",
    "        top_features = [feature_names[i] for i in top_features_ind]\n",
    "\n",
    "        df.loc[f\"Topic {topic_idx+1}\"] = top_features\n",
    "\n",
    "    return df\n",
    "\n"
   ]
  },
  {
   "attachments": {},
   "cell_type": "markdown",
   "metadata": {},
   "source": [
    "#### 5 topics"
   ]
  },
  {
   "cell_type": "code",
   "execution_count": 27,
   "metadata": {
    "tags": []
   },
   "outputs": [
    {
     "name": "stdout",
     "output_type": "stream",
     "text": [
      "lang: en\n",
      "preprocessing texts...\n",
      "fitting model...\n",
      "iteration: 1 of max_iter: 5\n",
      "iteration: 2 of max_iter: 5\n",
      "iteration: 3 of max_iter: 5\n",
      "iteration: 4 of max_iter: 5\n",
      "iteration: 5 of max_iter: 5\n",
      "done.\n"
     ]
    }
   ],
   "source": [
    "tm_5 = ktrain.text.get_topic_model(\n",
    "    texts=texts, \n",
    "    n_topics=5, \n",
    "    n_features=10000, \n",
    "    min_df=5, \n",
    "    max_df=0.5, \n",
    "    stop_words='english', \n",
    "    model_type='lda', \n",
    "    lda_max_iter=5, \n",
    "    verbose=1)"
   ]
  },
  {
   "cell_type": "code",
   "execution_count": 28,
   "metadata": {
    "tags": []
   },
   "outputs": [
    {
     "name": "stdout",
     "output_type": "stream",
     "text": [
      "topic 0 | share stock news investment fund dollar best investor trade price\n",
      "topic 1 | solution customer learning business platform service machine help model use\n",
      "topic 2 | chatgpt said like google human use people tool user time\n",
      "topic 3 | market report global artificial analysis growth industry research forecast key\n",
      "topic 4 | republic said news state say people day year india world\n"
     ]
    }
   ],
   "source": [
    "tm_5.print_topics()"
   ]
  },
  {
   "attachments": {},
   "cell_type": "markdown",
   "metadata": {},
   "source": [
    "#### 20 topics"
   ]
  },
  {
   "cell_type": "code",
   "execution_count": 31,
   "metadata": {
    "tags": []
   },
   "outputs": [
    {
     "name": "stdout",
     "output_type": "stream",
     "text": [
      "lang: en\n",
      "preprocessing texts...\n",
      "fitting model...\n",
      "iteration: 1 of max_iter: 5\n",
      "iteration: 2 of max_iter: 5\n",
      "iteration: 3 of max_iter: 5\n",
      "iteration: 4 of max_iter: 5\n",
      "iteration: 5 of max_iter: 5\n",
      "done.\n"
     ]
    }
   ],
   "source": [
    "tm_20 = ktrain.text.get_topic_model(\n",
    "    texts=texts, \n",
    "    n_topics=20, \n",
    "    n_features=10000, \n",
    "    min_df=5, \n",
    "    max_df=0.5, \n",
    "    stop_words='english', \n",
    "    model_type='lda', \n",
    "    lda_max_iter=5, \n",
    "    verbose=1)"
   ]
  },
  {
   "cell_type": "code",
   "execution_count": 68,
   "metadata": {
    "tags": []
   },
   "outputs": [
    {
     "name": "stdout",
     "output_type": "stream",
     "text": [
      "Topic 0 | security news privacy military policy\n",
      "Topic 1 | model algorithm used use information\n",
      "Topic 2 | google customer content marketing product\n",
      "Topic 3 | science research computer university learning\n",
      "Topic 4 | image video game open best\n",
      "Topic 5 | energy oil europe gas solution\n",
      "Topic 6 | human like chatgpt student way\n",
      "Topic 7 | chatgpt microsoft openai said google\n",
      "Topic 8 | india news education live indian\n",
      "Topic 9 | star look film say day\n",
      "Topic 10 | patient health medical healthcare drug\n",
      "Topic 11 | best car insurance credit vehicle\n",
      "Topic 12 | market report global analysis growth\n",
      "Topic 13 | stock share dollar fund trade\n",
      "Topic 14 | machine learning chip service conversational\n",
      "Topic 15 | said china year state say\n",
      "Topic 16 | solution platform customer cloud edge\n",
      "Topic 17 | business industry help digital organization\n",
      "Topic 18 | republic kingdom people philip state\n",
      "Topic 19 | said people say like law\n"
     ]
    }
   ],
   "source": [
    "print_n_topics(tm_20, 5)"
   ]
  },
  {
   "cell_type": "code",
   "execution_count": 79,
   "metadata": {},
   "outputs": [
    {
     "data": {
      "text/html": [
       "<div>\n",
       "<style scoped>\n",
       "    .dataframe tbody tr th:only-of-type {\n",
       "        vertical-align: middle;\n",
       "    }\n",
       "\n",
       "    .dataframe tbody tr th {\n",
       "        vertical-align: top;\n",
       "    }\n",
       "\n",
       "    .dataframe thead th {\n",
       "        text-align: right;\n",
       "    }\n",
       "</style>\n",
       "<table border=\"1\" class=\"dataframe\">\n",
       "  <thead>\n",
       "    <tr style=\"text-align: right;\">\n",
       "      <th></th>\n",
       "      <th>Keyword 1</th>\n",
       "      <th>Keyword 2</th>\n",
       "      <th>Keyword 3</th>\n",
       "      <th>Keyword 4</th>\n",
       "      <th>Keyword 5</th>\n",
       "      <th>Keyword 6</th>\n",
       "      <th>Keyword 7</th>\n",
       "      <th>Keyword 8</th>\n",
       "      <th>Keyword 9</th>\n",
       "      <th>Keyword 10</th>\n",
       "    </tr>\n",
       "  </thead>\n",
       "  <tbody>\n",
       "    <tr>\n",
       "      <th>Topic 1</th>\n",
       "      <td>security</td>\n",
       "      <td>news</td>\n",
       "      <td>privacy</td>\n",
       "      <td>military</td>\n",
       "      <td>policy</td>\n",
       "      <td>cyber</td>\n",
       "      <td>cybersecurity</td>\n",
       "      <td>threat</td>\n",
       "      <td>comment</td>\n",
       "      <td>attack</td>\n",
       "    </tr>\n",
       "    <tr>\n",
       "      <th>Topic 2</th>\n",
       "      <td>model</td>\n",
       "      <td>algorithm</td>\n",
       "      <td>used</td>\n",
       "      <td>use</td>\n",
       "      <td>information</td>\n",
       "      <td>using</td>\n",
       "      <td>image</td>\n",
       "      <td>process</td>\n",
       "      <td>time</td>\n",
       "      <td>result</td>\n",
       "    </tr>\n",
       "    <tr>\n",
       "      <th>Topic 3</th>\n",
       "      <td>google</td>\n",
       "      <td>customer</td>\n",
       "      <td>content</td>\n",
       "      <td>marketing</td>\n",
       "      <td>product</td>\n",
       "      <td>brand</td>\n",
       "      <td>medium</td>\n",
       "      <td>business</td>\n",
       "      <td>search</td>\n",
       "      <td>experience</td>\n",
       "    </tr>\n",
       "    <tr>\n",
       "      <th>Topic 4</th>\n",
       "      <td>science</td>\n",
       "      <td>research</td>\n",
       "      <td>computer</td>\n",
       "      <td>university</td>\n",
       "      <td>learning</td>\n",
       "      <td>scientist</td>\n",
       "      <td>researcher</td>\n",
       "      <td>course</td>\n",
       "      <td>machine</td>\n",
       "      <td>project</td>\n",
       "    </tr>\n",
       "    <tr>\n",
       "      <th>Topic 5</th>\n",
       "      <td>image</td>\n",
       "      <td>video</td>\n",
       "      <td>game</td>\n",
       "      <td>open</td>\n",
       "      <td>best</td>\n",
       "      <td>feature</td>\n",
       "      <td>app</td>\n",
       "      <td>apple</td>\n",
       "      <td>window</td>\n",
       "      <td>like</td>\n",
       "    </tr>\n",
       "    <tr>\n",
       "      <th>Topic 6</th>\n",
       "      <td>energy</td>\n",
       "      <td>oil</td>\n",
       "      <td>europe</td>\n",
       "      <td>gas</td>\n",
       "      <td>solution</td>\n",
       "      <td>european</td>\n",
       "      <td>market</td>\n",
       "      <td>patent</td>\n",
       "      <td>launch</td>\n",
       "      <td>service</td>\n",
       "    </tr>\n",
       "    <tr>\n",
       "      <th>Topic 7</th>\n",
       "      <td>human</td>\n",
       "      <td>like</td>\n",
       "      <td>chatgpt</td>\n",
       "      <td>student</td>\n",
       "      <td>way</td>\n",
       "      <td>work</td>\n",
       "      <td>make</td>\n",
       "      <td>time</td>\n",
       "      <td>people</td>\n",
       "      <td>language</td>\n",
       "    </tr>\n",
       "    <tr>\n",
       "      <th>Topic 8</th>\n",
       "      <td>chatgpt</td>\n",
       "      <td>microsoft</td>\n",
       "      <td>openai</td>\n",
       "      <td>said</td>\n",
       "      <td>google</td>\n",
       "      <td>user</td>\n",
       "      <td>chatbot</td>\n",
       "      <td>model</td>\n",
       "      <td>search</td>\n",
       "      <td>generative</td>\n",
       "    </tr>\n",
       "    <tr>\n",
       "      <th>Topic 9</th>\n",
       "      <td>india</td>\n",
       "      <td>news</td>\n",
       "      <td>education</td>\n",
       "      <td>live</td>\n",
       "      <td>indian</td>\n",
       "      <td>day</td>\n",
       "      <td>world</td>\n",
       "      <td>video</td>\n",
       "      <td>said</td>\n",
       "      <td>watch</td>\n",
       "    </tr>\n",
       "    <tr>\n",
       "      <th>Topic 10</th>\n",
       "      <td>star</td>\n",
       "      <td>look</td>\n",
       "      <td>film</td>\n",
       "      <td>say</td>\n",
       "      <td>day</td>\n",
       "      <td>reveals</td>\n",
       "      <td>year</td>\n",
       "      <td>black</td>\n",
       "      <td>fan</td>\n",
       "      <td>time</td>\n",
       "    </tr>\n",
       "    <tr>\n",
       "      <th>Topic 11</th>\n",
       "      <td>patient</td>\n",
       "      <td>health</td>\n",
       "      <td>medical</td>\n",
       "      <td>healthcare</td>\n",
       "      <td>drug</td>\n",
       "      <td>care</td>\n",
       "      <td>cancer</td>\n",
       "      <td>disease</td>\n",
       "      <td>clinical</td>\n",
       "      <td>medicine</td>\n",
       "    </tr>\n",
       "    <tr>\n",
       "      <th>Topic 12</th>\n",
       "      <td>best</td>\n",
       "      <td>car</td>\n",
       "      <td>insurance</td>\n",
       "      <td>credit</td>\n",
       "      <td>vehicle</td>\n",
       "      <td>card</td>\n",
       "      <td>bank</td>\n",
       "      <td>forbes</td>\n",
       "      <td>paid</td>\n",
       "      <td>real</td>\n",
       "    </tr>\n",
       "    <tr>\n",
       "      <th>Topic 13</th>\n",
       "      <td>market</td>\n",
       "      <td>report</td>\n",
       "      <td>global</td>\n",
       "      <td>analysis</td>\n",
       "      <td>growth</td>\n",
       "      <td>industry</td>\n",
       "      <td>forecast</td>\n",
       "      <td>research</td>\n",
       "      <td>key</td>\n",
       "      <td>player</td>\n",
       "    </tr>\n",
       "    <tr>\n",
       "      <th>Topic 14</th>\n",
       "      <td>stock</td>\n",
       "      <td>share</td>\n",
       "      <td>dollar</td>\n",
       "      <td>fund</td>\n",
       "      <td>trade</td>\n",
       "      <td>traded</td>\n",
       "      <td>price</td>\n",
       "      <td>btc</td>\n",
       "      <td>investor</td>\n",
       "      <td>investment</td>\n",
       "    </tr>\n",
       "    <tr>\n",
       "      <th>Topic 15</th>\n",
       "      <td>machine</td>\n",
       "      <td>learning</td>\n",
       "      <td>chip</td>\n",
       "      <td>service</td>\n",
       "      <td>conversational</td>\n",
       "      <td>supply</td>\n",
       "      <td>development</td>\n",
       "      <td>report</td>\n",
       "      <td>global</td>\n",
       "      <td>chain</td>\n",
       "    </tr>\n",
       "    <tr>\n",
       "      <th>Topic 16</th>\n",
       "      <td>said</td>\n",
       "      <td>china</td>\n",
       "      <td>year</td>\n",
       "      <td>state</td>\n",
       "      <td>say</td>\n",
       "      <td>city</td>\n",
       "      <td>world</td>\n",
       "      <td>child</td>\n",
       "      <td>chinese</td>\n",
       "      <td>police</td>\n",
       "    </tr>\n",
       "    <tr>\n",
       "      <th>Topic 17</th>\n",
       "      <td>solution</td>\n",
       "      <td>platform</td>\n",
       "      <td>customer</td>\n",
       "      <td>cloud</td>\n",
       "      <td>edge</td>\n",
       "      <td>application</td>\n",
       "      <td>software</td>\n",
       "      <td>service</td>\n",
       "      <td>nvidia</td>\n",
       "      <td>enterprise</td>\n",
       "    </tr>\n",
       "    <tr>\n",
       "      <th>Topic 18</th>\n",
       "      <td>business</td>\n",
       "      <td>industry</td>\n",
       "      <td>help</td>\n",
       "      <td>digital</td>\n",
       "      <td>organization</td>\n",
       "      <td>service</td>\n",
       "      <td>solution</td>\n",
       "      <td>development</td>\n",
       "      <td>use</td>\n",
       "      <td>innovation</td>\n",
       "    </tr>\n",
       "    <tr>\n",
       "      <th>Topic 19</th>\n",
       "      <td>republic</td>\n",
       "      <td>kingdom</td>\n",
       "      <td>people</td>\n",
       "      <td>philip</td>\n",
       "      <td>state</td>\n",
       "      <td>island</td>\n",
       "      <td>crypto</td>\n",
       "      <td>democratic</td>\n",
       "      <td>territory</td>\n",
       "      <td>united</td>\n",
       "    </tr>\n",
       "    <tr>\n",
       "      <th>Topic 20</th>\n",
       "      <td>said</td>\n",
       "      <td>people</td>\n",
       "      <td>say</td>\n",
       "      <td>like</td>\n",
       "      <td>law</td>\n",
       "      <td>right</td>\n",
       "      <td>use</td>\n",
       "      <td>human</td>\n",
       "      <td>work</td>\n",
       "      <td>bias</td>\n",
       "    </tr>\n",
       "  </tbody>\n",
       "</table>\n",
       "</div>"
      ],
      "text/plain": [
       "         Keyword 1  Keyword 2  Keyword 3   Keyword 4       Keyword 5  \\\n",
       "Topic 1   security       news    privacy    military          policy   \n",
       "Topic 2      model  algorithm       used         use     information   \n",
       "Topic 3     google   customer    content   marketing         product   \n",
       "Topic 4    science   research   computer  university        learning   \n",
       "Topic 5      image      video       game        open            best   \n",
       "Topic 6     energy        oil     europe         gas        solution   \n",
       "Topic 7      human       like    chatgpt     student             way   \n",
       "Topic 8    chatgpt  microsoft     openai        said          google   \n",
       "Topic 9      india       news  education        live          indian   \n",
       "Topic 10      star       look       film         say             day   \n",
       "Topic 11   patient     health    medical  healthcare            drug   \n",
       "Topic 12      best        car  insurance      credit         vehicle   \n",
       "Topic 13    market     report     global    analysis          growth   \n",
       "Topic 14     stock      share     dollar        fund           trade   \n",
       "Topic 15   machine   learning       chip     service  conversational   \n",
       "Topic 16      said      china       year       state             say   \n",
       "Topic 17  solution   platform   customer       cloud            edge   \n",
       "Topic 18  business   industry       help     digital    organization   \n",
       "Topic 19  republic    kingdom     people      philip           state   \n",
       "Topic 20      said     people        say        like             law   \n",
       "\n",
       "            Keyword 6      Keyword 7    Keyword 8  Keyword 9  Keyword 10  \n",
       "Topic 1         cyber  cybersecurity       threat    comment      attack  \n",
       "Topic 2         using          image      process       time      result  \n",
       "Topic 3         brand         medium     business     search  experience  \n",
       "Topic 4     scientist     researcher       course    machine     project  \n",
       "Topic 5       feature            app        apple     window        like  \n",
       "Topic 6      european         market       patent     launch     service  \n",
       "Topic 7          work           make         time     people    language  \n",
       "Topic 8          user        chatbot        model     search  generative  \n",
       "Topic 9           day          world        video       said       watch  \n",
       "Topic 10      reveals           year        black        fan        time  \n",
       "Topic 11         care         cancer      disease   clinical    medicine  \n",
       "Topic 12         card           bank       forbes       paid        real  \n",
       "Topic 13     industry       forecast     research        key      player  \n",
       "Topic 14       traded          price          btc   investor  investment  \n",
       "Topic 15       supply    development       report     global       chain  \n",
       "Topic 16         city          world        child    chinese      police  \n",
       "Topic 17  application       software      service     nvidia  enterprise  \n",
       "Topic 18      service       solution  development        use  innovation  \n",
       "Topic 19       island         crypto   democratic  territory      united  \n",
       "Topic 20        right            use        human       work        bias  "
      ]
     },
     "execution_count": 79,
     "metadata": {},
     "output_type": "execute_result"
    }
   ],
   "source": [
    "topics_to_df(tm_20, 10)"
   ]
  },
  {
   "cell_type": "code",
   "execution_count": 93,
   "metadata": {},
   "outputs": [],
   "source": [
    "topic_probabilities = tm_20.predict(texts)\n",
    "topic_ids = np.argmax(topic_probabilities, axis=1)\n",
    "df_filtered['ktrain_20_topic_id'] = topic_ids"
   ]
  },
  {
   "cell_type": "code",
   "execution_count": 94,
   "metadata": {},
   "outputs": [
    {
     "data": {
      "text/plain": [
       "(2810, 11)"
      ]
     },
     "execution_count": 94,
     "metadata": {},
     "output_type": "execute_result"
    }
   ],
   "source": [
    "# cyber security\n",
    "df_filtered[df_filtered.ktrain_20_topic_id == 0].shape"
   ]
  },
  {
   "cell_type": "code",
   "execution_count": 95,
   "metadata": {},
   "outputs": [
    {
     "data": {
      "text/plain": [
       "(1755, 11)"
      ]
     },
     "execution_count": 95,
     "metadata": {},
     "output_type": "execute_result"
    }
   ],
   "source": [
    "# healthcare\n",
    "df_filtered[df_filtered.ktrain_20_topic_id == 11].shape"
   ]
  },
  {
   "cell_type": "code",
   "execution_count": 96,
   "metadata": {},
   "outputs": [
    {
     "data": {
      "text/plain": [
       "(103, 11)"
      ]
     },
     "execution_count": 96,
     "metadata": {},
     "output_type": "execute_result"
    }
   ],
   "source": [
    "# fintech\n",
    "df_filtered[df_filtered.ktrain_20_topic_id == 14].shape"
   ]
  },
  {
   "cell_type": "code",
   "execution_count": null,
   "metadata": {},
   "outputs": [],
   "source": []
  },
  {
   "attachments": {},
   "cell_type": "markdown",
   "metadata": {},
   "source": [
    "#### 30 topics"
   ]
  },
  {
   "cell_type": "code",
   "execution_count": 33,
   "metadata": {},
   "outputs": [
    {
     "name": "stdout",
     "output_type": "stream",
     "text": [
      "lang: en\n",
      "preprocessing texts...\n",
      "fitting model...\n",
      "iteration: 1 of max_iter: 5\n",
      "iteration: 2 of max_iter: 5\n",
      "iteration: 3 of max_iter: 5\n",
      "iteration: 4 of max_iter: 5\n",
      "iteration: 5 of max_iter: 5\n",
      "done.\n"
     ]
    }
   ],
   "source": [
    "tm_30 = ktrain.text.get_topic_model(\n",
    "    texts=texts, \n",
    "    n_topics=30, \n",
    "    n_features=10000, \n",
    "    min_df=5, \n",
    "    max_df=0.5, \n",
    "    stop_words='english', \n",
    "    model_type='lda', \n",
    "    lda_max_iter=5, \n",
    "    verbose=1)"
   ]
  },
  {
   "cell_type": "code",
   "execution_count": 67,
   "metadata": {},
   "outputs": [
    {
     "name": "stdout",
     "output_type": "stream",
     "text": [
      "Topic 0 | security news cybersecurity cyber threat\n",
      "Topic 1 | model algorithm used language training\n",
      "Topic 2 | image photo art artist create\n",
      "Topic 3 | science research university course project\n",
      "Topic 4 | game music world voice time\n",
      "Topic 5 | die solution philip und service\n",
      "Topic 6 | energy vehicle robot car autonomous\n",
      "Topic 7 | news content comment medium email\n",
      "Topic 8 | said state city say country\n",
      "Topic 9 | star reveals look daughter say\n",
      "Topic 10 | patient health healthcare medical care\n",
      "Topic 11 | china year financial investment bank\n",
      "Topic 12 | market report analysis global growth\n",
      "Topic 13 | share stock dollar traded trade\n",
      "Topic 14 | machine learning service conversational amazon\n",
      "Topic 15 | researcher study said research child\n",
      "Topic 16 | platform solution service customer cloud\n",
      "Topic 17 | risk bias use organization development\n",
      "Topic 18 | republic best insurance credit forbes\n",
      "Topic 19 | human like say people thing\n",
      "Topic 20 | india indian share video news\n",
      "Topic 21 | edge chip nvidia device computing\n",
      "Topic 22 | education job student skill news\n",
      "Topic 23 | chatgpt openai chatbot tool text\n",
      "Topic 24 | market global growth industry expected\n",
      "Topic 25 | google microsoft search said bing\n",
      "Topic 26 | law said use privacy cooky\n",
      "Topic 27 | best apple feature mobile game\n",
      "Topic 28 | software market report global growth\n",
      "Topic 29 | business customer help experience product\n"
     ]
    }
   ],
   "source": [
    "print_n_topics(tm_30, 5)"
   ]
  },
  {
   "cell_type": "code",
   "execution_count": 89,
   "metadata": {},
   "outputs": [
    {
     "data": {
      "text/html": [
       "<div>\n",
       "<style scoped>\n",
       "    .dataframe tbody tr th:only-of-type {\n",
       "        vertical-align: middle;\n",
       "    }\n",
       "\n",
       "    .dataframe tbody tr th {\n",
       "        vertical-align: top;\n",
       "    }\n",
       "\n",
       "    .dataframe thead th {\n",
       "        text-align: right;\n",
       "    }\n",
       "</style>\n",
       "<table border=\"1\" class=\"dataframe\">\n",
       "  <thead>\n",
       "    <tr style=\"text-align: right;\">\n",
       "      <th></th>\n",
       "      <th>Keyword 1</th>\n",
       "      <th>Keyword 2</th>\n",
       "      <th>Keyword 3</th>\n",
       "      <th>Keyword 4</th>\n",
       "      <th>Keyword 5</th>\n",
       "      <th>Keyword 6</th>\n",
       "      <th>Keyword 7</th>\n",
       "      <th>Keyword 8</th>\n",
       "      <th>Keyword 9</th>\n",
       "      <th>Keyword 10</th>\n",
       "    </tr>\n",
       "  </thead>\n",
       "  <tbody>\n",
       "    <tr>\n",
       "      <th>Topic 1</th>\n",
       "      <td>security</td>\n",
       "      <td>news</td>\n",
       "      <td>cybersecurity</td>\n",
       "      <td>cyber</td>\n",
       "      <td>threat</td>\n",
       "      <td>attack</td>\n",
       "      <td>digital</td>\n",
       "      <td>network</td>\n",
       "      <td>policy</td>\n",
       "      <td>privacy</td>\n",
       "    </tr>\n",
       "    <tr>\n",
       "      <th>Topic 2</th>\n",
       "      <td>model</td>\n",
       "      <td>algorithm</td>\n",
       "      <td>used</td>\n",
       "      <td>language</td>\n",
       "      <td>training</td>\n",
       "      <td>use</td>\n",
       "      <td>using</td>\n",
       "      <td>human</td>\n",
       "      <td>process</td>\n",
       "      <td>network</td>\n",
       "    </tr>\n",
       "    <tr>\n",
       "      <th>Topic 3</th>\n",
       "      <td>image</td>\n",
       "      <td>photo</td>\n",
       "      <td>art</td>\n",
       "      <td>artist</td>\n",
       "      <td>create</td>\n",
       "      <td>tool</td>\n",
       "      <td>like</td>\n",
       "      <td>video</td>\n",
       "      <td>work</td>\n",
       "      <td>app</td>\n",
       "    </tr>\n",
       "    <tr>\n",
       "      <th>Topic 4</th>\n",
       "      <td>science</td>\n",
       "      <td>research</td>\n",
       "      <td>university</td>\n",
       "      <td>course</td>\n",
       "      <td>project</td>\n",
       "      <td>scientist</td>\n",
       "      <td>program</td>\n",
       "      <td>student</td>\n",
       "      <td>institute</td>\n",
       "      <td>engineering</td>\n",
       "    </tr>\n",
       "    <tr>\n",
       "      <th>Topic 5</th>\n",
       "      <td>game</td>\n",
       "      <td>music</td>\n",
       "      <td>world</td>\n",
       "      <td>voice</td>\n",
       "      <td>time</td>\n",
       "      <td>year</td>\n",
       "      <td>day</td>\n",
       "      <td>player</td>\n",
       "      <td>video</td>\n",
       "      <td>like</td>\n",
       "    </tr>\n",
       "    <tr>\n",
       "      <th>Topic 6</th>\n",
       "      <td>die</td>\n",
       "      <td>solution</td>\n",
       "      <td>philip</td>\n",
       "      <td>und</td>\n",
       "      <td>service</td>\n",
       "      <td>crypto</td>\n",
       "      <td>europe</td>\n",
       "      <td>european</td>\n",
       "      <td>launch</td>\n",
       "      <td>business</td>\n",
       "    </tr>\n",
       "    <tr>\n",
       "      <th>Topic 7</th>\n",
       "      <td>energy</td>\n",
       "      <td>vehicle</td>\n",
       "      <td>robot</td>\n",
       "      <td>car</td>\n",
       "      <td>autonomous</td>\n",
       "      <td>driver</td>\n",
       "      <td>driving</td>\n",
       "      <td>gas</td>\n",
       "      <td>oil</td>\n",
       "      <td>tesla</td>\n",
       "    </tr>\n",
       "    <tr>\n",
       "      <th>Topic 8</th>\n",
       "      <td>news</td>\n",
       "      <td>content</td>\n",
       "      <td>comment</td>\n",
       "      <td>medium</td>\n",
       "      <td>email</td>\n",
       "      <td>post</td>\n",
       "      <td>facebook</td>\n",
       "      <td>social</td>\n",
       "      <td>open</td>\n",
       "      <td>user</td>\n",
       "    </tr>\n",
       "    <tr>\n",
       "      <th>Topic 9</th>\n",
       "      <td>said</td>\n",
       "      <td>state</td>\n",
       "      <td>city</td>\n",
       "      <td>say</td>\n",
       "      <td>country</td>\n",
       "      <td>year</td>\n",
       "      <td>police</td>\n",
       "      <td>president</td>\n",
       "      <td>national</td>\n",
       "      <td>military</td>\n",
       "    </tr>\n",
       "    <tr>\n",
       "      <th>Topic 10</th>\n",
       "      <td>star</td>\n",
       "      <td>reveals</td>\n",
       "      <td>look</td>\n",
       "      <td>daughter</td>\n",
       "      <td>say</td>\n",
       "      <td>black</td>\n",
       "      <td>share</td>\n",
       "      <td>husband</td>\n",
       "      <td>year</td>\n",
       "      <td>wife</td>\n",
       "    </tr>\n",
       "    <tr>\n",
       "      <th>Topic 11</th>\n",
       "      <td>patient</td>\n",
       "      <td>health</td>\n",
       "      <td>healthcare</td>\n",
       "      <td>medical</td>\n",
       "      <td>care</td>\n",
       "      <td>cancer</td>\n",
       "      <td>drug</td>\n",
       "      <td>clinical</td>\n",
       "      <td>medicine</td>\n",
       "      <td>hospital</td>\n",
       "    </tr>\n",
       "    <tr>\n",
       "      <th>Topic 12</th>\n",
       "      <td>china</td>\n",
       "      <td>year</td>\n",
       "      <td>financial</td>\n",
       "      <td>investment</td>\n",
       "      <td>bank</td>\n",
       "      <td>million</td>\n",
       "      <td>billion</td>\n",
       "      <td>investor</td>\n",
       "      <td>chinese</td>\n",
       "      <td>firm</td>\n",
       "    </tr>\n",
       "    <tr>\n",
       "      <th>Topic 13</th>\n",
       "      <td>market</td>\n",
       "      <td>report</td>\n",
       "      <td>analysis</td>\n",
       "      <td>global</td>\n",
       "      <td>growth</td>\n",
       "      <td>forecast</td>\n",
       "      <td>industry</td>\n",
       "      <td>research</td>\n",
       "      <td>key</td>\n",
       "      <td>trend</td>\n",
       "    </tr>\n",
       "    <tr>\n",
       "      <th>Topic 14</th>\n",
       "      <td>share</td>\n",
       "      <td>stock</td>\n",
       "      <td>dollar</td>\n",
       "      <td>traded</td>\n",
       "      <td>trade</td>\n",
       "      <td>fund</td>\n",
       "      <td>btc</td>\n",
       "      <td>nasdaq</td>\n",
       "      <td>distribution</td>\n",
       "      <td>price</td>\n",
       "    </tr>\n",
       "    <tr>\n",
       "      <th>Topic 15</th>\n",
       "      <td>machine</td>\n",
       "      <td>learning</td>\n",
       "      <td>service</td>\n",
       "      <td>conversational</td>\n",
       "      <td>amazon</td>\n",
       "      <td>deep</td>\n",
       "      <td>big</td>\n",
       "      <td>analytics</td>\n",
       "      <td>mlaas</td>\n",
       "      <td>infrastructure</td>\n",
       "    </tr>\n",
       "    <tr>\n",
       "      <th>Topic 16</th>\n",
       "      <td>researcher</td>\n",
       "      <td>study</td>\n",
       "      <td>said</td>\n",
       "      <td>research</td>\n",
       "      <td>child</td>\n",
       "      <td>protein</td>\n",
       "      <td>university</td>\n",
       "      <td>disease</td>\n",
       "      <td>used</td>\n",
       "      <td>cell</td>\n",
       "    </tr>\n",
       "    <tr>\n",
       "      <th>Topic 17</th>\n",
       "      <td>platform</td>\n",
       "      <td>solution</td>\n",
       "      <td>service</td>\n",
       "      <td>customer</td>\n",
       "      <td>cloud</td>\n",
       "      <td>enterprise</td>\n",
       "      <td>business</td>\n",
       "      <td>analytics</td>\n",
       "      <td>capability</td>\n",
       "      <td>today</td>\n",
       "    </tr>\n",
       "    <tr>\n",
       "      <th>Topic 18</th>\n",
       "      <td>risk</td>\n",
       "      <td>bias</td>\n",
       "      <td>use</td>\n",
       "      <td>organization</td>\n",
       "      <td>development</td>\n",
       "      <td>need</td>\n",
       "      <td>potential</td>\n",
       "      <td>issue</td>\n",
       "      <td>decision</td>\n",
       "      <td>ethical</td>\n",
       "    </tr>\n",
       "    <tr>\n",
       "      <th>Topic 19</th>\n",
       "      <td>republic</td>\n",
       "      <td>best</td>\n",
       "      <td>insurance</td>\n",
       "      <td>credit</td>\n",
       "      <td>forbes</td>\n",
       "      <td>kingdom</td>\n",
       "      <td>card</td>\n",
       "      <td>people</td>\n",
       "      <td>paid</td>\n",
       "      <td>car</td>\n",
       "    </tr>\n",
       "    <tr>\n",
       "      <th>Topic 20</th>\n",
       "      <td>human</td>\n",
       "      <td>like</td>\n",
       "      <td>say</td>\n",
       "      <td>people</td>\n",
       "      <td>thing</td>\n",
       "      <td>think</td>\n",
       "      <td>make</td>\n",
       "      <td>way</td>\n",
       "      <td>said</td>\n",
       "      <td>work</td>\n",
       "    </tr>\n",
       "    <tr>\n",
       "      <th>Topic 21</th>\n",
       "      <td>india</td>\n",
       "      <td>indian</td>\n",
       "      <td>share</td>\n",
       "      <td>video</td>\n",
       "      <td>news</td>\n",
       "      <td>live</td>\n",
       "      <td>watch</td>\n",
       "      <td>day</td>\n",
       "      <td>read</td>\n",
       "      <td>delhi</td>\n",
       "    </tr>\n",
       "    <tr>\n",
       "      <th>Topic 22</th>\n",
       "      <td>edge</td>\n",
       "      <td>chip</td>\n",
       "      <td>nvidia</td>\n",
       "      <td>device</td>\n",
       "      <td>computing</td>\n",
       "      <td>hardware</td>\n",
       "      <td>computer</td>\n",
       "      <td>vision</td>\n",
       "      <td>application</td>\n",
       "      <td>power</td>\n",
       "    </tr>\n",
       "    <tr>\n",
       "      <th>Topic 23</th>\n",
       "      <td>education</td>\n",
       "      <td>job</td>\n",
       "      <td>student</td>\n",
       "      <td>skill</td>\n",
       "      <td>news</td>\n",
       "      <td>talent</td>\n",
       "      <td>hiring</td>\n",
       "      <td>help</td>\n",
       "      <td>candidate</td>\n",
       "      <td>sector</td>\n",
       "    </tr>\n",
       "    <tr>\n",
       "      <th>Topic 24</th>\n",
       "      <td>chatgpt</td>\n",
       "      <td>openai</td>\n",
       "      <td>chatbot</td>\n",
       "      <td>tool</td>\n",
       "      <td>text</td>\n",
       "      <td>user</td>\n",
       "      <td>said</td>\n",
       "      <td>generative</td>\n",
       "      <td>writing</td>\n",
       "      <td>student</td>\n",
       "    </tr>\n",
       "    <tr>\n",
       "      <th>Topic 25</th>\n",
       "      <td>market</td>\n",
       "      <td>global</td>\n",
       "      <td>growth</td>\n",
       "      <td>industry</td>\n",
       "      <td>expected</td>\n",
       "      <td>america</td>\n",
       "      <td>service</td>\n",
       "      <td>automotive</td>\n",
       "      <td>agriculture</td>\n",
       "      <td>billion</td>\n",
       "    </tr>\n",
       "    <tr>\n",
       "      <th>Topic 26</th>\n",
       "      <td>google</td>\n",
       "      <td>microsoft</td>\n",
       "      <td>search</td>\n",
       "      <td>said</td>\n",
       "      <td>bing</td>\n",
       "      <td>bard</td>\n",
       "      <td>tech</td>\n",
       "      <td>engine</td>\n",
       "      <td>openai</td>\n",
       "      <td>model</td>\n",
       "    </tr>\n",
       "    <tr>\n",
       "      <th>Topic 27</th>\n",
       "      <td>law</td>\n",
       "      <td>said</td>\n",
       "      <td>use</td>\n",
       "      <td>privacy</td>\n",
       "      <td>cooky</td>\n",
       "      <td>government</td>\n",
       "      <td>legal</td>\n",
       "      <td>used</td>\n",
       "      <td>website</td>\n",
       "      <td>european</td>\n",
       "    </tr>\n",
       "    <tr>\n",
       "      <th>Topic 28</th>\n",
       "      <td>best</td>\n",
       "      <td>apple</td>\n",
       "      <td>feature</td>\n",
       "      <td>mobile</td>\n",
       "      <td>game</td>\n",
       "      <td>open</td>\n",
       "      <td>app</td>\n",
       "      <td>phone</td>\n",
       "      <td>video</td>\n",
       "      <td>review</td>\n",
       "    </tr>\n",
       "    <tr>\n",
       "      <th>Topic 29</th>\n",
       "      <td>software</td>\n",
       "      <td>market</td>\n",
       "      <td>report</td>\n",
       "      <td>global</td>\n",
       "      <td>growth</td>\n",
       "      <td>development</td>\n",
       "      <td>analysis</td>\n",
       "      <td>player</td>\n",
       "      <td>business</td>\n",
       "      <td>research</td>\n",
       "    </tr>\n",
       "    <tr>\n",
       "      <th>Topic 30</th>\n",
       "      <td>business</td>\n",
       "      <td>customer</td>\n",
       "      <td>help</td>\n",
       "      <td>experience</td>\n",
       "      <td>product</td>\n",
       "      <td>marketing</td>\n",
       "      <td>time</td>\n",
       "      <td>digital</td>\n",
       "      <td>need</td>\n",
       "      <td>service</td>\n",
       "    </tr>\n",
       "  </tbody>\n",
       "</table>\n",
       "</div>"
      ],
      "text/plain": [
       "           Keyword 1  Keyword 2      Keyword 3       Keyword 4    Keyword 5  \\\n",
       "Topic 1     security       news  cybersecurity           cyber       threat   \n",
       "Topic 2        model  algorithm           used        language     training   \n",
       "Topic 3        image      photo            art          artist       create   \n",
       "Topic 4      science   research     university          course      project   \n",
       "Topic 5         game      music          world           voice         time   \n",
       "Topic 6          die   solution         philip             und      service   \n",
       "Topic 7       energy    vehicle          robot             car   autonomous   \n",
       "Topic 8         news    content        comment          medium        email   \n",
       "Topic 9         said      state           city             say      country   \n",
       "Topic 10        star    reveals           look        daughter          say   \n",
       "Topic 11     patient     health     healthcare         medical         care   \n",
       "Topic 12       china       year      financial      investment         bank   \n",
       "Topic 13      market     report       analysis          global       growth   \n",
       "Topic 14       share      stock         dollar          traded        trade   \n",
       "Topic 15     machine   learning        service  conversational       amazon   \n",
       "Topic 16  researcher      study           said        research        child   \n",
       "Topic 17    platform   solution        service        customer        cloud   \n",
       "Topic 18        risk       bias            use    organization  development   \n",
       "Topic 19    republic       best      insurance          credit       forbes   \n",
       "Topic 20       human       like            say          people        thing   \n",
       "Topic 21       india     indian          share           video         news   \n",
       "Topic 22        edge       chip         nvidia          device    computing   \n",
       "Topic 23   education        job        student           skill         news   \n",
       "Topic 24     chatgpt     openai        chatbot            tool         text   \n",
       "Topic 25      market     global         growth        industry     expected   \n",
       "Topic 26      google  microsoft         search            said         bing   \n",
       "Topic 27         law       said            use         privacy        cooky   \n",
       "Topic 28        best      apple        feature          mobile         game   \n",
       "Topic 29    software     market         report          global       growth   \n",
       "Topic 30    business   customer           help      experience      product   \n",
       "\n",
       "            Keyword 6   Keyword 7   Keyword 8     Keyword 9      Keyword 10  \n",
       "Topic 1        attack     digital     network        policy         privacy  \n",
       "Topic 2           use       using       human       process         network  \n",
       "Topic 3          tool        like       video          work             app  \n",
       "Topic 4     scientist     program     student     institute     engineering  \n",
       "Topic 5          year         day      player         video            like  \n",
       "Topic 6        crypto      europe    european        launch        business  \n",
       "Topic 7        driver     driving         gas           oil           tesla  \n",
       "Topic 8          post    facebook      social          open            user  \n",
       "Topic 9          year      police   president      national        military  \n",
       "Topic 10        black       share     husband          year            wife  \n",
       "Topic 11       cancer        drug    clinical      medicine        hospital  \n",
       "Topic 12      million     billion    investor       chinese            firm  \n",
       "Topic 13     forecast    industry    research           key           trend  \n",
       "Topic 14         fund         btc      nasdaq  distribution           price  \n",
       "Topic 15         deep         big   analytics         mlaas  infrastructure  \n",
       "Topic 16      protein  university     disease          used            cell  \n",
       "Topic 17   enterprise    business   analytics    capability           today  \n",
       "Topic 18         need   potential       issue      decision         ethical  \n",
       "Topic 19      kingdom        card      people          paid             car  \n",
       "Topic 20        think        make         way          said            work  \n",
       "Topic 21         live       watch         day          read           delhi  \n",
       "Topic 22     hardware    computer      vision   application           power  \n",
       "Topic 23       talent      hiring        help     candidate          sector  \n",
       "Topic 24         user        said  generative       writing         student  \n",
       "Topic 25      america     service  automotive   agriculture         billion  \n",
       "Topic 26         bard        tech      engine        openai           model  \n",
       "Topic 27   government       legal        used       website        european  \n",
       "Topic 28         open         app       phone         video          review  \n",
       "Topic 29  development    analysis      player      business        research  \n",
       "Topic 30    marketing        time     digital          need         service  "
      ]
     },
     "execution_count": 89,
     "metadata": {},
     "output_type": "execute_result"
    }
   ],
   "source": [
    "topics_to_df(tm_30, 10)"
   ]
  },
  {
   "cell_type": "code",
   "execution_count": 80,
   "metadata": {},
   "outputs": [],
   "source": [
    "topic_probabilities = tm_30.predict(texts)\n",
    "topic_ids = np.argmax(topic_probabilities, axis=1)\n",
    "df_filtered['ktrain_30_topic_id'] = topic_ids"
   ]
  },
  {
   "cell_type": "code",
   "execution_count": 98,
   "metadata": {},
   "outputs": [
    {
     "data": {
      "text/plain": [
       "(1608, 11)"
      ]
     },
     "execution_count": 98,
     "metadata": {},
     "output_type": "execute_result"
    }
   ],
   "source": [
    "# cyber security\n",
    "df_filtered[df_filtered.ktrain_30_topic_id == 0].shape"
   ]
  },
  {
   "cell_type": "code",
   "execution_count": 99,
   "metadata": {},
   "outputs": [
    {
     "data": {
      "text/plain": [
       "(1723, 11)"
      ]
     },
     "execution_count": 99,
     "metadata": {},
     "output_type": "execute_result"
    }
   ],
   "source": [
    "# human\n",
    "df_filtered[df_filtered.ktrain_30_topic_id == 20].shape"
   ]
  },
  {
   "cell_type": "code",
   "execution_count": 100,
   "metadata": {},
   "outputs": [
    {
     "data": {
      "text/plain": [
       "(4452, 11)"
      ]
     },
     "execution_count": 100,
     "metadata": {},
     "output_type": "execute_result"
    }
   ],
   "source": [
    "# automotive\n",
    "df_filtered[df_filtered.ktrain_30_topic_id == 7].shape"
   ]
  },
  {
   "cell_type": "code",
   "execution_count": 101,
   "metadata": {},
   "outputs": [
    {
     "data": {
      "text/plain": [
       "(3008, 11)"
      ]
     },
     "execution_count": 101,
     "metadata": {},
     "output_type": "execute_result"
    }
   ],
   "source": [
    "# healthcare\n",
    "df_filtered[df_filtered.ktrain_30_topic_id == 11].shape"
   ]
  },
  {
   "cell_type": "code",
   "execution_count": 102,
   "metadata": {},
   "outputs": [
    {
     "data": {
      "text/plain": [
       "(3200, 11)"
      ]
     },
     "execution_count": 102,
     "metadata": {},
     "output_type": "execute_result"
    }
   ],
   "source": [
    "# studio_art\n",
    "df_filtered[df_filtered.ktrain_30_topic_id == 3].shape"
   ]
  },
  {
   "cell_type": "code",
   "execution_count": 103,
   "metadata": {},
   "outputs": [
    {
     "data": {
      "text/plain": [
       "(5217, 11)"
      ]
     },
     "execution_count": 103,
     "metadata": {},
     "output_type": "execute_result"
    }
   ],
   "source": [
    "# education\n",
    "df_filtered[(df_filtered.ktrain_30_topic_id == 23)].shape"
   ]
  },
  {
   "cell_type": "code",
   "execution_count": 104,
   "metadata": {},
   "outputs": [
    {
     "data": {
      "text/plain": [
       "(1940, 11)"
      ]
     },
     "execution_count": 104,
     "metadata": {},
     "output_type": "execute_result"
    }
   ],
   "source": [
    "# techonology\n",
    "df_filtered[df_filtered.ktrain_30_topic_id == 22].shape"
   ]
  },
  {
   "attachments": {},
   "cell_type": "markdown",
   "metadata": {},
   "source": [
    "#### 40 topics"
   ]
  },
  {
   "cell_type": "code",
   "execution_count": 35,
   "metadata": {},
   "outputs": [
    {
     "name": "stdout",
     "output_type": "stream",
     "text": [
      "lang: en\n",
      "preprocessing texts...\n",
      "fitting model...\n",
      "iteration: 1 of max_iter: 5\n",
      "iteration: 2 of max_iter: 5\n",
      "iteration: 3 of max_iter: 5\n",
      "iteration: 4 of max_iter: 5\n",
      "iteration: 5 of max_iter: 5\n",
      "done.\n"
     ]
    }
   ],
   "source": [
    "tm_40 = ktrain.text.get_topic_model(\n",
    "    texts=texts, \n",
    "    n_topics=40, \n",
    "    n_features=10000, \n",
    "    min_df=5, \n",
    "    max_df=0.5, \n",
    "    stop_words='english', \n",
    "    model_type='lda', \n",
    "    lda_max_iter=5, \n",
    "    verbose=1)"
   ]
  },
  {
   "cell_type": "code",
   "execution_count": 105,
   "metadata": {},
   "outputs": [
    {
     "name": "stdout",
     "output_type": "stream",
     "text": [
      "Topic 0 | security military cyber cybersecurity threat\n",
      "Topic 1 | model language use process training\n",
      "Topic 2 | best insurance credit card forbes\n",
      "Topic 3 | science student education university course\n",
      "Topic 4 | image art photo artist like\n",
      "Topic 5 | crypto philip service citizen investment\n",
      "Topic 6 | year million billion investment startup\n",
      "Topic 7 | user content news medium comment\n",
      "Topic 8 | india indian news live day\n",
      "Topic 9 | star reveals look daughter say\n",
      "Topic 10 | healthcare medical drug discovery medicine\n",
      "Topic 11 | algorithm network model using result\n",
      "Topic 12 | market report analysis global growth\n",
      "Topic 13 | dollar traded trade btc distribution\n",
      "Topic 14 | machine learning service amazon deep\n",
      "Topic 15 | researcher research university scientist study\n",
      "Topic 16 | platform solution service customer enterprise\n",
      "Topic 17 | window open child click county\n",
      "Topic 18 | car vehicle driver driving tesla\n",
      "Topic 19 | said bias risk use tool\n",
      "Topic 20 | news cloud ibm retail telecom\n",
      "Topic 21 | edge device camera smart sensor\n",
      "Topic 22 | industry computer robot vision supply\n",
      "Topic 23 | stock share nasdaq price trading\n",
      "Topic 24 | south global africa country europe\n",
      "Topic 25 | day home time year woman\n",
      "Topic 26 | cooky use website event access\n",
      "Topic 27 | game best apple open mobile\n",
      "Topic 28 | software market report global growth\n",
      "Topic 29 | like human people say make\n",
      "Topic 30 | said state say police people\n",
      "Topic 31 | chatgpt chatbot openai said tool\n",
      "Topic 32 | china financial legal law bank\n",
      "Topic 33 | customer business help experience marketing\n",
      "Topic 34 | google microsoft search openai bing\n",
      "Topic 35 | market europe european launch solution\n",
      "Topic 36 | patient health cancer care hospital\n",
      "Topic 37 | republic kingdom people die island\n",
      "Topic 38 | video voice music film song\n",
      "Topic 39 | chip nvidia computing hardware intel\n"
     ]
    }
   ],
   "source": [
    "print_n_topics(tm_40, 5)"
   ]
  },
  {
   "cell_type": "code",
   "execution_count": 106,
   "metadata": {},
   "outputs": [
    {
     "data": {
      "text/html": [
       "<div>\n",
       "<style scoped>\n",
       "    .dataframe tbody tr th:only-of-type {\n",
       "        vertical-align: middle;\n",
       "    }\n",
       "\n",
       "    .dataframe tbody tr th {\n",
       "        vertical-align: top;\n",
       "    }\n",
       "\n",
       "    .dataframe thead th {\n",
       "        text-align: right;\n",
       "    }\n",
       "</style>\n",
       "<table border=\"1\" class=\"dataframe\">\n",
       "  <thead>\n",
       "    <tr style=\"text-align: right;\">\n",
       "      <th></th>\n",
       "      <th>Keyword 1</th>\n",
       "      <th>Keyword 2</th>\n",
       "      <th>Keyword 3</th>\n",
       "      <th>Keyword 4</th>\n",
       "      <th>Keyword 5</th>\n",
       "      <th>Keyword 6</th>\n",
       "      <th>Keyword 7</th>\n",
       "      <th>Keyword 8</th>\n",
       "      <th>Keyword 9</th>\n",
       "      <th>Keyword 10</th>\n",
       "    </tr>\n",
       "  </thead>\n",
       "  <tbody>\n",
       "    <tr>\n",
       "      <th>Topic 1</th>\n",
       "      <td>security</td>\n",
       "      <td>military</td>\n",
       "      <td>cyber</td>\n",
       "      <td>cybersecurity</td>\n",
       "      <td>threat</td>\n",
       "      <td>defense</td>\n",
       "      <td>attack</td>\n",
       "      <td>satellite</td>\n",
       "      <td>force</td>\n",
       "      <td>air</td>\n",
       "    </tr>\n",
       "    <tr>\n",
       "      <th>Topic 2</th>\n",
       "      <td>model</td>\n",
       "      <td>language</td>\n",
       "      <td>use</td>\n",
       "      <td>process</td>\n",
       "      <td>training</td>\n",
       "      <td>tool</td>\n",
       "      <td>information</td>\n",
       "      <td>task</td>\n",
       "      <td>example</td>\n",
       "      <td>used</td>\n",
       "    </tr>\n",
       "    <tr>\n",
       "      <th>Topic 3</th>\n",
       "      <td>best</td>\n",
       "      <td>insurance</td>\n",
       "      <td>credit</td>\n",
       "      <td>card</td>\n",
       "      <td>forbes</td>\n",
       "      <td>paid</td>\n",
       "      <td>program</td>\n",
       "      <td>loan</td>\n",
       "      <td>real</td>\n",
       "      <td>travel</td>\n",
       "    </tr>\n",
       "    <tr>\n",
       "      <th>Topic 4</th>\n",
       "      <td>science</td>\n",
       "      <td>student</td>\n",
       "      <td>education</td>\n",
       "      <td>university</td>\n",
       "      <td>course</td>\n",
       "      <td>skill</td>\n",
       "      <td>school</td>\n",
       "      <td>research</td>\n",
       "      <td>program</td>\n",
       "      <td>starfilled</td>\n",
       "    </tr>\n",
       "    <tr>\n",
       "      <th>Topic 5</th>\n",
       "      <td>image</td>\n",
       "      <td>art</td>\n",
       "      <td>photo</td>\n",
       "      <td>artist</td>\n",
       "      <td>like</td>\n",
       "      <td>tool</td>\n",
       "      <td>create</td>\n",
       "      <td>work</td>\n",
       "      <td>people</td>\n",
       "      <td>said</td>\n",
       "    </tr>\n",
       "    <tr>\n",
       "      <th>Topic 6</th>\n",
       "      <td>crypto</td>\n",
       "      <td>philip</td>\n",
       "      <td>service</td>\n",
       "      <td>citizen</td>\n",
       "      <td>investment</td>\n",
       "      <td>care</td>\n",
       "      <td>product</td>\n",
       "      <td>cryptocurrency</td>\n",
       "      <td>contact</td>\n",
       "      <td>support</td>\n",
       "    </tr>\n",
       "    <tr>\n",
       "      <th>Topic 7</th>\n",
       "      <td>year</td>\n",
       "      <td>million</td>\n",
       "      <td>billion</td>\n",
       "      <td>investment</td>\n",
       "      <td>startup</td>\n",
       "      <td>tech</td>\n",
       "      <td>investor</td>\n",
       "      <td>market</td>\n",
       "      <td>said</td>\n",
       "      <td>venture</td>\n",
       "    </tr>\n",
       "    <tr>\n",
       "      <th>Topic 8</th>\n",
       "      <td>user</td>\n",
       "      <td>content</td>\n",
       "      <td>news</td>\n",
       "      <td>medium</td>\n",
       "      <td>comment</td>\n",
       "      <td>email</td>\n",
       "      <td>social</td>\n",
       "      <td>facebook</td>\n",
       "      <td>musk</td>\n",
       "      <td>twitter</td>\n",
       "    </tr>\n",
       "    <tr>\n",
       "      <th>Topic 9</th>\n",
       "      <td>india</td>\n",
       "      <td>indian</td>\n",
       "      <td>news</td>\n",
       "      <td>live</td>\n",
       "      <td>day</td>\n",
       "      <td>watch</td>\n",
       "      <td>video</td>\n",
       "      <td>said</td>\n",
       "      <td>world</td>\n",
       "      <td>minister</td>\n",
       "    </tr>\n",
       "    <tr>\n",
       "      <th>Topic 10</th>\n",
       "      <td>star</td>\n",
       "      <td>reveals</td>\n",
       "      <td>look</td>\n",
       "      <td>daughter</td>\n",
       "      <td>say</td>\n",
       "      <td>share</td>\n",
       "      <td>baby</td>\n",
       "      <td>black</td>\n",
       "      <td>husband</td>\n",
       "      <td>wife</td>\n",
       "    </tr>\n",
       "    <tr>\n",
       "      <th>Topic 11</th>\n",
       "      <td>healthcare</td>\n",
       "      <td>medical</td>\n",
       "      <td>drug</td>\n",
       "      <td>discovery</td>\n",
       "      <td>medicine</td>\n",
       "      <td>imaging</td>\n",
       "      <td>research</td>\n",
       "      <td>health</td>\n",
       "      <td>development</td>\n",
       "      <td>pharmaceutical</td>\n",
       "    </tr>\n",
       "    <tr>\n",
       "      <th>Topic 12</th>\n",
       "      <td>algorithm</td>\n",
       "      <td>network</td>\n",
       "      <td>model</td>\n",
       "      <td>using</td>\n",
       "      <td>result</td>\n",
       "      <td>neural</td>\n",
       "      <td>used</td>\n",
       "      <td>prediction</td>\n",
       "      <td>method</td>\n",
       "      <td>based</td>\n",
       "    </tr>\n",
       "    <tr>\n",
       "      <th>Topic 13</th>\n",
       "      <td>market</td>\n",
       "      <td>report</td>\n",
       "      <td>analysis</td>\n",
       "      <td>global</td>\n",
       "      <td>growth</td>\n",
       "      <td>forecast</td>\n",
       "      <td>industry</td>\n",
       "      <td>research</td>\n",
       "      <td>key</td>\n",
       "      <td>trend</td>\n",
       "    </tr>\n",
       "    <tr>\n",
       "      <th>Topic 14</th>\n",
       "      <td>dollar</td>\n",
       "      <td>traded</td>\n",
       "      <td>trade</td>\n",
       "      <td>btc</td>\n",
       "      <td>distribution</td>\n",
       "      <td>fund</td>\n",
       "      <td>exchange</td>\n",
       "      <td>matrix</td>\n",
       "      <td>return</td>\n",
       "      <td>fiscal</td>\n",
       "    </tr>\n",
       "    <tr>\n",
       "      <th>Topic 15</th>\n",
       "      <td>machine</td>\n",
       "      <td>learning</td>\n",
       "      <td>service</td>\n",
       "      <td>amazon</td>\n",
       "      <td>deep</td>\n",
       "      <td>big</td>\n",
       "      <td>analytics</td>\n",
       "      <td>marketplace</td>\n",
       "      <td>mlaas</td>\n",
       "      <td>aws</td>\n",
       "    </tr>\n",
       "    <tr>\n",
       "      <th>Topic 16</th>\n",
       "      <td>researcher</td>\n",
       "      <td>research</td>\n",
       "      <td>university</td>\n",
       "      <td>scientist</td>\n",
       "      <td>study</td>\n",
       "      <td>science</td>\n",
       "      <td>human</td>\n",
       "      <td>team</td>\n",
       "      <td>protein</td>\n",
       "      <td>said</td>\n",
       "    </tr>\n",
       "    <tr>\n",
       "      <th>Topic 17</th>\n",
       "      <td>platform</td>\n",
       "      <td>solution</td>\n",
       "      <td>service</td>\n",
       "      <td>customer</td>\n",
       "      <td>enterprise</td>\n",
       "      <td>business</td>\n",
       "      <td>cloud</td>\n",
       "      <td>said</td>\n",
       "      <td>today</td>\n",
       "      <td>capability</td>\n",
       "    </tr>\n",
       "    <tr>\n",
       "      <th>Topic 18</th>\n",
       "      <td>window</td>\n",
       "      <td>open</td>\n",
       "      <td>child</td>\n",
       "      <td>click</td>\n",
       "      <td>county</td>\n",
       "      <td>weather</td>\n",
       "      <td>news</td>\n",
       "      <td>share</td>\n",
       "      <td>updated</td>\n",
       "      <td>hour</td>\n",
       "    </tr>\n",
       "    <tr>\n",
       "      <th>Topic 19</th>\n",
       "      <td>car</td>\n",
       "      <td>vehicle</td>\n",
       "      <td>driver</td>\n",
       "      <td>driving</td>\n",
       "      <td>tesla</td>\n",
       "      <td>electric</td>\n",
       "      <td>autonomous</td>\n",
       "      <td>traffic</td>\n",
       "      <td>transportation</td>\n",
       "      <td>road</td>\n",
       "    </tr>\n",
       "    <tr>\n",
       "      <th>Topic 20</th>\n",
       "      <td>said</td>\n",
       "      <td>bias</td>\n",
       "      <td>risk</td>\n",
       "      <td>use</td>\n",
       "      <td>tool</td>\n",
       "      <td>ethical</td>\n",
       "      <td>people</td>\n",
       "      <td>government</td>\n",
       "      <td>right</td>\n",
       "      <td>regulation</td>\n",
       "    </tr>\n",
       "    <tr>\n",
       "      <th>Topic 21</th>\n",
       "      <td>news</td>\n",
       "      <td>cloud</td>\n",
       "      <td>ibm</td>\n",
       "      <td>retail</td>\n",
       "      <td>telecom</td>\n",
       "      <td>digital</td>\n",
       "      <td>baidu</td>\n",
       "      <td>fashion</td>\n",
       "      <td>quantum</td>\n",
       "      <td>bfsi</td>\n",
       "    </tr>\n",
       "    <tr>\n",
       "      <th>Topic 22</th>\n",
       "      <td>edge</td>\n",
       "      <td>device</td>\n",
       "      <td>camera</td>\n",
       "      <td>smart</td>\n",
       "      <td>sensor</td>\n",
       "      <td>iot</td>\n",
       "      <td>video</td>\n",
       "      <td>vision</td>\n",
       "      <td>application</td>\n",
       "      <td>recognition</td>\n",
       "    </tr>\n",
       "    <tr>\n",
       "      <th>Topic 23</th>\n",
       "      <td>industry</td>\n",
       "      <td>computer</td>\n",
       "      <td>robot</td>\n",
       "      <td>vision</td>\n",
       "      <td>supply</td>\n",
       "      <td>manufacturing</td>\n",
       "      <td>chain</td>\n",
       "      <td>robotics</td>\n",
       "      <td>automation</td>\n",
       "      <td>solution</td>\n",
       "    </tr>\n",
       "    <tr>\n",
       "      <th>Topic 24</th>\n",
       "      <td>stock</td>\n",
       "      <td>share</td>\n",
       "      <td>nasdaq</td>\n",
       "      <td>price</td>\n",
       "      <td>trading</td>\n",
       "      <td>quarter</td>\n",
       "      <td>etf</td>\n",
       "      <td>nyse</td>\n",
       "      <td>analyst</td>\n",
       "      <td>investment</td>\n",
       "    </tr>\n",
       "    <tr>\n",
       "      <th>Topic 25</th>\n",
       "      <td>south</td>\n",
       "      <td>global</td>\n",
       "      <td>africa</td>\n",
       "      <td>country</td>\n",
       "      <td>europe</td>\n",
       "      <td>china</td>\n",
       "      <td>agriculture</td>\n",
       "      <td>america</td>\n",
       "      <td>asia</td>\n",
       "      <td>east</td>\n",
       "    </tr>\n",
       "    <tr>\n",
       "      <th>Topic 26</th>\n",
       "      <td>day</td>\n",
       "      <td>home</td>\n",
       "      <td>time</td>\n",
       "      <td>year</td>\n",
       "      <td>woman</td>\n",
       "      <td>said</td>\n",
       "      <td>city</td>\n",
       "      <td>game</td>\n",
       "      <td>sport</td>\n",
       "      <td>man</td>\n",
       "    </tr>\n",
       "    <tr>\n",
       "      <th>Topic 27</th>\n",
       "      <td>cooky</td>\n",
       "      <td>use</td>\n",
       "      <td>website</td>\n",
       "      <td>event</td>\n",
       "      <td>access</td>\n",
       "      <td>news</td>\n",
       "      <td>information</td>\n",
       "      <td>digital</td>\n",
       "      <td>policy</td>\n",
       "      <td>future</td>\n",
       "    </tr>\n",
       "    <tr>\n",
       "      <th>Topic 28</th>\n",
       "      <td>game</td>\n",
       "      <td>best</td>\n",
       "      <td>apple</td>\n",
       "      <td>open</td>\n",
       "      <td>mobile</td>\n",
       "      <td>feature</td>\n",
       "      <td>app</td>\n",
       "      <td>pro</td>\n",
       "      <td>review</td>\n",
       "      <td>tab</td>\n",
       "    </tr>\n",
       "    <tr>\n",
       "      <th>Topic 29</th>\n",
       "      <td>software</td>\n",
       "      <td>market</td>\n",
       "      <td>report</td>\n",
       "      <td>global</td>\n",
       "      <td>growth</td>\n",
       "      <td>analysis</td>\n",
       "      <td>development</td>\n",
       "      <td>player</td>\n",
       "      <td>research</td>\n",
       "      <td>business</td>\n",
       "    </tr>\n",
       "    <tr>\n",
       "      <th>Topic 30</th>\n",
       "      <td>like</td>\n",
       "      <td>human</td>\n",
       "      <td>people</td>\n",
       "      <td>say</td>\n",
       "      <td>make</td>\n",
       "      <td>thing</td>\n",
       "      <td>way</td>\n",
       "      <td>time</td>\n",
       "      <td>work</td>\n",
       "      <td>think</td>\n",
       "    </tr>\n",
       "    <tr>\n",
       "      <th>Topic 31</th>\n",
       "      <td>said</td>\n",
       "      <td>state</td>\n",
       "      <td>say</td>\n",
       "      <td>police</td>\n",
       "      <td>people</td>\n",
       "      <td>president</td>\n",
       "      <td>law</td>\n",
       "      <td>country</td>\n",
       "      <td>government</td>\n",
       "      <td>biden</td>\n",
       "    </tr>\n",
       "    <tr>\n",
       "      <th>Topic 32</th>\n",
       "      <td>chatgpt</td>\n",
       "      <td>chatbot</td>\n",
       "      <td>openai</td>\n",
       "      <td>said</td>\n",
       "      <td>tool</td>\n",
       "      <td>text</td>\n",
       "      <td>writing</td>\n",
       "      <td>question</td>\n",
       "      <td>bot</td>\n",
       "      <td>write</td>\n",
       "    </tr>\n",
       "    <tr>\n",
       "      <th>Topic 33</th>\n",
       "      <td>china</td>\n",
       "      <td>financial</td>\n",
       "      <td>legal</td>\n",
       "      <td>law</td>\n",
       "      <td>bank</td>\n",
       "      <td>chinese</td>\n",
       "      <td>patent</td>\n",
       "      <td>service</td>\n",
       "      <td>risk</td>\n",
       "      <td>banking</td>\n",
       "    </tr>\n",
       "    <tr>\n",
       "      <th>Topic 34</th>\n",
       "      <td>customer</td>\n",
       "      <td>business</td>\n",
       "      <td>help</td>\n",
       "      <td>experience</td>\n",
       "      <td>marketing</td>\n",
       "      <td>product</td>\n",
       "      <td>service</td>\n",
       "      <td>content</td>\n",
       "      <td>conversational</td>\n",
       "      <td>digital</td>\n",
       "    </tr>\n",
       "    <tr>\n",
       "      <th>Topic 35</th>\n",
       "      <td>google</td>\n",
       "      <td>microsoft</td>\n",
       "      <td>search</td>\n",
       "      <td>openai</td>\n",
       "      <td>bing</td>\n",
       "      <td>said</td>\n",
       "      <td>bard</td>\n",
       "      <td>chatgpt</td>\n",
       "      <td>model</td>\n",
       "      <td>engine</td>\n",
       "    </tr>\n",
       "    <tr>\n",
       "      <th>Topic 36</th>\n",
       "      <td>market</td>\n",
       "      <td>europe</td>\n",
       "      <td>european</td>\n",
       "      <td>launch</td>\n",
       "      <td>solution</td>\n",
       "      <td>chipsets</td>\n",
       "      <td>study</td>\n",
       "      <td>service</td>\n",
       "      <td>travel</td>\n",
       "      <td>world</td>\n",
       "    </tr>\n",
       "    <tr>\n",
       "      <th>Topic 37</th>\n",
       "      <td>patient</td>\n",
       "      <td>health</td>\n",
       "      <td>cancer</td>\n",
       "      <td>care</td>\n",
       "      <td>hospital</td>\n",
       "      <td>medical</td>\n",
       "      <td>disease</td>\n",
       "      <td>clinical</td>\n",
       "      <td>study</td>\n",
       "      <td>treatment</td>\n",
       "    </tr>\n",
       "    <tr>\n",
       "      <th>Topic 38</th>\n",
       "      <td>republic</td>\n",
       "      <td>kingdom</td>\n",
       "      <td>people</td>\n",
       "      <td>die</td>\n",
       "      <td>island</td>\n",
       "      <td>state</td>\n",
       "      <td>und</td>\n",
       "      <td>democratic</td>\n",
       "      <td>sie</td>\n",
       "      <td>territory</td>\n",
       "    </tr>\n",
       "    <tr>\n",
       "      <th>Topic 39</th>\n",
       "      <td>video</td>\n",
       "      <td>voice</td>\n",
       "      <td>music</td>\n",
       "      <td>film</td>\n",
       "      <td>song</td>\n",
       "      <td>speech</td>\n",
       "      <td>audio</td>\n",
       "      <td>live</td>\n",
       "      <td>sound</td>\n",
       "      <td>movie</td>\n",
       "    </tr>\n",
       "    <tr>\n",
       "      <th>Topic 40</th>\n",
       "      <td>chip</td>\n",
       "      <td>nvidia</td>\n",
       "      <td>computing</td>\n",
       "      <td>hardware</td>\n",
       "      <td>intel</td>\n",
       "      <td>performance</td>\n",
       "      <td>processor</td>\n",
       "      <td>server</td>\n",
       "      <td>power</td>\n",
       "      <td>gpu</td>\n",
       "    </tr>\n",
       "  </tbody>\n",
       "</table>\n",
       "</div>"
      ],
      "text/plain": [
       "           Keyword 1  Keyword 2   Keyword 3      Keyword 4     Keyword 5  \\\n",
       "Topic 1     security   military       cyber  cybersecurity        threat   \n",
       "Topic 2        model   language         use        process      training   \n",
       "Topic 3         best  insurance      credit           card        forbes   \n",
       "Topic 4      science    student   education     university        course   \n",
       "Topic 5        image        art       photo         artist          like   \n",
       "Topic 6       crypto     philip     service        citizen    investment   \n",
       "Topic 7         year    million     billion     investment       startup   \n",
       "Topic 8         user    content        news         medium       comment   \n",
       "Topic 9        india     indian        news           live           day   \n",
       "Topic 10        star    reveals        look       daughter           say   \n",
       "Topic 11  healthcare    medical        drug      discovery      medicine   \n",
       "Topic 12   algorithm    network       model          using        result   \n",
       "Topic 13      market     report    analysis         global        growth   \n",
       "Topic 14      dollar     traded       trade            btc  distribution   \n",
       "Topic 15     machine   learning     service         amazon          deep   \n",
       "Topic 16  researcher   research  university      scientist         study   \n",
       "Topic 17    platform   solution     service       customer    enterprise   \n",
       "Topic 18      window       open       child          click        county   \n",
       "Topic 19         car    vehicle      driver        driving         tesla   \n",
       "Topic 20        said       bias        risk            use          tool   \n",
       "Topic 21        news      cloud         ibm         retail       telecom   \n",
       "Topic 22        edge     device      camera          smart        sensor   \n",
       "Topic 23    industry   computer       robot         vision        supply   \n",
       "Topic 24       stock      share      nasdaq          price       trading   \n",
       "Topic 25       south     global      africa        country        europe   \n",
       "Topic 26         day       home        time           year         woman   \n",
       "Topic 27       cooky        use     website          event        access   \n",
       "Topic 28        game       best       apple           open        mobile   \n",
       "Topic 29    software     market      report         global        growth   \n",
       "Topic 30        like      human      people            say          make   \n",
       "Topic 31        said      state         say         police        people   \n",
       "Topic 32     chatgpt    chatbot      openai           said          tool   \n",
       "Topic 33       china  financial       legal            law          bank   \n",
       "Topic 34    customer   business        help     experience     marketing   \n",
       "Topic 35      google  microsoft      search         openai          bing   \n",
       "Topic 36      market     europe    european         launch      solution   \n",
       "Topic 37     patient     health      cancer           care      hospital   \n",
       "Topic 38    republic    kingdom      people            die        island   \n",
       "Topic 39       video      voice       music           film          song   \n",
       "Topic 40        chip     nvidia   computing       hardware         intel   \n",
       "\n",
       "              Keyword 6    Keyword 7       Keyword 8       Keyword 9  \\\n",
       "Topic 1         defense       attack       satellite           force   \n",
       "Topic 2            tool  information            task         example   \n",
       "Topic 3            paid      program            loan            real   \n",
       "Topic 4           skill       school        research         program   \n",
       "Topic 5            tool       create            work          people   \n",
       "Topic 6            care      product  cryptocurrency         contact   \n",
       "Topic 7            tech     investor          market            said   \n",
       "Topic 8           email       social        facebook            musk   \n",
       "Topic 9           watch        video            said           world   \n",
       "Topic 10          share         baby           black         husband   \n",
       "Topic 11        imaging     research          health     development   \n",
       "Topic 12         neural         used      prediction          method   \n",
       "Topic 13       forecast     industry        research             key   \n",
       "Topic 14           fund     exchange          matrix          return   \n",
       "Topic 15            big    analytics     marketplace           mlaas   \n",
       "Topic 16        science        human            team         protein   \n",
       "Topic 17       business        cloud            said           today   \n",
       "Topic 18        weather         news           share         updated   \n",
       "Topic 19       electric   autonomous         traffic  transportation   \n",
       "Topic 20        ethical       people      government           right   \n",
       "Topic 21        digital        baidu         fashion         quantum   \n",
       "Topic 22            iot        video          vision     application   \n",
       "Topic 23  manufacturing        chain        robotics      automation   \n",
       "Topic 24        quarter          etf            nyse         analyst   \n",
       "Topic 25          china  agriculture         america            asia   \n",
       "Topic 26           said         city            game           sport   \n",
       "Topic 27           news  information         digital          policy   \n",
       "Topic 28        feature          app             pro          review   \n",
       "Topic 29       analysis  development          player        research   \n",
       "Topic 30          thing          way            time            work   \n",
       "Topic 31      president          law         country      government   \n",
       "Topic 32           text      writing        question             bot   \n",
       "Topic 33        chinese       patent         service            risk   \n",
       "Topic 34        product      service         content  conversational   \n",
       "Topic 35           said         bard         chatgpt           model   \n",
       "Topic 36       chipsets        study         service          travel   \n",
       "Topic 37        medical      disease        clinical           study   \n",
       "Topic 38          state          und      democratic             sie   \n",
       "Topic 39         speech        audio            live           sound   \n",
       "Topic 40    performance    processor          server           power   \n",
       "\n",
       "              Keyword 10  \n",
       "Topic 1              air  \n",
       "Topic 2             used  \n",
       "Topic 3           travel  \n",
       "Topic 4       starfilled  \n",
       "Topic 5             said  \n",
       "Topic 6          support  \n",
       "Topic 7          venture  \n",
       "Topic 8          twitter  \n",
       "Topic 9         minister  \n",
       "Topic 10            wife  \n",
       "Topic 11  pharmaceutical  \n",
       "Topic 12           based  \n",
       "Topic 13           trend  \n",
       "Topic 14          fiscal  \n",
       "Topic 15             aws  \n",
       "Topic 16            said  \n",
       "Topic 17      capability  \n",
       "Topic 18            hour  \n",
       "Topic 19            road  \n",
       "Topic 20      regulation  \n",
       "Topic 21            bfsi  \n",
       "Topic 22     recognition  \n",
       "Topic 23        solution  \n",
       "Topic 24      investment  \n",
       "Topic 25            east  \n",
       "Topic 26             man  \n",
       "Topic 27          future  \n",
       "Topic 28             tab  \n",
       "Topic 29        business  \n",
       "Topic 30           think  \n",
       "Topic 31           biden  \n",
       "Topic 32           write  \n",
       "Topic 33         banking  \n",
       "Topic 34         digital  \n",
       "Topic 35          engine  \n",
       "Topic 36           world  \n",
       "Topic 37       treatment  \n",
       "Topic 38       territory  \n",
       "Topic 39           movie  \n",
       "Topic 40             gpu  "
      ]
     },
     "execution_count": 106,
     "metadata": {},
     "output_type": "execute_result"
    }
   ],
   "source": [
    "topics_to_df(tm_40, 10)"
   ]
  },
  {
   "cell_type": "code",
   "execution_count": 141,
   "metadata": {},
   "outputs": [
    {
     "data": {
      "text/html": [
       "<div>\n",
       "<style scoped>\n",
       "    .dataframe tbody tr th:only-of-type {\n",
       "        vertical-align: middle;\n",
       "    }\n",
       "\n",
       "    .dataframe tbody tr th {\n",
       "        vertical-align: top;\n",
       "    }\n",
       "\n",
       "    .dataframe thead th {\n",
       "        text-align: right;\n",
       "    }\n",
       "</style>\n",
       "<table border=\"1\" class=\"dataframe\">\n",
       "  <thead>\n",
       "    <tr style=\"text-align: right;\">\n",
       "      <th></th>\n",
       "      <th>Keyword 1</th>\n",
       "      <th>Keyword 2</th>\n",
       "      <th>Keyword 3</th>\n",
       "      <th>Keyword 4</th>\n",
       "      <th>Keyword 5</th>\n",
       "    </tr>\n",
       "  </thead>\n",
       "  <tbody>\n",
       "    <tr>\n",
       "      <th>Topic 3</th>\n",
       "      <td>best</td>\n",
       "      <td>insurance</td>\n",
       "      <td>credit</td>\n",
       "      <td>card</td>\n",
       "      <td>forbes</td>\n",
       "    </tr>\n",
       "    <tr>\n",
       "      <th>Topic 37</th>\n",
       "      <td>patient</td>\n",
       "      <td>health</td>\n",
       "      <td>cancer</td>\n",
       "      <td>care</td>\n",
       "      <td>hospital</td>\n",
       "    </tr>\n",
       "    <tr>\n",
       "      <th>Topic 4</th>\n",
       "      <td>science</td>\n",
       "      <td>student</td>\n",
       "      <td>education</td>\n",
       "      <td>university</td>\n",
       "      <td>course</td>\n",
       "    </tr>\n",
       "    <tr>\n",
       "      <th>Topic 5</th>\n",
       "      <td>image</td>\n",
       "      <td>art</td>\n",
       "      <td>photo</td>\n",
       "      <td>artist</td>\n",
       "      <td>like</td>\n",
       "    </tr>\n",
       "    <tr>\n",
       "      <th>Topic 40</th>\n",
       "      <td>chip</td>\n",
       "      <td>nvidia</td>\n",
       "      <td>computing</td>\n",
       "      <td>hardware</td>\n",
       "      <td>intel</td>\n",
       "    </tr>\n",
       "  </tbody>\n",
       "</table>\n",
       "</div>"
      ],
      "text/plain": [
       "         Keyword 1  Keyword 2  Keyword 3   Keyword 4 Keyword 5\n",
       "Topic 3       best  insurance     credit        card    forbes\n",
       "Topic 37   patient     health     cancer        care  hospital\n",
       "Topic 4    science    student  education  university    course\n",
       "Topic 5      image        art      photo      artist      like\n",
       "Topic 40      chip     nvidia  computing    hardware     intel"
      ]
     },
     "execution_count": 141,
     "metadata": {},
     "output_type": "execute_result"
    }
   ],
   "source": [
    "topics_to_df(tm_40, 5).iloc[[2, 36, 3, 4, 39]]"
   ]
  },
  {
   "cell_type": "code",
   "execution_count": 145,
   "metadata": {},
   "outputs": [
    {
     "data": {
      "text/html": [
       "<div>\n",
       "<style scoped>\n",
       "    .dataframe tbody tr th:only-of-type {\n",
       "        vertical-align: middle;\n",
       "    }\n",
       "\n",
       "    .dataframe tbody tr th {\n",
       "        vertical-align: top;\n",
       "    }\n",
       "\n",
       "    .dataframe thead th {\n",
       "        text-align: right;\n",
       "    }\n",
       "</style>\n",
       "<table border=\"1\" class=\"dataframe\">\n",
       "  <thead>\n",
       "    <tr style=\"text-align: right;\">\n",
       "      <th></th>\n",
       "      <th>Keyword 1</th>\n",
       "      <th>Keyword 2</th>\n",
       "      <th>Keyword 3</th>\n",
       "      <th>Keyword 4</th>\n",
       "      <th>Keyword 5</th>\n",
       "      <th>Keyword 6</th>\n",
       "      <th>Keyword 7</th>\n",
       "      <th>Keyword 8</th>\n",
       "      <th>Keyword 9</th>\n",
       "      <th>Keyword 10</th>\n",
       "    </tr>\n",
       "  </thead>\n",
       "  <tbody>\n",
       "    <tr>\n",
       "      <th>Topic 1</th>\n",
       "      <td>security</td>\n",
       "      <td>military</td>\n",
       "      <td>cyber</td>\n",
       "      <td>cybersecurity</td>\n",
       "      <td>threat</td>\n",
       "      <td>defense</td>\n",
       "      <td>attack</td>\n",
       "      <td>satellite</td>\n",
       "      <td>force</td>\n",
       "      <td>air</td>\n",
       "    </tr>\n",
       "    <tr>\n",
       "      <th>Topic 20</th>\n",
       "      <td>said</td>\n",
       "      <td>bias</td>\n",
       "      <td>risk</td>\n",
       "      <td>use</td>\n",
       "      <td>tool</td>\n",
       "      <td>ethical</td>\n",
       "      <td>people</td>\n",
       "      <td>government</td>\n",
       "      <td>right</td>\n",
       "      <td>regulation</td>\n",
       "    </tr>\n",
       "  </tbody>\n",
       "</table>\n",
       "</div>"
      ],
      "text/plain": [
       "         Keyword 1 Keyword 2 Keyword 3      Keyword 4 Keyword 5 Keyword 6  \\\n",
       "Topic 1   security  military     cyber  cybersecurity    threat   defense   \n",
       "Topic 20      said      bias      risk            use      tool   ethical   \n",
       "\n",
       "         Keyword 7   Keyword 8 Keyword 9  Keyword 10  \n",
       "Topic 1     attack   satellite     force         air  \n",
       "Topic 20    people  government     right  regulation  "
      ]
     },
     "execution_count": 145,
     "metadata": {},
     "output_type": "execute_result"
    }
   ],
   "source": [
    "concernd_visualize = topics_to_df(tm_40, 10).iloc[[0, 19]]\n",
    "concernd_visualize"
   ]
  },
  {
   "cell_type": "code",
   "execution_count": 146,
   "metadata": {},
   "outputs": [
    {
     "data": {
      "text/html": [
       "<div>\n",
       "<style scoped>\n",
       "    .dataframe tbody tr th:only-of-type {\n",
       "        vertical-align: middle;\n",
       "    }\n",
       "\n",
       "    .dataframe tbody tr th {\n",
       "        vertical-align: top;\n",
       "    }\n",
       "\n",
       "    .dataframe thead th {\n",
       "        text-align: right;\n",
       "    }\n",
       "</style>\n",
       "<table border=\"1\" class=\"dataframe\">\n",
       "  <thead>\n",
       "    <tr style=\"text-align: right;\">\n",
       "      <th></th>\n",
       "      <th>Keyword 1</th>\n",
       "      <th>Keyword 2</th>\n",
       "      <th>Keyword 3</th>\n",
       "      <th>Keyword 4</th>\n",
       "      <th>Keyword 5</th>\n",
       "    </tr>\n",
       "  </thead>\n",
       "  <tbody>\n",
       "    <tr>\n",
       "      <th>Topic 1</th>\n",
       "      <td>security</td>\n",
       "      <td>military</td>\n",
       "      <td>cyber</td>\n",
       "      <td>cybersecurity</td>\n",
       "      <td>threat</td>\n",
       "    </tr>\n",
       "    <tr>\n",
       "      <th>Topic 20</th>\n",
       "      <td>right</td>\n",
       "      <td>bias</td>\n",
       "      <td>risk</td>\n",
       "      <td>regulation</td>\n",
       "      <td>ethical</td>\n",
       "    </tr>\n",
       "  </tbody>\n",
       "</table>\n",
       "</div>"
      ],
      "text/plain": [
       "         Keyword 1 Keyword 2 Keyword 3      Keyword 4 Keyword 5\n",
       "Topic 1   security  military     cyber  cybersecurity    threat\n",
       "Topic 20     right      bias      risk     regulation   ethical"
      ]
     },
     "execution_count": 146,
     "metadata": {},
     "output_type": "execute_result"
    }
   ],
   "source": [
    "concernd_visualize.loc['Topic 20', 'Keyword 1'] = concernd_visualize.loc['Topic 20', 'Keyword 9']\n",
    "concernd_visualize.loc['Topic 20', 'Keyword 4'] = concernd_visualize.loc['Topic 20', 'Keyword 10']\n",
    "concernd_visualize.loc['Topic 20', 'Keyword 5'] = concernd_visualize.loc['Topic 20', 'Keyword 6']\n",
    "concernd_visualize.iloc[:, :5]"
   ]
  },
  {
   "cell_type": "code",
   "execution_count": 107,
   "metadata": {},
   "outputs": [],
   "source": [
    "topic_probabilities = tm_40.predict(texts)\n",
    "topic_ids = np.argmax(topic_probabilities, axis=1)\n",
    "df_filtered['ktrain_40_topic_id'] = topic_ids"
   ]
  },
  {
   "cell_type": "code",
   "execution_count": 108,
   "metadata": {},
   "outputs": [
    {
     "data": {
      "text/plain": [
       "(2155, 12)"
      ]
     },
     "execution_count": 108,
     "metadata": {},
     "output_type": "execute_result"
    }
   ],
   "source": [
    "# cyber security\n",
    "df_filtered[df_filtered.ktrain_40_topic_id == 0].shape"
   ]
  },
  {
   "cell_type": "code",
   "execution_count": 119,
   "metadata": {},
   "outputs": [
    {
     "data": {
      "text/plain": [
       "(5173, 12)"
      ]
     },
     "execution_count": 119,
     "metadata": {},
     "output_type": "execute_result"
    }
   ],
   "source": [
    "# concerns\n",
    "df_filtered[df_filtered.ktrain_40_topic_id == 19].shape"
   ]
  },
  {
   "cell_type": "code",
   "execution_count": 126,
   "metadata": {},
   "outputs": [
    {
     "data": {
      "text/plain": [
       "(3613, 12)"
      ]
     },
     "execution_count": 126,
     "metadata": {},
     "output_type": "execute_result"
    }
   ],
   "source": [
    "# finance + crypto + trade\n",
    "df_filtered[(df_filtered.ktrain_40_topic_id == 2) | (df_filtered.ktrain_40_topic_id == 5) | (df_filtered.ktrain_40_topic_id == 13)].shape"
   ]
  },
  {
   "cell_type": "code",
   "execution_count": 121,
   "metadata": {},
   "outputs": [
    {
     "data": {
      "text/plain": [
       "(2733, 12)"
      ]
     },
     "execution_count": 121,
     "metadata": {},
     "output_type": "execute_result"
    }
   ],
   "source": [
    "# education\n",
    "df_filtered[df_filtered.ktrain_40_topic_id == 3].shape"
   ]
  },
  {
   "cell_type": "code",
   "execution_count": 137,
   "metadata": {},
   "outputs": [
    {
     "data": {
      "text/plain": [
       "(3345, 12)"
      ]
     },
     "execution_count": 137,
     "metadata": {},
     "output_type": "execute_result"
    }
   ],
   "source": [
    "# studio_art\n",
    "df_filtered[df_filtered.ktrain_40_topic_id == 4].shape"
   ]
  },
  {
   "cell_type": "code",
   "execution_count": 128,
   "metadata": {},
   "outputs": [
    {
     "data": {
      "text/plain": [
       "(7049, 12)"
      ]
     },
     "execution_count": 128,
     "metadata": {},
     "output_type": "execute_result"
    }
   ],
   "source": [
    "# healthcare\n",
    "df_filtered[(df_filtered.ktrain_40_topic_id == 10) | (df_filtered.ktrain_40_topic_id == 36)].shape"
   ]
  },
  {
   "cell_type": "code",
   "execution_count": 122,
   "metadata": {},
   "outputs": [
    {
     "data": {
      "text/plain": [
       "(1199, 12)"
      ]
     },
     "execution_count": 122,
     "metadata": {},
     "output_type": "execute_result"
    }
   ],
   "source": [
    "# automotive\n",
    "df_filtered[df_filtered.ktrain_40_topic_id == 18].shape"
   ]
  },
  {
   "cell_type": "code",
   "execution_count": 123,
   "metadata": {},
   "outputs": [
    {
     "data": {
      "text/plain": [
       "(2489, 12)"
      ]
     },
     "execution_count": 123,
     "metadata": {},
     "output_type": "execute_result"
    }
   ],
   "source": [
    "# related hardware\n",
    "df_filtered[df_filtered.ktrain_40_topic_id == 39].shape"
   ]
  },
  {
   "cell_type": "code",
   "execution_count": 129,
   "metadata": {},
   "outputs": [
    {
     "data": {
      "text/plain": [
       "(6806, 12)"
      ]
     },
     "execution_count": 129,
     "metadata": {},
     "output_type": "execute_result"
    }
   ],
   "source": [
    "# application\n",
    "df_filtered[(df_filtered.ktrain_40_topic_id == 21) | (df_filtered.ktrain_40_topic_id == 31)].shape"
   ]
  },
  {
   "attachments": {},
   "cell_type": "markdown",
   "metadata": {},
   "source": [
    "#### 150 topics"
   ]
  },
  {
   "cell_type": "code",
   "execution_count": 31,
   "metadata": {},
   "outputs": [
    {
     "name": "stdout",
     "output_type": "stream",
     "text": [
      "lang: en\n",
      "preprocessing texts...\n",
      "fitting model...\n",
      "iteration: 1 of max_iter: 5\n",
      "iteration: 2 of max_iter: 5\n",
      "iteration: 3 of max_iter: 5\n",
      "iteration: 4 of max_iter: 5\n",
      "iteration: 5 of max_iter: 5\n",
      "done.\n"
     ]
    }
   ],
   "source": [
    "tm_150 = ktrain.text.get_topic_model(\n",
    "    texts=texts, \n",
    "    n_topics=150, \n",
    "    n_features=10000, \n",
    "    min_df=5, \n",
    "    max_df=0.5, \n",
    "    stop_words='english', \n",
    "    model_type='lda', \n",
    "    lda_max_iter=5, \n",
    "    verbose=1)"
   ]
  },
  {
   "cell_type": "code",
   "execution_count": 32,
   "metadata": {},
   "outputs": [
    {
     "name": "stdout",
     "output_type": "stream",
     "text": [
      "topic 0 | oil gas price market say stock min inflation rate bank\n",
      "topic 1 | patient health healthcare medical care hospital clinical imaging disease treatment\n",
      "topic 2 | google said tech year giant alphabet according week pichai ceo\n",
      "topic 3 | center contact agent var customer node research request communication field\n",
      "topic 4 | research project engineering community team said work join access building\n",
      "topic 5 | updated hour minute prnewsfoto skip news today announced logo weather\n",
      "topic 6 | cancer breast lunit study screening tissue patient lung clinical image\n",
      "topic 7 | light eye noise radio station motion zoom mode cool room\n",
      "topic 8 | camera sensor design module application power product embedded control kit\n",
      "topic 9 | scott daniel club allen hill suicide thomas colorado delta brown\n",
      "topic 10 | city traffic transportation road urban location transport map forest download\n",
      "topic 11 | canada canadian toronto ontario assange donor say montreal urine bell\n",
      "topic 12 | artificial market report analysis global industry research growth player forecast\n",
      "topic 13 | game player gaming play score yahoo expert sony nba team\n",
      "topic 14 | japan targeting formula dna tokyo mesh webinar frequency contextual edgecortix\n",
      "topic 15 | award heart wearable skin blood beauty ultrasound winner year organ\n",
      "topic 16 | dollar traded trade btc exchange matrix network bitcoin using higher\n",
      "topic 17 | year billion million investment revenue market growth business investor financial\n",
      "topic 18 | gold gpt hole silver drill meter vein zone result sample\n",
      "topic 19 | reveals look star dress daughter black share say husband kardashian\n",
      "topic 20 | question view answer author opinion book fact general source knowledge\n",
      "topic 21 | drug discovery medicine pharmaceutical development trial clinical disease therapeutic wordpress\n",
      "topic 22 | content try ein presswire news editor use false welcome client\n",
      "topic 23 | restaurant order super hearing bowl guest mitchell talk kitchen food\n",
      "topic 24 | use make tool need used way potential example help like\n",
      "topic 25 | student education school university teacher college learning skill professor class\n",
      "topic 26 | device edge smart iot internet thing hardware chipsets chipset home\n",
      "topic 27 | dog animal bag bird recipe pet travel food vega ingredient\n",
      "topic 28 | coronavirus pandemic covid virus outbreak lockdown case crisis infection disease\n",
      "topic 29 | alert today log sign feb photo mar tak commentary swiss\n",
      "topic 30 | service big amazon provider citizen consulting web business offer client\n",
      "topic 31 | said state police say man official jones county department florida\n",
      "topic 32 | share stock nasdaq price nyse llc quarter etf average trading\n",
      "topic 33 | james smith lee ben tom david adam michael robert ryan\n",
      "topic 34 | die und sie der ist von nicht auf stoxx den\n",
      "topic 35 | conversational energy electric power solar battery renewable grid vehicle green\n",
      "topic 36 | cloud robot robotics ibm automation robotic sap oracle hybrid vacuum\n",
      "topic 37 | privacy personal protection user information italian policy authority italy concern\n",
      "topic 38 | news article story latest daily read newsletter inbox policy content\n",
      "topic 39 | chief officer executive president vice virginia director senior texas head\n",
      "topic 40 | risk use ethical responsible ensure framework need issue ethic governance\n",
      "topic 41 | stadium west olympics winter animation summer opening game olympic bird\n",
      "topic 42 | distribution fund return fiscal capital income nav total current tax\n",
      "topic 43 | human artificial machine task world computer emotion robot future brain\n",
      "topic 44 | sport day team league win season football home cup fan\n",
      "topic 45 | agreement climate february carbon emission january change acquisition transaction merger\n",
      "topic 46 | learning machine deep processing infrastructure operationalization algorithm advanced amazon databricks\n",
      "topic 47 | temperature heat dental uber atlas bmw cooling oral liquid heating\n",
      "topic 48 | tool content user code developer use platform create help api\n",
      "topic 49 | manufacturing industrial equipment maintenance repair inspection operation production predictive mlaas\n",
      "topic 50 | apple pro iphone phone samsung galaxy google review android feature\n",
      "topic 51 | john paul michael peter martin tampa sydney robert upper han\n",
      "topic 52 | law legal court patent case copyright lawyer lawsuit firm right\n",
      "topic 53 | software market global development cleaning skill business usa segmentation industry\n",
      "topic 54 | exhibit optical diego van laser scanner museum night cable painting\n",
      "topic 55 | republic kingdom people state democratic territory arab island email united\n",
      "topic 56 | russia world ukraine russian minister say country war israel international\n",
      "topic 57 | blockchain metaverse paper black gebru research fired tech email list\n",
      "topic 58 | people day year body camera life photo time like memory\n",
      "topic 59 | open tab site best link earn affiliate receive commission future\n",
      "topic 60 | medical catheter device market surgical bard vascular stent urinary johnson\n",
      "topic 61 | chatgpt chatbot openai bot tool said question response chatbots text\n",
      "topic 62 | word post conversation human researcher lamda people text like language\n",
      "topic 63 | computer vision healthcare product visual deep application network dilation teledyne\n",
      "topic 64 | say bias people algorithm woman gender black used study race\n",
      "topic 65 | management globe inventory sloan managing publishes consultant lifecycle wafer condition\n",
      "topic 66 | mobile best amazon tech home smart phone tablet podcasts work\n",
      "topic 67 | europe market launch european solution study service platform website world\n",
      "topic 68 | child family baby parent los county mental tool angeles adult\n",
      "topic 69 | energy fashion news utility important environment environmental fuel previous contributor\n",
      "topic 70 | startup venture million capital funding investor round investment partner ceo\n",
      "topic 71 | said employee time percent work help store customer worker according\n",
      "topic 72 | san francisco david morgan antonio moore miller wilson stanley jay\n",
      "topic 73 | image photo create generate prompt text used synthetic generator stable\n",
      "topic 74 | event conference virtual world meeting industry summit session year annual\n",
      "topic 75 | musk tesla openai elon letter twitter altman said ceo pause\n",
      "topic 76 | result search test detection algorithm automatically change testing type field\n",
      "topic 77 | job hiring candidate skill worker talent employer tool employee recruitment\n",
      "topic 78 | river charles neuromorphic analytic adfox brainchip rad enroute aitx iwave\n",
      "topic 79 | financial cent fraud organisation australia centre transaction australian money institution\n",
      "topic 80 | india indian stone read tata iit delhi premium programme crore\n",
      "topic 81 | survey banking corporate talent organization report respondent red leader bridge\n",
      "topic 82 | group online registered sun limited london newspaper time trademark press\n",
      "topic 83 | market growth expected global usd period america forecast cagr research\n",
      "topic 84 | port announces powered support slot del interface pcie usb dual\n",
      "topic 85 | crypto investment defi cryptocurrency token nfts alternative buy real good\n",
      "topic 86 | security cybersecurity cyber threat attack network secure detection organization risk\n",
      "topic 87 | art artist creative work design medium style digital creativity painting\n",
      "topic 88 | contract fintech payment taiwan legaltech industry collection commercial extraction iii\n",
      "topic 89 | space satellite nasa earth program rocket moon say spacex launch\n",
      "topic 90 | feature user access available free offer option app subscription update\n",
      "topic 91 | july baidu alibaba ernie tencent datarobot snowflake search artificial yuan\n",
      "topic 92 | document marketplace international record seller world evaluation ops area main\n",
      "topic 93 | researcher study research university protein cell team using used method\n",
      "topic 94 | video comment email visual address field notify published marked required\n",
      "topic 95 | research analysis report market client strategy study provides impact information\n",
      "topic 96 | market report global analysis key player growth research industry product\n",
      "topic 97 | course starfilled para busco filled helpful salud signify specialization starby\n",
      "topic 98 | azure mining metal javascript lake dynamic announces target golden cannabis\n",
      "topic 99 | facebook meta instagram post subscriber mark zuckerberg content social peak\n",
      "topic 100 | science platform scientist university institute program field engineering degree professor\n",
      "topic 101 | news telecom policy market trading fund privacy finance digital investment\n",
      "topic 102 | food material construction water plant waste chemical plastic disaster packaging\n",
      "topic 103 | like say thing people make think time know way want\n",
      "topic 104 | voice assistant speech audio speaker alexa virtual digital siri recording\n",
      "topic 105 | window open share click twitter linkedin facebook print crop reddit\n",
      "topic 106 | best forbes program paid real travel car estate brandvoice investing\n",
      "topic 107 | interview magazine family perimeter schumacher german cover french epidemic gaudi\n",
      "topic 108 | sale revenue global application production type product share price chapter\n",
      "topic 109 | index average avatar chart moving prisma marketing volume star lensa\n",
      "topic 110 | south africa korea east america country germany europe middle united\n",
      "topic 111 | credit insurance card loan claim life reward risk cardsbest auto\n",
      "topic 112 | report growth global market section research development various crucial player\n",
      "topic 113 | platform solution enterprise customer capability application said product leading today\n",
      "topic 114 | film movie series star character play netflix actor studio story\n",
      "topic 115 | government said european right state artificial union agency federal rule\n",
      "topic 116 | supply chain quantum logistics impact demand industry computing health supplier\n",
      "topic 117 | network computing hardware processing neural performance processor storage application power\n",
      "topic 118 | china chinese beijing hong kong huawei artist weiwei world shanghai\n",
      "topic 119 | music song artist podcast npr said spotify like label sound\n",
      "topic 120 | writing writer written pitch seattle techrepublic grammar help novelty creative\n",
      "topic 121 | website cooky use site cookie used user experience consent set\n",
      "topic 122 | india news delhi indian flight case story say air modi\n",
      "topic 123 | global digital sector innovation development artificial industry agriculture world government\n",
      "topic 124 | trump american biden president election house vote joe donald political\n",
      "topic 125 | model training algorithm set trained used train learning large prediction\n",
      "topic 126 | car vehicle driver automotive driving autonomous motor safety ford truck\n",
      "topic 127 | chip nvidia intel gpu server semiconductor gpus amd computing qualcomm\n",
      "topic 128 | aws reality process dell veteran internal alto procurement experience category\n",
      "topic 129 | military defense air drone force aviation weapon artificial aircraft pilot\n",
      "topic 130 | wind shall hotel rain mph church freedom high low free\n",
      "topic 131 | day love star fan woman life man make son friend\n",
      "topic 132 | microsoft search bing bard engine openai user google chatbot said\n",
      "topic 133 | post comment news inappropriate term valley reading lehigh county removed\n",
      "topic 134 | watch live video day pakistan online khan update know pic\n",
      "topic 135 | business analytics process organization help insight team need experience strategy\n",
      "topic 136 | customer experience marketing product brand digital business consumer sale help\n",
      "topic 137 | recognition facial face clearview surveillance use enforcement law used privacy\n",
      "topic 138 | bank share communication finance nuance express ifsc overseas petroleum zeroeyes\n",
      "topic 139 | app generative user apps indicates person head insider way icon\n",
      "topic 140 | march board member director leader group review leadership committee advisory\n",
      "topic 141 | language natural text processing model microsoft word large translation llm\n",
      "topic 142 | email account sign profile link site notification comment page website\n",
      "topic 143 | cognitive business examination investigation worldwide significant element organization development information\n",
      "topic 144 | market forecast growth analysis trend industry global report size key\n",
      "topic 145 | information statement result including date provide security release term unit\n",
      "topic 146 | medium social fake tiktok online video platform misinformation deepfake filter\n",
      "topic 147 | weather ship ocean sea vessel balloon carrier ice shipping coast\n",
      "topic 148 | philip care island product solution support service glass contact specialty\n",
      "topic 149 | stock symbol add fool buy portfolio opinion market view motley\n"
     ]
    }
   ],
   "source": [
    "tm_150.print_topics()"
   ]
  },
  {
   "cell_type": "code",
   "execution_count": null,
   "metadata": {},
   "outputs": [],
   "source": []
  },
  {
   "attachments": {},
   "cell_type": "markdown",
   "metadata": {},
   "source": [
    "#### Label useful result"
   ]
  },
  {
   "cell_type": "code",
   "execution_count": null,
   "metadata": {},
   "outputs": [],
   "source": [
    "import numpy as np\n",
    "\n",
    "topic_probabilities = tm_20.predict(texts)\n",
    "topic_ids = np.argmax(topic_probabilities, axis=1)\n",
    "df_filtered['ktrain_20_topic_id'] = topic_ids"
   ]
  },
  {
   "cell_type": "code",
   "execution_count": 130,
   "metadata": {},
   "outputs": [],
   "source": [
    "topic_mapping = {0: \"cybersecurity\",  \n",
    "                 19: \"concerns\", \n",
    "                 2: \"finance\", \n",
    "                 5: \"finance\", \n",
    "                 13: \"finance\", \n",
    "                 3: \"education\", \n",
    "                 4: \"studio_art\",\n",
    "                 10: \"healthcare\", \n",
    "                 36: \"healthcare\",\n",
    "                 18: \"automotive\",\n",
    "                 39: \"related_hardware\",\n",
    "                 21: \"applications\",\n",
    "                 31: \"applications\" }\n",
    "\n",
    "df_filtered['ktrain_topic'] = df_filtered['ktrain_40_topic_id'].map(topic_mapping).fillna(\"Others\")"
   ]
  },
  {
   "cell_type": "code",
   "execution_count": 132,
   "metadata": {},
   "outputs": [
    {
     "data": {
      "text/html": [
       "<div>\n",
       "<style scoped>\n",
       "    .dataframe tbody tr th:only-of-type {\n",
       "        vertical-align: middle;\n",
       "    }\n",
       "\n",
       "    .dataframe tbody tr th {\n",
       "        vertical-align: top;\n",
       "    }\n",
       "\n",
       "    .dataframe thead th {\n",
       "        text-align: right;\n",
       "    }\n",
       "</style>\n",
       "<table border=\"1\" class=\"dataframe\">\n",
       "  <thead>\n",
       "    <tr style=\"text-align: right;\">\n",
       "      <th></th>\n",
       "      <th>date</th>\n",
       "      <th>domain</th>\n",
       "      <th>clean_text</th>\n",
       "      <th>clean_token</th>\n",
       "      <th>sentiment_robert</th>\n",
       "      <th>sentiment_ner_with_product</th>\n",
       "      <th>ktrain_topic</th>\n",
       "      <th>clean_text_without_stopwords</th>\n",
       "      <th>bert_auto_topic_id</th>\n",
       "      <th>ktrain_30_topic_id</th>\n",
       "      <th>ktrain_20_topic_id</th>\n",
       "      <th>ktrain_40_topic_id</th>\n",
       "    </tr>\n",
       "  </thead>\n",
       "  <tbody>\n",
       "    <tr>\n",
       "      <th>0</th>\n",
       "      <td>2021-03-18</td>\n",
       "      <td>en.people.cn</td>\n",
       "      <td>Thanks to the application of an artificial int...</td>\n",
       "      <td>thanks application artificial intelligence ai ...</td>\n",
       "      <td>positive</td>\n",
       "      <td>E...</td>\n",
       "      <td>automotive</td>\n",
       "      <td>Thanks application artificial intelligence ( A...</td>\n",
       "      <td>12</td>\n",
       "      <td>8</td>\n",
       "      <td>15</td>\n",
       "      <td>18</td>\n",
       "    </tr>\n",
       "    <tr>\n",
       "      <th>1</th>\n",
       "      <td>2021-03-10</td>\n",
       "      <td>www.homeoffice.consumerelectronicsnet.com</td>\n",
       "      <td>BOSTON–(BUSINESS WIRE)–Strategy Analytics in a...</td>\n",
       "      <td>business wire analytics newly published report...</td>\n",
       "      <td>positive</td>\n",
       "      <td>...</td>\n",
       "      <td>applications</td>\n",
       "      <td>BOSTON– ( BUSINESS WIRE ) –Strategy Analytics ...</td>\n",
       "      <td>-1</td>\n",
       "      <td>21</td>\n",
       "      <td>16</td>\n",
       "      <td>21</td>\n",
       "    </tr>\n",
       "    <tr>\n",
       "      <th>2</th>\n",
       "      <td>2020-10-20</td>\n",
       "      <td>www.itbusinessnet.com</td>\n",
       "      <td>TOKYO, Oct 20, 2020 – (ACN Newswire) – Olympus...</td>\n",
       "      <td>tokyo oct acn newswire olympus corporation too...</td>\n",
       "      <td>neutral</td>\n",
       "      <td>...</td>\n",
       "      <td>healthcare</td>\n",
       "      <td>TOKYO , Oct 20 , 2020 – ( ACN Newswire ) – Oly...</td>\n",
       "      <td>2</td>\n",
       "      <td>10</td>\n",
       "      <td>10</td>\n",
       "      <td>36</td>\n",
       "    </tr>\n",
       "    <tr>\n",
       "      <th>3</th>\n",
       "      <td>2021-02-25</td>\n",
       "      <td>www.peripherals.consumerelectronicsnet.com</td>\n",
       "      <td>MulticoreWare Inc., joins the CEVAnet™ Partner...</td>\n",
       "      <td>multicoreware join partner program comprehensi...</td>\n",
       "      <td>positive</td>\n",
       "      <td>Entity   La...</td>\n",
       "      <td>applications</td>\n",
       "      <td>MulticoreWare Inc. , joins CEVAnet™ Partner Pr...</td>\n",
       "      <td>-1</td>\n",
       "      <td>16</td>\n",
       "      <td>16</td>\n",
       "      <td>21</td>\n",
       "    </tr>\n",
       "    <tr>\n",
       "      <th>4</th>\n",
       "      <td>2020-06-23</td>\n",
       "      <td>www.productivityapps.itbusinessnet.com</td>\n",
       "      <td>), provider of a next generation test automati...</td>\n",
       "      <td>provider next generation test automation platf...</td>\n",
       "      <td>positive</td>\n",
       "      <td>...</td>\n",
       "      <td>Others</td>\n",
       "      <td>) , provider next generation test automation p...</td>\n",
       "      <td>3</td>\n",
       "      <td>16</td>\n",
       "      <td>1</td>\n",
       "      <td>1</td>\n",
       "    </tr>\n",
       "  </tbody>\n",
       "</table>\n",
       "</div>"
      ],
      "text/plain": [
       "         date                                      domain  \\\n",
       "0  2021-03-18                                en.people.cn   \n",
       "1  2021-03-10   www.homeoffice.consumerelectronicsnet.com   \n",
       "2  2020-10-20                       www.itbusinessnet.com   \n",
       "3  2021-02-25  www.peripherals.consumerelectronicsnet.com   \n",
       "4  2020-06-23      www.productivityapps.itbusinessnet.com   \n",
       "\n",
       "                                          clean_text  \\\n",
       "0  Thanks to the application of an artificial int...   \n",
       "1  BOSTON–(BUSINESS WIRE)–Strategy Analytics in a...   \n",
       "2  TOKYO, Oct 20, 2020 – (ACN Newswire) – Olympus...   \n",
       "3  MulticoreWare Inc., joins the CEVAnet™ Partner...   \n",
       "4  ), provider of a next generation test automati...   \n",
       "\n",
       "                                         clean_token sentiment_robert  \\\n",
       "0  thanks application artificial intelligence ai ...         positive   \n",
       "1  business wire analytics newly published report...         positive   \n",
       "2  tokyo oct acn newswire olympus corporation too...          neutral   \n",
       "3  multicoreware join partner program comprehensi...         positive   \n",
       "4  provider next generation test automation platf...         positive   \n",
       "\n",
       "                          sentiment_ner_with_product  ktrain_topic  \\\n",
       "0                                               E...    automotive   \n",
       "1                                                ...  applications   \n",
       "2                                                ...    healthcare   \n",
       "3                                     Entity   La...  applications   \n",
       "4                                                ...        Others   \n",
       "\n",
       "                        clean_text_without_stopwords  bert_auto_topic_id  \\\n",
       "0  Thanks application artificial intelligence ( A...                  12   \n",
       "1  BOSTON– ( BUSINESS WIRE ) –Strategy Analytics ...                  -1   \n",
       "2  TOKYO , Oct 20 , 2020 – ( ACN Newswire ) – Oly...                   2   \n",
       "3  MulticoreWare Inc. , joins CEVAnet™ Partner Pr...                  -1   \n",
       "4  ) , provider next generation test automation p...                   3   \n",
       "\n",
       "   ktrain_30_topic_id  ktrain_20_topic_id  ktrain_40_topic_id  \n",
       "0                   8                  15                  18  \n",
       "1                  21                  16                  21  \n",
       "2                  10                  10                  36  \n",
       "3                  16                  16                  21  \n",
       "4                  16                   1                   1  "
      ]
     },
     "execution_count": 132,
     "metadata": {},
     "output_type": "execute_result"
    }
   ],
   "source": [
    "df_filtered.head()"
   ]
  },
  {
   "cell_type": "code",
   "execution_count": 134,
   "metadata": {},
   "outputs": [],
   "source": [
    "df_filtered.to_pickle('df_topic.pkl')"
   ]
  },
  {
   "cell_type": "code",
   "execution_count": null,
   "metadata": {},
   "outputs": [],
   "source": []
  },
  {
   "attachments": {},
   "cell_type": "markdown",
   "metadata": {
    "tags": []
   },
   "source": [
    "## BERTopic"
   ]
  },
  {
   "attachments": {},
   "cell_type": "markdown",
   "metadata": {},
   "source": [
    "#### Setting"
   ]
  },
  {
   "cell_type": "code",
   "execution_count": 12,
   "metadata": {
    "tags": []
   },
   "outputs": [],
   "source": [
    "# !pip install bertopic"
   ]
  },
  {
   "cell_type": "code",
   "execution_count": 13,
   "metadata": {
    "tags": []
   },
   "outputs": [],
   "source": [
    "# !pip install --upgrade transformers bertopic accelerate"
   ]
  },
  {
   "cell_type": "code",
   "execution_count": 14,
   "metadata": {
    "tags": []
   },
   "outputs": [
    {
     "name": "stderr",
     "output_type": "stream",
     "text": [
      "e:\\miniconda3\\envs\\general\\lib\\site-packages\\umap\\distances.py:1063: NumbaDeprecationWarning: \u001b[1mThe 'nopython' keyword argument was not supplied to the 'numba.jit' decorator. The implicit default value for this argument is currently False, but it will be changed to True in Numba 0.59.0. See https://numba.readthedocs.io/en/stable/reference/deprecation.html#deprecation-of-object-mode-fall-back-behaviour-when-using-jit for details.\u001b[0m\n",
      "  @numba.jit()\n",
      "e:\\miniconda3\\envs\\general\\lib\\site-packages\\umap\\distances.py:1071: NumbaDeprecationWarning: \u001b[1mThe 'nopython' keyword argument was not supplied to the 'numba.jit' decorator. The implicit default value for this argument is currently False, but it will be changed to True in Numba 0.59.0. See https://numba.readthedocs.io/en/stable/reference/deprecation.html#deprecation-of-object-mode-fall-back-behaviour-when-using-jit for details.\u001b[0m\n",
      "  @numba.jit()\n",
      "e:\\miniconda3\\envs\\general\\lib\\site-packages\\umap\\distances.py:1086: NumbaDeprecationWarning: \u001b[1mThe 'nopython' keyword argument was not supplied to the 'numba.jit' decorator. The implicit default value for this argument is currently False, but it will be changed to True in Numba 0.59.0. See https://numba.readthedocs.io/en/stable/reference/deprecation.html#deprecation-of-object-mode-fall-back-behaviour-when-using-jit for details.\u001b[0m\n",
      "  @numba.jit()\n",
      "e:\\miniconda3\\envs\\general\\lib\\site-packages\\umap\\umap_.py:660: NumbaDeprecationWarning: \u001b[1mThe 'nopython' keyword argument was not supplied to the 'numba.jit' decorator. The implicit default value for this argument is currently False, but it will be changed to True in Numba 0.59.0. See https://numba.readthedocs.io/en/stable/reference/deprecation.html#deprecation-of-object-mode-fall-back-behaviour-when-using-jit for details.\u001b[0m\n",
      "  @numba.jit()\n"
     ]
    }
   ],
   "source": [
    "from bertopic import BERTopic\n",
    "# from sentence_transformers import SentenceTransformer"
   ]
  },
  {
   "cell_type": "code",
   "execution_count": 15,
   "metadata": {
    "tags": []
   },
   "outputs": [],
   "source": [
    "def remove_stopwords(sentence):\n",
    "    from nltk.tokenize import word_tokenize\n",
    "    from nltk.corpus import stopwords\n",
    "    stop_words = stopwords.words('english')\n",
    "    tokens = word_tokenize(sentence)\n",
    "    filtered_sentence = [word for word in tokens if not word in stop_words]\n",
    "    return \" \".join(filtered_sentence)"
   ]
  },
  {
   "cell_type": "code",
   "execution_count": 16,
   "metadata": {
    "tags": []
   },
   "outputs": [
    {
     "data": {
      "application/vnd.jupyter.widget-view+json": {
       "model_id": "87a8e8893db14bfb9c554d906a4977b6",
       "version_major": 2,
       "version_minor": 0
      },
      "text/plain": [
       "VBox(children=(HBox(children=(IntProgress(value=0, description='0.00%', max=7121), Label(value='0 / 7121'))), …"
      ]
     },
     "metadata": {},
     "output_type": "display_data"
    },
    {
     "name": "stdout",
     "output_type": "stream",
     "text": [
      "CPU times: total: 4.67 s\n",
      "Wall time: 1min 10s\n"
     ]
    }
   ],
   "source": [
    "%%time\n",
    "df_filtered['clean_text_without_stopwords'] = df_filtered['clean_text'].parallel_apply(remove_stopwords)"
   ]
  },
  {
   "attachments": {},
   "cell_type": "markdown",
   "metadata": {
    "jp-MarkdownHeadingCollapsed": true,
    "tags": []
   },
   "source": [
    "#### On Sample"
   ]
  },
  {
   "cell_type": "code",
   "execution_count": null,
   "metadata": {
    "tags": []
   },
   "outputs": [],
   "source": [
    "# first try on sample\n",
    "df_sample = df_filtered.sample(n=10000)\n",
    "sample_documents = df_sample['clean_text_without_stopwords'].tolist()  "
   ]
  },
  {
   "cell_type": "code",
   "execution_count": null,
   "metadata": {
    "tags": []
   },
   "outputs": [],
   "source": [
    "# Create a BERTopic model\n",
    "sample_topic_model_auto = BERTopic(embedding_model=\"bert-base-nli-mean-tokens\",  min_topic_size=50)"
   ]
  },
  {
   "cell_type": "code",
   "execution_count": null,
   "metadata": {
    "tags": []
   },
   "outputs": [],
   "source": [
    "sample_topics, sample_probabilities = sample_topic_model_auto.fit_transform(sample_documents)"
   ]
  },
  {
   "cell_type": "code",
   "execution_count": null,
   "metadata": {
    "tags": []
   },
   "outputs": [],
   "source": [
    "sample_topic_keywords = sample_topic_model_auto.get_topic_info()"
   ]
  },
  {
   "cell_type": "code",
   "execution_count": null,
   "metadata": {
    "tags": []
   },
   "outputs": [],
   "source": [
    "for topic in sample_topic_keywords['Topic'].unique():\n",
    "    sample_keywords = sample_topic_model_auto.get_topic(topic)\n",
    "    sample_keywords, _ = zip(*sample_keywords[:5])  # unzip keywords and probabilities, ignore probabilities\n",
    "    print(f\"Topic {topic} Keywords: {sample_keywords}\")"
   ]
  },
  {
   "attachments": {},
   "cell_type": "markdown",
   "metadata": {},
   "source": [
    "#### On Full Dataset"
   ]
  },
  {
   "attachments": {},
   "cell_type": "markdown",
   "metadata": {},
   "source": [
    "##### Auto n_topics"
   ]
  },
  {
   "cell_type": "code",
   "execution_count": 19,
   "metadata": {
    "tags": []
   },
   "outputs": [],
   "source": [
    "# Create a BERTopic model\n",
    "topic_model_auto = BERTopic(embedding_model=\"bert-base-nli-mean-tokens\",  min_topic_size=200)"
   ]
  },
  {
   "cell_type": "code",
   "execution_count": 21,
   "metadata": {
    "tags": []
   },
   "outputs": [
    {
     "name": "stdout",
     "output_type": "stream",
     "text": [
      "CPU times: total: 4h 38min 22s\n",
      "Wall time: 2h 48min 3s\n"
     ]
    }
   ],
   "source": [
    "%%time\n",
    "topics_auto, probabilities_auto = topic_model_auto.fit_transform(df_filtered.clean_text_without_stopwords.tolist())"
   ]
  },
  {
   "cell_type": "code",
   "execution_count": 22,
   "metadata": {
    "tags": []
   },
   "outputs": [],
   "source": [
    "topic_keywords_auto = topic_model_auto.get_topic_info()"
   ]
  },
  {
   "cell_type": "code",
   "execution_count": 42,
   "metadata": {
    "tags": []
   },
   "outputs": [
    {
     "name": "stdout",
     "output_type": "stream",
     "text": [
      "Topic -1 | ai the new data said technology it also intelligence company\n",
      "Topic 0 | market report global analysis growth intelligence artificial forecast industry players\n",
      "Topic 1 | ai data the new use it also technology time human\n",
      "Topic 2 | health patients healthcare medical cancer patient clinical the ai care\n",
      "Topic 3 | ai data the company said technology new business also million\n",
      "Topic 4 | market report global analysis growth intelligence artificial forecast key players\n",
      "Topic 5 | ai data results search platform no market the solutions typing\n",
      "Topic 6 | the new star to day says said india video watch\n",
      "Topic 7 | skip ai weather updated fund platform data 2022 technology distribution\n",
      "Topic 8 | google chatgpt search bard bing microsoft ai openai chatbot new\n",
      "Topic 9 | china chinese baidu ai said ernie the us technology chatgpt\n",
      "Topic 10 | market healthcare intelligence artificial report analysis global medical growth research\n",
      "Topic 11 | the space earth new researchers learning data machine scientists nasa\n",
      "Topic 12 | tesla driving car vehicle vehicles cars musk self autonomous the\n",
      "Topic 13 | republic wfmz comments posts lehigh inappropriate tv cloudy berks winds\n",
      "Topic 14 | students chatgpt teachers said school student writing education schools tool\n",
      "Topic 15 | shares stock price nasdaq inc average trading nyse company quarter\n",
      "Topic 16 | 15 40 30 the ai di sun news chatgpt people\n",
      "Topic 17 | defense air military force said ai the dod aircraft drone\n",
      "Topic 18 | endnoteall safetylit zotero mendeley compile citations summaries machine learning automatic\n",
      "Topic 19 | traded dollar btc trades machine decentralized learning link 00 exchanges\n",
      "Topic 20 | tab opens new apple chatgpt best google techradar image ai\n",
      "Topic 21 | zu und die sie 100smiatxnikkeihang 50ftse 100euro 500nasdaq stoxx potenziellen\n",
      "Topic 22 | best forbes insurance cards paid credit brandvoice program cars travel\n",
      "Topic 23 | traded matrix dollar btc trades network vectorspace exchanges ethereum lower\n",
      "Topic 24 | students science education data programme university learning program the iit\n",
      "Topic 25 | traded dollar btc trades exchanges 00 shares matrix decentralized nasdaq\n",
      "Topic 26 | food restaurant sense common the ai new pizza restaurants recipes\n",
      "Topic 27 | italian chatgpt openai italy data protection privacy users watchdog personal\n",
      "Topic 28 | commentary alerts newsletters log breaking account full insights access themaven\n",
      "Topic 29 | ip performance edge power gpu applications design processor nvidia vision\n",
      "Topic 30 | agriculture farmers crop farm agricultural farming crops food the plant\n",
      "Topic 31 | indicates shoulders icon an it shape dismiss crossed notification profile\n",
      "Topic 32 | tak today india chatgpt ist aajtak gnttv lallantop ichowk dailyo\n",
      "Topic 33 | download pdf cookies book data read use epub site ai\n",
      "Topic 34 | crypto under defi stocksbest brokersstock fungible alternative investment nfts cryptocurrency\n",
      "Topic 35 | lunit tumor purity scope io cancer immunotherapy ai pd l1\n",
      "Topic 36 | automotive market artificial intelligence report global analysis growth industry key\n",
      "Topic 37 | 15 40 30 dr livehave buyclick newsmilitaryeducationweatherclosings5th schoolcameronoklahoma universityoklahoma contentmedwatchgood\n",
      "Topic 38 | bend ai school bobby weather fund weatherclosingsradarweather reportssouth videoscontact goodwatch\n",
      "Topic 39 | my advertisementhide adadvertisementhide rent linkscontact dj jobplace gardenfashion businessadvertise noticesmust\n",
      "Topic 40 | music song songs artists musiclm the new ai like audio\n",
      "Topic 41 | starfilled course helpful filled starby learning this machine specialization programming\n",
      "Topic 42 | africa covid 19 said india african ai the health data\n",
      "Topic 43 | agriculture market artificial intelligence report analysis global growth agricultural ai\n",
      "Topic 44 | window click opens share new twitter chatgpt facebook print said\n",
      "Topic 45 | inflation canadians ceo canada bank prices says chase year china\n",
      "Topic 46 | clubask newspoliticscinema chatillinois shoutoutsunrise newscasts14 newsindiana ustvriver coveragesunrise spiritsend live14\n",
      "Topic 47 | shares etf llc stock nasdaq inc quarter robotics holdings nyse\n",
      "Topic 48 | guardforce ses institutional earnings nyse nasdaq inc cash shares analysts\n"
     ]
    }
   ],
   "source": [
    "for topic in topic_keywords_auto['Topic'].unique():\n",
    "    keywords_20 = topic_model_auto.get_topic(topic)\n",
    "    keywords_20, _ = zip(*keywords_20[:10])  # unzip keywords and probabilities, ignore probabilities\n",
    "    print(f\"Topic {topic} | {' '.join(keywords_20)}\")  # join keywords with space"
   ]
  },
  {
   "cell_type": "code",
   "execution_count": 39,
   "metadata": {},
   "outputs": [
    {
     "data": {
      "text/plain": [
       "-1_ai_the_new_data                                            74090\n",
       "0_market_report_global_analysis                                9397\n",
       "1_ai_data_the_new                                              6752\n",
       "2_health_patients_healthcare_medical                           6657\n",
       "3_ai_data_the_company                                          4321\n",
       "4_market_report_global_analysis                                4164\n",
       "5_ai_data_results_search                                       3648\n",
       "6_the_new_star_to                                              2962\n",
       "7_skip_ai_weather_updated                                      1775\n",
       "8_google_chatgpt_search_bard                                   1396\n",
       "9_china_chinese_baidu_ai                                       1389\n",
       "10_market_healthcare_intelligence_artificial                   1300\n",
       "11_the_space_earth_new                                         1183\n",
       "12_tesla_driving_car_vehicle                                    902\n",
       "13_republic_wfmz_comments_posts                                 808\n",
       "14_students_chatgpt_teachers_said                               784\n",
       "15_shares_stock_price_nasdaq                                    701\n",
       "16_15_40_30_the                                                 690\n",
       "17_defense_air_military_force                                   687\n",
       "18_endnoteall_safetylit_zotero_mendeley                         650\n",
       "19_traded_dollar_btc_trades                                     641\n",
       "20_tab_opens_new_apple                                          638\n",
       "21_zu_und_die_sie                                               596\n",
       "22_best_forbes_insurance_cards                                  578\n",
       "23_traded_matrix_dollar_btc                                     496\n",
       "24_students_science_education_data                              495\n",
       "25_traded_dollar_btc_trades                                     466\n",
       "26_food_restaurant_sense_common                                 415\n",
       "27_italian_chatgpt_openai_italy                                 385\n",
       "28_commentary_alerts_newsletters_log                            380\n",
       "29_ip_performance_edge_power                                    376\n",
       "30_agriculture_farmers_crop_farm                                372\n",
       "31_indicates_shoulders_icon_an                                  363\n",
       "32_tak_today_india_chatgpt                                      352\n",
       "33_download_pdf_cookies_book                                    346\n",
       "34_crypto_under_defi_stocksbest                                 341\n",
       "35_lunit_tumor_purity_scope                                     337\n",
       "36_automotive_market_artificial_intelligence                    331\n",
       "37_15_40_30_dr                                                  326\n",
       "38_bend_ai_school_bobby                                         315\n",
       "39_my_advertisementhide_adadvertisementhide_rent                294\n",
       "40_music_song_songs_artists                                     280\n",
       "41_starfilled_course_helpful_filled                             277\n",
       "42_africa_covid_19_said                                         267\n",
       "43_agriculture_market_artificial_intelligence                   257\n",
       "44_window_click_opens_share                                     245\n",
       "45_inflation_canadians_ceo_canada                               243\n",
       "46_clubask_newspoliticscinema_chatillinois_shoutoutsunrise      217\n",
       "47_shares_etf_llc_stock                                         209\n",
       "48_guardforce_ses_institutional_earnings                        203\n",
       "Name: Name, dtype: int64"
      ]
     },
     "execution_count": 39,
     "metadata": {},
     "output_type": "execute_result"
    }
   ],
   "source": [
    "bertopic_result = topic_model_auto.get_document_info(df_filtered.clean_text_without_stopwords)\n",
    "bertopic_result['Name'].value_counts()"
   ]
  },
  {
   "cell_type": "code",
   "execution_count": 43,
   "metadata": {},
   "outputs": [
    {
     "data": {
      "text/plain": [
       "[2, 10, 35, 29, 42]"
      ]
     },
     "execution_count": 43,
     "metadata": {},
     "output_type": "execute_result"
    }
   ],
   "source": [
    "similar_topics, similarity = topic_model_auto.find_topics(\"healthcare\", top_n=5)\n",
    "similar_topics"
   ]
  },
  {
   "cell_type": "code",
   "execution_count": 45,
   "metadata": {},
   "outputs": [
    {
     "data": {
      "text/plain": [
       "[12, 36, 29, 10, 0]"
      ]
     },
     "execution_count": 45,
     "metadata": {},
     "output_type": "execute_result"
    }
   ],
   "source": [
    "similar_topics, similarity = topic_model_auto.find_topics(\"automotive\", top_n=5)\n",
    "similar_topics"
   ]
  },
  {
   "cell_type": "code",
   "execution_count": 59,
   "metadata": {},
   "outputs": [
    {
     "data": {
      "text/plain": [
       "(6657, 9)"
      ]
     },
     "execution_count": 59,
     "metadata": {},
     "output_type": "execute_result"
    }
   ],
   "source": [
    "df_filtered[df_filtered.bert_auto_topic_id == 2].shape"
   ]
  },
  {
   "cell_type": "code",
   "execution_count": 24,
   "metadata": {},
   "outputs": [],
   "source": [
    "df_filtered['bert_auto_topic_id'] = topics_auto"
   ]
  },
  {
   "attachments": {},
   "cell_type": "markdown",
   "metadata": {
    "jp-MarkdownHeadingCollapsed": true,
    "tags": []
   },
   "source": [
    "##### 20 topics"
   ]
  },
  {
   "cell_type": "code",
   "execution_count": 40,
   "metadata": {
    "tags": []
   },
   "outputs": [],
   "source": [
    "topic_model_20 = BERTopic(embedding_model=\"bert-base-nli-mean-tokens\", nr_topics=20)"
   ]
  },
  {
   "cell_type": "code",
   "execution_count": 41,
   "metadata": {
    "tags": []
   },
   "outputs": [
    {
     "name": "stdout",
     "output_type": "stream",
     "text": [
      "CPU times: total: 14h 22min 12s\n",
      "Wall time: 4h 37min 37s\n"
     ]
    }
   ],
   "source": [
    "%%time\n",
    "topics_20, probabilities_20 = topic_model_20.fit_transform(df_filtered.clean_text_without_stopwords.tolist())"
   ]
  },
  {
   "cell_type": "code",
   "execution_count": 42,
   "metadata": {
    "tags": []
   },
   "outputs": [],
   "source": [
    "topic_keywords_20 = topic_model_20.get_topic_info()"
   ]
  },
  {
   "cell_type": "code",
   "execution_count": 46,
   "metadata": {
    "tags": []
   },
   "outputs": [
    {
     "name": "stdout",
     "output_type": "stream",
     "text": [
      "Topic -1 | ai market the data intelligence new artificial report global also\n",
      "Topic 0 | market ai the intelligence data artificial new global report analysis\n",
      "Topic 1 | agriculture market intelligence artificial ai global report growth agricultural analysis\n",
      "Topic 2 | aviation air flight india market aircraft the intelligence artificial said\n",
      "Topic 3 | automotive market artificial intelligence report global analysis growth industry key\n",
      "Topic 4 | bioworld news fox afinancingsnewco nationfox businessfox policy contact gofox shopfox\n",
      "Topic 5 | coral reef species salmon the fish marine fishing ocean reefs\n",
      "Topic 6 | recipes food restaurant chef cooking the recipe restaurants ai ingredients\n",
      "Topic 7 | bard rockies season league beethoven colorado daniel game innings republic\n",
      "Topic 8 | chess game kasparov human ai the games deepmind humans protein\n",
      "Topic 9 | sermon chatgpt franklin preaching human sermons congregation church pastor wrote\n",
      "Topic 10 | banking corporate market ai global report analysis growth players key\n",
      "Topic 11 | snowflake tigergraph graph data analytics cloud knime alteryx tableau platform\n",
      "Topic 12 | gambling casino casinos online games betting ai players game gaming\n",
      "Topic 13 | pdfgear pdf chatbot users documents desktop feature chatbots pdfs intuitively\n",
      "Topic 14 | earthquakes seismic earthquake data earth slip landslides deformation landslide slow\n",
      "Topic 15 | tiruchirapalli coimbatore madurai vijayawada visakhapatnam mangaluru puducherry thiruvananthapuram hyderabad kochi\n",
      "Topic 16 | diabetes management market artificial intelligence global report analysis growth forecast\n",
      "Topic 17 | mathematicians conjectures mathematical mathematics conjecture theory intuition deepmind knots algebraic\n",
      "Topic 18 | lego legos bricks zarroli weiwei npr alcatraz political artist chinese\n"
     ]
    }
   ],
   "source": [
    "for topic in topic_keywords_20['Topic'].unique():\n",
    "    keywords_20 = topic_model_20.get_topic(topic)\n",
    "    keywords_20, _ = zip(*keywords_20[:10])  # unzip keywords and probabilities, ignore probabilities\n",
    "    print(f\"Topic {topic} | {' '.join(keywords_20)}\")  # join keywords with space\n"
   ]
  },
  {
   "attachments": {},
   "cell_type": "markdown",
   "metadata": {
    "jp-MarkdownHeadingCollapsed": true,
    "tags": []
   },
   "source": [
    "##### 25 topics"
   ]
  },
  {
   "cell_type": "code",
   "execution_count": null,
   "metadata": {
    "tags": []
   },
   "outputs": [],
   "source": [
    "topic_model_25 = BERTopic(embedding_model=\"bert-base-nli-mean-tokens\", nr_topics=25)"
   ]
  },
  {
   "cell_type": "code",
   "execution_count": null,
   "metadata": {
    "tags": []
   },
   "outputs": [],
   "source": [
    "topics_25, probabilities_25 = topic_model_25.fit_transform(df_filtered.clean_text_without_stopwords.tolist())"
   ]
  },
  {
   "cell_type": "code",
   "execution_count": null,
   "metadata": {
    "tags": []
   },
   "outputs": [],
   "source": [
    "topic_keywords_25 = topic_model_25.get_topic_info()"
   ]
  },
  {
   "cell_type": "code",
   "execution_count": null,
   "metadata": {
    "tags": []
   },
   "outputs": [],
   "source": [
    "for topic in topic_keywords_25['Topic'].unique():\n",
    "    keywords_25 = topic_model_25.get_topic(topic)\n",
    "    keywords_25, _ = zip(*keywords_25[:10])  # unzip keywords and probabilities, ignore probabilities\n",
    "    print(f\"Topic {topic} Keywords: {keywords_25}\")"
   ]
  },
  {
   "cell_type": "code",
   "execution_count": null,
   "metadata": {},
   "outputs": [],
   "source": []
  },
  {
   "cell_type": "code",
   "execution_count": null,
   "metadata": {},
   "outputs": [],
   "source": []
  },
  {
   "cell_type": "code",
   "execution_count": null,
   "metadata": {},
   "outputs": [],
   "source": []
  }
 ],
 "metadata": {
  "kernelspec": {
   "display_name": "Python 3 (ipykernel)",
   "language": "python",
   "name": "python3"
  },
  "language_info": {
   "codemirror_mode": {
    "name": "ipython",
    "version": 3
   },
   "file_extension": ".py",
   "mimetype": "text/x-python",
   "name": "python",
   "nbconvert_exporter": "python",
   "pygments_lexer": "ipython3",
   "version": "3.9.0"
  }
 },
 "nbformat": 4,
 "nbformat_minor": 4
}
