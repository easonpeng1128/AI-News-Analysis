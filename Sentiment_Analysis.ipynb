{
 "cells": [
  {
   "attachments": {},
   "cell_type": "markdown",
   "id": "0c886ca2",
   "metadata": {
    "tags": []
   },
   "source": [
    "## Environment Setting and Data Loading"
   ]
  },
  {
   "cell_type": "code",
   "execution_count": 3,
   "id": "ba09309d",
   "metadata": {
    "tags": []
   },
   "outputs": [],
   "source": [
    "import pandas as pd\n",
    "import numpy as np"
   ]
  },
  {
   "cell_type": "code",
   "execution_count": 4,
   "id": "a29ccc26",
   "metadata": {
    "tags": []
   },
   "outputs": [
    {
     "data": {
      "text/plain": [
       "16"
      ]
     },
     "execution_count": 4,
     "metadata": {},
     "output_type": "execute_result"
    }
   ],
   "source": [
    "import multiprocessing\n",
    "\n",
    "num_processors = multiprocessing.cpu_count()\n",
    "num_processors"
   ]
  },
  {
   "cell_type": "code",
   "execution_count": null,
   "id": "80f8ec53-0ffe-4601-822b-4e88c8db8e5b",
   "metadata": {},
   "outputs": [],
   "source": []
  },
  {
   "cell_type": "code",
   "execution_count": 6,
   "id": "396537c1",
   "metadata": {
    "tags": []
   },
   "outputs": [
    {
     "name": "stdout",
     "output_type": "stream",
     "text": [
      "INFO: Pandarallel will run on 15 workers.\n",
      "INFO: Pandarallel will use standard multiprocessing data transfer (pipe) to transfer data between the main process and workers.\n"
     ]
    }
   ],
   "source": [
    "from pandarallel import pandarallel\n",
    "\n",
    "# Initialize pandarallel\n",
    "pandarallel.initialize(nb_workers = multiprocessing.cpu_count()-1, use_memory_fs=False, progress_bar=True)"
   ]
  },
  {
   "cell_type": "code",
   "execution_count": 37,
   "id": "c307a249",
   "metadata": {},
   "outputs": [],
   "source": [
    "df_filtered = pd.read_parquet('filtered_data.parquet', engine='pyarrow')"
   ]
  },
  {
   "cell_type": "code",
   "execution_count": 5,
   "id": "2b3487b9",
   "metadata": {},
   "outputs": [
    {
     "data": {
      "text/html": [
       "<div>\n",
       "<style scoped>\n",
       "    .dataframe tbody tr th:only-of-type {\n",
       "        vertical-align: middle;\n",
       "    }\n",
       "\n",
       "    .dataframe tbody tr th {\n",
       "        vertical-align: top;\n",
       "    }\n",
       "\n",
       "    .dataframe thead th {\n",
       "        text-align: right;\n",
       "    }\n",
       "</style>\n",
       "<table border=\"1\" class=\"dataframe\">\n",
       "  <thead>\n",
       "    <tr style=\"text-align: right;\">\n",
       "      <th></th>\n",
       "      <th>date</th>\n",
       "      <th>domain</th>\n",
       "      <th>clean_title</th>\n",
       "      <th>clean_text</th>\n",
       "      <th>clean_token</th>\n",
       "    </tr>\n",
       "  </thead>\n",
       "  <tbody>\n",
       "    <tr>\n",
       "      <th>0</th>\n",
       "      <td>2021-03-18</td>\n",
       "      <td>en.people.cn</td>\n",
       "      <td>Artificial intelligence improves parking effic...</td>\n",
       "      <td>Thanks to the application of an artificial int...</td>\n",
       "      <td>thanks application artificial intelligence ai ...</td>\n",
       "    </tr>\n",
       "  </tbody>\n",
       "</table>\n",
       "</div>"
      ],
      "text/plain": [
       "         date        domain  \\\n",
       "0  2021-03-18  en.people.cn   \n",
       "\n",
       "                                         clean_title  \\\n",
       "0  Artificial intelligence improves parking effic...   \n",
       "\n",
       "                                          clean_text  \\\n",
       "0  Thanks to the application of an artificial int...   \n",
       "\n",
       "                                         clean_token  \n",
       "0  thanks application artificial intelligence ai ...  "
      ]
     },
     "execution_count": 5,
     "metadata": {},
     "output_type": "execute_result"
    }
   ],
   "source": [
    "df_filtered.head(1)"
   ]
  },
  {
   "cell_type": "code",
   "execution_count": 6,
   "id": "cd7f0672",
   "metadata": {},
   "outputs": [
    {
     "data": {
      "text/plain": [
       "(165530, 5)"
      ]
     },
     "execution_count": 6,
     "metadata": {},
     "output_type": "execute_result"
    }
   ],
   "source": [
    "df_filtered.shape"
   ]
  },
  {
   "attachments": {},
   "cell_type": "markdown",
   "id": "f05ebe45",
   "metadata": {
    "jp-MarkdownHeadingCollapsed": true,
    "tags": []
   },
   "source": [
    "## Sentiment Analysis with Vader"
   ]
  },
  {
   "cell_type": "code",
   "execution_count": 25,
   "id": "16f24813",
   "metadata": {},
   "outputs": [],
   "source": [
    "from vaderSentiment.vaderSentiment import SentimentIntensityAnalyzer"
   ]
  },
  {
   "attachments": {},
   "cell_type": "markdown",
   "id": "b69540a2",
   "metadata": {},
   "source": [
    "#### With Full Data"
   ]
  },
  {
   "cell_type": "code",
   "execution_count": 12,
   "id": "678dfc5c",
   "metadata": {},
   "outputs": [
    {
     "data": {
      "text/plain": [
       "(165530, 5)"
      ]
     },
     "execution_count": 12,
     "metadata": {},
     "output_type": "execute_result"
    }
   ],
   "source": [
    "df_filtered.shape"
   ]
  },
  {
   "cell_type": "code",
   "execution_count": 13,
   "id": "37c5f767",
   "metadata": {},
   "outputs": [
    {
     "data": {
      "application/vnd.jupyter.widget-view+json": {
       "model_id": "96005c6ee896439c97c877fb1fb4e762",
       "version_major": 2,
       "version_minor": 0
      },
      "text/plain": [
       "VBox(children=(HBox(children=(IntProgress(value=0, description='0.00%', max=8713), Label(value='0 / 8713'))), …"
      ]
     },
     "metadata": {},
     "output_type": "display_data"
    },
    {
     "name": "stdout",
     "output_type": "stream",
     "text": [
      "CPU times: total: 8.92 s\n",
      "Wall time: 10min 6s\n"
     ]
    }
   ],
   "source": [
    "%%time\n",
    "analyzer = SentimentIntensityAnalyzer()\n",
    "\n",
    "sentiment_vader = pd.DataFrame()\n",
    "sentiment_vader['vader'] = df_filtered['clean_text'].parallel_apply(analyzer.polarity_scores)\n",
    "sentiment_vader = pd.DataFrame(sentiment_vader['vader'].tolist())\n",
    "\n",
    "# Create a positive / negative sentiment variable\n",
    "sentiment_vader['sentiment'] = np.where(sentiment_vader['compound'].astype(float) > 0, 'Positive', 'Negative')\n",
    "sentiment_vader['sentiment'] = np.where(sentiment_vader['compound'].astype(float) == 0, 'Neutral', sentiment_vader['sentiment'])\n",
    "\n",
    "# Merge Vader values with Sentiments\n",
    "df_filtered = pd.merge(df_filtered, sentiment_vader, left_index=True, right_index=True)"
   ]
  },
  {
   "cell_type": "code",
   "execution_count": 14,
   "id": "4a07c32c",
   "metadata": {},
   "outputs": [
    {
     "data": {
      "text/plain": [
       "Positive    145672\n",
       "Negative     15499\n",
       "Neutral       4359\n",
       "Name: sentiment, dtype: int64"
      ]
     },
     "execution_count": 14,
     "metadata": {},
     "output_type": "execute_result"
    }
   ],
   "source": [
    "df_filtered.sentiment.value_counts()"
   ]
  },
  {
   "cell_type": "code",
   "execution_count": 15,
   "id": "9596ba76",
   "metadata": {},
   "outputs": [],
   "source": [
    "df_filtered = df_filtered.drop(['neg', 'neu', 'pos'], axis = 1)"
   ]
  },
  {
   "cell_type": "code",
   "execution_count": 16,
   "id": "2b9bedcf",
   "metadata": {},
   "outputs": [
    {
     "data": {
      "text/html": [
       "<div>\n",
       "<style scoped>\n",
       "    .dataframe tbody tr th:only-of-type {\n",
       "        vertical-align: middle;\n",
       "    }\n",
       "\n",
       "    .dataframe tbody tr th {\n",
       "        vertical-align: top;\n",
       "    }\n",
       "\n",
       "    .dataframe thead th {\n",
       "        text-align: right;\n",
       "    }\n",
       "</style>\n",
       "<table border=\"1\" class=\"dataframe\">\n",
       "  <thead>\n",
       "    <tr style=\"text-align: right;\">\n",
       "      <th></th>\n",
       "      <th>date</th>\n",
       "      <th>domain</th>\n",
       "      <th>clean_title</th>\n",
       "      <th>clean_text</th>\n",
       "      <th>clean_token</th>\n",
       "      <th>sentiment_score_vader</th>\n",
       "      <th>sentiment_vader</th>\n",
       "    </tr>\n",
       "  </thead>\n",
       "  <tbody>\n",
       "    <tr>\n",
       "      <th>0</th>\n",
       "      <td>2021-03-18</td>\n",
       "      <td>en.people.cn</td>\n",
       "      <td>Artificial intelligence improves parking effic...</td>\n",
       "      <td>Thanks to the application of an artificial int...</td>\n",
       "      <td>thanks application artificial intelligence ai ...</td>\n",
       "      <td>0.997</td>\n",
       "      <td>Positive</td>\n",
       "    </tr>\n",
       "  </tbody>\n",
       "</table>\n",
       "</div>"
      ],
      "text/plain": [
       "         date        domain  \\\n",
       "0  2021-03-18  en.people.cn   \n",
       "\n",
       "                                         clean_title  \\\n",
       "0  Artificial intelligence improves parking effic...   \n",
       "\n",
       "                                          clean_text  \\\n",
       "0  Thanks to the application of an artificial int...   \n",
       "\n",
       "                                         clean_token  sentiment_score_vader  \\\n",
       "0  thanks application artificial intelligence ai ...                  0.997   \n",
       "\n",
       "  sentiment_vader  \n",
       "0        Positive  "
      ]
     },
     "execution_count": 16,
     "metadata": {},
     "output_type": "execute_result"
    }
   ],
   "source": [
    "df_filtered = df_filtered.rename(columns={'compound': 'sentiment_score_vader', 'sentiment': 'sentiment_vader'})\n",
    "df_filtered.head(1)"
   ]
  },
  {
   "cell_type": "code",
   "execution_count": 17,
   "id": "4c611492",
   "metadata": {},
   "outputs": [],
   "source": [
    "# save filtered df\n",
    "df_filtered.to_parquet('filtered_data_sentiment.parquet', engine='pyarrow')"
   ]
  },
  {
   "attachments": {},
   "cell_type": "markdown",
   "id": "905e733f",
   "metadata": {
    "jp-MarkdownHeadingCollapsed": true,
    "tags": []
   },
   "source": [
    "## Sentiment Analysis with SVM Fine Tuned with Yelp"
   ]
  },
  {
   "cell_type": "code",
   "execution_count": 18,
   "id": "d22e87c5",
   "metadata": {},
   "outputs": [],
   "source": [
    "df_filtered = pd.read_parquet('filtered_data_sentiment.parquet', engine='pyarrow')"
   ]
  },
  {
   "cell_type": "code",
   "execution_count": 19,
   "id": "9a938716",
   "metadata": {},
   "outputs": [
    {
     "data": {
      "text/html": [
       "<div>\n",
       "<style scoped>\n",
       "    .dataframe tbody tr th:only-of-type {\n",
       "        vertical-align: middle;\n",
       "    }\n",
       "\n",
       "    .dataframe tbody tr th {\n",
       "        vertical-align: top;\n",
       "    }\n",
       "\n",
       "    .dataframe thead th {\n",
       "        text-align: right;\n",
       "    }\n",
       "</style>\n",
       "<table border=\"1\" class=\"dataframe\">\n",
       "  <thead>\n",
       "    <tr style=\"text-align: right;\">\n",
       "      <th></th>\n",
       "      <th>date</th>\n",
       "      <th>domain</th>\n",
       "      <th>clean_title</th>\n",
       "      <th>clean_text</th>\n",
       "      <th>clean_token</th>\n",
       "      <th>sentiment_score_vader</th>\n",
       "      <th>sentiment_vader</th>\n",
       "    </tr>\n",
       "  </thead>\n",
       "  <tbody>\n",
       "    <tr>\n",
       "      <th>0</th>\n",
       "      <td>2021-03-18</td>\n",
       "      <td>en.people.cn</td>\n",
       "      <td>Artificial intelligence improves parking effic...</td>\n",
       "      <td>Thanks to the application of an artificial int...</td>\n",
       "      <td>thanks application artificial intelligence ai ...</td>\n",
       "      <td>0.9970</td>\n",
       "      <td>Positive</td>\n",
       "    </tr>\n",
       "    <tr>\n",
       "      <th>1</th>\n",
       "      <td>2020-02-27</td>\n",
       "      <td>newsparliament.com</td>\n",
       "      <td>Children With Autism Saw Their Learning and So...</td>\n",
       "      <td>Coronavirus Could Explode in the U.S. Overnigh...</td>\n",
       "      <td>coronavirus could explode overnight like italy...</td>\n",
       "      <td>0.9988</td>\n",
       "      <td>Positive</td>\n",
       "    </tr>\n",
       "    <tr>\n",
       "      <th>2</th>\n",
       "      <td>2021-03-26</td>\n",
       "      <td>www.dataweek.co.za</td>\n",
       "      <td>Forget ML, AI and Industry 4.0</td>\n",
       "      <td>*mar21-abi Many decision-makers only realise t...</td>\n",
       "      <td>many realise problem hand regret following tag...</td>\n",
       "      <td>0.9965</td>\n",
       "      <td>Positive</td>\n",
       "    </tr>\n",
       "    <tr>\n",
       "      <th>3</th>\n",
       "      <td>2021-03-10</td>\n",
       "      <td>www.homeoffice.consumerelectronicsnet.com</td>\n",
       "      <td>Strategy Analytics: 71% of Smartphones Sold Gl...</td>\n",
       "      <td>BOSTON–(BUSINESS WIRE)–Strategy Analytics in a...</td>\n",
       "      <td>business wire analytics newly published report...</td>\n",
       "      <td>0.9991</td>\n",
       "      <td>Positive</td>\n",
       "    </tr>\n",
       "    <tr>\n",
       "      <th>4</th>\n",
       "      <td>2020-10-20</td>\n",
       "      <td>www.itbusinessnet.com</td>\n",
       "      <td>Olympus to Support Endoscopic AI Diagnosis Edu...</td>\n",
       "      <td>TOKYO, Oct 20, 2020 – (ACN Newswire) – Olympus...</td>\n",
       "      <td>tokyo oct acn newswire olympus corporation too...</td>\n",
       "      <td>0.9936</td>\n",
       "      <td>Positive</td>\n",
       "    </tr>\n",
       "  </tbody>\n",
       "</table>\n",
       "</div>"
      ],
      "text/plain": [
       "         date                                     domain  \\\n",
       "0  2021-03-18                               en.people.cn   \n",
       "1  2020-02-27                         newsparliament.com   \n",
       "2  2021-03-26                         www.dataweek.co.za   \n",
       "3  2021-03-10  www.homeoffice.consumerelectronicsnet.com   \n",
       "4  2020-10-20                      www.itbusinessnet.com   \n",
       "\n",
       "                                         clean_title  \\\n",
       "0  Artificial intelligence improves parking effic...   \n",
       "1  Children With Autism Saw Their Learning and So...   \n",
       "2                     Forget ML, AI and Industry 4.0   \n",
       "3  Strategy Analytics: 71% of Smartphones Sold Gl...   \n",
       "4  Olympus to Support Endoscopic AI Diagnosis Edu...   \n",
       "\n",
       "                                          clean_text  \\\n",
       "0  Thanks to the application of an artificial int...   \n",
       "1  Coronavirus Could Explode in the U.S. Overnigh...   \n",
       "2  *mar21-abi Many decision-makers only realise t...   \n",
       "3  BOSTON–(BUSINESS WIRE)–Strategy Analytics in a...   \n",
       "4  TOKYO, Oct 20, 2020 – (ACN Newswire) – Olympus...   \n",
       "\n",
       "                                         clean_token  sentiment_score_vader  \\\n",
       "0  thanks application artificial intelligence ai ...                 0.9970   \n",
       "1  coronavirus could explode overnight like italy...                 0.9988   \n",
       "2  many realise problem hand regret following tag...                 0.9965   \n",
       "3  business wire analytics newly published report...                 0.9991   \n",
       "4  tokyo oct acn newswire olympus corporation too...                 0.9936   \n",
       "\n",
       "  sentiment_vader  \n",
       "0        Positive  \n",
       "1        Positive  \n",
       "2        Positive  \n",
       "3        Positive  \n",
       "4        Positive  "
      ]
     },
     "execution_count": 19,
     "metadata": {},
     "output_type": "execute_result"
    }
   ],
   "source": [
    "df_filtered.head()"
   ]
  },
  {
   "cell_type": "code",
   "execution_count": 20,
   "id": "606596cd",
   "metadata": {},
   "outputs": [],
   "source": [
    "import pickle\n",
    "\n",
    "# load vectorizer\n",
    "with open('yelp_sentiment_vect.pkl', 'rb') as f:\n",
    "    vect = pickle.load(f)\n",
    "\n",
    "# load svm\n",
    "with open('yelp_sentiment_svm.pkl', 'rb') as f:\n",
    "    svm = pickle.load(f)"
   ]
  },
  {
   "cell_type": "code",
   "execution_count": 21,
   "id": "68966600",
   "metadata": {},
   "outputs": [],
   "source": [
    "def sentiment_prediction_svm(text):\n",
    "        \n",
    "    sentiment = svm.predict(vect.transform(text))\n",
    "    return sentiment"
   ]
  },
  {
   "cell_type": "code",
   "execution_count": 22,
   "id": "1e3eace9",
   "metadata": {},
   "outputs": [],
   "source": [
    "sentiment_svm = sentiment_prediction_svm(df_filtered.clean_text.to_list())"
   ]
  },
  {
   "cell_type": "code",
   "execution_count": 23,
   "id": "af77ac3d",
   "metadata": {},
   "outputs": [],
   "source": [
    "df_filtered['sentiment_svm'] = sentiment_svm"
   ]
  },
  {
   "cell_type": "code",
   "execution_count": 24,
   "id": "a99e5425",
   "metadata": {},
   "outputs": [
    {
     "data": {
      "text/plain": [
       "0    104652\n",
       "1     60878\n",
       "Name: sentiment_svm, dtype: int64"
      ]
     },
     "execution_count": 24,
     "metadata": {},
     "output_type": "execute_result"
    }
   ],
   "source": [
    "df_filtered.sentiment_svm.value_counts()"
   ]
  },
  {
   "cell_type": "code",
   "execution_count": 25,
   "id": "97309ac4",
   "metadata": {},
   "outputs": [
    {
     "data": {
      "text/html": [
       "<div>\n",
       "<style scoped>\n",
       "    .dataframe tbody tr th:only-of-type {\n",
       "        vertical-align: middle;\n",
       "    }\n",
       "\n",
       "    .dataframe tbody tr th {\n",
       "        vertical-align: top;\n",
       "    }\n",
       "\n",
       "    .dataframe thead th {\n",
       "        text-align: right;\n",
       "    }\n",
       "</style>\n",
       "<table border=\"1\" class=\"dataframe\">\n",
       "  <thead>\n",
       "    <tr style=\"text-align: right;\">\n",
       "      <th></th>\n",
       "      <th>date</th>\n",
       "      <th>domain</th>\n",
       "      <th>clean_title</th>\n",
       "      <th>clean_text</th>\n",
       "      <th>clean_token</th>\n",
       "      <th>sentiment_score_vader</th>\n",
       "      <th>sentiment_vader</th>\n",
       "      <th>sentiment_svm</th>\n",
       "    </tr>\n",
       "  </thead>\n",
       "  <tbody>\n",
       "    <tr>\n",
       "      <th>0</th>\n",
       "      <td>2021-03-18</td>\n",
       "      <td>en.people.cn</td>\n",
       "      <td>Artificial intelligence improves parking effic...</td>\n",
       "      <td>Thanks to the application of an artificial int...</td>\n",
       "      <td>thanks application artificial intelligence ai ...</td>\n",
       "      <td>0.9970</td>\n",
       "      <td>Positive</td>\n",
       "      <td>0</td>\n",
       "    </tr>\n",
       "    <tr>\n",
       "      <th>1</th>\n",
       "      <td>2020-02-27</td>\n",
       "      <td>newsparliament.com</td>\n",
       "      <td>Children With Autism Saw Their Learning and So...</td>\n",
       "      <td>Coronavirus Could Explode in the U.S. Overnigh...</td>\n",
       "      <td>coronavirus could explode overnight like italy...</td>\n",
       "      <td>0.9988</td>\n",
       "      <td>Positive</td>\n",
       "      <td>0</td>\n",
       "    </tr>\n",
       "    <tr>\n",
       "      <th>2</th>\n",
       "      <td>2021-03-26</td>\n",
       "      <td>www.dataweek.co.za</td>\n",
       "      <td>Forget ML, AI and Industry 4.0</td>\n",
       "      <td>*mar21-abi Many decision-makers only realise t...</td>\n",
       "      <td>many realise problem hand regret following tag...</td>\n",
       "      <td>0.9965</td>\n",
       "      <td>Positive</td>\n",
       "      <td>0</td>\n",
       "    </tr>\n",
       "    <tr>\n",
       "      <th>3</th>\n",
       "      <td>2021-03-10</td>\n",
       "      <td>www.homeoffice.consumerelectronicsnet.com</td>\n",
       "      <td>Strategy Analytics: 71% of Smartphones Sold Gl...</td>\n",
       "      <td>BOSTON–(BUSINESS WIRE)–Strategy Analytics in a...</td>\n",
       "      <td>business wire analytics newly published report...</td>\n",
       "      <td>0.9991</td>\n",
       "      <td>Positive</td>\n",
       "      <td>1</td>\n",
       "    </tr>\n",
       "    <tr>\n",
       "      <th>4</th>\n",
       "      <td>2020-10-20</td>\n",
       "      <td>www.itbusinessnet.com</td>\n",
       "      <td>Olympus to Support Endoscopic AI Diagnosis Edu...</td>\n",
       "      <td>TOKYO, Oct 20, 2020 – (ACN Newswire) – Olympus...</td>\n",
       "      <td>tokyo oct acn newswire olympus corporation too...</td>\n",
       "      <td>0.9936</td>\n",
       "      <td>Positive</td>\n",
       "      <td>0</td>\n",
       "    </tr>\n",
       "  </tbody>\n",
       "</table>\n",
       "</div>"
      ],
      "text/plain": [
       "         date                                     domain  \\\n",
       "0  2021-03-18                               en.people.cn   \n",
       "1  2020-02-27                         newsparliament.com   \n",
       "2  2021-03-26                         www.dataweek.co.za   \n",
       "3  2021-03-10  www.homeoffice.consumerelectronicsnet.com   \n",
       "4  2020-10-20                      www.itbusinessnet.com   \n",
       "\n",
       "                                         clean_title  \\\n",
       "0  Artificial intelligence improves parking effic...   \n",
       "1  Children With Autism Saw Their Learning and So...   \n",
       "2                     Forget ML, AI and Industry 4.0   \n",
       "3  Strategy Analytics: 71% of Smartphones Sold Gl...   \n",
       "4  Olympus to Support Endoscopic AI Diagnosis Edu...   \n",
       "\n",
       "                                          clean_text  \\\n",
       "0  Thanks to the application of an artificial int...   \n",
       "1  Coronavirus Could Explode in the U.S. Overnigh...   \n",
       "2  *mar21-abi Many decision-makers only realise t...   \n",
       "3  BOSTON–(BUSINESS WIRE)–Strategy Analytics in a...   \n",
       "4  TOKYO, Oct 20, 2020 – (ACN Newswire) – Olympus...   \n",
       "\n",
       "                                         clean_token  sentiment_score_vader  \\\n",
       "0  thanks application artificial intelligence ai ...                 0.9970   \n",
       "1  coronavirus could explode overnight like italy...                 0.9988   \n",
       "2  many realise problem hand regret following tag...                 0.9965   \n",
       "3  business wire analytics newly published report...                 0.9991   \n",
       "4  tokyo oct acn newswire olympus corporation too...                 0.9936   \n",
       "\n",
       "  sentiment_vader  sentiment_svm  \n",
       "0        Positive              0  \n",
       "1        Positive              0  \n",
       "2        Positive              0  \n",
       "3        Positive              1  \n",
       "4        Positive              0  "
      ]
     },
     "execution_count": 25,
     "metadata": {},
     "output_type": "execute_result"
    }
   ],
   "source": [
    "df_filtered.head()"
   ]
  },
  {
   "cell_type": "code",
   "execution_count": 26,
   "id": "62a1fc09",
   "metadata": {},
   "outputs": [],
   "source": [
    "# save filtered df\n",
    "df_filtered.to_parquet('filtered_data_sentiment.parquet', engine='pyarrow')"
   ]
  },
  {
   "attachments": {},
   "cell_type": "markdown",
   "id": "a59a67b4",
   "metadata": {
    "jp-MarkdownHeadingCollapsed": true,
    "tags": []
   },
   "source": [
    "## Sentiment Analysis with Logistic Regression Fine Tuned with Yelp"
   ]
  },
  {
   "cell_type": "code",
   "execution_count": 3,
   "id": "59c947ac",
   "metadata": {},
   "outputs": [],
   "source": [
    "import pickle\n",
    "# load vectorizer\n",
    "with open('yelp_sentiment_vect_logreg.pkl', 'rb') as f:\n",
    "    vect_logreg = pickle.load(f)\n",
    "\n",
    "# load svm\n",
    "with open('yelp_sentiment_logreg.pkl', 'rb') as f:\n",
    "    logreg = pickle.load(f)"
   ]
  },
  {
   "cell_type": "code",
   "execution_count": 7,
   "id": "ee7591ed",
   "metadata": {},
   "outputs": [
    {
     "data": {
      "text/html": [
       "<div>\n",
       "<style scoped>\n",
       "    .dataframe tbody tr th:only-of-type {\n",
       "        vertical-align: middle;\n",
       "    }\n",
       "\n",
       "    .dataframe tbody tr th {\n",
       "        vertical-align: top;\n",
       "    }\n",
       "\n",
       "    .dataframe thead th {\n",
       "        text-align: right;\n",
       "    }\n",
       "</style>\n",
       "<table border=\"1\" class=\"dataframe\">\n",
       "  <thead>\n",
       "    <tr style=\"text-align: right;\">\n",
       "      <th></th>\n",
       "      <th>date</th>\n",
       "      <th>domain</th>\n",
       "      <th>clean_title</th>\n",
       "      <th>clean_text</th>\n",
       "      <th>clean_token</th>\n",
       "      <th>sentiment_score_vader</th>\n",
       "      <th>sentiment_vader</th>\n",
       "      <th>sentiment_svm</th>\n",
       "    </tr>\n",
       "  </thead>\n",
       "  <tbody>\n",
       "    <tr>\n",
       "      <th>0</th>\n",
       "      <td>2021-03-18</td>\n",
       "      <td>en.people.cn</td>\n",
       "      <td>Artificial intelligence improves parking effic...</td>\n",
       "      <td>Thanks to the application of an artificial int...</td>\n",
       "      <td>thanks application artificial intelligence ai ...</td>\n",
       "      <td>0.9970</td>\n",
       "      <td>Positive</td>\n",
       "      <td>0</td>\n",
       "    </tr>\n",
       "    <tr>\n",
       "      <th>1</th>\n",
       "      <td>2020-02-27</td>\n",
       "      <td>newsparliament.com</td>\n",
       "      <td>Children With Autism Saw Their Learning and So...</td>\n",
       "      <td>Coronavirus Could Explode in the U.S. Overnigh...</td>\n",
       "      <td>coronavirus could explode overnight like italy...</td>\n",
       "      <td>0.9988</td>\n",
       "      <td>Positive</td>\n",
       "      <td>0</td>\n",
       "    </tr>\n",
       "    <tr>\n",
       "      <th>2</th>\n",
       "      <td>2021-03-26</td>\n",
       "      <td>www.dataweek.co.za</td>\n",
       "      <td>Forget ML, AI and Industry 4.0</td>\n",
       "      <td>*mar21-abi Many decision-makers only realise t...</td>\n",
       "      <td>many realise problem hand regret following tag...</td>\n",
       "      <td>0.9965</td>\n",
       "      <td>Positive</td>\n",
       "      <td>0</td>\n",
       "    </tr>\n",
       "    <tr>\n",
       "      <th>3</th>\n",
       "      <td>2021-03-10</td>\n",
       "      <td>www.homeoffice.consumerelectronicsnet.com</td>\n",
       "      <td>Strategy Analytics: 71% of Smartphones Sold Gl...</td>\n",
       "      <td>BOSTON–(BUSINESS WIRE)–Strategy Analytics in a...</td>\n",
       "      <td>business wire analytics newly published report...</td>\n",
       "      <td>0.9991</td>\n",
       "      <td>Positive</td>\n",
       "      <td>1</td>\n",
       "    </tr>\n",
       "    <tr>\n",
       "      <th>4</th>\n",
       "      <td>2020-10-20</td>\n",
       "      <td>www.itbusinessnet.com</td>\n",
       "      <td>Olympus to Support Endoscopic AI Diagnosis Edu...</td>\n",
       "      <td>TOKYO, Oct 20, 2020 – (ACN Newswire) – Olympus...</td>\n",
       "      <td>tokyo oct acn newswire olympus corporation too...</td>\n",
       "      <td>0.9936</td>\n",
       "      <td>Positive</td>\n",
       "      <td>0</td>\n",
       "    </tr>\n",
       "  </tbody>\n",
       "</table>\n",
       "</div>"
      ],
      "text/plain": [
       "         date                                     domain  \\\n",
       "0  2021-03-18                               en.people.cn   \n",
       "1  2020-02-27                         newsparliament.com   \n",
       "2  2021-03-26                         www.dataweek.co.za   \n",
       "3  2021-03-10  www.homeoffice.consumerelectronicsnet.com   \n",
       "4  2020-10-20                      www.itbusinessnet.com   \n",
       "\n",
       "                                         clean_title  \\\n",
       "0  Artificial intelligence improves parking effic...   \n",
       "1  Children With Autism Saw Their Learning and So...   \n",
       "2                     Forget ML, AI and Industry 4.0   \n",
       "3  Strategy Analytics: 71% of Smartphones Sold Gl...   \n",
       "4  Olympus to Support Endoscopic AI Diagnosis Edu...   \n",
       "\n",
       "                                          clean_text  \\\n",
       "0  Thanks to the application of an artificial int...   \n",
       "1  Coronavirus Could Explode in the U.S. Overnigh...   \n",
       "2  *mar21-abi Many decision-makers only realise t...   \n",
       "3  BOSTON–(BUSINESS WIRE)–Strategy Analytics in a...   \n",
       "4  TOKYO, Oct 20, 2020 – (ACN Newswire) – Olympus...   \n",
       "\n",
       "                                         clean_token  sentiment_score_vader  \\\n",
       "0  thanks application artificial intelligence ai ...                 0.9970   \n",
       "1  coronavirus could explode overnight like italy...                 0.9988   \n",
       "2  many realise problem hand regret following tag...                 0.9965   \n",
       "3  business wire analytics newly published report...                 0.9991   \n",
       "4  tokyo oct acn newswire olympus corporation too...                 0.9936   \n",
       "\n",
       "  sentiment_vader  sentiment_svm  \n",
       "0        Positive              0  \n",
       "1        Positive              0  \n",
       "2        Positive              0  \n",
       "3        Positive              1  \n",
       "4        Positive              0  "
      ]
     },
     "execution_count": 7,
     "metadata": {},
     "output_type": "execute_result"
    }
   ],
   "source": [
    "import pandas as pd\n",
    "df_filtered = pd.read_parquet('filtered_data_sentiment.parquet', engine='pyarrow')\n",
    "df_filtered.head()"
   ]
  },
  {
   "cell_type": "code",
   "execution_count": 8,
   "id": "cd092590",
   "metadata": {},
   "outputs": [],
   "source": [
    "def sentiment_prediction_logreg(text):\n",
    "        \n",
    "    sentiment = logreg.predict(vect_logreg.transform(text))\n",
    "    return sentiment"
   ]
  },
  {
   "cell_type": "code",
   "execution_count": 9,
   "id": "bb741ee4",
   "metadata": {},
   "outputs": [],
   "source": [
    "sentiment_logreg = sentiment_prediction_logreg(df_filtered.clean_text.to_list())\n",
    "df_filtered['sentiment_logreg'] = sentiment_logreg"
   ]
  },
  {
   "cell_type": "code",
   "execution_count": 11,
   "id": "881e1350",
   "metadata": {},
   "outputs": [
    {
     "data": {
      "text/html": [
       "<div>\n",
       "<style scoped>\n",
       "    .dataframe tbody tr th:only-of-type {\n",
       "        vertical-align: middle;\n",
       "    }\n",
       "\n",
       "    .dataframe tbody tr th {\n",
       "        vertical-align: top;\n",
       "    }\n",
       "\n",
       "    .dataframe thead th {\n",
       "        text-align: right;\n",
       "    }\n",
       "</style>\n",
       "<table border=\"1\" class=\"dataframe\">\n",
       "  <thead>\n",
       "    <tr style=\"text-align: right;\">\n",
       "      <th></th>\n",
       "      <th>date</th>\n",
       "      <th>domain</th>\n",
       "      <th>clean_title</th>\n",
       "      <th>clean_text</th>\n",
       "      <th>clean_token</th>\n",
       "      <th>sentiment_score_vader</th>\n",
       "      <th>sentiment_vader</th>\n",
       "      <th>sentiment_svm</th>\n",
       "      <th>sentiment_logreg</th>\n",
       "    </tr>\n",
       "  </thead>\n",
       "  <tbody>\n",
       "    <tr>\n",
       "      <th>0</th>\n",
       "      <td>2021-03-18</td>\n",
       "      <td>en.people.cn</td>\n",
       "      <td>Artificial intelligence improves parking effic...</td>\n",
       "      <td>Thanks to the application of an artificial int...</td>\n",
       "      <td>thanks application artificial intelligence ai ...</td>\n",
       "      <td>0.9970</td>\n",
       "      <td>Positive</td>\n",
       "      <td>0</td>\n",
       "      <td>0</td>\n",
       "    </tr>\n",
       "    <tr>\n",
       "      <th>1</th>\n",
       "      <td>2020-02-27</td>\n",
       "      <td>newsparliament.com</td>\n",
       "      <td>Children With Autism Saw Their Learning and So...</td>\n",
       "      <td>Coronavirus Could Explode in the U.S. Overnigh...</td>\n",
       "      <td>coronavirus could explode overnight like italy...</td>\n",
       "      <td>0.9988</td>\n",
       "      <td>Positive</td>\n",
       "      <td>0</td>\n",
       "      <td>0</td>\n",
       "    </tr>\n",
       "    <tr>\n",
       "      <th>2</th>\n",
       "      <td>2021-03-26</td>\n",
       "      <td>www.dataweek.co.za</td>\n",
       "      <td>Forget ML, AI and Industry 4.0</td>\n",
       "      <td>*mar21-abi Many decision-makers only realise t...</td>\n",
       "      <td>many realise problem hand regret following tag...</td>\n",
       "      <td>0.9965</td>\n",
       "      <td>Positive</td>\n",
       "      <td>0</td>\n",
       "      <td>1</td>\n",
       "    </tr>\n",
       "    <tr>\n",
       "      <th>3</th>\n",
       "      <td>2021-03-10</td>\n",
       "      <td>www.homeoffice.consumerelectronicsnet.com</td>\n",
       "      <td>Strategy Analytics: 71% of Smartphones Sold Gl...</td>\n",
       "      <td>BOSTON–(BUSINESS WIRE)–Strategy Analytics in a...</td>\n",
       "      <td>business wire analytics newly published report...</td>\n",
       "      <td>0.9991</td>\n",
       "      <td>Positive</td>\n",
       "      <td>1</td>\n",
       "      <td>1</td>\n",
       "    </tr>\n",
       "    <tr>\n",
       "      <th>4</th>\n",
       "      <td>2020-10-20</td>\n",
       "      <td>www.itbusinessnet.com</td>\n",
       "      <td>Olympus to Support Endoscopic AI Diagnosis Edu...</td>\n",
       "      <td>TOKYO, Oct 20, 2020 – (ACN Newswire) – Olympus...</td>\n",
       "      <td>tokyo oct acn newswire olympus corporation too...</td>\n",
       "      <td>0.9936</td>\n",
       "      <td>Positive</td>\n",
       "      <td>0</td>\n",
       "      <td>0</td>\n",
       "    </tr>\n",
       "  </tbody>\n",
       "</table>\n",
       "</div>"
      ],
      "text/plain": [
       "         date                                     domain  \\\n",
       "0  2021-03-18                               en.people.cn   \n",
       "1  2020-02-27                         newsparliament.com   \n",
       "2  2021-03-26                         www.dataweek.co.za   \n",
       "3  2021-03-10  www.homeoffice.consumerelectronicsnet.com   \n",
       "4  2020-10-20                      www.itbusinessnet.com   \n",
       "\n",
       "                                         clean_title  \\\n",
       "0  Artificial intelligence improves parking effic...   \n",
       "1  Children With Autism Saw Their Learning and So...   \n",
       "2                     Forget ML, AI and Industry 4.0   \n",
       "3  Strategy Analytics: 71% of Smartphones Sold Gl...   \n",
       "4  Olympus to Support Endoscopic AI Diagnosis Edu...   \n",
       "\n",
       "                                          clean_text  \\\n",
       "0  Thanks to the application of an artificial int...   \n",
       "1  Coronavirus Could Explode in the U.S. Overnigh...   \n",
       "2  *mar21-abi Many decision-makers only realise t...   \n",
       "3  BOSTON–(BUSINESS WIRE)–Strategy Analytics in a...   \n",
       "4  TOKYO, Oct 20, 2020 – (ACN Newswire) – Olympus...   \n",
       "\n",
       "                                         clean_token  sentiment_score_vader  \\\n",
       "0  thanks application artificial intelligence ai ...                 0.9970   \n",
       "1  coronavirus could explode overnight like italy...                 0.9988   \n",
       "2  many realise problem hand regret following tag...                 0.9965   \n",
       "3  business wire analytics newly published report...                 0.9991   \n",
       "4  tokyo oct acn newswire olympus corporation too...                 0.9936   \n",
       "\n",
       "  sentiment_vader  sentiment_svm  sentiment_logreg  \n",
       "0        Positive              0                 0  \n",
       "1        Positive              0                 0  \n",
       "2        Positive              0                 1  \n",
       "3        Positive              1                 1  \n",
       "4        Positive              0                 0  "
      ]
     },
     "execution_count": 11,
     "metadata": {},
     "output_type": "execute_result"
    }
   ],
   "source": [
    "df_filtered.head()"
   ]
  },
  {
   "cell_type": "code",
   "execution_count": 12,
   "id": "b841fc81",
   "metadata": {},
   "outputs": [
    {
     "data": {
      "text/plain": [
       "0    104714\n",
       "1     60816\n",
       "Name: sentiment_logreg, dtype: int64"
      ]
     },
     "execution_count": 12,
     "metadata": {},
     "output_type": "execute_result"
    }
   ],
   "source": [
    "df_filtered.sentiment_logreg.value_counts()"
   ]
  },
  {
   "attachments": {},
   "cell_type": "markdown",
   "id": "a26a6d8a",
   "metadata": {},
   "source": []
  },
  {
   "cell_type": "code",
   "execution_count": 13,
   "id": "c19836ad",
   "metadata": {},
   "outputs": [
    {
     "data": {
      "text/plain": [
       "0    104652\n",
       "1     60878\n",
       "Name: sentiment_svm, dtype: int64"
      ]
     },
     "execution_count": 13,
     "metadata": {},
     "output_type": "execute_result"
    }
   ],
   "source": [
    "df_filtered.sentiment_svm.value_counts()"
   ]
  },
  {
   "cell_type": "code",
   "execution_count": null,
   "id": "7debe104",
   "metadata": {},
   "outputs": [],
   "source": []
  },
  {
   "attachments": {},
   "cell_type": "markdown",
   "id": "8d9a1092",
   "metadata": {
    "jp-MarkdownHeadingCollapsed": true,
    "tags": []
   },
   "source": [
    "## Sentiment Analysis with Bert Fine Tuned with Yelp"
   ]
  },
  {
   "cell_type": "code",
   "execution_count": 9,
   "id": "65413840-b0e6-4e5c-a490-f84db9528255",
   "metadata": {
    "tags": []
   },
   "outputs": [],
   "source": [
    "# !pip install ktrain"
   ]
  },
  {
   "cell_type": "code",
   "execution_count": 10,
   "id": "01d7b1b2",
   "metadata": {
    "tags": []
   },
   "outputs": [
    {
     "name": "stderr",
     "output_type": "stream",
     "text": [
      "/opt/conda/lib/python3.10/site-packages/tensorflow_io/python/ops/__init__.py:98: UserWarning: unable to load libtensorflow_io_plugins.so: unable to open file: libtensorflow_io_plugins.so, from paths: ['/opt/conda/lib/python3.10/site-packages/tensorflow_io/python/ops/libtensorflow_io_plugins.so']\n",
      "caused by: ['/opt/conda/lib/python3.10/site-packages/tensorflow_io/python/ops/libtensorflow_io_plugins.so: undefined symbol: _ZN3tsl6StatusC1EN10tensorflow5error4CodeESt17basic_string_viewIcSt11char_traitsIcEENS_14SourceLocationE']\n",
      "  warnings.warn(f\"unable to load libtensorflow_io_plugins.so: {e}\")\n",
      "/opt/conda/lib/python3.10/site-packages/tensorflow_io/python/ops/__init__.py:104: UserWarning: file system plugins are not loaded: unable to open file: libtensorflow_io.so, from paths: ['/opt/conda/lib/python3.10/site-packages/tensorflow_io/python/ops/libtensorflow_io.so']\n",
      "caused by: ['/opt/conda/lib/python3.10/site-packages/tensorflow_io/python/ops/libtensorflow_io.so: undefined symbol: _ZTVN10tensorflow13GcsFileSystemE']\n",
      "  warnings.warn(f\"file system plugins are not loaded: {e}\")\n"
     ]
    }
   ],
   "source": [
    "import ktrain\n",
    "from ktrain import text"
   ]
  },
  {
   "cell_type": "code",
   "execution_count": 11,
   "id": "57d0cd1e",
   "metadata": {
    "tags": []
   },
   "outputs": [
    {
     "name": "stdout",
     "output_type": "stream",
     "text": [
      "fasttext: a fastText-like model [http://arxiv.org/pdf/1607.01759.pdf]\n",
      "logreg: logistic regression using a trainable Embedding layer\n",
      "nbsvm: NBSVM model [http://www.aclweb.org/anthology/P12-2018]\n",
      "bigru: Bidirectional GRU with pretrained fasttext word vectors [https://fasttext.cc/docs/en/crawl-vectors.html]\n",
      "standard_gru: simple 2-layer GRU with randomly initialized embeddings\n",
      "bert: Bidirectional Encoder Representations from Transformers (BERT) from keras_bert [https://arxiv.org/abs/1810.04805]\n",
      "distilbert: distilled, smaller, and faster BERT from Hugging Face transformers [https://arxiv.org/abs/1910.01108]\n"
     ]
    }
   ],
   "source": [
    "text.print_text_classifiers()"
   ]
  },
  {
   "cell_type": "code",
   "execution_count": 12,
   "id": "f0645079",
   "metadata": {
    "tags": []
   },
   "outputs": [
    {
     "name": "stderr",
     "output_type": "stream",
     "text": [
      "/opt/conda/lib/python3.10/site-packages/keras/initializers/initializers.py:120: UserWarning: The initializer GlorotNormal is unseeded and being called multiple times, which will return identical values each time (even if the initializer is unseeded). Please update your code to provide a seed to the initializer, or avoid using the same initalizer instance more than once.\n",
      "  warnings.warn(\n"
     ]
    }
   ],
   "source": [
    "predictor = ktrain.load_predictor('predictor')"
   ]
  },
  {
   "cell_type": "code",
   "execution_count": 15,
   "id": "91eab099-8e37-4b8f-8e8b-f1e65b8d51aa",
   "metadata": {
    "tags": []
   },
   "outputs": [
    {
     "name": "stdout",
     "output_type": "stream",
     "text": [
      "CPU times: user 29.7 s, sys: 2.47 s, total: 32.2 s\n",
      "Wall time: 32.2 s\n"
     ]
    },
    {
     "data": {
      "text/html": [
       "<div>\n",
       "<style scoped>\n",
       "    .dataframe tbody tr th:only-of-type {\n",
       "        vertical-align: middle;\n",
       "    }\n",
       "\n",
       "    .dataframe tbody tr th {\n",
       "        vertical-align: top;\n",
       "    }\n",
       "\n",
       "    .dataframe thead th {\n",
       "        text-align: right;\n",
       "    }\n",
       "</style>\n",
       "<table border=\"1\" class=\"dataframe\">\n",
       "  <thead>\n",
       "    <tr style=\"text-align: right;\">\n",
       "      <th></th>\n",
       "      <th>date</th>\n",
       "      <th>domain</th>\n",
       "      <th>clean_title</th>\n",
       "      <th>clean_text</th>\n",
       "      <th>clean_token</th>\n",
       "      <th>sentiment_score_vader</th>\n",
       "      <th>sentiment_vader</th>\n",
       "      <th>sentiment_svm</th>\n",
       "      <th>sentiment_score_vader_customized</th>\n",
       "      <th>sentiment_vader_customized</th>\n",
       "      <th>NER_word</th>\n",
       "      <th>ORG_NER</th>\n",
       "      <th>PERSON_NER</th>\n",
       "      <th>GPE_NER</th>\n",
       "      <th>sentiment_ner</th>\n",
       "    </tr>\n",
       "  </thead>\n",
       "  <tbody>\n",
       "    <tr>\n",
       "      <th>0</th>\n",
       "      <td>2021-03-18</td>\n",
       "      <td>en.people.cn</td>\n",
       "      <td>Artificial intelligence improves parking effic...</td>\n",
       "      <td>Thanks to the application of an artificial int...</td>\n",
       "      <td>thanks application artificial intelligence ai ...</td>\n",
       "      <td>0.997</td>\n",
       "      <td>Positive</td>\n",
       "      <td>0</td>\n",
       "      <td>0.9961</td>\n",
       "      <td>Positive</td>\n",
       "      <td>[[ETC, ETC, AI, Wang, ETC, Wang, ETC, Ministry...</td>\n",
       "      <td>[ETC, ETC, AI, Wang, ETC, Wang, ETC, Ministry ...</td>\n",
       "      <td>[Xiang Yanping, Xiang]</td>\n",
       "      <td>[China, Beijing, Chaoyang, Beijing, Beijing, B...</td>\n",
       "      <td>E...</td>\n",
       "    </tr>\n",
       "  </tbody>\n",
       "</table>\n",
       "</div>"
      ],
      "text/plain": [
       "         date        domain  \\\n",
       "0  2021-03-18  en.people.cn   \n",
       "\n",
       "                                         clean_title  \\\n",
       "0  Artificial intelligence improves parking effic...   \n",
       "\n",
       "                                          clean_text  \\\n",
       "0  Thanks to the application of an artificial int...   \n",
       "\n",
       "                                         clean_token  sentiment_score_vader  \\\n",
       "0  thanks application artificial intelligence ai ...                  0.997   \n",
       "\n",
       "  sentiment_vader  sentiment_svm  sentiment_score_vader_customized  \\\n",
       "0        Positive              0                            0.9961   \n",
       "\n",
       "  sentiment_vader_customized  \\\n",
       "0                   Positive   \n",
       "\n",
       "                                            NER_word  \\\n",
       "0  [[ETC, ETC, AI, Wang, ETC, Wang, ETC, Ministry...   \n",
       "\n",
       "                                             ORG_NER              PERSON_NER  \\\n",
       "0  [ETC, ETC, AI, Wang, ETC, Wang, ETC, Ministry ...  [Xiang Yanping, Xiang]   \n",
       "\n",
       "                                             GPE_NER  \\\n",
       "0  [China, Beijing, Chaoyang, Beijing, Beijing, B...   \n",
       "\n",
       "                                       sentiment_ner  \n",
       "0                                               E...  "
      ]
     },
     "execution_count": 15,
     "metadata": {},
     "output_type": "execute_result"
    }
   ],
   "source": [
    "%%time\n",
    "df_filtered = pd.read_pickle('filtered_data_sentiment_NER.pkl')\n",
    "df_filtered.head(1)"
   ]
  },
  {
   "cell_type": "code",
   "execution_count": 16,
   "id": "4c452e9c",
   "metadata": {
    "tags": []
   },
   "outputs": [
    {
     "name": "stdout",
     "output_type": "stream",
     "text": [
      "CPU times: user 2d 7h 32min 20s, sys: 3h 22min 53s, total: 2d 10h 55min 14s\n",
      "Wall time: 5h 39min 5s\n"
     ]
    }
   ],
   "source": [
    "%%time\n",
    "sentiment_bert_yelp = predictor.predict(df_filtered.clean_text.tolist())"
   ]
  },
  {
   "cell_type": "code",
   "execution_count": 22,
   "id": "91ef21fb-c6f1-485f-81a9-ee6eeb60d039",
   "metadata": {
    "tags": []
   },
   "outputs": [],
   "source": [
    "df_filtered['sentiment_bert'] = sentiment_bert_yelp"
   ]
  },
  {
   "cell_type": "code",
   "execution_count": 26,
   "id": "649a3b00-4225-47aa-8c86-df34fbf32ac1",
   "metadata": {
    "tags": []
   },
   "outputs": [
    {
     "data": {
      "text/html": [
       "<div>\n",
       "<style scoped>\n",
       "    .dataframe tbody tr th:only-of-type {\n",
       "        vertical-align: middle;\n",
       "    }\n",
       "\n",
       "    .dataframe tbody tr th {\n",
       "        vertical-align: top;\n",
       "    }\n",
       "\n",
       "    .dataframe thead th {\n",
       "        text-align: right;\n",
       "    }\n",
       "</style>\n",
       "<table border=\"1\" class=\"dataframe\">\n",
       "  <thead>\n",
       "    <tr style=\"text-align: right;\">\n",
       "      <th></th>\n",
       "      <th>date</th>\n",
       "      <th>domain</th>\n",
       "      <th>clean_title</th>\n",
       "      <th>clean_text</th>\n",
       "      <th>clean_token</th>\n",
       "      <th>sentiment_score_vader</th>\n",
       "      <th>sentiment_vader</th>\n",
       "      <th>sentiment_svm</th>\n",
       "      <th>sentiment_score_vader_customized</th>\n",
       "      <th>sentiment_vader_customized</th>\n",
       "      <th>NER_word</th>\n",
       "      <th>ORG_NER</th>\n",
       "      <th>PERSON_NER</th>\n",
       "      <th>GPE_NER</th>\n",
       "      <th>sentiment_ner</th>\n",
       "      <th>sentiment_bert</th>\n",
       "    </tr>\n",
       "  </thead>\n",
       "  <tbody>\n",
       "    <tr>\n",
       "      <th>0</th>\n",
       "      <td>2021-03-18</td>\n",
       "      <td>en.people.cn</td>\n",
       "      <td>Artificial intelligence improves parking effic...</td>\n",
       "      <td>Thanks to the application of an artificial int...</td>\n",
       "      <td>thanks application artificial intelligence ai ...</td>\n",
       "      <td>0.9970</td>\n",
       "      <td>Positive</td>\n",
       "      <td>0</td>\n",
       "      <td>0.9961</td>\n",
       "      <td>Positive</td>\n",
       "      <td>[[ETC, ETC, AI, Wang, ETC, Wang, ETC, Ministry...</td>\n",
       "      <td>[ETC, ETC, AI, Wang, ETC, Wang, ETC, Ministry ...</td>\n",
       "      <td>[Xiang Yanping, Xiang]</td>\n",
       "      <td>[China, Beijing, Chaoyang, Beijing, Beijing, B...</td>\n",
       "      <td>E...</td>\n",
       "      <td>Positive</td>\n",
       "    </tr>\n",
       "    <tr>\n",
       "      <th>1</th>\n",
       "      <td>2020-02-27</td>\n",
       "      <td>newsparliament.com</td>\n",
       "      <td>Children With Autism Saw Their Learning and So...</td>\n",
       "      <td>Coronavirus Could Explode in the U.S. Overnigh...</td>\n",
       "      <td>coronavirus could explode overnight like italy...</td>\n",
       "      <td>0.9988</td>\n",
       "      <td>Positive</td>\n",
       "      <td>0</td>\n",
       "      <td>0.9987</td>\n",
       "      <td>Positive</td>\n",
       "      <td>[[Kiwi, the University of Southern California,...</td>\n",
       "      <td>[Kiwi, the University of Southern California, ...</td>\n",
       "      <td>[Levi Strauss, Kiwi, Kiwi, Kiwi, Shomik Jain, ...</td>\n",
       "      <td>[Explode, U.S., Explode, U.S., U.S., South Car...</td>\n",
       "      <td>...</td>\n",
       "      <td>Negative</td>\n",
       "    </tr>\n",
       "  </tbody>\n",
       "</table>\n",
       "</div>"
      ],
      "text/plain": [
       "         date              domain  \\\n",
       "0  2021-03-18        en.people.cn   \n",
       "1  2020-02-27  newsparliament.com   \n",
       "\n",
       "                                         clean_title  \\\n",
       "0  Artificial intelligence improves parking effic...   \n",
       "1  Children With Autism Saw Their Learning and So...   \n",
       "\n",
       "                                          clean_text  \\\n",
       "0  Thanks to the application of an artificial int...   \n",
       "1  Coronavirus Could Explode in the U.S. Overnigh...   \n",
       "\n",
       "                                         clean_token  sentiment_score_vader  \\\n",
       "0  thanks application artificial intelligence ai ...                 0.9970   \n",
       "1  coronavirus could explode overnight like italy...                 0.9988   \n",
       "\n",
       "  sentiment_vader  sentiment_svm  sentiment_score_vader_customized  \\\n",
       "0        Positive              0                            0.9961   \n",
       "1        Positive              0                            0.9987   \n",
       "\n",
       "  sentiment_vader_customized  \\\n",
       "0                   Positive   \n",
       "1                   Positive   \n",
       "\n",
       "                                            NER_word  \\\n",
       "0  [[ETC, ETC, AI, Wang, ETC, Wang, ETC, Ministry...   \n",
       "1  [[Kiwi, the University of Southern California,...   \n",
       "\n",
       "                                             ORG_NER  \\\n",
       "0  [ETC, ETC, AI, Wang, ETC, Wang, ETC, Ministry ...   \n",
       "1  [Kiwi, the University of Southern California, ...   \n",
       "\n",
       "                                          PERSON_NER  \\\n",
       "0                             [Xiang Yanping, Xiang]   \n",
       "1  [Levi Strauss, Kiwi, Kiwi, Kiwi, Shomik Jain, ...   \n",
       "\n",
       "                                             GPE_NER  \\\n",
       "0  [China, Beijing, Chaoyang, Beijing, Beijing, B...   \n",
       "1  [Explode, U.S., Explode, U.S., U.S., South Car...   \n",
       "\n",
       "                                       sentiment_ner sentiment_bert  \n",
       "0                                               E...       Positive  \n",
       "1                                                ...       Negative  "
      ]
     },
     "execution_count": 26,
     "metadata": {},
     "output_type": "execute_result"
    }
   ],
   "source": [
    "df_filtered.head(2)"
   ]
  },
  {
   "cell_type": "code",
   "execution_count": 25,
   "id": "2dd6c500-bbe1-4242-9026-bd99577ed444",
   "metadata": {
    "tags": []
   },
   "outputs": [
    {
     "data": {
      "text/plain": [
       "Positive    115731\n",
       "Negative     49799\n",
       "Name: sentiment_bert, dtype: int64"
      ]
     },
     "execution_count": 25,
     "metadata": {},
     "output_type": "execute_result"
    }
   ],
   "source": [
    "df_filtered['sentiment_bert'].value_counts()"
   ]
  },
  {
   "cell_type": "code",
   "execution_count": 27,
   "id": "9f21ad90-f7eb-4822-b08b-8fa801329285",
   "metadata": {
    "tags": []
   },
   "outputs": [],
   "source": [
    "df_filtered.to_pickle('filtered_data_sentiment_NER.pkl')"
   ]
  },
  {
   "attachments": {},
   "cell_type": "markdown",
   "id": "5b985869",
   "metadata": {
    "jp-MarkdownHeadingCollapsed": true,
    "tags": []
   },
   "source": [
    "## Sentiment Analysis with Customized Vader Lexicon (news level)"
   ]
  },
  {
   "cell_type": "code",
   "execution_count": 38,
   "id": "c31303d3",
   "metadata": {},
   "outputs": [
    {
     "data": {
      "text/html": [
       "<div>\n",
       "<style scoped>\n",
       "    .dataframe tbody tr th:only-of-type {\n",
       "        vertical-align: middle;\n",
       "    }\n",
       "\n",
       "    .dataframe tbody tr th {\n",
       "        vertical-align: top;\n",
       "    }\n",
       "\n",
       "    .dataframe thead th {\n",
       "        text-align: right;\n",
       "    }\n",
       "</style>\n",
       "<table border=\"1\" class=\"dataframe\">\n",
       "  <thead>\n",
       "    <tr style=\"text-align: right;\">\n",
       "      <th></th>\n",
       "      <th>date</th>\n",
       "      <th>domain</th>\n",
       "      <th>clean_title</th>\n",
       "      <th>clean_text</th>\n",
       "      <th>clean_token</th>\n",
       "      <th>sentiment_score_vader</th>\n",
       "      <th>sentiment_vader</th>\n",
       "      <th>sentiment_svm</th>\n",
       "    </tr>\n",
       "  </thead>\n",
       "  <tbody>\n",
       "    <tr>\n",
       "      <th>0</th>\n",
       "      <td>2021-03-18</td>\n",
       "      <td>en.people.cn</td>\n",
       "      <td>Artificial intelligence improves parking effic...</td>\n",
       "      <td>Thanks to the application of an artificial int...</td>\n",
       "      <td>thanks application artificial intelligence ai ...</td>\n",
       "      <td>0.9970</td>\n",
       "      <td>Positive</td>\n",
       "      <td>0</td>\n",
       "    </tr>\n",
       "    <tr>\n",
       "      <th>1</th>\n",
       "      <td>2020-02-27</td>\n",
       "      <td>newsparliament.com</td>\n",
       "      <td>Children With Autism Saw Their Learning and So...</td>\n",
       "      <td>Coronavirus Could Explode in the U.S. Overnigh...</td>\n",
       "      <td>coronavirus could explode overnight like italy...</td>\n",
       "      <td>0.9988</td>\n",
       "      <td>Positive</td>\n",
       "      <td>0</td>\n",
       "    </tr>\n",
       "    <tr>\n",
       "      <th>2</th>\n",
       "      <td>2021-03-26</td>\n",
       "      <td>www.dataweek.co.za</td>\n",
       "      <td>Forget ML, AI and Industry 4.0</td>\n",
       "      <td>*mar21-abi Many decision-makers only realise t...</td>\n",
       "      <td>many realise problem hand regret following tag...</td>\n",
       "      <td>0.9965</td>\n",
       "      <td>Positive</td>\n",
       "      <td>0</td>\n",
       "    </tr>\n",
       "    <tr>\n",
       "      <th>3</th>\n",
       "      <td>2021-03-10</td>\n",
       "      <td>www.homeoffice.consumerelectronicsnet.com</td>\n",
       "      <td>Strategy Analytics: 71% of Smartphones Sold Gl...</td>\n",
       "      <td>BOSTON–(BUSINESS WIRE)–Strategy Analytics in a...</td>\n",
       "      <td>business wire analytics newly published report...</td>\n",
       "      <td>0.9991</td>\n",
       "      <td>Positive</td>\n",
       "      <td>1</td>\n",
       "    </tr>\n",
       "    <tr>\n",
       "      <th>4</th>\n",
       "      <td>2020-10-20</td>\n",
       "      <td>www.itbusinessnet.com</td>\n",
       "      <td>Olympus to Support Endoscopic AI Diagnosis Edu...</td>\n",
       "      <td>TOKYO, Oct 20, 2020 – (ACN Newswire) – Olympus...</td>\n",
       "      <td>tokyo oct acn newswire olympus corporation too...</td>\n",
       "      <td>0.9936</td>\n",
       "      <td>Positive</td>\n",
       "      <td>0</td>\n",
       "    </tr>\n",
       "  </tbody>\n",
       "</table>\n",
       "</div>"
      ],
      "text/plain": [
       "         date                                     domain  \\\n",
       "0  2021-03-18                               en.people.cn   \n",
       "1  2020-02-27                         newsparliament.com   \n",
       "2  2021-03-26                         www.dataweek.co.za   \n",
       "3  2021-03-10  www.homeoffice.consumerelectronicsnet.com   \n",
       "4  2020-10-20                      www.itbusinessnet.com   \n",
       "\n",
       "                                         clean_title  \\\n",
       "0  Artificial intelligence improves parking effic...   \n",
       "1  Children With Autism Saw Their Learning and So...   \n",
       "2                     Forget ML, AI and Industry 4.0   \n",
       "3  Strategy Analytics: 71% of Smartphones Sold Gl...   \n",
       "4  Olympus to Support Endoscopic AI Diagnosis Edu...   \n",
       "\n",
       "                                          clean_text  \\\n",
       "0  Thanks to the application of an artificial int...   \n",
       "1  Coronavirus Could Explode in the U.S. Overnigh...   \n",
       "2  *mar21-abi Many decision-makers only realise t...   \n",
       "3  BOSTON–(BUSINESS WIRE)–Strategy Analytics in a...   \n",
       "4  TOKYO, Oct 20, 2020 – (ACN Newswire) – Olympus...   \n",
       "\n",
       "                                         clean_token  sentiment_score_vader  \\\n",
       "0  thanks application artificial intelligence ai ...                 0.9970   \n",
       "1  coronavirus could explode overnight like italy...                 0.9988   \n",
       "2  many realise problem hand regret following tag...                 0.9965   \n",
       "3  business wire analytics newly published report...                 0.9991   \n",
       "4  tokyo oct acn newswire olympus corporation too...                 0.9936   \n",
       "\n",
       "  sentiment_vader  sentiment_svm  \n",
       "0        Positive              0  \n",
       "1        Positive              0  \n",
       "2        Positive              0  \n",
       "3        Positive              1  \n",
       "4        Positive              0  "
      ]
     },
     "execution_count": 38,
     "metadata": {},
     "output_type": "execute_result"
    }
   ],
   "source": [
    "df_filtered = pd.read_parquet('filtered_data_sentiment.parquet')\n",
    "df_filtered.head()"
   ]
  },
  {
   "cell_type": "code",
   "execution_count": 30,
   "id": "d92f5090",
   "metadata": {},
   "outputs": [],
   "source": [
    "customized_analyzer = SentimentIntensityAnalyzer()\n",
    "customized_analyzer.lexicon.update({\n",
    "    word: 1.0 for word in ['breakthrough', 'innovation', 'scalability', 'streamlining', 'exploration', 'flexible', 'creation', 'sustainable', 'unleash', 'dynamic', 'empower', 'proactive', 'responsive', 'collaborative', 'integrated', 'personalization', 'inclusive', 'advancement', 'profitability', 'outperform', 'exceed', 'tailored', 'seamless', 'leverage', 'enhancement', 'unprecedented', 'revolutionary', 'groundbreaking', 'mining','opportunity', 'growth', 'automation', 'efficiency', 'productivity', 'competitiveness', 'prospects','development', 'progress', 'transformation', 'intelligence', 'digitization', 'smart', 'wisdom', 'optimization', 'data-driven',  'accuracy', 'high-quality', 'high-efficiency', 'cost-saving', 'safety', 'reliability',  'leading', 'leader', 'competitor', 'advantage', 'accelerate', 'excel', 'reinvent', 'simplify', 'maximize', 'enrich', 'facilitate', 'inspire', 'ignite', 'cultivate', 'reliable', 'diversify', 'monetize', 'empowering', 'interoperability', 'ingenuity', 'visionary', 'meticulous', 'proliferation', 'synergize', 'enhance', 'adaptive', 'revitalize', 'rejuvenate', 'spearhead']\n",
    "})\n",
    "\n",
    "customized_analyzer.lexicon.update({\n",
    "    word: -1.0 for word in ['disruptive', 'detrimental', 'compromise', 'vulnerable', 'intrusive', 'exploitation', 'overdependence', 'oversimplification', 'misinterpretation', 'bias', 'unethical', 'exclusion', 'distrust', 'alienation', 'fraudulent', 'counterfeit', 'substandard', 'obsolete', 'impersonal', 'inefficient', 'loss', 'high risk', 'heavy burden', 'high challenge',  'opposition','stagnation', 'inflexibility','unemployment', 'uncertainty', 'contraction', 'reduction', 'downsizing', 'bottleneck', 'challenge', 'obstacle', 'risk', 'insecurity', 'instability', 'unreliability',  'restriction', 'limitation', 'regression', 'backwardness', 'failure', 'defect', 'problem', 'difficulty', 'negative', 'pessimistic', 'worry', 'fear', 'inadequacy', 'pressure', 'struggle', 'plight', 'crisis', 'frustration', 'disappointment', 'injury', 'hopelessness', 'pessimism', 'downward trend', 'stubbornness', 'conservatism', 'resistance', 'constraint',  'outdated', 'slow', 'low-efficiency', 'low-quality', 'high-cost']\n",
    "})\n"
   ]
  },
  {
   "attachments": {},
   "cell_type": "markdown",
   "id": "18186cf4",
   "metadata": {},
   "source": [
    "#### News Level"
   ]
  },
  {
   "cell_type": "code",
   "execution_count": 39,
   "id": "151e735c",
   "metadata": {},
   "outputs": [
    {
     "data": {
      "application/vnd.jupyter.widget-view+json": {
       "model_id": "48976dfb79de43879d3fce22a2f1bfa6",
       "version_major": 2,
       "version_minor": 0
      },
      "text/plain": [
       "VBox(children=(HBox(children=(IntProgress(value=0, description='0.00%', max=8713), Label(value='0 / 8713'))), …"
      ]
     },
     "metadata": {},
     "output_type": "display_data"
    },
    {
     "name": "stdout",
     "output_type": "stream",
     "text": [
      "CPU times: total: 7.7 s\n",
      "Wall time: 14min 19s\n"
     ]
    },
    {
     "data": {
      "text/html": [
       "<div>\n",
       "<style scoped>\n",
       "    .dataframe tbody tr th:only-of-type {\n",
       "        vertical-align: middle;\n",
       "    }\n",
       "\n",
       "    .dataframe tbody tr th {\n",
       "        vertical-align: top;\n",
       "    }\n",
       "\n",
       "    .dataframe thead th {\n",
       "        text-align: right;\n",
       "    }\n",
       "</style>\n",
       "<table border=\"1\" class=\"dataframe\">\n",
       "  <thead>\n",
       "    <tr style=\"text-align: right;\">\n",
       "      <th></th>\n",
       "      <th>date</th>\n",
       "      <th>domain</th>\n",
       "      <th>clean_title</th>\n",
       "      <th>clean_text</th>\n",
       "      <th>clean_token</th>\n",
       "      <th>sentiment_score_vader</th>\n",
       "      <th>sentiment_vader</th>\n",
       "      <th>sentiment_svm</th>\n",
       "      <th>neg</th>\n",
       "      <th>neu</th>\n",
       "      <th>pos</th>\n",
       "      <th>compound</th>\n",
       "      <th>sentiment</th>\n",
       "    </tr>\n",
       "  </thead>\n",
       "  <tbody>\n",
       "    <tr>\n",
       "      <th>0</th>\n",
       "      <td>2021-03-18</td>\n",
       "      <td>en.people.cn</td>\n",
       "      <td>Artificial intelligence improves parking effic...</td>\n",
       "      <td>Thanks to the application of an artificial int...</td>\n",
       "      <td>thanks application artificial intelligence ai ...</td>\n",
       "      <td>0.997</td>\n",
       "      <td>Positive</td>\n",
       "      <td>0</td>\n",
       "      <td>0.026</td>\n",
       "      <td>0.843</td>\n",
       "      <td>0.131</td>\n",
       "      <td>0.9961</td>\n",
       "      <td>Positive</td>\n",
       "    </tr>\n",
       "  </tbody>\n",
       "</table>\n",
       "</div>"
      ],
      "text/plain": [
       "         date        domain  \\\n",
       "0  2021-03-18  en.people.cn   \n",
       "\n",
       "                                         clean_title  \\\n",
       "0  Artificial intelligence improves parking effic...   \n",
       "\n",
       "                                          clean_text  \\\n",
       "0  Thanks to the application of an artificial int...   \n",
       "\n",
       "                                         clean_token  sentiment_score_vader  \\\n",
       "0  thanks application artificial intelligence ai ...                  0.997   \n",
       "\n",
       "  sentiment_vader  sentiment_svm    neg    neu    pos  compound sentiment  \n",
       "0        Positive              0  0.026  0.843  0.131    0.9961  Positive  "
      ]
     },
     "execution_count": 39,
     "metadata": {},
     "output_type": "execute_result"
    }
   ],
   "source": [
    "%%time\n",
    "sentiment_vader = pd.DataFrame()\n",
    "sentiment_vader['vader'] = df_filtered['clean_text'].parallel_apply(customized_analyzer.polarity_scores)\n",
    "sentiment_vader = pd.DataFrame(sentiment_vader['vader'].tolist())\n",
    "\n",
    "# Create a positive / negative sentiment variable\n",
    "sentiment_vader['sentiment'] = np.where(sentiment_vader['compound'].astype(float) > 0, 'Positive', 'Negative')\n",
    "sentiment_vader['sentiment'] = np.where(sentiment_vader['compound'].astype(float) == 0, 'Neutral', sentiment_vader['sentiment'])\n",
    "\n",
    "# Merge Vader values with Sentiments\n",
    "df_filtered = pd.merge(df_filtered, sentiment_vader, left_index=True, right_index=True)\n",
    "df_filtered.head(1)"
   ]
  },
  {
   "cell_type": "code",
   "execution_count": 40,
   "id": "9a1e1c85",
   "metadata": {},
   "outputs": [
    {
     "data": {
      "text/html": [
       "<div>\n",
       "<style scoped>\n",
       "    .dataframe tbody tr th:only-of-type {\n",
       "        vertical-align: middle;\n",
       "    }\n",
       "\n",
       "    .dataframe tbody tr th {\n",
       "        vertical-align: top;\n",
       "    }\n",
       "\n",
       "    .dataframe thead th {\n",
       "        text-align: right;\n",
       "    }\n",
       "</style>\n",
       "<table border=\"1\" class=\"dataframe\">\n",
       "  <thead>\n",
       "    <tr style=\"text-align: right;\">\n",
       "      <th></th>\n",
       "      <th>date</th>\n",
       "      <th>domain</th>\n",
       "      <th>clean_title</th>\n",
       "      <th>clean_text</th>\n",
       "      <th>clean_token</th>\n",
       "      <th>sentiment_score_vader</th>\n",
       "      <th>sentiment_vader</th>\n",
       "      <th>sentiment_svm</th>\n",
       "      <th>neg</th>\n",
       "      <th>neu</th>\n",
       "      <th>pos</th>\n",
       "      <th>compound</th>\n",
       "      <th>sentiment</th>\n",
       "    </tr>\n",
       "  </thead>\n",
       "  <tbody>\n",
       "    <tr>\n",
       "      <th>0</th>\n",
       "      <td>2021-03-18</td>\n",
       "      <td>en.people.cn</td>\n",
       "      <td>Artificial intelligence improves parking effic...</td>\n",
       "      <td>Thanks to the application of an artificial int...</td>\n",
       "      <td>thanks application artificial intelligence ai ...</td>\n",
       "      <td>0.997</td>\n",
       "      <td>Positive</td>\n",
       "      <td>0</td>\n",
       "      <td>0.026</td>\n",
       "      <td>0.843</td>\n",
       "      <td>0.131</td>\n",
       "      <td>0.9961</td>\n",
       "      <td>Positive</td>\n",
       "    </tr>\n",
       "  </tbody>\n",
       "</table>\n",
       "</div>"
      ],
      "text/plain": [
       "         date        domain  \\\n",
       "0  2021-03-18  en.people.cn   \n",
       "\n",
       "                                         clean_title  \\\n",
       "0  Artificial intelligence improves parking effic...   \n",
       "\n",
       "                                          clean_text  \\\n",
       "0  Thanks to the application of an artificial int...   \n",
       "\n",
       "                                         clean_token  sentiment_score_vader  \\\n",
       "0  thanks application artificial intelligence ai ...                  0.997   \n",
       "\n",
       "  sentiment_vader  sentiment_svm    neg    neu    pos  compound sentiment  \n",
       "0        Positive              0  0.026  0.843  0.131    0.9961  Positive  "
      ]
     },
     "execution_count": 40,
     "metadata": {},
     "output_type": "execute_result"
    }
   ],
   "source": [
    "df_filtered.head(1)"
   ]
  },
  {
   "cell_type": "code",
   "execution_count": 41,
   "id": "6c1dc132",
   "metadata": {},
   "outputs": [],
   "source": [
    "df_filtered = df_filtered.drop(['neg', 'neu', 'pos'], axis = 1)"
   ]
  },
  {
   "cell_type": "code",
   "execution_count": 42,
   "id": "8d61c501",
   "metadata": {},
   "outputs": [
    {
     "data": {
      "text/html": [
       "<div>\n",
       "<style scoped>\n",
       "    .dataframe tbody tr th:only-of-type {\n",
       "        vertical-align: middle;\n",
       "    }\n",
       "\n",
       "    .dataframe tbody tr th {\n",
       "        vertical-align: top;\n",
       "    }\n",
       "\n",
       "    .dataframe thead th {\n",
       "        text-align: right;\n",
       "    }\n",
       "</style>\n",
       "<table border=\"1\" class=\"dataframe\">\n",
       "  <thead>\n",
       "    <tr style=\"text-align: right;\">\n",
       "      <th></th>\n",
       "      <th>date</th>\n",
       "      <th>domain</th>\n",
       "      <th>clean_title</th>\n",
       "      <th>clean_text</th>\n",
       "      <th>clean_token</th>\n",
       "      <th>sentiment_score_vader</th>\n",
       "      <th>sentiment_vader</th>\n",
       "      <th>sentiment_svm</th>\n",
       "      <th>sentiment_score_vader_customized</th>\n",
       "      <th>sentiment_vader_customized</th>\n",
       "    </tr>\n",
       "  </thead>\n",
       "  <tbody>\n",
       "    <tr>\n",
       "      <th>0</th>\n",
       "      <td>2021-03-18</td>\n",
       "      <td>en.people.cn</td>\n",
       "      <td>Artificial intelligence improves parking effic...</td>\n",
       "      <td>Thanks to the application of an artificial int...</td>\n",
       "      <td>thanks application artificial intelligence ai ...</td>\n",
       "      <td>0.997</td>\n",
       "      <td>Positive</td>\n",
       "      <td>0</td>\n",
       "      <td>0.9961</td>\n",
       "      <td>Positive</td>\n",
       "    </tr>\n",
       "  </tbody>\n",
       "</table>\n",
       "</div>"
      ],
      "text/plain": [
       "         date        domain  \\\n",
       "0  2021-03-18  en.people.cn   \n",
       "\n",
       "                                         clean_title  \\\n",
       "0  Artificial intelligence improves parking effic...   \n",
       "\n",
       "                                          clean_text  \\\n",
       "0  Thanks to the application of an artificial int...   \n",
       "\n",
       "                                         clean_token  sentiment_score_vader  \\\n",
       "0  thanks application artificial intelligence ai ...                  0.997   \n",
       "\n",
       "  sentiment_vader  sentiment_svm  sentiment_score_vader_customized  \\\n",
       "0        Positive              0                            0.9961   \n",
       "\n",
       "  sentiment_vader_customized  \n",
       "0                   Positive  "
      ]
     },
     "execution_count": 42,
     "metadata": {},
     "output_type": "execute_result"
    }
   ],
   "source": [
    "df_filtered = df_filtered.rename(columns={'compound': 'sentiment_score_vader_customized', 'sentiment': 'sentiment_vader_customized'})\n",
    "df_filtered.head(1)"
   ]
  },
  {
   "cell_type": "code",
   "execution_count": 44,
   "id": "08e39133",
   "metadata": {},
   "outputs": [
    {
     "data": {
      "text/plain": [
       "Positive    146582\n",
       "Negative     15307\n",
       "Neutral       3641\n",
       "Name: sentiment_vader_customized, dtype: int64"
      ]
     },
     "execution_count": 44,
     "metadata": {},
     "output_type": "execute_result"
    }
   ],
   "source": [
    "df_filtered.sentiment_vader_customized.value_counts()"
   ]
  },
  {
   "cell_type": "code",
   "execution_count": 45,
   "id": "1dbd4b33",
   "metadata": {},
   "outputs": [
    {
     "data": {
      "text/plain": [
       "Positive    145672\n",
       "Negative     15499\n",
       "Neutral       4359\n",
       "Name: sentiment_vader, dtype: int64"
      ]
     },
     "execution_count": 45,
     "metadata": {},
     "output_type": "execute_result"
    }
   ],
   "source": [
    "df_filtered.sentiment_vader.value_counts()"
   ]
  },
  {
   "cell_type": "code",
   "execution_count": 46,
   "id": "b889e36e",
   "metadata": {},
   "outputs": [],
   "source": [
    "df_filtered.to_parquet('filtered_data_sentiment.parquet')"
   ]
  },
  {
   "attachments": {},
   "cell_type": "markdown",
   "id": "8516518e-2924-4425-a3eb-a7d53f8aa56a",
   "metadata": {},
   "source": [
    "## Sentiment Analysis with RoBert"
   ]
  },
  {
   "cell_type": "code",
   "execution_count": 7,
   "id": "d4fbcfa9-9e33-4b95-9954-5bab696160e2",
   "metadata": {},
   "outputs": [],
   "source": [
    "# !pip install transformers"
   ]
  },
  {
   "cell_type": "code",
   "execution_count": 44,
   "id": "04bd6ff6-03ac-457c-9904-655752b8f9b8",
   "metadata": {},
   "outputs": [],
   "source": [
    "# !pip uninstall -y torch"
   ]
  },
  {
   "cell_type": "code",
   "execution_count": 46,
   "id": "1ec638c4-20ea-445f-9553-5993cbd99bfb",
   "metadata": {},
   "outputs": [],
   "source": [
    "# !pip install torch torchvision torchaudio"
   ]
  },
  {
   "cell_type": "code",
   "execution_count": 7,
   "id": "cd35f49a-f623-472e-985f-bc34f3a00a6a",
   "metadata": {},
   "outputs": [],
   "source": [
    "from tqdm import tqdm\n",
    "tqdm.pandas()"
   ]
  },
  {
   "cell_type": "code",
   "execution_count": 8,
   "id": "514f8b06-2ab3-4d88-8680-df91c0300c2b",
   "metadata": {
    "tags": []
   },
   "outputs": [],
   "source": [
    "import torch\n",
    "from transformers import AutoTokenizer, AutoModelForSequenceClassification"
   ]
  },
  {
   "cell_type": "code",
   "execution_count": 9,
   "id": "384d98c0-a349-4544-9082-946d9e2c051d",
   "metadata": {},
   "outputs": [
    {
     "name": "stdout",
     "output_type": "stream",
     "text": [
      "2.0.1+cu117\n"
     ]
    }
   ],
   "source": [
    "import torch, torchvision, torchaudio\n",
    "print(torch.__version__)"
   ]
  },
  {
   "cell_type": "code",
   "execution_count": 13,
   "id": "c94dfadd-b467-45c6-bdc0-15ae4700d26b",
   "metadata": {
    "tags": []
   },
   "outputs": [],
   "source": [
    "tokenizer = AutoTokenizer.from_pretrained(\"mrm8488/distilroberta-finetuned-financial-news-sentiment-analysis\")\n",
    "model = AutoModelForSequenceClassification.from_pretrained(\"mrm8488/distilroberta-finetuned-financial-news-sentiment-analysis\")"
   ]
  },
  {
   "cell_type": "code",
   "execution_count": null,
   "id": "ce09d08b-e32d-40fb-85c0-f94134c2a7c3",
   "metadata": {
    "tags": []
   },
   "outputs": [],
   "source": [
    "# !pip uninstall -y ipywidgets"
   ]
  },
  {
   "cell_type": "code",
   "execution_count": 49,
   "id": "90adf0c4-c72c-4e58-ba15-67d90dc9bc63",
   "metadata": {
    "tags": []
   },
   "outputs": [],
   "source": [
    "# !pip install ipywidgets==7.5.1 --upgrade"
   ]
  },
  {
   "cell_type": "code",
   "execution_count": 10,
   "id": "e274beb4-cd25-45de-9dc1-3b97282faff4",
   "metadata": {},
   "outputs": [
    {
     "name": "stdout",
     "output_type": "stream",
     "text": [
      "CPU times: user 27.2 s, sys: 4.37 s, total: 31.6 s\n",
      "Wall time: 42.3 s\n"
     ]
    },
    {
     "data": {
      "text/html": [
       "<div>\n",
       "<style scoped>\n",
       "    .dataframe tbody tr th:only-of-type {\n",
       "        vertical-align: middle;\n",
       "    }\n",
       "\n",
       "    .dataframe tbody tr th {\n",
       "        vertical-align: top;\n",
       "    }\n",
       "\n",
       "    .dataframe thead th {\n",
       "        text-align: right;\n",
       "    }\n",
       "</style>\n",
       "<table border=\"1\" class=\"dataframe\">\n",
       "  <thead>\n",
       "    <tr style=\"text-align: right;\">\n",
       "      <th></th>\n",
       "      <th>date</th>\n",
       "      <th>domain</th>\n",
       "      <th>clean_title</th>\n",
       "      <th>clean_text</th>\n",
       "      <th>clean_token</th>\n",
       "      <th>sentiment_score_vader</th>\n",
       "      <th>sentiment_vader</th>\n",
       "      <th>sentiment_svm</th>\n",
       "      <th>sentiment_score_vader_customized</th>\n",
       "      <th>sentiment_vader_customized</th>\n",
       "      <th>NER_word</th>\n",
       "      <th>ORG_NER</th>\n",
       "      <th>PERSON_NER</th>\n",
       "      <th>GPE_NER</th>\n",
       "      <th>sentiment_ner</th>\n",
       "    </tr>\n",
       "  </thead>\n",
       "  <tbody>\n",
       "    <tr>\n",
       "      <th>0</th>\n",
       "      <td>2021-03-18</td>\n",
       "      <td>en.people.cn</td>\n",
       "      <td>Artificial intelligence improves parking effic...</td>\n",
       "      <td>Thanks to the application of an artificial int...</td>\n",
       "      <td>thanks application artificial intelligence ai ...</td>\n",
       "      <td>0.997</td>\n",
       "      <td>Positive</td>\n",
       "      <td>0</td>\n",
       "      <td>0.9961</td>\n",
       "      <td>Positive</td>\n",
       "      <td>[[ETC, ETC, AI, Wang, ETC, Wang, ETC, Ministry...</td>\n",
       "      <td>[ETC, ETC, AI, Wang, ETC, Wang, ETC, Ministry ...</td>\n",
       "      <td>[Xiang Yanping, Xiang]</td>\n",
       "      <td>[China, Beijing, Chaoyang, Beijing, Beijing, B...</td>\n",
       "      <td>E...</td>\n",
       "    </tr>\n",
       "  </tbody>\n",
       "</table>\n",
       "</div>"
      ],
      "text/plain": [
       "         date        domain  \\\n",
       "0  2021-03-18  en.people.cn   \n",
       "\n",
       "                                         clean_title  \\\n",
       "0  Artificial intelligence improves parking effic...   \n",
       "\n",
       "                                          clean_text  \\\n",
       "0  Thanks to the application of an artificial int...   \n",
       "\n",
       "                                         clean_token  sentiment_score_vader  \\\n",
       "0  thanks application artificial intelligence ai ...                  0.997   \n",
       "\n",
       "  sentiment_vader  sentiment_svm  sentiment_score_vader_customized  \\\n",
       "0        Positive              0                            0.9961   \n",
       "\n",
       "  sentiment_vader_customized  \\\n",
       "0                   Positive   \n",
       "\n",
       "                                            NER_word  \\\n",
       "0  [[ETC, ETC, AI, Wang, ETC, Wang, ETC, Ministry...   \n",
       "\n",
       "                                             ORG_NER              PERSON_NER  \\\n",
       "0  [ETC, ETC, AI, Wang, ETC, Wang, ETC, Ministry ...  [Xiang Yanping, Xiang]   \n",
       "\n",
       "                                             GPE_NER  \\\n",
       "0  [China, Beijing, Chaoyang, Beijing, Beijing, B...   \n",
       "\n",
       "                                       sentiment_ner  \n",
       "0                                               E...  "
      ]
     },
     "execution_count": 10,
     "metadata": {},
     "output_type": "execute_result"
    }
   ],
   "source": [
    "%%time\n",
    "df_filtered = pd.read_pickle('filtered_data_sentiment_NER.pkl')\n",
    "df_filtered.head(1)"
   ]
  },
  {
   "cell_type": "code",
   "execution_count": 14,
   "id": "d68e3bb6-66f6-4c00-9209-6c02f59a5f17",
   "metadata": {
    "tags": []
   },
   "outputs": [],
   "source": [
    "def get_sentiment(text):\n",
    "    inputs = tokenizer(text, padding=True, truncation=True, return_tensors='pt')\n",
    "    logits = model(**inputs).logits\n",
    "    \n",
    "    predicted_class_id = logits.argmax().item()\n",
    "    label = model.config.id2label[predicted_class_id]\n",
    "    \n",
    "    return label"
   ]
  },
  {
   "cell_type": "code",
   "execution_count": null,
   "id": "dc1c010a-f78c-448b-935d-d49a3f92527b",
   "metadata": {},
   "outputs": [],
   "source": []
  },
  {
   "cell_type": "code",
   "execution_count": 15,
   "id": "7e1cbdad-0b7b-49a7-b28a-ef6a9a13bd3d",
   "metadata": {
    "tags": []
   },
   "outputs": [
    {
     "name": "stderr",
     "output_type": "stream",
     "text": [
      "100%|██████████| 165530/165530 [6:09:56<00:00,  7.46it/s]  \n"
     ]
    }
   ],
   "source": [
    "df_filtered['sentiment_robert'] = df_filtered.clean_text.progress_apply(get_sentiment)"
   ]
  },
  {
   "cell_type": "code",
   "execution_count": null,
   "id": "74ac847c-aafa-4aa4-9f9f-23ff4214539d",
   "metadata": {
    "tags": []
   },
   "outputs": [
    {
     "data": {
      "text/plain": [
       "neutral     88726\n",
       "positive    67865\n",
       "negative     8939\n",
       "Name: sentiment_robert, dtype: int64"
      ]
     },
     "execution_count": 16,
     "metadata": {},
     "output_type": "execute_result"
    }
   ],
   "source": [
    "df_filtered.sentiment_robert.value_counts()"
   ]
  },
  {
   "cell_type": "code",
   "execution_count": null,
   "id": "a6acf2fd-c93c-4b9e-9257-bd67644ff4af",
   "metadata": {
    "tags": []
   },
   "outputs": [
    {
     "data": {
      "text/html": [
       "<div>\n",
       "<style scoped>\n",
       "    .dataframe tbody tr th:only-of-type {\n",
       "        vertical-align: middle;\n",
       "    }\n",
       "\n",
       "    .dataframe tbody tr th {\n",
       "        vertical-align: top;\n",
       "    }\n",
       "\n",
       "    .dataframe thead th {\n",
       "        text-align: right;\n",
       "    }\n",
       "</style>\n",
       "<table border=\"1\" class=\"dataframe\">\n",
       "  <thead>\n",
       "    <tr style=\"text-align: right;\">\n",
       "      <th></th>\n",
       "      <th>date</th>\n",
       "      <th>domain</th>\n",
       "      <th>clean_title</th>\n",
       "      <th>clean_text</th>\n",
       "      <th>clean_token</th>\n",
       "      <th>sentiment_score_vader</th>\n",
       "      <th>sentiment_vader</th>\n",
       "      <th>sentiment_svm</th>\n",
       "      <th>sentiment_score_vader_customized</th>\n",
       "      <th>sentiment_vader_customized</th>\n",
       "      <th>NER_word</th>\n",
       "      <th>ORG_NER</th>\n",
       "      <th>PERSON_NER</th>\n",
       "      <th>GPE_NER</th>\n",
       "      <th>sentiment_ner</th>\n",
       "      <th>sentiment_robert</th>\n",
       "    </tr>\n",
       "  </thead>\n",
       "  <tbody>\n",
       "    <tr>\n",
       "      <th>0</th>\n",
       "      <td>2021-03-18</td>\n",
       "      <td>en.people.cn</td>\n",
       "      <td>Artificial intelligence improves parking effic...</td>\n",
       "      <td>Thanks to the application of an artificial int...</td>\n",
       "      <td>thanks application artificial intelligence ai ...</td>\n",
       "      <td>0.997</td>\n",
       "      <td>Positive</td>\n",
       "      <td>0</td>\n",
       "      <td>0.9961</td>\n",
       "      <td>Positive</td>\n",
       "      <td>[[ETC, ETC, AI, Wang, ETC, Wang, ETC, Ministry...</td>\n",
       "      <td>[ETC, ETC, AI, Wang, ETC, Wang, ETC, Ministry ...</td>\n",
       "      <td>[Xiang Yanping, Xiang]</td>\n",
       "      <td>[China, Beijing, Chaoyang, Beijing, Beijing, B...</td>\n",
       "      <td>E...</td>\n",
       "      <td>positive</td>\n",
       "    </tr>\n",
       "  </tbody>\n",
       "</table>\n",
       "</div>"
      ],
      "text/plain": [
       "         date        domain  \\\n",
       "0  2021-03-18  en.people.cn   \n",
       "\n",
       "                                         clean_title  \\\n",
       "0  Artificial intelligence improves parking effic...   \n",
       "\n",
       "                                          clean_text  \\\n",
       "0  Thanks to the application of an artificial int...   \n",
       "\n",
       "                                         clean_token  sentiment_score_vader  \\\n",
       "0  thanks application artificial intelligence ai ...                  0.997   \n",
       "\n",
       "  sentiment_vader  sentiment_svm  sentiment_score_vader_customized  \\\n",
       "0        Positive              0                            0.9961   \n",
       "\n",
       "  sentiment_vader_customized  \\\n",
       "0                   Positive   \n",
       "\n",
       "                                            NER_word  \\\n",
       "0  [[ETC, ETC, AI, Wang, ETC, Wang, ETC, Ministry...   \n",
       "\n",
       "                                             ORG_NER              PERSON_NER  \\\n",
       "0  [ETC, ETC, AI, Wang, ETC, Wang, ETC, Ministry ...  [Xiang Yanping, Xiang]   \n",
       "\n",
       "                                             GPE_NER  \\\n",
       "0  [China, Beijing, Chaoyang, Beijing, Beijing, B...   \n",
       "\n",
       "                                       sentiment_ner sentiment_robert  \n",
       "0                                               E...         positive  "
      ]
     },
     "execution_count": 17,
     "metadata": {},
     "output_type": "execute_result"
    }
   ],
   "source": [
    "df_filtered.head(1)"
   ]
  },
  {
   "cell_type": "code",
   "execution_count": null,
   "id": "92100706-46fe-40d1-a03b-a729280d3592",
   "metadata": {},
   "outputs": [],
   "source": [
    "df_filtered.to_pickle('filtered_data_sentiment.pkl')"
   ]
  },
  {
   "cell_type": "code",
   "execution_count": 19,
   "id": "faade96e-912f-4df7-b056-596471418c8b",
   "metadata": {},
   "outputs": [],
   "source": [
    "df_sentiment_robert = df_filtered['sentiment_robert'].to_frame()"
   ]
  },
  {
   "cell_type": "code",
   "execution_count": 21,
   "id": "c23a239f-9493-4c9c-8e34-b2a2365e768c",
   "metadata": {},
   "outputs": [],
   "source": [
    "df_sentiment_robert.to_pickle(\"sentiment_robert.pkl\")"
   ]
  },
  {
   "cell_type": "code",
   "execution_count": 22,
   "id": "f484e042-bac0-4a22-a9e2-fb063dcb9598",
   "metadata": {},
   "outputs": [
    {
     "data": {
      "text/html": [
       "<div>\n",
       "<style scoped>\n",
       "    .dataframe tbody tr th:only-of-type {\n",
       "        vertical-align: middle;\n",
       "    }\n",
       "\n",
       "    .dataframe tbody tr th {\n",
       "        vertical-align: top;\n",
       "    }\n",
       "\n",
       "    .dataframe thead th {\n",
       "        text-align: right;\n",
       "    }\n",
       "</style>\n",
       "<table border=\"1\" class=\"dataframe\">\n",
       "  <thead>\n",
       "    <tr style=\"text-align: right;\">\n",
       "      <th></th>\n",
       "      <th>sentiment_robert</th>\n",
       "    </tr>\n",
       "  </thead>\n",
       "  <tbody>\n",
       "    <tr>\n",
       "      <th>0</th>\n",
       "      <td>positive</td>\n",
       "    </tr>\n",
       "    <tr>\n",
       "      <th>1</th>\n",
       "      <td>neutral</td>\n",
       "    </tr>\n",
       "    <tr>\n",
       "      <th>2</th>\n",
       "      <td>negative</td>\n",
       "    </tr>\n",
       "    <tr>\n",
       "      <th>3</th>\n",
       "      <td>positive</td>\n",
       "    </tr>\n",
       "    <tr>\n",
       "      <th>4</th>\n",
       "      <td>neutral</td>\n",
       "    </tr>\n",
       "  </tbody>\n",
       "</table>\n",
       "</div>"
      ],
      "text/plain": [
       "  sentiment_robert\n",
       "0         positive\n",
       "1          neutral\n",
       "2         negative\n",
       "3         positive\n",
       "4          neutral"
      ]
     },
     "execution_count": 22,
     "metadata": {},
     "output_type": "execute_result"
    }
   ],
   "source": [
    "df_sentiment_robert.head()"
   ]
  },
  {
   "cell_type": "code",
   "execution_count": null,
   "id": "c5a119eb-e235-4285-9164-ce02255e020a",
   "metadata": {},
   "outputs": [],
   "source": []
  }
 ],
 "metadata": {
  "environment": {
   "kernel": "python3",
   "name": "tf2-gpu.2-11.m108",
   "type": "gcloud",
   "uri": "gcr.io/deeplearning-platform-release/tf2-gpu.2-11:m108"
  },
  "kernelspec": {
   "display_name": "Python 3 (ipykernel)",
   "language": "python",
   "name": "python3"
  },
  "language_info": {
   "codemirror_mode": {
    "name": "ipython",
    "version": 3
   },
   "file_extension": ".py",
   "mimetype": "text/x-python",
   "name": "python",
   "nbconvert_exporter": "python",
   "pygments_lexer": "ipython3",
   "version": "3.9.0"
  }
 },
 "nbformat": 4,
 "nbformat_minor": 5
}
